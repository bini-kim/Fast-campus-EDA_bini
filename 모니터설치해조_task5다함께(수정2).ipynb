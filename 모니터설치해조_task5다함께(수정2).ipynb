{
 "cells": [
  {
   "cell_type": "code",
   "execution_count": 11,
   "id": "f4a5e595",
   "metadata": {
    "ExecuteTime": {
     "end_time": "2022-06-29T05:48:34.533723Z",
     "start_time": "2022-06-29T05:48:34.513860Z"
    }
   },
   "outputs": [],
   "source": [
    "import numpy as np\n",
    "import pandas as pd\n",
    "import matplotlib.pyplot as plt\n",
    "import seaborn as sns\n",
    "\n",
    "import time\n",
    "import json\n",
    "import urllib\n",
    "import requests\n",
    "from bs4 import BeautifulSoup\n",
    "import random\n",
    "import time\n",
    "import warnings\n",
    "warnings.filterwarnings(action='ignore')"
   ]
  },
  {
   "cell_type": "code",
   "execution_count": 12,
   "id": "f8888bc2",
   "metadata": {
    "ExecuteTime": {
     "end_time": "2022-06-29T05:48:44.718795Z",
     "start_time": "2022-06-29T05:48:43.791626Z"
    },
    "scrolled": true
   },
   "outputs": [
    {
     "data": {
      "text/html": [
       "<div>\n",
       "<style scoped>\n",
       "    .dataframe tbody tr th:only-of-type {\n",
       "        vertical-align: middle;\n",
       "    }\n",
       "\n",
       "    .dataframe tbody tr th {\n",
       "        vertical-align: top;\n",
       "    }\n",
       "\n",
       "    .dataframe thead th {\n",
       "        text-align: right;\n",
       "    }\n",
       "</style>\n",
       "<table border=\"1\" class=\"dataframe\">\n",
       "  <thead>\n",
       "    <tr style=\"text-align: right;\">\n",
       "      <th></th>\n",
       "      <th>id</th>\n",
       "      <th>customer_id</th>\n",
       "      <th>course_id</th>\n",
       "      <th>type</th>\n",
       "      <th>state</th>\n",
       "      <th>course_title</th>\n",
       "      <th>category_title</th>\n",
       "      <th>format</th>\n",
       "      <th>completed_at</th>\n",
       "      <th>transaction_amount</th>\n",
       "      <th>coupon_title</th>\n",
       "      <th>coupon_discount_amount</th>\n",
       "      <th>sale_price</th>\n",
       "      <th>tax_free_amount</th>\n",
       "      <th>pg</th>\n",
       "      <th>method</th>\n",
       "      <th>subcategory_title</th>\n",
       "      <th>marketing_start_at</th>\n",
       "    </tr>\n",
       "  </thead>\n",
       "  <tbody>\n",
       "    <tr>\n",
       "      <th>0</th>\n",
       "      <td>970634</td>\n",
       "      <td>504760.0</td>\n",
       "      <td>201435.0</td>\n",
       "      <td>ORDER</td>\n",
       "      <td>CANCELLED</td>\n",
       "      <td>올인원 패키지 : 알고리즘 기술면접 완전 정복</td>\n",
       "      <td>프로그래밍</td>\n",
       "      <td>올인원</td>\n",
       "      <td>2021-03-28 15:00:11</td>\n",
       "      <td>90500</td>\n",
       "      <td>NaN</td>\n",
       "      <td>NaN</td>\n",
       "      <td>110500.0</td>\n",
       "      <td>110500.0</td>\n",
       "      <td>NaN</td>\n",
       "      <td>VBANK</td>\n",
       "      <td>개발자 커리어</td>\n",
       "      <td>NaN</td>\n",
       "    </tr>\n",
       "    <tr>\n",
       "      <th>1</th>\n",
       "      <td>970650</td>\n",
       "      <td>432862.0</td>\n",
       "      <td>203178.0</td>\n",
       "      <td>ORDER</td>\n",
       "      <td>CANCELLED</td>\n",
       "      <td>초격차 패키지 : 한번에 끝내는 영상 촬영과 편집</td>\n",
       "      <td>영상/3D</td>\n",
       "      <td>올인원</td>\n",
       "      <td>2021-03-28 15:16:53</td>\n",
       "      <td>96000</td>\n",
       "      <td>NaN</td>\n",
       "      <td>NaN</td>\n",
       "      <td>116000.0</td>\n",
       "      <td>116000.0</td>\n",
       "      <td>NaN</td>\n",
       "      <td>CARD</td>\n",
       "      <td>영상 편집</td>\n",
       "      <td>2020-12-02 00:00:00</td>\n",
       "    </tr>\n",
       "    <tr>\n",
       "      <th>2</th>\n",
       "      <td>970657</td>\n",
       "      <td>72297.0</td>\n",
       "      <td>204246.0</td>\n",
       "      <td>PAYMENT</td>\n",
       "      <td>COMPLETED</td>\n",
       "      <td>시크릿코드 : 프론트엔드 실무 완성편</td>\n",
       "      <td>프로그래밍</td>\n",
       "      <td>스쿨 온라인</td>\n",
       "      <td>2021-03-28 15:21:43</td>\n",
       "      <td>171810</td>\n",
       "      <td>[10% 할인] 시크릿코드 실무 완성편</td>\n",
       "      <td>19090.0</td>\n",
       "      <td>190900.0</td>\n",
       "      <td>190900.0</td>\n",
       "      <td>NaN</td>\n",
       "      <td>CARD</td>\n",
       "      <td>NaN</td>\n",
       "      <td>2021-03-04 00:00:00</td>\n",
       "    </tr>\n",
       "    <tr>\n",
       "      <th>3</th>\n",
       "      <td>970656</td>\n",
       "      <td>72297.0</td>\n",
       "      <td>204246.0</td>\n",
       "      <td>ORDER</td>\n",
       "      <td>CANCELLED</td>\n",
       "      <td>시크릿코드 : 프론트엔드 실무 완성편</td>\n",
       "      <td>프로그래밍</td>\n",
       "      <td>스쿨 온라인</td>\n",
       "      <td>2021-03-28 15:21:43</td>\n",
       "      <td>171810</td>\n",
       "      <td>NaN</td>\n",
       "      <td>NaN</td>\n",
       "      <td>190900.0</td>\n",
       "      <td>190900.0</td>\n",
       "      <td>NaN</td>\n",
       "      <td>CARD</td>\n",
       "      <td>NaN</td>\n",
       "      <td>2021-03-04 00:00:00</td>\n",
       "    </tr>\n",
       "    <tr>\n",
       "      <th>4</th>\n",
       "      <td>970658</td>\n",
       "      <td>478028.0</td>\n",
       "      <td>201797.0</td>\n",
       "      <td>PAYMENT</td>\n",
       "      <td>COMPLETED</td>\n",
       "      <td>올인원 패키지 : 직장인 필수 스킬 3종 세트 MAX</td>\n",
       "      <td>업무 생산성</td>\n",
       "      <td>올인원</td>\n",
       "      <td>2021-03-28 15:21:54</td>\n",
       "      <td>97500</td>\n",
       "      <td>[웰컴쿠폰] 올인원 패키지 2만원 할인 쿠폰</td>\n",
       "      <td>20000.0</td>\n",
       "      <td>117500.0</td>\n",
       "      <td>117500.0</td>\n",
       "      <td>NaN</td>\n",
       "      <td>CARD</td>\n",
       "      <td>PPT/보고서</td>\n",
       "      <td>2019-11-14 00:00:00</td>\n",
       "    </tr>\n",
       "    <tr>\n",
       "      <th>...</th>\n",
       "      <td>...</td>\n",
       "      <td>...</td>\n",
       "      <td>...</td>\n",
       "      <td>...</td>\n",
       "      <td>...</td>\n",
       "      <td>...</td>\n",
       "      <td>...</td>\n",
       "      <td>...</td>\n",
       "      <td>...</td>\n",
       "      <td>...</td>\n",
       "      <td>...</td>\n",
       "      <td>...</td>\n",
       "      <td>...</td>\n",
       "      <td>...</td>\n",
       "      <td>...</td>\n",
       "      <td>...</td>\n",
       "      <td>...</td>\n",
       "      <td>...</td>\n",
       "    </tr>\n",
       "    <tr>\n",
       "      <th>105414</th>\n",
       "      <td>1364995</td>\n",
       "      <td>640697.0</td>\n",
       "      <td>205365.0</td>\n",
       "      <td>PAYMENT</td>\n",
       "      <td>CANCELLED</td>\n",
       "      <td>초격차 패키지 : 한 번에 끝내는 유튜브 크리에이터 되기</td>\n",
       "      <td>영상/3D</td>\n",
       "      <td>올인원</td>\n",
       "      <td>2021-09-25 14:10:42</td>\n",
       "      <td>96000</td>\n",
       "      <td>[WELCOME] 온라인 강의 2만원 할인쿠폰</td>\n",
       "      <td>20000.0</td>\n",
       "      <td>116000.0</td>\n",
       "      <td>116000.0</td>\n",
       "      <td>INICIS</td>\n",
       "      <td>TRANS</td>\n",
       "      <td>영상 편집</td>\n",
       "      <td>2021-06-15 00:00:00</td>\n",
       "    </tr>\n",
       "    <tr>\n",
       "      <th>105415</th>\n",
       "      <td>1364998</td>\n",
       "      <td>670896.0</td>\n",
       "      <td>204159.0</td>\n",
       "      <td>PAYMENT</td>\n",
       "      <td>CANCELLED</td>\n",
       "      <td>부동산 디벨로퍼 아카데미 : 인허가</td>\n",
       "      <td>부동산/금융</td>\n",
       "      <td>올인원</td>\n",
       "      <td>2021-09-25 14:16:33</td>\n",
       "      <td>189000</td>\n",
       "      <td>NaN</td>\n",
       "      <td>NaN</td>\n",
       "      <td>189000.0</td>\n",
       "      <td>189000.0</td>\n",
       "      <td>INICIS</td>\n",
       "      <td>CARD</td>\n",
       "      <td>부동산 개발</td>\n",
       "      <td>2021-02-10 00:00:00</td>\n",
       "    </tr>\n",
       "    <tr>\n",
       "      <th>105416</th>\n",
       "      <td>1364996</td>\n",
       "      <td>640697.0</td>\n",
       "      <td>205365.0</td>\n",
       "      <td>PAYMENT</td>\n",
       "      <td>COMPLETED</td>\n",
       "      <td>초격차 패키지 : 한 번에 끝내는 유튜브 크리에이터 되기</td>\n",
       "      <td>영상/3D</td>\n",
       "      <td>올인원</td>\n",
       "      <td>2021-09-25 14:17:41</td>\n",
       "      <td>96000</td>\n",
       "      <td>[WELCOME] 온라인 강의 2만원 할인쿠폰</td>\n",
       "      <td>20000.0</td>\n",
       "      <td>116000.0</td>\n",
       "      <td>116000.0</td>\n",
       "      <td>INICIS</td>\n",
       "      <td>VBANK</td>\n",
       "      <td>영상 편집</td>\n",
       "      <td>2021-06-15 00:00:00</td>\n",
       "    </tr>\n",
       "    <tr>\n",
       "      <th>105417</th>\n",
       "      <td>1365005</td>\n",
       "      <td>670896.0</td>\n",
       "      <td>204159.0</td>\n",
       "      <td>PAYMENT</td>\n",
       "      <td>CANCELLED</td>\n",
       "      <td>부동산 디벨로퍼 아카데미 : 인허가</td>\n",
       "      <td>부동산/금융</td>\n",
       "      <td>올인원</td>\n",
       "      <td>2021-09-25 14:19:56</td>\n",
       "      <td>189000</td>\n",
       "      <td>NaN</td>\n",
       "      <td>NaN</td>\n",
       "      <td>189000.0</td>\n",
       "      <td>189000.0</td>\n",
       "      <td>INICIS</td>\n",
       "      <td>CARD</td>\n",
       "      <td>부동산 개발</td>\n",
       "      <td>2021-02-10 00:00:00</td>\n",
       "    </tr>\n",
       "    <tr>\n",
       "      <th>105418</th>\n",
       "      <td>1365007</td>\n",
       "      <td>610626.0</td>\n",
       "      <td>206720.0</td>\n",
       "      <td>PAYMENT</td>\n",
       "      <td>COMPLETED</td>\n",
       "      <td>용호수의 돈 버는 실전 영상 제작</td>\n",
       "      <td>영상/3D</td>\n",
       "      <td>올인원</td>\n",
       "      <td>2021-09-25 14:25:47</td>\n",
       "      <td>139000</td>\n",
       "      <td>[WELCOME] 온라인 강의 3만원 할인쿠폰</td>\n",
       "      <td>30000.0</td>\n",
       "      <td>169000.0</td>\n",
       "      <td>169000.0</td>\n",
       "      <td>NAVER</td>\n",
       "      <td>POINT</td>\n",
       "      <td>영상 편집</td>\n",
       "      <td>2021-08-17 00:00:00</td>\n",
       "    </tr>\n",
       "  </tbody>\n",
       "</table>\n",
       "<p>105419 rows × 18 columns</p>\n",
       "</div>"
      ],
      "text/plain": [
       "             id  customer_id  course_id     type      state  \\\n",
       "0        970634     504760.0   201435.0    ORDER  CANCELLED   \n",
       "1        970650     432862.0   203178.0    ORDER  CANCELLED   \n",
       "2        970657      72297.0   204246.0  PAYMENT  COMPLETED   \n",
       "3        970656      72297.0   204246.0    ORDER  CANCELLED   \n",
       "4        970658     478028.0   201797.0  PAYMENT  COMPLETED   \n",
       "...         ...          ...        ...      ...        ...   \n",
       "105414  1364995     640697.0   205365.0  PAYMENT  CANCELLED   \n",
       "105415  1364998     670896.0   204159.0  PAYMENT  CANCELLED   \n",
       "105416  1364996     640697.0   205365.0  PAYMENT  COMPLETED   \n",
       "105417  1365005     670896.0   204159.0  PAYMENT  CANCELLED   \n",
       "105418  1365007     610626.0   206720.0  PAYMENT  COMPLETED   \n",
       "\n",
       "                           course_title category_title  format  \\\n",
       "0             올인원 패키지 : 알고리즘 기술면접 완전 정복          프로그래밍     올인원   \n",
       "1           초격차 패키지 : 한번에 끝내는 영상 촬영과 편집          영상/3D     올인원   \n",
       "2                  시크릿코드 : 프론트엔드 실무 완성편          프로그래밍  스쿨 온라인   \n",
       "3                  시크릿코드 : 프론트엔드 실무 완성편          프로그래밍  스쿨 온라인   \n",
       "4         올인원 패키지 : 직장인 필수 스킬 3종 세트 MAX         업무 생산성     올인원   \n",
       "...                                 ...            ...     ...   \n",
       "105414  초격차 패키지 : 한 번에 끝내는 유튜브 크리에이터 되기          영상/3D     올인원   \n",
       "105415              부동산 디벨로퍼 아카데미 : 인허가         부동산/금융     올인원   \n",
       "105416  초격차 패키지 : 한 번에 끝내는 유튜브 크리에이터 되기          영상/3D     올인원   \n",
       "105417              부동산 디벨로퍼 아카데미 : 인허가         부동산/금융     올인원   \n",
       "105418               용호수의 돈 버는 실전 영상 제작          영상/3D     올인원   \n",
       "\n",
       "               completed_at  transaction_amount               coupon_title  \\\n",
       "0       2021-03-28 15:00:11               90500                        NaN   \n",
       "1       2021-03-28 15:16:53               96000                        NaN   \n",
       "2       2021-03-28 15:21:43              171810      [10% 할인] 시크릿코드 실무 완성편   \n",
       "3       2021-03-28 15:21:43              171810                        NaN   \n",
       "4       2021-03-28 15:21:54               97500   [웰컴쿠폰] 올인원 패키지 2만원 할인 쿠폰   \n",
       "...                     ...                 ...                        ...   \n",
       "105414  2021-09-25 14:10:42               96000  [WELCOME] 온라인 강의 2만원 할인쿠폰   \n",
       "105415  2021-09-25 14:16:33              189000                        NaN   \n",
       "105416  2021-09-25 14:17:41               96000  [WELCOME] 온라인 강의 2만원 할인쿠폰   \n",
       "105417  2021-09-25 14:19:56              189000                        NaN   \n",
       "105418  2021-09-25 14:25:47              139000  [WELCOME] 온라인 강의 3만원 할인쿠폰   \n",
       "\n",
       "        coupon_discount_amount  sale_price  tax_free_amount      pg method  \\\n",
       "0                          NaN    110500.0         110500.0     NaN  VBANK   \n",
       "1                          NaN    116000.0         116000.0     NaN   CARD   \n",
       "2                      19090.0    190900.0         190900.0     NaN   CARD   \n",
       "3                          NaN    190900.0         190900.0     NaN   CARD   \n",
       "4                      20000.0    117500.0         117500.0     NaN   CARD   \n",
       "...                        ...         ...              ...     ...    ...   \n",
       "105414                 20000.0    116000.0         116000.0  INICIS  TRANS   \n",
       "105415                     NaN    189000.0         189000.0  INICIS   CARD   \n",
       "105416                 20000.0    116000.0         116000.0  INICIS  VBANK   \n",
       "105417                     NaN    189000.0         189000.0  INICIS   CARD   \n",
       "105418                 30000.0    169000.0         169000.0   NAVER  POINT   \n",
       "\n",
       "       subcategory_title   marketing_start_at  \n",
       "0                개발자 커리어                  NaN  \n",
       "1                  영상 편집  2020-12-02 00:00:00  \n",
       "2                    NaN  2021-03-04 00:00:00  \n",
       "3                    NaN  2021-03-04 00:00:00  \n",
       "4                PPT/보고서  2019-11-14 00:00:00  \n",
       "...                  ...                  ...  \n",
       "105414             영상 편집  2021-06-15 00:00:00  \n",
       "105415            부동산 개발  2021-02-10 00:00:00  \n",
       "105416             영상 편집  2021-06-15 00:00:00  \n",
       "105417            부동산 개발  2021-02-10 00:00:00  \n",
       "105418             영상 편집  2021-08-17 00:00:00  \n",
       "\n",
       "[105419 rows x 18 columns]"
      ]
     },
     "execution_count": 12,
     "metadata": {},
     "output_type": "execute_result"
    }
   ],
   "source": [
    "df = pd.read_csv('./transactions.csv')\n",
    "df"
   ]
  },
  {
   "cell_type": "code",
   "execution_count": 13,
   "id": "57e470a2",
   "metadata": {
    "ExecuteTime": {
     "end_time": "2022-06-29T05:48:46.912108Z",
     "start_time": "2022-06-29T05:48:46.598248Z"
    },
    "scrolled": true
   },
   "outputs": [
    {
     "name": "stdout",
     "output_type": "stream",
     "text": [
      "<class 'pandas.core.frame.DataFrame'>\n",
      "RangeIndex: 105419 entries, 0 to 105418\n",
      "Data columns (total 18 columns):\n",
      " #   Column                  Non-Null Count   Dtype  \n",
      "---  ------                  --------------   -----  \n",
      " 0   id                      105419 non-null  int64  \n",
      " 1   customer_id             105416 non-null  float64\n",
      " 2   course_id               100212 non-null  float64\n",
      " 3   type                    105419 non-null  object \n",
      " 4   state                   105419 non-null  object \n",
      " 5   course_title            105403 non-null  object \n",
      " 6   category_title          105395 non-null  object \n",
      " 7   format                  105403 non-null  object \n",
      " 8   completed_at            105419 non-null  object \n",
      " 9   transaction_amount      105419 non-null  int64  \n",
      " 10  coupon_title            31817 non-null   object \n",
      " 11  coupon_discount_amount  31817 non-null   float64\n",
      " 12  sale_price              104291 non-null  float64\n",
      " 13  tax_free_amount         104291 non-null  float64\n",
      " 14  pg                      90344 non-null   object \n",
      " 15  method                  92323 non-null   object \n",
      " 16  subcategory_title       85590 non-null   object \n",
      " 17  marketing_start_at      87440 non-null   object \n",
      "dtypes: float64(5), int64(2), object(11)\n",
      "memory usage: 14.5+ MB\n"
     ]
    }
   ],
   "source": [
    "# 결제가는 NaN 값이 없으므로 쿠폰명을 모르지 할인액이나 쿠폰여부는 채울 수 있음\n",
    "df.info()"
   ]
  },
  {
   "cell_type": "markdown",
   "id": "304c8ea4",
   "metadata": {},
   "source": [
    "# 삭제) customer_id  nan값 3건"
   ]
  },
  {
   "cell_type": "code",
   "execution_count": 14,
   "id": "36012533",
   "metadata": {
    "ExecuteTime": {
     "end_time": "2022-06-29T05:48:48.934982Z",
     "start_time": "2022-06-29T05:48:48.896175Z"
    }
   },
   "outputs": [],
   "source": [
    "df.dropna(subset=['customer_id'], inplace = True)   "
   ]
  },
  {
   "cell_type": "code",
   "execution_count": 173,
   "id": "e2d340fc",
   "metadata": {
    "scrolled": true
   },
   "outputs": [
    {
     "data": {
      "text/html": [
       "<div>\n",
       "<style scoped>\n",
       "    .dataframe tbody tr th:only-of-type {\n",
       "        vertical-align: middle;\n",
       "    }\n",
       "\n",
       "    .dataframe tbody tr th {\n",
       "        vertical-align: top;\n",
       "    }\n",
       "\n",
       "    .dataframe thead th {\n",
       "        text-align: right;\n",
       "    }\n",
       "</style>\n",
       "<table border=\"1\" class=\"dataframe\">\n",
       "  <thead>\n",
       "    <tr style=\"text-align: right;\">\n",
       "      <th></th>\n",
       "      <th>id</th>\n",
       "      <th>customer_id</th>\n",
       "      <th>course_id</th>\n",
       "      <th>type</th>\n",
       "      <th>state</th>\n",
       "      <th>course_title</th>\n",
       "      <th>category_title</th>\n",
       "      <th>format</th>\n",
       "      <th>completed_at</th>\n",
       "      <th>transaction_amount</th>\n",
       "      <th>coupon_title</th>\n",
       "      <th>coupon_discount_amount</th>\n",
       "      <th>sale_price</th>\n",
       "      <th>tax_free_amount</th>\n",
       "      <th>pg</th>\n",
       "      <th>method</th>\n",
       "      <th>subcategory_title</th>\n",
       "      <th>marketing_start_at</th>\n",
       "    </tr>\n",
       "  </thead>\n",
       "  <tbody>\n",
       "  </tbody>\n",
       "</table>\n",
       "</div>"
      ],
      "text/plain": [
       "Empty DataFrame\n",
       "Columns: [id, customer_id, course_id, type, state, course_title, category_title, format, completed_at, transaction_amount, coupon_title, coupon_discount_amount, sale_price, tax_free_amount, pg, method, subcategory_title, marketing_start_at]\n",
       "Index: []"
      ]
     },
     "execution_count": 173,
     "metadata": {},
     "output_type": "execute_result"
    }
   ],
   "source": [
    "df[df['customer_id'].isnull()]"
   ]
  },
  {
   "cell_type": "markdown",
   "id": "df39985d",
   "metadata": {},
   "source": [
    "# 삭제) 중복 column 'Tex_free_'"
   ]
  },
  {
   "cell_type": "code",
   "execution_count": 15,
   "id": "529a4bf5",
   "metadata": {
    "ExecuteTime": {
     "end_time": "2022-06-29T05:48:51.020647Z",
     "start_time": "2022-06-29T05:48:50.983379Z"
    }
   },
   "outputs": [],
   "source": [
    "df.drop(columns='tax_free_amount',inplace=True)"
   ]
  },
  {
   "cell_type": "markdown",
   "id": "f481b02b",
   "metadata": {},
   "source": [
    "# 삭제) course_id.isnull & couse_title.isnull 13건\n",
    "### 유추 가능하나 state DELETED 및 중복 매출 등으로 지표활용 어려움\n",
    "- {'id' :[1093780, 1093784} = {course_id : 203657}\n",
    "- {'id' : 1093777} = {course_id : 202545}\n",
    "- {'id' : 1012747} = {course_id : 204013}\n",
    "- {'id' : 1141801} = {course_id : 204013}"
   ]
  },
  {
   "cell_type": "code",
   "execution_count": 16,
   "id": "5a14512a",
   "metadata": {
    "ExecuteTime": {
     "end_time": "2022-06-29T05:48:53.948158Z",
     "start_time": "2022-06-29T05:48:53.893812Z"
    }
   },
   "outputs": [],
   "source": [
    "# 상품정보 확인 어려운 \n",
    "trsh = df[(df['course_id'].isnull()) & (df['course_title'].isnull())].index\n",
    "df.drop(trsh, inplace=True)"
   ]
  },
  {
   "cell_type": "markdown",
   "id": "38652b00",
   "metadata": {},
   "source": [
    "# 보류) 그외 course_id.isnull & couse_title.notnull 5,191건"
   ]
  },
  {
   "cell_type": "markdown",
   "id": "1cfa1f18",
   "metadata": {},
   "source": [
    "### 'couse_title'.unique 309건\n",
    "### 'course_title' 이 '프로모션 :'  또는 '[한정판매]' 로 시작\n",
    "- course_id.isnull ⊅ 'course_title' 프로모션 = 'course_id' = [205796, 205807, 205925, 206065] 총593건\n",
    "\n",
    "### 확인필요, int 값인데 ' ' 필요한가? object 되는거 아닌가"
   ]
  },
  {
   "cell_type": "code",
   "execution_count": 17,
   "id": "6f719a32",
   "metadata": {
    "ExecuteTime": {
     "end_time": "2022-06-29T05:49:04.572945Z",
     "start_time": "2022-06-29T05:49:04.535336Z"
    }
   },
   "outputs": [],
   "source": [
    "# 기존 'course_id' 와 중복안되게 30만번대로 진행(연월일)\n",
    "df[(df['course_id'].isnull()) & (df['course_title'].notnull())].index\n",
    "df.loc[df['course_id'] != df['course_id'], 'course_id'] = 300000"
   ]
  },
  {
   "cell_type": "code",
   "execution_count": 18,
   "id": "7d63fa96",
   "metadata": {
    "ExecuteTime": {
     "end_time": "2022-06-29T05:49:05.267726Z",
     "start_time": "2022-06-29T05:49:05.248537Z"
    },
    "scrolled": true
   },
   "outputs": [
    {
     "data": {
      "text/html": [
       "<div>\n",
       "<style scoped>\n",
       "    .dataframe tbody tr th:only-of-type {\n",
       "        vertical-align: middle;\n",
       "    }\n",
       "\n",
       "    .dataframe tbody tr th {\n",
       "        vertical-align: top;\n",
       "    }\n",
       "\n",
       "    .dataframe thead th {\n",
       "        text-align: right;\n",
       "    }\n",
       "</style>\n",
       "<table border=\"1\" class=\"dataframe\">\n",
       "  <thead>\n",
       "    <tr style=\"text-align: right;\">\n",
       "      <th></th>\n",
       "      <th>id</th>\n",
       "      <th>customer_id</th>\n",
       "      <th>course_id</th>\n",
       "      <th>type</th>\n",
       "      <th>state</th>\n",
       "      <th>course_title</th>\n",
       "      <th>category_title</th>\n",
       "      <th>format</th>\n",
       "      <th>completed_at</th>\n",
       "      <th>transaction_amount</th>\n",
       "      <th>coupon_title</th>\n",
       "      <th>coupon_discount_amount</th>\n",
       "      <th>sale_price</th>\n",
       "      <th>pg</th>\n",
       "      <th>method</th>\n",
       "      <th>subcategory_title</th>\n",
       "      <th>marketing_start_at</th>\n",
       "    </tr>\n",
       "  </thead>\n",
       "  <tbody>\n",
       "  </tbody>\n",
       "</table>\n",
       "</div>"
      ],
      "text/plain": [
       "Empty DataFrame\n",
       "Columns: [id, customer_id, course_id, type, state, course_title, category_title, format, completed_at, transaction_amount, coupon_title, coupon_discount_amount, sale_price, pg, method, subcategory_title, marketing_start_at]\n",
       "Index: []"
      ]
     },
     "execution_count": 18,
     "metadata": {},
     "output_type": "execute_result"
    }
   ],
   "source": [
    "df[df['course_id'] == 300000] # 확인\n",
    "df[df['course_id'].isnull()]"
   ]
  },
  {
   "cell_type": "markdown",
   "id": "0dfb7c91",
   "metadata": {},
   "source": [
    "### 위에서 지움_review 하면서 코드 삭제해도됨"
   ]
  },
  {
   "cell_type": "code",
   "execution_count": 38,
   "id": "80a7008b",
   "metadata": {
    "ExecuteTime": {
     "end_time": "2022-06-28T13:15:08.012356Z",
     "start_time": "2022-06-28T13:15:07.961047Z"
    }
   },
   "outputs": [
    {
     "data": {
      "text/plain": [
       "Int64Index([], dtype='int64')"
      ]
     },
     "execution_count": 38,
     "metadata": {},
     "output_type": "execute_result"
    }
   ],
   "source": [
    "# trsh2 = df[(df['course_id'].isnull()) & (df['course_title'].isnull())].index\n",
    "# df.drop(trsh2, inplace=True)"
   ]
  },
  {
   "cell_type": "markdown",
   "id": "9818556b",
   "metadata": {},
   "source": [
    "# 삭제) 이상 data : sale_price 및 transaction_amount  6건 이상"
   ]
  },
  {
   "cell_type": "code",
   "execution_count": 19,
   "id": "c9aca17e",
   "metadata": {
    "ExecuteTime": {
     "end_time": "2022-06-29T05:49:19.427018Z",
     "start_time": "2022-06-29T05:49:19.398776Z"
    }
   },
   "outputs": [],
   "source": [
    "# 판매가, 결제가 1,000원 \n",
    "# {'id' :[1118570} = {course_id : 204656}\n",
    "trsh = df['id'].isin([1118570])\n",
    "df = df[~trsh]"
   ]
  },
  {
   "cell_type": "code",
   "execution_count": 20,
   "id": "9c1224fd",
   "metadata": {
    "ExecuteTime": {
     "end_time": "2022-06-29T05:49:20.113438Z",
     "start_time": "2022-06-29T05:49:20.075910Z"
    }
   },
   "outputs": [],
   "source": [
    "# 동일 cutomer_id 에 transaction -150,000원 만 있음\n",
    "trsh = df['customer_id'].isin([482240])\n",
    "df = df[~trsh]"
   ]
  },
  {
   "cell_type": "code",
   "execution_count": 21,
   "id": "48ccbcb6",
   "metadata": {
    "ExecuteTime": {
     "end_time": "2022-06-29T05:49:20.869577Z",
     "start_time": "2022-06-29T05:49:20.825605Z"
    }
   },
   "outputs": [],
   "source": [
    "# type REFUND 건으로 transaction -150,000원 만 있음\n",
    "trsh = df['id'].isin([1078156])\n",
    "df = df[~trsh]"
   ]
  },
  {
   "cell_type": "code",
   "execution_count": 22,
   "id": "2507443f",
   "metadata": {
    "ExecuteTime": {
     "end_time": "2022-06-29T05:49:21.471112Z",
     "start_time": "2022-06-29T05:49:21.423985Z"
    }
   },
   "outputs": [],
   "source": [
    "# 판매가, 결제가 1,000원 \n",
    "trsh = df['id'].isin([1302735])\n",
    "df = df[~trsh]"
   ]
  },
  {
   "cell_type": "code",
   "execution_count": 23,
   "id": "acbc59dc",
   "metadata": {
    "ExecuteTime": {
     "end_time": "2022-06-29T05:49:22.114772Z",
     "start_time": "2022-06-29T05:49:22.069498Z"
    }
   },
   "outputs": [],
   "source": [
    "# 판매가, 결제가 500원 \n",
    "trsh = df['id'].isin([1008518])\n",
    "df = df[~trsh]"
   ]
  },
  {
   "cell_type": "code",
   "execution_count": 24,
   "id": "c8cc041f",
   "metadata": {
    "ExecuteTime": {
     "end_time": "2022-06-29T05:49:23.725444Z",
     "start_time": "2022-06-29T05:49:23.679305Z"
    }
   },
   "outputs": [],
   "source": [
    "# 판매가, 결제가 444,444원, B2B로 특정 및 유사 data 확인 안됨 \n",
    "trsh = df['id'].isin([1094558])\n",
    "df = df[~trsh] "
   ]
  },
  {
   "cell_type": "code",
   "execution_count": 25,
   "id": "2639c3bc",
   "metadata": {
    "ExecuteTime": {
     "end_time": "2022-06-29T05:49:24.223948Z",
     "start_time": "2022-06-29T05:49:24.184262Z"
    }
   },
   "outputs": [],
   "source": [
    "# 데이터가 잘들어있긴한데 애매함 ID : 1172079, 1189862, 1189870, 1189875, 1189900\n",
    "trsh = df['customer_id'].isin([542837])\n",
    "df = df[~trsh] "
   ]
  },
  {
   "cell_type": "markdown",
   "id": "7bd9d135",
   "metadata": {},
   "source": [
    "### 확인필요 아래 ID"
   ]
  },
  {
   "cell_type": "code",
   "execution_count": null,
   "id": "6bd97db9",
   "metadata": {},
   "outputs": [],
   "source": [
    "# #  1304724 1337870 1337550 1259540\n",
    "# trsh = df['id'].isin([1304724])\n",
    "# df = df[~trsh]"
   ]
  },
  {
   "cell_type": "markdown",
   "id": "6bcc0f90",
   "metadata": {},
   "source": [
    "### 확인필요 {'id' :1118481} sale_price 만 이상하고 transaction은 정상인데 지워야할지.. state CANCELLED"
   ]
  },
  {
   "cell_type": "code",
   "execution_count": 29,
   "id": "3e25c219",
   "metadata": {
    "ExecuteTime": {
     "end_time": "2022-06-29T05:53:30.733234Z",
     "start_time": "2022-06-29T05:53:30.695633Z"
    },
    "scrolled": false
   },
   "outputs": [
    {
     "data": {
      "text/html": [
       "<div>\n",
       "<style scoped>\n",
       "    .dataframe tbody tr th:only-of-type {\n",
       "        vertical-align: middle;\n",
       "    }\n",
       "\n",
       "    .dataframe tbody tr th {\n",
       "        vertical-align: top;\n",
       "    }\n",
       "\n",
       "    .dataframe thead th {\n",
       "        text-align: right;\n",
       "    }\n",
       "</style>\n",
       "<table border=\"1\" class=\"dataframe\">\n",
       "  <thead>\n",
       "    <tr style=\"text-align: right;\">\n",
       "      <th></th>\n",
       "      <th>id</th>\n",
       "      <th>customer_id</th>\n",
       "      <th>course_id</th>\n",
       "      <th>type</th>\n",
       "      <th>state</th>\n",
       "      <th>course_title</th>\n",
       "      <th>category_title</th>\n",
       "      <th>format</th>\n",
       "      <th>completed_at</th>\n",
       "      <th>transaction_amount</th>\n",
       "      <th>coupon_title</th>\n",
       "      <th>coupon_discount_amount</th>\n",
       "      <th>sale_price</th>\n",
       "      <th>pg</th>\n",
       "      <th>method</th>\n",
       "      <th>subcategory_title</th>\n",
       "      <th>marketing_start_at</th>\n",
       "    </tr>\n",
       "  </thead>\n",
       "  <tbody>\n",
       "    <tr>\n",
       "      <th>47761</th>\n",
       "      <td>1118481</td>\n",
       "      <td>147112.0</td>\n",
       "      <td>204656.0</td>\n",
       "      <td>ORDER</td>\n",
       "      <td>CANCELLED</td>\n",
       "      <td>경영의 신: core MBA</td>\n",
       "      <td>지식콘텐츠</td>\n",
       "      <td>MBA</td>\n",
       "      <td>2021-06-03 14:58:47</td>\n",
       "      <td>229000</td>\n",
       "      <td>NaN</td>\n",
       "      <td>NaN</td>\n",
       "      <td>229000.0</td>\n",
       "      <td>KAKAO</td>\n",
       "      <td>NaN</td>\n",
       "      <td>NaN</td>\n",
       "      <td>2021-06-04 00:00:00</td>\n",
       "    </tr>\n",
       "  </tbody>\n",
       "</table>\n",
       "</div>"
      ],
      "text/plain": [
       "            id  customer_id  course_id   type      state     course_title  \\\n",
       "47761  1118481     147112.0   204656.0  ORDER  CANCELLED  경영의 신: core MBA   \n",
       "\n",
       "      category_title format         completed_at  transaction_amount  \\\n",
       "47761          지식콘텐츠    MBA  2021-06-03 14:58:47              229000   \n",
       "\n",
       "      coupon_title  coupon_discount_amount  sale_price     pg method  \\\n",
       "47761          NaN                     NaN    229000.0  KAKAO    NaN   \n",
       "\n",
       "      subcategory_title   marketing_start_at  \n",
       "47761               NaN  2021-06-04 00:00:00  "
      ]
     },
     "execution_count": 29,
     "metadata": {},
     "output_type": "execute_result"
    }
   ],
   "source": [
    "# # 판매가 1,000원, 결제가 229,000원\n",
    "# # {'id' :[1118481} = {course_id : 204656}\n",
    "# trsh = df['id'].isin([1118481])\n",
    "# df = df[~trsh]\n",
    "df[df['id'] == 1118481]    # 취소율 구할때는 적용하고 매출로 할때는 지우기!!  sale_price 수정하기"
   ]
  },
  {
   "cell_type": "code",
   "execution_count": 28,
   "id": "1b1e5ef6",
   "metadata": {
    "ExecuteTime": {
     "end_time": "2022-06-29T05:53:26.939794Z",
     "start_time": "2022-06-29T05:53:26.918601Z"
    }
   },
   "outputs": [],
   "source": [
    "df.loc[(df.sale_price== 1000), 'sale_price'] = 229000  \n",
    "# 취소율 구할때는 적용하고 매출로 할때는 지우기!!  sale_price 수정하기"
   ]
  },
  {
   "cell_type": "markdown",
   "id": "613ca841",
   "metadata": {},
   "source": [
    "### 확인 필요, course_id 205579 구매후 9/8 203178 1+1프로모션 0원 구매, 9/9 203178 0원 환불. 미친놈인가...  그래도 'customer_id' 가 아니라 'id' 별 삭제로 1286762 는 남길만함\n",
    " 'id' : [1286762, 1336569, 1337870] \n",
    " 'customer_id' : [632837, 632837, 632837]\n",
    " 'course_id : [205579, 203178, 203178]"
   ]
  },
  {
   "cell_type": "code",
   "execution_count": 205,
   "id": "5119a890",
   "metadata": {
    "ExecuteTime": {
     "end_time": "2022-06-28T13:16:46.692673Z",
     "start_time": "2022-06-28T13:16:46.641666Z"
    }
   },
   "outputs": [],
   "source": [
    "# trsh = df['customer_id'].isin([632837.0])\n",
    "# df = df[~trsh]"
   ]
  },
  {
   "cell_type": "code",
   "execution_count": 35,
   "id": "676023a4",
   "metadata": {
    "ExecuteTime": {
     "end_time": "2022-06-29T05:58:51.715282Z",
     "start_time": "2022-06-29T05:58:51.696062Z"
    },
    "scrolled": true
   },
   "outputs": [
    {
     "data": {
      "text/html": [
       "<div>\n",
       "<style scoped>\n",
       "    .dataframe tbody tr th:only-of-type {\n",
       "        vertical-align: middle;\n",
       "    }\n",
       "\n",
       "    .dataframe tbody tr th {\n",
       "        vertical-align: top;\n",
       "    }\n",
       "\n",
       "    .dataframe thead th {\n",
       "        text-align: right;\n",
       "    }\n",
       "</style>\n",
       "<table border=\"1\" class=\"dataframe\">\n",
       "  <thead>\n",
       "    <tr style=\"text-align: right;\">\n",
       "      <th></th>\n",
       "      <th>id</th>\n",
       "      <th>customer_id</th>\n",
       "      <th>course_id</th>\n",
       "      <th>type</th>\n",
       "      <th>state</th>\n",
       "      <th>course_title</th>\n",
       "      <th>category_title</th>\n",
       "      <th>format</th>\n",
       "      <th>completed_at</th>\n",
       "      <th>transaction_amount</th>\n",
       "      <th>coupon_title</th>\n",
       "      <th>coupon_discount_amount</th>\n",
       "      <th>sale_price</th>\n",
       "      <th>pg</th>\n",
       "      <th>method</th>\n",
       "      <th>subcategory_title</th>\n",
       "      <th>marketing_start_at</th>\n",
       "    </tr>\n",
       "  </thead>\n",
       "  <tbody>\n",
       "  </tbody>\n",
       "</table>\n",
       "</div>"
      ],
      "text/plain": [
       "Empty DataFrame\n",
       "Columns: [id, customer_id, course_id, type, state, course_title, category_title, format, completed_at, transaction_amount, coupon_title, coupon_discount_amount, sale_price, pg, method, subcategory_title, marketing_start_at]\n",
       "Index: []"
      ]
     },
     "execution_count": 35,
     "metadata": {},
     "output_type": "execute_result"
    }
   ],
   "source": [
    "df[df['customer_id'].isin([632837.0])]"
   ]
  },
  {
   "cell_type": "code",
   "execution_count": 30,
   "id": "3d49ac47",
   "metadata": {
    "ExecuteTime": {
     "end_time": "2022-06-29T05:58:23.886282Z",
     "start_time": "2022-06-29T05:58:23.833640Z"
    }
   },
   "outputs": [],
   "source": [
    "#  3개 날리기 \n",
    "trsh = df['id'].isin([1286762])\n",
    "df = df[~trsh]"
   ]
  },
  {
   "cell_type": "code",
   "execution_count": 32,
   "id": "337719c3",
   "metadata": {
    "ExecuteTime": {
     "end_time": "2022-06-29T05:58:39.400524Z",
     "start_time": "2022-06-29T05:58:39.361236Z"
    }
   },
   "outputs": [],
   "source": [
    "#  3개 날리기 \n",
    "trsh = df['id'].isin([1336569])\n",
    "df = df[~trsh]"
   ]
  },
  {
   "cell_type": "code",
   "execution_count": 34,
   "id": "128676b6",
   "metadata": {
    "ExecuteTime": {
     "end_time": "2022-06-29T05:58:49.720822Z",
     "start_time": "2022-06-29T05:58:49.676519Z"
    }
   },
   "outputs": [],
   "source": [
    "#  3개 날리기 \n",
    "trsh = df['id'].isin([1337870])\n",
    "df = df[~trsh]"
   ]
  },
  {
   "cell_type": "markdown",
   "id": "17613174",
   "metadata": {},
   "source": [
    "### 확인 필요, 1개의 'course_title' 로 2개의 'customer_id' : [29356, 507572], 각 3건의 'course_id' 206840 할당. coupon cloumn이 누락됬지만 'id' 1264416 의 경우 'method' 프로모션으로 무료제공 가능성 있음"
   ]
  },
  {
   "cell_type": "code",
   "execution_count": 120,
   "id": "06539e35",
   "metadata": {
    "ExecuteTime": {
     "end_time": "2022-06-28T13:16:29.859124Z",
     "start_time": "2022-06-28T13:16:29.749319Z"
    }
   },
   "outputs": [],
   "source": [
    "# # course_id 봐야함\n",
    "# trsh = df['customer_id'].isin([29356.0])\n",
    "# df = df[~trsh]"
   ]
  },
  {
   "cell_type": "code",
   "execution_count": 38,
   "id": "7b09de29",
   "metadata": {
    "ExecuteTime": {
     "end_time": "2022-06-29T06:01:15.040169Z",
     "start_time": "2022-06-29T06:01:15.011223Z"
    },
    "scrolled": true
   },
   "outputs": [
    {
     "data": {
      "text/html": [
       "<div>\n",
       "<style scoped>\n",
       "    .dataframe tbody tr th:only-of-type {\n",
       "        vertical-align: middle;\n",
       "    }\n",
       "\n",
       "    .dataframe tbody tr th {\n",
       "        vertical-align: top;\n",
       "    }\n",
       "\n",
       "    .dataframe thead th {\n",
       "        text-align: right;\n",
       "    }\n",
       "</style>\n",
       "<table border=\"1\" class=\"dataframe\">\n",
       "  <thead>\n",
       "    <tr style=\"text-align: right;\">\n",
       "      <th></th>\n",
       "      <th>id</th>\n",
       "      <th>customer_id</th>\n",
       "      <th>course_id</th>\n",
       "      <th>type</th>\n",
       "      <th>state</th>\n",
       "      <th>course_title</th>\n",
       "      <th>category_title</th>\n",
       "      <th>format</th>\n",
       "      <th>completed_at</th>\n",
       "      <th>transaction_amount</th>\n",
       "      <th>coupon_title</th>\n",
       "      <th>coupon_discount_amount</th>\n",
       "      <th>sale_price</th>\n",
       "      <th>pg</th>\n",
       "      <th>method</th>\n",
       "      <th>subcategory_title</th>\n",
       "      <th>marketing_start_at</th>\n",
       "    </tr>\n",
       "  </thead>\n",
       "  <tbody>\n",
       "  </tbody>\n",
       "</table>\n",
       "</div>"
      ],
      "text/plain": [
       "Empty DataFrame\n",
       "Columns: [id, customer_id, course_id, type, state, course_title, category_title, format, completed_at, transaction_amount, coupon_title, coupon_discount_amount, sale_price, pg, method, subcategory_title, marketing_start_at]\n",
       "Index: []"
      ]
     },
     "execution_count": 38,
     "metadata": {},
     "output_type": "execute_result"
    }
   ],
   "source": [
    "df[df['course_id'] == 206840]"
   ]
  },
  {
   "cell_type": "code",
   "execution_count": 36,
   "id": "9cc7d2b3",
   "metadata": {
    "ExecuteTime": {
     "end_time": "2022-06-29T06:01:06.673664Z",
     "start_time": "2022-06-29T06:01:06.619584Z"
    }
   },
   "outputs": [],
   "source": [
    "trsh = df['customer_id'].isin([632837.0])\n",
    "df = df[~trsh]  # B2B날리기"
   ]
  },
  {
   "cell_type": "code",
   "execution_count": 37,
   "id": "1f55e5ad",
   "metadata": {
    "ExecuteTime": {
     "end_time": "2022-06-29T06:01:11.979545Z",
     "start_time": "2022-06-29T06:01:11.935997Z"
    }
   },
   "outputs": [],
   "source": [
    "trsh = df['course_id'].isin([206840])\n",
    "df = df[~trsh]  # B2B날리기"
   ]
  },
  {
   "cell_type": "markdown",
   "id": "584f341f",
   "metadata": {},
   "source": [
    "# 수정) category_title NaN data 입력 7 건\n",
    "- ['course_id'].isnull() & ['course_title'].notnull() & ['category_title'].isnull()"
   ]
  },
  {
   "cell_type": "code",
   "execution_count": 44,
   "id": "bcfeda31",
   "metadata": {
    "ExecuteTime": {
     "end_time": "2022-06-29T06:02:03.833667Z",
     "start_time": "2022-06-29T06:02:03.804691Z"
    },
    "scrolled": true
   },
   "outputs": [
    {
     "data": {
      "text/html": [
       "<div>\n",
       "<style scoped>\n",
       "    .dataframe tbody tr th:only-of-type {\n",
       "        vertical-align: middle;\n",
       "    }\n",
       "\n",
       "    .dataframe tbody tr th {\n",
       "        vertical-align: top;\n",
       "    }\n",
       "\n",
       "    .dataframe thead th {\n",
       "        text-align: right;\n",
       "    }\n",
       "</style>\n",
       "<table border=\"1\" class=\"dataframe\">\n",
       "  <thead>\n",
       "    <tr style=\"text-align: right;\">\n",
       "      <th></th>\n",
       "      <th>id</th>\n",
       "      <th>customer_id</th>\n",
       "      <th>course_id</th>\n",
       "      <th>type</th>\n",
       "      <th>state</th>\n",
       "      <th>course_title</th>\n",
       "      <th>category_title</th>\n",
       "      <th>format</th>\n",
       "      <th>completed_at</th>\n",
       "      <th>transaction_amount</th>\n",
       "      <th>coupon_title</th>\n",
       "      <th>coupon_discount_amount</th>\n",
       "      <th>sale_price</th>\n",
       "      <th>pg</th>\n",
       "      <th>method</th>\n",
       "      <th>subcategory_title</th>\n",
       "      <th>marketing_start_at</th>\n",
       "    </tr>\n",
       "  </thead>\n",
       "  <tbody>\n",
       "  </tbody>\n",
       "</table>\n",
       "</div>"
      ],
      "text/plain": [
       "Empty DataFrame\n",
       "Columns: [id, customer_id, course_id, type, state, course_title, category_title, format, completed_at, transaction_amount, coupon_title, coupon_discount_amount, sale_price, pg, method, subcategory_title, marketing_start_at]\n",
       "Index: []"
      ]
     },
     "execution_count": 44,
     "metadata": {},
     "output_type": "execute_result"
    }
   ],
   "source": [
    "df[df['category_title'].isnull()]"
   ]
  },
  {
   "cell_type": "code",
   "execution_count": null,
   "id": "eb772625",
   "metadata": {},
   "outputs": [],
   "source": [
    "# #인덱스로 한땀한땀 변경\n",
    "# df.loc[105154, 'category_title'] = '영상/3D'\n",
    "# df.loc[104284, 'category_title'] = '영상/3D'\n",
    "# df.loc[104022, 'category_title'] = '영상/3D'\n",
    "# df.loc[74959, 'category_title'] = '데이터사이언스'\n",
    "# df.loc[74954, 'category_title'] = '데이터사이언스'\n",
    "# df.loc[74952, 'category_title'] = '데이터사이언스'\n",
    "# df.loc[72618, 'category_title'] = '데이터사이언스'"
   ]
  },
  {
   "cell_type": "code",
   "execution_count": 42,
   "id": "7892fc6f",
   "metadata": {
    "ExecuteTime": {
     "end_time": "2022-06-29T06:01:59.656299Z",
     "start_time": "2022-06-29T06:01:59.643035Z"
    }
   },
   "outputs": [],
   "source": [
    "for i in (104056, 104318, 105189):\n",
    "    df.loc[i, 'category_title'] = '영상/3D'"
   ]
  },
  {
   "cell_type": "code",
   "execution_count": 43,
   "id": "30205070",
   "metadata": {
    "ExecuteTime": {
     "end_time": "2022-06-29T06:02:00.649280Z",
     "start_time": "2022-06-29T06:02:00.637011Z"
    }
   },
   "outputs": [],
   "source": [
    "for i in (72639,74973, 74975,  74980):\n",
    "    df.loc[i, 'category_title'] = '데이터사이언스'"
   ]
  },
  {
   "cell_type": "code",
   "execution_count": 190,
   "id": "5279f263",
   "metadata": {},
   "outputs": [
    {
     "data": {
      "text/html": [
       "<div>\n",
       "<style scoped>\n",
       "    .dataframe tbody tr th:only-of-type {\n",
       "        vertical-align: middle;\n",
       "    }\n",
       "\n",
       "    .dataframe tbody tr th {\n",
       "        vertical-align: top;\n",
       "    }\n",
       "\n",
       "    .dataframe thead th {\n",
       "        text-align: right;\n",
       "    }\n",
       "</style>\n",
       "<table border=\"1\" class=\"dataframe\">\n",
       "  <thead>\n",
       "    <tr style=\"text-align: right;\">\n",
       "      <th></th>\n",
       "      <th>id</th>\n",
       "      <th>customer_id</th>\n",
       "      <th>course_id</th>\n",
       "      <th>type</th>\n",
       "      <th>state</th>\n",
       "      <th>course_title</th>\n",
       "      <th>category_title</th>\n",
       "      <th>format</th>\n",
       "      <th>completed_at</th>\n",
       "      <th>transaction_amount</th>\n",
       "      <th>coupon_title</th>\n",
       "      <th>coupon_discount_amount</th>\n",
       "      <th>sale_price</th>\n",
       "      <th>pg</th>\n",
       "      <th>method</th>\n",
       "      <th>subcategory_title</th>\n",
       "      <th>marketing_start_at</th>\n",
       "    </tr>\n",
       "  </thead>\n",
       "  <tbody>\n",
       "  </tbody>\n",
       "</table>\n",
       "</div>"
      ],
      "text/plain": [
       "Empty DataFrame\n",
       "Columns: [id, customer_id, course_id, type, state, course_title, category_title, format, completed_at, transaction_amount, coupon_title, coupon_discount_amount, sale_price, pg, method, subcategory_title, marketing_start_at]\n",
       "Index: []"
      ]
     },
     "execution_count": 190,
     "metadata": {},
     "output_type": "execute_result"
    }
   ],
   "source": [
    "# 확인해보면 잘바껴서 더이상 검색안댐_하나 밑에서 날릴예정\n",
    "df[df['category_title'].isnull()]"
   ]
  },
  {
   "cell_type": "markdown",
   "id": "e40bcb93",
   "metadata": {},
   "source": [
    "# 수정) 'pg' column NaN 값 'COMM' 입력 15,072 건"
   ]
  },
  {
   "cell_type": "code",
   "execution_count": 46,
   "id": "9b7f1e96",
   "metadata": {
    "ExecuteTime": {
     "end_time": "2022-06-29T06:02:33.279523Z",
     "start_time": "2022-06-29T06:02:33.248496Z"
    },
    "scrolled": true
   },
   "outputs": [
    {
     "data": {
      "text/plain": [
       "array(['COMM', 'INICIS', 'KAKAO', 'CHAI', 'PAYCO', 'NAVER'], dtype=object)"
      ]
     },
     "execution_count": 46,
     "metadata": {},
     "output_type": "execute_result"
    }
   ],
   "source": [
    "df.loc[df['pg'] != df['pg'], 'pg'] = 'COMM'\n",
    "df # 확인\n",
    "df['pg'].unique()"
   ]
  },
  {
   "cell_type": "code",
   "execution_count": 276,
   "id": "317f4cca",
   "metadata": {},
   "outputs": [
    {
     "data": {
      "text/plain": [
       "array([], dtype=object)"
      ]
     },
     "execution_count": 276,
     "metadata": {},
     "output_type": "execute_result"
    }
   ],
   "source": [
    "# 이거 왜했던거지?, 유니크 왜늘어났지?\n",
    "df[df['method'].isnull()]['pg'].unique()"
   ]
  },
  {
   "cell_type": "markdown",
   "id": "9718c96f",
   "metadata": {},
   "source": [
    "# 수정) 'method' TRANS == TRANSFER 1,247 건"
   ]
  },
  {
   "cell_type": "code",
   "execution_count": 45,
   "id": "9e224a53",
   "metadata": {
    "ExecuteTime": {
     "end_time": "2022-06-29T06:02:24.948276Z",
     "start_time": "2022-06-29T06:02:24.916971Z"
    }
   },
   "outputs": [],
   "source": [
    "df.loc[(df.method == 'TRANSFER'), 'method'] = 'TRANS'"
   ]
  },
  {
   "cell_type": "code",
   "execution_count": 47,
   "id": "d3ff3431",
   "metadata": {
    "ExecuteTime": {
     "end_time": "2022-06-29T06:02:37.440445Z",
     "start_time": "2022-06-29T06:02:37.364674Z"
    },
    "scrolled": false
   },
   "outputs": [
    {
     "data": {
      "text/html": [
       "<div>\n",
       "<style scoped>\n",
       "    .dataframe tbody tr th:only-of-type {\n",
       "        vertical-align: middle;\n",
       "    }\n",
       "\n",
       "    .dataframe tbody tr th {\n",
       "        vertical-align: top;\n",
       "    }\n",
       "\n",
       "    .dataframe thead th {\n",
       "        text-align: right;\n",
       "    }\n",
       "</style>\n",
       "<table border=\"1\" class=\"dataframe\">\n",
       "  <thead>\n",
       "    <tr style=\"text-align: right;\">\n",
       "      <th></th>\n",
       "      <th>id</th>\n",
       "      <th>customer_id</th>\n",
       "      <th>course_id</th>\n",
       "      <th>type</th>\n",
       "      <th>state</th>\n",
       "      <th>course_title</th>\n",
       "      <th>category_title</th>\n",
       "      <th>format</th>\n",
       "      <th>completed_at</th>\n",
       "      <th>transaction_amount</th>\n",
       "      <th>coupon_title</th>\n",
       "      <th>coupon_discount_amount</th>\n",
       "      <th>sale_price</th>\n",
       "      <th>pg</th>\n",
       "      <th>method</th>\n",
       "      <th>subcategory_title</th>\n",
       "      <th>marketing_start_at</th>\n",
       "    </tr>\n",
       "  </thead>\n",
       "  <tbody>\n",
       "    <tr>\n",
       "      <th>21515</th>\n",
       "      <td>1035779</td>\n",
       "      <td>147114.0</td>\n",
       "      <td>203527.0</td>\n",
       "      <td>ORDER</td>\n",
       "      <td>CANCELLED</td>\n",
       "      <td>올인원 패키지 : 김민태의 프론트엔드 아카데미 : 제 1강 JavaScript &amp; ...</td>\n",
       "      <td>프로그래밍</td>\n",
       "      <td>올인원</td>\n",
       "      <td>2021-04-28 14:01:25</td>\n",
       "      <td>99000</td>\n",
       "      <td>NaN</td>\n",
       "      <td>NaN</td>\n",
       "      <td>99000.0</td>\n",
       "      <td>KAKAO</td>\n",
       "      <td>N_TRANS</td>\n",
       "      <td>프론트엔드 개발</td>\n",
       "      <td>2021-04-07 00:00:00</td>\n",
       "    </tr>\n",
       "    <tr>\n",
       "      <th>21516</th>\n",
       "      <td>1035784</td>\n",
       "      <td>167967.0</td>\n",
       "      <td>203532.0</td>\n",
       "      <td>ORDER</td>\n",
       "      <td>CANCELLED</td>\n",
       "      <td>연습문제 패키지 : 퀴즈처럼 풀면서 배우는 파이썬 딥러닝 300제+</td>\n",
       "      <td>데이터사이언스</td>\n",
       "      <td>올인원</td>\n",
       "      <td>2021-04-28 14:01:56</td>\n",
       "      <td>92000</td>\n",
       "      <td>NaN</td>\n",
       "      <td>NaN</td>\n",
       "      <td>92000.0</td>\n",
       "      <td>CHAI</td>\n",
       "      <td>N_TRANS</td>\n",
       "      <td>딥러닝/인공지능</td>\n",
       "      <td>2021-02-22 00:00:00</td>\n",
       "    </tr>\n",
       "    <tr>\n",
       "      <th>21517</th>\n",
       "      <td>1035786</td>\n",
       "      <td>147114.0</td>\n",
       "      <td>203527.0</td>\n",
       "      <td>ORDER</td>\n",
       "      <td>CANCELLED</td>\n",
       "      <td>올인원 패키지 : 김민태의 프론트엔드 아카데미 : 제 1강 JavaScript &amp; ...</td>\n",
       "      <td>프로그래밍</td>\n",
       "      <td>올인원</td>\n",
       "      <td>2021-04-28 14:02:27</td>\n",
       "      <td>99000</td>\n",
       "      <td>NaN</td>\n",
       "      <td>NaN</td>\n",
       "      <td>99000.0</td>\n",
       "      <td>PAYCO</td>\n",
       "      <td>N_TRANS</td>\n",
       "      <td>프론트엔드 개발</td>\n",
       "      <td>2021-04-07 00:00:00</td>\n",
       "    </tr>\n",
       "    <tr>\n",
       "      <th>21518</th>\n",
       "      <td>1035778</td>\n",
       "      <td>485705.0</td>\n",
       "      <td>203787.0</td>\n",
       "      <td>ORDER</td>\n",
       "      <td>CANCELLED</td>\n",
       "      <td>초격차 패키지 : 한번에 끝내는 디자인 툴</td>\n",
       "      <td>디자인</td>\n",
       "      <td>올인원</td>\n",
       "      <td>2021-04-28 14:02:53</td>\n",
       "      <td>32000</td>\n",
       "      <td>4월 1+1 페이백 이벤트 쿠폰</td>\n",
       "      <td>140000.0</td>\n",
       "      <td>172000.0</td>\n",
       "      <td>KAKAO</td>\n",
       "      <td>N_TRANS</td>\n",
       "      <td>디자인툴</td>\n",
       "      <td>2020-12-24 11:00:00</td>\n",
       "    </tr>\n",
       "    <tr>\n",
       "      <th>21521</th>\n",
       "      <td>1035794</td>\n",
       "      <td>167967.0</td>\n",
       "      <td>203532.0</td>\n",
       "      <td>ORDER</td>\n",
       "      <td>CANCELLED</td>\n",
       "      <td>연습문제 패키지 : 퀴즈처럼 풀면서 배우는 파이썬 딥러닝 300제+</td>\n",
       "      <td>데이터사이언스</td>\n",
       "      <td>올인원</td>\n",
       "      <td>2021-04-28 14:03:32</td>\n",
       "      <td>92000</td>\n",
       "      <td>NaN</td>\n",
       "      <td>NaN</td>\n",
       "      <td>92000.0</td>\n",
       "      <td>PAYCO</td>\n",
       "      <td>N_TRANS</td>\n",
       "      <td>딥러닝/인공지능</td>\n",
       "      <td>2021-02-22 00:00:00</td>\n",
       "    </tr>\n",
       "    <tr>\n",
       "      <th>...</th>\n",
       "      <td>...</td>\n",
       "      <td>...</td>\n",
       "      <td>...</td>\n",
       "      <td>...</td>\n",
       "      <td>...</td>\n",
       "      <td>...</td>\n",
       "      <td>...</td>\n",
       "      <td>...</td>\n",
       "      <td>...</td>\n",
       "      <td>...</td>\n",
       "      <td>...</td>\n",
       "      <td>...</td>\n",
       "      <td>...</td>\n",
       "      <td>...</td>\n",
       "      <td>...</td>\n",
       "      <td>...</td>\n",
       "      <td>...</td>\n",
       "    </tr>\n",
       "    <tr>\n",
       "      <th>105350</th>\n",
       "      <td>1364698</td>\n",
       "      <td>646968.0</td>\n",
       "      <td>205879.0</td>\n",
       "      <td>PAYMENT</td>\n",
       "      <td>CANCELLED</td>\n",
       "      <td>올인원 패키지 : 누적 다운로드 120만+ 1인 개발자와 함께하는 앱 개발 입문</td>\n",
       "      <td>프로그래밍</td>\n",
       "      <td>올인원</td>\n",
       "      <td>2021-09-25 02:29:26</td>\n",
       "      <td>149000</td>\n",
       "      <td>[WELCOME] 온라인 강의 3만원 할인쿠폰</td>\n",
       "      <td>30000.0</td>\n",
       "      <td>179000.0</td>\n",
       "      <td>NAVER</td>\n",
       "      <td>N_TRANS</td>\n",
       "      <td>모바일앱</td>\n",
       "      <td>2021-07-02 00:00:00</td>\n",
       "    </tr>\n",
       "    <tr>\n",
       "      <th>105351</th>\n",
       "      <td>1364699</td>\n",
       "      <td>646968.0</td>\n",
       "      <td>206888.0</td>\n",
       "      <td>PAYMENT</td>\n",
       "      <td>CANCELLED</td>\n",
       "      <td>올인원 패키지 : 글로벌 1위 Salesforce 디자인 디렉터의 B2B SaaS ...</td>\n",
       "      <td>디자인</td>\n",
       "      <td>올인원</td>\n",
       "      <td>2021-09-25 02:30:51</td>\n",
       "      <td>149000</td>\n",
       "      <td>[WELCOME] 온라인 강의 2만원 할인쿠폰</td>\n",
       "      <td>20000.0</td>\n",
       "      <td>169000.0</td>\n",
       "      <td>KAKAO</td>\n",
       "      <td>N_TRANS</td>\n",
       "      <td>UX/UI</td>\n",
       "      <td>2021-08-23 00:00:00</td>\n",
       "    </tr>\n",
       "    <tr>\n",
       "      <th>105390</th>\n",
       "      <td>1364858</td>\n",
       "      <td>37866.0</td>\n",
       "      <td>205707.0</td>\n",
       "      <td>PAYMENT</td>\n",
       "      <td>CANCELLED</td>\n",
       "      <td>올인원 패키지 : 15명의 전문 애널리스트에게 배우는 산업&amp;매크로 분석과 투자 전략</td>\n",
       "      <td>투자/재테크</td>\n",
       "      <td>올인원</td>\n",
       "      <td>2021-09-25 11:17:16</td>\n",
       "      <td>339000</td>\n",
       "      <td>NaN</td>\n",
       "      <td>NaN</td>\n",
       "      <td>339000.0</td>\n",
       "      <td>KAKAO</td>\n",
       "      <td>N_TRANS</td>\n",
       "      <td>주식 투자</td>\n",
       "      <td>2021-06-23 00:00:00</td>\n",
       "    </tr>\n",
       "    <tr>\n",
       "      <th>105396</th>\n",
       "      <td>1364879</td>\n",
       "      <td>623392.0</td>\n",
       "      <td>206060.0</td>\n",
       "      <td>PAYMENT</td>\n",
       "      <td>CANCELLED</td>\n",
       "      <td>초격차 패키지 : 한 번에 끝내는 컴퓨터 공학 전공필수 &amp; 인공지능 심화</td>\n",
       "      <td>프로그래밍</td>\n",
       "      <td>올인원</td>\n",
       "      <td>2021-09-25 11:38:53</td>\n",
       "      <td>173000</td>\n",
       "      <td>[WELCOME] 온라인 강의 3만원 할인쿠폰</td>\n",
       "      <td>30000.0</td>\n",
       "      <td>203000.0</td>\n",
       "      <td>KAKAO</td>\n",
       "      <td>N_TRANS</td>\n",
       "      <td>개발자 커리어</td>\n",
       "      <td>2021-07-16 00:00:00</td>\n",
       "    </tr>\n",
       "    <tr>\n",
       "      <th>105407</th>\n",
       "      <td>1364951</td>\n",
       "      <td>87331.0</td>\n",
       "      <td>205743.0</td>\n",
       "      <td>PAYMENT</td>\n",
       "      <td>CANCELLED</td>\n",
       "      <td>초격차 패키지 : 한번에 끝내는 재무세무회계</td>\n",
       "      <td>부동산/금융</td>\n",
       "      <td>올인원</td>\n",
       "      <td>2021-09-25 13:10:15</td>\n",
       "      <td>285000</td>\n",
       "      <td>NaN</td>\n",
       "      <td>NaN</td>\n",
       "      <td>285000.0</td>\n",
       "      <td>NAVER</td>\n",
       "      <td>N_TRANS</td>\n",
       "      <td>회계/재무/세무</td>\n",
       "      <td>2021-09-13 00:00:00</td>\n",
       "    </tr>\n",
       "  </tbody>\n",
       "</table>\n",
       "<p>13095 rows × 17 columns</p>\n",
       "</div>"
      ],
      "text/plain": [
       "             id  customer_id  course_id     type      state  \\\n",
       "21515   1035779     147114.0   203527.0    ORDER  CANCELLED   \n",
       "21516   1035784     167967.0   203532.0    ORDER  CANCELLED   \n",
       "21517   1035786     147114.0   203527.0    ORDER  CANCELLED   \n",
       "21518   1035778     485705.0   203787.0    ORDER  CANCELLED   \n",
       "21521   1035794     167967.0   203532.0    ORDER  CANCELLED   \n",
       "...         ...          ...        ...      ...        ...   \n",
       "105350  1364698     646968.0   205879.0  PAYMENT  CANCELLED   \n",
       "105351  1364699     646968.0   206888.0  PAYMENT  CANCELLED   \n",
       "105390  1364858      37866.0   205707.0  PAYMENT  CANCELLED   \n",
       "105396  1364879     623392.0   206060.0  PAYMENT  CANCELLED   \n",
       "105407  1364951      87331.0   205743.0  PAYMENT  CANCELLED   \n",
       "\n",
       "                                             course_title category_title  \\\n",
       "21515   올인원 패키지 : 김민태의 프론트엔드 아카데미 : 제 1강 JavaScript & ...          프로그래밍   \n",
       "21516               연습문제 패키지 : 퀴즈처럼 풀면서 배우는 파이썬 딥러닝 300제+        데이터사이언스   \n",
       "21517   올인원 패키지 : 김민태의 프론트엔드 아카데미 : 제 1강 JavaScript & ...          프로그래밍   \n",
       "21518                             초격차 패키지 : 한번에 끝내는 디자인 툴            디자인   \n",
       "21521               연습문제 패키지 : 퀴즈처럼 풀면서 배우는 파이썬 딥러닝 300제+        데이터사이언스   \n",
       "...                                                   ...            ...   \n",
       "105350       올인원 패키지 : 누적 다운로드 120만+ 1인 개발자와 함께하는 앱 개발 입문          프로그래밍   \n",
       "105351  올인원 패키지 : 글로벌 1위 Salesforce 디자인 디렉터의 B2B SaaS ...            디자인   \n",
       "105390     올인원 패키지 : 15명의 전문 애널리스트에게 배우는 산업&매크로 분석과 투자 전략         투자/재테크   \n",
       "105396           초격차 패키지 : 한 번에 끝내는 컴퓨터 공학 전공필수 & 인공지능 심화          프로그래밍   \n",
       "105407                           초격차 패키지 : 한번에 끝내는 재무세무회계         부동산/금융   \n",
       "\n",
       "       format         completed_at  transaction_amount  \\\n",
       "21515     올인원  2021-04-28 14:01:25               99000   \n",
       "21516     올인원  2021-04-28 14:01:56               92000   \n",
       "21517     올인원  2021-04-28 14:02:27               99000   \n",
       "21518     올인원  2021-04-28 14:02:53               32000   \n",
       "21521     올인원  2021-04-28 14:03:32               92000   \n",
       "...       ...                  ...                 ...   \n",
       "105350    올인원  2021-09-25 02:29:26              149000   \n",
       "105351    올인원  2021-09-25 02:30:51              149000   \n",
       "105390    올인원  2021-09-25 11:17:16              339000   \n",
       "105396    올인원  2021-09-25 11:38:53              173000   \n",
       "105407    올인원  2021-09-25 13:10:15              285000   \n",
       "\n",
       "                     coupon_title  coupon_discount_amount  sale_price     pg  \\\n",
       "21515                         NaN                     NaN     99000.0  KAKAO   \n",
       "21516                         NaN                     NaN     92000.0   CHAI   \n",
       "21517                         NaN                     NaN     99000.0  PAYCO   \n",
       "21518           4월 1+1 페이백 이벤트 쿠폰                140000.0    172000.0  KAKAO   \n",
       "21521                         NaN                     NaN     92000.0  PAYCO   \n",
       "...                           ...                     ...         ...    ...   \n",
       "105350  [WELCOME] 온라인 강의 3만원 할인쿠폰                 30000.0    179000.0  NAVER   \n",
       "105351  [WELCOME] 온라인 강의 2만원 할인쿠폰                 20000.0    169000.0  KAKAO   \n",
       "105390                        NaN                     NaN    339000.0  KAKAO   \n",
       "105396  [WELCOME] 온라인 강의 3만원 할인쿠폰                 30000.0    203000.0  KAKAO   \n",
       "105407                        NaN                     NaN    285000.0  NAVER   \n",
       "\n",
       "         method subcategory_title   marketing_start_at  \n",
       "21515   N_TRANS          프론트엔드 개발  2021-04-07 00:00:00  \n",
       "21516   N_TRANS          딥러닝/인공지능  2021-02-22 00:00:00  \n",
       "21517   N_TRANS          프론트엔드 개발  2021-04-07 00:00:00  \n",
       "21518   N_TRANS              디자인툴  2020-12-24 11:00:00  \n",
       "21521   N_TRANS          딥러닝/인공지능  2021-02-22 00:00:00  \n",
       "...         ...               ...                  ...  \n",
       "105350  N_TRANS              모바일앱  2021-07-02 00:00:00  \n",
       "105351  N_TRANS             UX/UI  2021-08-23 00:00:00  \n",
       "105390  N_TRANS             주식 투자  2021-06-23 00:00:00  \n",
       "105396  N_TRANS           개발자 커리어  2021-07-16 00:00:00  \n",
       "105407  N_TRANS          회계/재무/세무  2021-09-13 00:00:00  \n",
       "\n",
       "[13095 rows x 17 columns]"
      ]
     },
     "execution_count": 47,
     "metadata": {},
     "output_type": "execute_result"
    }
   ],
   "source": [
    "df.loc[df['method'] != df['method'], 'method'] = 'N_TRANS'\n",
    "df[df['method'] == 'N_TRANS']"
   ]
  },
  {
   "cell_type": "code",
   "execution_count": 48,
   "id": "3d78f8e5",
   "metadata": {
    "ExecuteTime": {
     "end_time": "2022-06-29T06:02:53.883640Z",
     "start_time": "2022-06-29T06:02:53.862846Z"
    }
   },
   "outputs": [
    {
     "data": {
      "text/plain": [
       "array(['VBANK', 'CARD', 'TRANS', 'PROMOTION', 'ONSITE', 'N_TRANS',\n",
       "       'POINT', 'VOUCHER'], dtype=object)"
      ]
     },
     "execution_count": 48,
     "metadata": {},
     "output_type": "execute_result"
    }
   ],
   "source": [
    "df['method'].unique()"
   ]
  },
  {
   "cell_type": "markdown",
   "id": "e99216f1",
   "metadata": {},
   "source": [
    "# 수정) 'transaction' 대비 'coupon_title', 'coupon_discount_amount', 'sale_price' NaN 값 입력_ 근데 늦었으니까 그냥 어제처럼 가자 적용만 살리고\n",
    "\n",
    "\n",
    "\n",
    "### ['transaction'].notnull() & ['sale_price'].isnull 인 것 1,108 건\n",
    "- 주로 B2B 상품, \n",
    "- 'sale_price' = 'transaction'금액, \n",
    "\n",
    "### ['sale_price'] == 1 을 0으로 바꿔주고 1,192 건\n",
    "- 스쿨, 스쿨올라인(무료제공강좌) : 이것도 쿠폰은 안적혀 있지만 위에 쿠폰 정책에 따라 날려야할까?\n",
    "\n",
    "\n",
    "### ['transaction'] == 0 &  ['sale_price'].notnull & ['coupon_discount_amount'].isnull 인것 17 건\n",
    "- 주로 올인원, B2B 상품\n",
    "- 'coupon_discaount_amount' = 'sale_price'금액, 'coupon_title' = '적용'\n",
    "\n",
    "### ['transaction'] 과 ['sale_price'] 의 각 row 값이 같고 &  ['coupon_discount_amount'].isnull 이면\n",
    "- 'coupon_discaount_amount' = 'sale_price'금액, 'coupon_title' = '미적용'\n"
   ]
  },
  {
   "cell_type": "code",
   "execution_count": 57,
   "id": "4d02a9c5",
   "metadata": {
    "ExecuteTime": {
     "end_time": "2022-06-29T06:09:29.204498Z",
     "start_time": "2022-06-29T06:09:29.101815Z"
    }
   },
   "outputs": [
    {
     "data": {
      "text/plain": [
       "array(['(B2B) 현대백화점 온라인 구독 올 플랜', '(B2B) 힐코코리아 온라인 구독 올 플랜 - 패파입주사',\n",
       "       '(B2B) 주식회사 루나 온라인 구독 ALL PLAN - 패파입주사', ...,\n",
       "       '(B2B) 그린오션스 온라인 구독 올 플랜 - 비대면바우처',\n",
       "       '(B2B) 디캠프 패밀리사 온라인 구독 올 플랜 (9월)',\n",
       "       '(B2B) (주)오디 온라인 구독 올 플랜 - 비대면바우처'], dtype=object)"
      ]
     },
     "execution_count": 57,
     "metadata": {},
     "output_type": "execute_result"
    }
   ],
   "source": [
    "coo = df[df['course_title'].str.contains('B2B')]\n",
    "coo['course_title'].unique()"
   ]
  },
  {
   "cell_type": "code",
   "execution_count": 60,
   "id": "77d2efe6",
   "metadata": {
    "ExecuteTime": {
     "end_time": "2022-06-29T06:11:10.675368Z",
     "start_time": "2022-06-29T06:11:10.654313Z"
    }
   },
   "outputs": [],
   "source": [
    "df.loc[(df.sale_price == 1.0), 'sale_price'] = 0    # sale_price : 1.0 인거 0 으로 바꾸기"
   ]
  },
  {
   "cell_type": "code",
   "execution_count": 216,
   "id": "7e334ff1",
   "metadata": {
    "scrolled": false
   },
   "outputs": [
    {
     "data": {
      "text/plain": [
       "(True     73580\n",
       " False    31817\n",
       " Name: coupon_title, dtype: int64,\n",
       " True     73580\n",
       " False    31817\n",
       " Name: coupon_discount_amount, dtype: int64,\n",
       " False    104289\n",
       " True       1108\n",
       " Name: sale_price, dtype: int64)"
      ]
     },
     "execution_count": 216,
     "metadata": {},
     "output_type": "execute_result"
    }
   ],
   "source": [
    "a = df['coupon_title'].isnull().value_counts()\n",
    "b = df['coupon_discount_amount'].isnull().value_counts()\n",
    "c = df['sale_price'].isnull().value_counts()\n",
    "a, b, c"
   ]
  },
  {
   "cell_type": "code",
   "execution_count": null,
   "id": "3b63b650",
   "metadata": {},
   "outputs": [],
   "source": [
    "# coupon_title 미적용\n",
    "df.loc[df['coupon_title'] != df['coupon_title'], 'coupon_title'] = '미적용'\n",
    "df # 확인\n",
    "df[df['coupon_title'].isnull()]"
   ]
  },
  {
   "cell_type": "code",
   "execution_count": 88,
   "id": "67fdbcd3",
   "metadata": {
    "ExecuteTime": {
     "end_time": "2022-06-29T06:26:59.412970Z",
     "start_time": "2022-06-29T06:26:59.086342Z"
    }
   },
   "outputs": [
    {
     "data": {
      "text/plain": [
       "id                            0\n",
       "customer_id                   0\n",
       "course_id                     0\n",
       "type                          0\n",
       "state                         0\n",
       "course_title                  0\n",
       "category_title                0\n",
       "format                        0\n",
       "completed_at                  0\n",
       "transaction_amount            0\n",
       "coupon_title              72209\n",
       "coupon_discount_amount    72209\n",
       "sale_price                 1062\n",
       "pg                            0\n",
       "method                        0\n",
       "subcategory_title         18404\n",
       "marketing_start_at        16554\n",
       "dtype: int64"
      ]
     },
     "execution_count": 88,
     "metadata": {},
     "output_type": "execute_result"
    }
   ],
   "source": [
    "df.isnull().sum()"
   ]
  },
  {
   "cell_type": "code",
   "execution_count": 90,
   "id": "a119a67a",
   "metadata": {
    "ExecuteTime": {
     "end_time": "2022-06-29T06:27:20.158502Z",
     "start_time": "2022-06-29T06:27:20.142928Z"
    },
    "scrolled": true
   },
   "outputs": [
    {
     "data": {
      "text/html": [
       "<div>\n",
       "<style scoped>\n",
       "    .dataframe tbody tr th:only-of-type {\n",
       "        vertical-align: middle;\n",
       "    }\n",
       "\n",
       "    .dataframe tbody tr th {\n",
       "        vertical-align: top;\n",
       "    }\n",
       "\n",
       "    .dataframe thead th {\n",
       "        text-align: right;\n",
       "    }\n",
       "</style>\n",
       "<table border=\"1\" class=\"dataframe\">\n",
       "  <thead>\n",
       "    <tr style=\"text-align: right;\">\n",
       "      <th></th>\n",
       "      <th>id</th>\n",
       "      <th>customer_id</th>\n",
       "      <th>course_id</th>\n",
       "      <th>type</th>\n",
       "      <th>state</th>\n",
       "      <th>course_title</th>\n",
       "      <th>category_title</th>\n",
       "      <th>format</th>\n",
       "      <th>completed_at</th>\n",
       "      <th>transaction_amount</th>\n",
       "      <th>coupon_title</th>\n",
       "      <th>coupon_discount_amount</th>\n",
       "      <th>sale_price</th>\n",
       "      <th>pg</th>\n",
       "      <th>method</th>\n",
       "      <th>subcategory_title</th>\n",
       "      <th>marketing_start_at</th>\n",
       "    </tr>\n",
       "  </thead>\n",
       "  <tbody>\n",
       "  </tbody>\n",
       "</table>\n",
       "</div>"
      ],
      "text/plain": [
       "Empty DataFrame\n",
       "Columns: [id, customer_id, course_id, type, state, course_title, category_title, format, completed_at, transaction_amount, coupon_title, coupon_discount_amount, sale_price, pg, method, subcategory_title, marketing_start_at]\n",
       "Index: []"
      ]
     },
     "execution_count": 90,
     "metadata": {},
     "output_type": "execute_result"
    }
   ],
   "source": [
    "# coupon_title 적용\n",
    "\n",
    "df[df['id'] == 1264416]\n",
    "#df[df['id'] == 1337550]\n",
    "#df[df['id'] == 1304724]\n",
    "#df[df['id'] == 1259540]\n",
    "# df[df['id'] == 1214209]\n",
    "# df[df['id'] == 1214238]\n",
    "# df[df['id'] == 1318662]\n",
    "# df[df['id'] == 1284320]\n",
    "# df[df['id'] == 1284322]\n",
    "# df[df['id'] == 1129305]\n",
    "# df[df['id'] == 1303022]\n",
    "# df[df['id'] == 1118431]\n",
    "# df[df['id'] == 977734]\n",
    "# df[df['id'] == 1280563]\n",
    "# df[df['id'] == 1337581]\n",
    "# df[df['id'] == 977735]\n",
    "# df[df['id'] == 1337870]"
   ]
  },
  {
   "cell_type": "code",
   "execution_count": 78,
   "id": "64b8018f",
   "metadata": {
    "ExecuteTime": {
     "end_time": "2022-06-29T06:23:25.793723Z",
     "start_time": "2022-06-29T06:23:25.747468Z"
    }
   },
   "outputs": [],
   "source": [
    "b2g = df['format'].isin(['B2G'])\n",
    "df = df[~b2g]"
   ]
  },
  {
   "cell_type": "code",
   "execution_count": 120,
   "id": "553fccbd",
   "metadata": {
    "ExecuteTime": {
     "end_time": "2022-06-29T06:36:53.147974Z",
     "start_time": "2022-06-29T06:36:53.103026Z"
    }
   },
   "outputs": [],
   "source": [
    "b2b = df['format'].isin(['B2B'])\n",
    "df = df[~b2b]"
   ]
  },
  {
   "cell_type": "code",
   "execution_count": 87,
   "id": "aa83009e",
   "metadata": {
    "ExecuteTime": {
     "end_time": "2022-06-29T06:26:55.775004Z",
     "start_time": "2022-06-29T06:26:55.727733Z"
    }
   },
   "outputs": [],
   "source": [
    "testt = df['coupon_title'].isin(['테스트'])\n",
    "df = df[~testt]"
   ]
  },
  {
   "cell_type": "code",
   "execution_count": 113,
   "id": "bd5855e9",
   "metadata": {
    "ExecuteTime": {
     "end_time": "2022-06-29T06:32:47.435002Z",
     "start_time": "2022-06-29T06:32:47.396484Z"
    }
   },
   "outputs": [],
   "source": [
    "df = df.drop([923787,100368], axis = 0)"
   ]
  },
  {
   "cell_type": "code",
   "execution_count": 135,
   "id": "151254f9",
   "metadata": {
    "ExecuteTime": {
     "end_time": "2022-06-29T06:44:38.810302Z",
     "start_time": "2022-06-29T06:44:38.763296Z"
    }
   },
   "outputs": [],
   "source": [
    "sh = df['format'].isin(['B2B', 'B2B 온라인', 'B2G', '관리', '스쿨', '스쿨온라인', '캠프'])\n",
    "df = df[~sh]"
   ]
  },
  {
   "cell_type": "code",
   "execution_count": 171,
   "id": "81c490ea",
   "metadata": {
    "ExecuteTime": {
     "end_time": "2022-06-29T07:38:48.169127Z",
     "start_time": "2022-06-29T07:38:47.851294Z"
    },
    "scrolled": true
   },
   "outputs": [
    {
     "data": {
      "text/plain": [
       "id                            0\n",
       "customer_id                   0\n",
       "course_id                     0\n",
       "type                          0\n",
       "state                         0\n",
       "course_title                  0\n",
       "category_title                0\n",
       "format                        0\n",
       "completed_at                  0\n",
       "transaction_amount            0\n",
       "coupon_title                  0\n",
       "coupon_discount_amount        0\n",
       "sale_price                   31\n",
       "pg                            0\n",
       "method                        0\n",
       "subcategory_title         16279\n",
       "marketing_start_at        15467\n",
       "dtype: int64"
      ]
     },
     "execution_count": 171,
     "metadata": {},
     "output_type": "execute_result"
    }
   ],
   "source": [
    "df.isnull().sum()"
   ]
  },
  {
   "cell_type": "code",
   "execution_count": 106,
   "id": "11c8dfc6",
   "metadata": {
    "ExecuteTime": {
     "end_time": "2022-06-29T06:28:50.156077Z",
     "start_time": "2022-06-29T06:28:50.098999Z"
    }
   },
   "outputs": [],
   "source": [
    "#df.loc[, 'coupon_title'] = '적용'\n",
    "#df.loc[100283, 'coupon_title'] = '적용'\n",
    "#df.loc[923787, 'coupon_title'] = '적용'\n",
    "#df.loc[83412, 'coupon_title'] = '적용'\n",
    "#df.loc[72897, 'coupon_title'] = '적용'\n",
    "#df.loc[72902, 'coupon_title'] = '적용'\n",
    "#df.loc[95790, 'coupon_title'] = '적용'\n",
    "#df.loc[88167, 'coupon_title'] = '적용'\n",
    "#df.loc[88169, 'coupon_title'] = '적용'\n",
    "#df.loc[51228, 'coupon_title'] = '적용'\n",
    "#df.loc[92430, 'coupon_title'] = '적용'\n",
    "#df.loc[47744, 'coupon_title'] = '적용'\n",
    "#df.loc[2635, 'coupon_title'] = '적용'\n",
    "#df.loc[87364, 'coupon_title'] = '적용'\n",
    "#df.loc[100294, 'coupon_title'] = '적용'\n",
    "#df.loc[2636, 'coupon_title'] = '적용'\n",
    "#df.loc[100368, 'coupon_title'] = '적용'"
   ]
  },
  {
   "cell_type": "code",
   "execution_count": null,
   "id": "a34b8d70",
   "metadata": {},
   "outputs": [],
   "source": [
    "# # sale_price 금액이 없네..\n",
    "# for i in (84094, 100283, 92787,83412, 72897,72902,95790,88167,88169,51228,92430,47744,2635,87364,100294,2636,100368):\n",
    "#     df.loc[i, 'coupon_discount_amount'] = '영상/3D'"
   ]
  },
  {
   "cell_type": "code",
   "execution_count": 174,
   "id": "249f1b3a",
   "metadata": {
    "ExecuteTime": {
     "end_time": "2022-06-29T07:41:30.149858Z",
     "start_time": "2022-06-29T07:41:30.117605Z"
    }
   },
   "outputs": [
    {
     "name": "stdout",
     "output_type": "stream",
     "text": [
      "[101000.0, 88000.0, 85000.0, 168100.0, 120500.0, 138000.0, 125500.0, 100000.0, 142500.0, 22500.0, 78400.0, 269100.0, 94500.0, 149000.0, 124500.0, 60223.0, 62958.0, 50032.0, 84700.0, 250000.0, 250000.0, 99000.0, 250000.0, 250000.0, 138000.0, 138000.0, 138000.0, 141000.0, 139000.0, 126000.0, 126000.0]\n"
     ]
    }
   ],
   "source": [
    "a = df[df['sale_price'].isnull()]\n",
    "s = []\n",
    "for i in a['transaction_amount']:\n",
    "    L = df.loc[df['sale_price'] != df['sale_price'], 'sale_price'] = abs(i)\n",
    "    s.append(L)\n",
    "print(s)"
   ]
  },
  {
   "cell_type": "code",
   "execution_count": 182,
   "id": "56cb2250",
   "metadata": {
    "ExecuteTime": {
     "end_time": "2022-06-29T07:58:43.482450Z",
     "start_time": "2022-06-29T07:58:43.171922Z"
    },
    "scrolled": true
   },
   "outputs": [
    {
     "data": {
      "text/plain": [
       "id                            0\n",
       "customer_id                   0\n",
       "course_id                     0\n",
       "type                          0\n",
       "state                         0\n",
       "course_title                  0\n",
       "category_title                0\n",
       "format                        0\n",
       "completed_at                  0\n",
       "transaction_amount            0\n",
       "coupon_title                  0\n",
       "coupon_discount_amount        0\n",
       "sale_price                   31\n",
       "pg                            0\n",
       "method                        0\n",
       "subcategory_title             0\n",
       "marketing_start_at        15467\n",
       "dtype: int64"
      ]
     },
     "execution_count": 182,
     "metadata": {},
     "output_type": "execute_result"
    }
   ],
   "source": [
    "df1.isnull().sum()"
   ]
  },
  {
   "cell_type": "code",
   "execution_count": 181,
   "id": "e8ef1a73",
   "metadata": {
    "ExecuteTime": {
     "end_time": "2022-06-29T08:00:31.802511Z",
     "start_time": "2022-06-29T08:00:31.296768Z"
    }
   },
   "outputs": [
    {
     "name": "stdout",
     "output_type": "stream",
     "text": [
      "['프로그래밍', '프로그래밍', '크리에이티브', '부동산/금융', '부동산/금융', '프로그래밍', '프로그래밍', '프로그래밍', '크리에이티브', '데이터사이언스', '데이터사이언스', '프로그래밍', '데이터사이언스', '프로그래밍', '프로그래밍', '프로그래밍', '프로그래밍', '데이터사이언스', '데이터사이언스', '데이터사이언스', '프로그래밍', '마케팅', '프로그래밍', '프로그래밍', '데이터사이언스', '프로그래밍', '프로그래밍', '프로그래밍', '프로그래밍', '데이터사이언스', '프로그래밍', '데이터사이언스', '데이터사이언스', '프로그래밍', '크리에이티브', '프로그래밍', '마케팅', '프로그래밍', '프로그래밍', '프로그래밍', '부동산/금융', '크리에이티브', '크리에이티브', '데이터사이언스', '프로그래밍', '마케팅', '업무 생산성', '업무 생산성', '부동산/금융', '부동산/금융', '부동산/금융', '데이터사이언스', '프로그래밍', '프로그래밍', '데이터사이언스', '크리에이티브', '데이터사이언스', '프로그래밍', '프로그래밍', '데이터사이언스', '크리에이티브', '부동산/금융', '마케팅', '부동산/금융', '부동산/금융', '프로그래밍', '데이터사이언스', '데이터사이언스', '프로그래밍', '프로그래밍', '부동산/금융', '데이터사이언스', '프로그래밍', '프로그래밍', '크리에이티브', '프로그래밍', '프로그래밍', '프로그래밍', '프로그래밍', '데이터사이언스', '프로그래밍', '프로그래밍', '크리에이티브', '크리에이티브', '프로그래밍', '데이터사이언스', '데이터사이언스', '부동산/금융', '크리에이티브', '부동산/금융', '프로그래밍', '프로그래밍', '프로그래밍', '프로그래밍', '프로그래밍', '크리에이티브', '크리에이티브', '데이터사이언스', '업무 생산성', '업무 생산성', '마케팅', '업무 생산성', '데이터사이언스', '데이터사이언스', '데이터사이언스', '데이터사이언스', '데이터사이언스', '마케팅', '프로그래밍', '프로그래밍', '프로그래밍', '프로그래밍', '프로그래밍', '프로그래밍', '프로그래밍', '프로그래밍', '프로그래밍', '프로그래밍', '프로그래밍', '크리에이티브', '데이터사이언스', '데이터사이언스', '프로그래밍', '프로그래밍', '데이터사이언스', '프로그래밍', '프로그래밍', '마케팅', '프로그래밍', '프로그래밍', '마케팅', '마케팅', '프로그래밍', '프로그래밍', '데이터사이언스', '업무 생산성', '마케팅', '프로그래밍', '프로그래밍', '프로그래밍', '데이터사이언스', '크리에이티브', '프로그래밍', '프로그래밍', '마케팅', '크리에이티브', '크리에이티브', '프로그래밍', '크리에이티브', '프로그래밍', '크리에이티브', '마케팅', '업무 생산성', '프로그래밍', '프로그래밍', '프로그래밍', '프로그래밍', '프로그래밍', '프로그래밍', '프로그래밍', '프로그래밍', '프로그래밍', '프로그래밍', '데이터사이언스', '프로그래밍', '데이터사이언스', '마케팅', '마케팅', '프로그래밍', '프로그래밍', '프로그래밍', '프로그래밍', '프로그래밍', '프로그래밍', '프로그래밍', '데이터사이언스', '프로그래밍', '프로그래밍', '데이터사이언스', '마케팅', '프로그래밍', '데이터사이언스', '데이터사이언스', '데이터사이언스', '데이터사이언스', '데이터사이언스', '마케팅', '크리에이티브', '프로그래밍', '프로그래밍', '프로그래밍', '프로그래밍', '크리에이티브', '데이터사이언스', '데이터사이언스', '프로그래밍', '프로그래밍', '프로그래밍', '데이터사이언스', '크리에이티브', '프로그래밍', '부동산/금융', '부동산/금융', '부동산/금융', '프로그래밍', '업무 생산성', '프로그래밍', '데이터사이언스', '프로그래밍', '부동산/금융', '크리에이티브', '프로그래밍', '프로그래밍', '프로그래밍', '프로그래밍', '부동산/금융', '프로그래밍', '프로그래밍', '프로그래밍', '프로그래밍', '크리에이티브', '프로그래밍', '프로그래밍', '프로그래밍', '부동산/금융', '부동산/금융', '부동산/금융', '크리에이티브', '크리에이티브', '프로그래밍', '프로그래밍', '업무 생산성', '업무 생산성', '크리에이티브', '마케팅', '프로그래밍', '프로그래밍', '프로그래밍', '프로그래밍', '프로그래밍', '크리에이티브', '데이터사이언스', '프로그래밍', '데이터사이언스', '프로그래밍', '프로그래밍', '프로그래밍', '프로그래밍', '프로그래밍', '부동산/금융', '프로그래밍', '프로그래밍', '프로그래밍', '프로그래밍', '프로그래밍', '프로그래밍', '마케팅', '데이터사이언스', '프로그래밍', '프로그래밍', '데이터사이언스', '부동산/금융', '데이터사이언스', '프로그래밍', '프로그래밍', '데이터사이언스', '프로그래밍', '프로그래밍', '데이터사이언스', '데이터사이언스', '데이터사이언스', '프로그래밍', '프로그래밍', '프로그래밍', '프로그래밍', '프로그래밍', '프로그래밍', '프로그래밍', '크리에이티브', '프로그래밍', '프로그래밍', '프로그래밍', '프로그래밍', '프로그래밍', '프로그래밍', '프로그래밍', '프로그래밍', '데이터사이언스', '데이터사이언스', '부동산/금융', '크리에이티브', '크리에이티브', '프로그래밍', '마케팅', '프로그래밍', '프로그래밍', '프로그래밍', '프로그래밍', '프로그래밍', '프로그래밍', '프로그래밍', '프로그래밍', '데이터사이언스', '데이터사이언스', '프로그래밍', '프로그래밍', '부동산/금융', '프로그래밍', '크리에이티브', '프로그래밍', '업무 생산성', '프로그래밍', '크리에이티브', '프로그래밍', '부동산/금융', '부동산/금융', '부동산/금융', '프로그래밍', '프로그래밍', '프로그래밍', '프로그래밍', '프로그래밍', '프로그래밍', '프로그래밍', '프로그래밍', '프로그래밍', '프로그래밍', '마케팅', '프로그래밍', '프로그래밍', '프로그래밍', '프로그래밍', '프로그래밍', '프로그래밍', '부동산/금융', '프로그래밍', '데이터사이언스', '프로그래밍', '프로그래밍', '프로그래밍', '프로그래밍', '프로그래밍', '프로그래밍', '업무 생산성', '프로그래밍', '데이터사이언스', '프로그래밍', '마케팅', '프로그래밍', '프로그래밍', '프로그래밍', '데이터사이언스', '프로그래밍', '프로그래밍', '프로그래밍', '부동산/금융', '부동산/금융', '크리에이티브', '프로그래밍', '크리에이티브', '부동산/금융', '프로그래밍', '프로그래밍', '프로그래밍', '프로그래밍', '크리에이티브', '크리에이티브', '크리에이티브', '데이터사이언스', '프로그래밍', '업무 생산성', '프로그래밍', '데이터사이언스', '데이터사이언스', '프로그래밍', '프로그래밍', '프로그래밍', '프로그래밍', '프로그래밍', '프로그래밍', '부동산/금융', '프로그래밍', '프로그래밍', '프로그래밍', '프로그래밍', '크리에이티브', '프로그래밍', '프로그래밍', '프로그래밍', '프로그래밍', '프로그래밍', '프로그래밍', '데이터사이언스', '프로그래밍', '프로그래밍', '프로그래밍', '프로그래밍', '프로그래밍', '마케팅', '프로그래밍', '프로그래밍', '데이터사이언스', '프로그래밍', '프로그래밍', '프로그래밍', '프로그래밍', '프로그래밍', '프로그래밍', '데이터사이언스', '프로그래밍', '프로그래밍', '프로그래밍', '프로그래밍', '부동산/금융', '프로그래밍', '프로그래밍', '프로그래밍', '프로그래밍', '프로그래밍', '프로그래밍', '프로그래밍', '프로그래밍', '데이터사이언스', '데이터사이언스', '프로그래밍', '프로그래밍', '프로그래밍', '프로그래밍', '데이터사이언스', '크리에이티브', '크리에이티브', '프로그래밍', '프로그래밍', '프로그래밍', '업무 생산성', '프로그래밍', '프로그래밍', '크리에이티브', '크리에이티브', '마케팅', '마케팅', '프로그래밍', '부동산/금융', '프로그래밍', '프로그래밍', '프로그래밍', '프로그래밍', '프로그래밍', '프로그래밍', '프로그래밍', '프로그래밍', '부동산/금융', '프로그래밍', '프로그래밍', '프로그래밍', '프로그래밍', '크리에이티브', '데이터사이언스', '프로그래밍', '프로그래밍', '프로그래밍', '프로그래밍', '프로그래밍', '프로그래밍', '프로그래밍', '프로그래밍', '프로그래밍', '프로그래밍', '부동산/금융', '프로그래밍', '프로그래밍', '프로그래밍', '프로그래밍', '프로그래밍', '프로그래밍', '부동산/금융', '부동산/금융', '부동산/금융', '부동산/금융', '부동산/금융', '프로그래밍', '프로그래밍', '프로그래밍', '프로그래밍', '부동산/금융', '프로그래밍', '프로그래밍', '프로그래밍', '데이터사이언스', '데이터사이언스', '데이터사이언스', '프로그래밍', '프로그래밍', '프로그래밍', '프로그래밍', '데이터사이언스', '데이터사이언스', '데이터사이언스', '데이터사이언스', '데이터사이언스', '데이터사이언스', '데이터사이언스', '데이터사이언스', '데이터사이언스', '데이터사이언스', '데이터사이언스', '데이터사이언스', '데이터사이언스', '데이터사이언스', '데이터사이언스', '데이터사이언스', '프로그래밍', '프로그래밍', '데이터사이언스', '크리에이티브', '프로그래밍', '프로그래밍', '프로그래밍', '프로그래밍', '프로그래밍', '데이터사이언스', '프로그래밍', '데이터사이언스', '프로그래밍', '프로그래밍', '프로그래밍', '프로그래밍', '프로그래밍', '부동산/금융', '프로그래밍', '프로그래밍', '프로그래밍', '마케팅', '프로그래밍', '프로그래밍', '프로그래밍', '데이터사이언스', '부동산/금융', '부동산/금융', '프로그래밍', '데이터사이언스', '데이터사이언스', '크리에이티브', '데이터사이언스', '데이터사이언스', '부동산/금융', '업무 생산성', '데이터사이언스', '데이터사이언스', '프로그래밍', '프로그래밍', '프로그래밍', '프로그래밍', '부동산/금융', '프로그래밍', '프로그래밍', '프로그래밍', '프로그래밍', '크리에이티브', '크리에이티브', '데이터사이언스', '데이터사이언스', '프로그래밍', '프로그래밍', '부동산/금융', '크리에이티브', '프로그래밍', '프로그래밍', '부동산/금융', '프로그래밍', '크리에이티브', '데이터사이언스', '부동산/금융', '부동산/금융', '데이터사이언스', '데이터사이언스', '프로그래밍', '데이터사이언스', '프로그래밍', '프로그래밍', '부동산/금융', '프로그래밍', '프로그래밍', '부동산/금융', '프로그래밍', '프로그래밍', '데이터사이언스', '프로그래밍', '프로그래밍', '크리에이티브', '업무 생산성', '업무 생산성', '프로그래밍', '프로그래밍', '데이터사이언스', '프로그래밍', '프로그래밍', '데이터사이언스', '데이터사이언스', '프로그래밍', '부동산/금융', '부동산/금융', '프로그래밍', '부동산/금융', '부동산/금융', '프로그래밍', '프로그래밍', '크리에이티브', '크리에이티브', '프로그래밍', '프로그래밍', '부동산/금융', '프로그래밍', '부동산/금융', '데이터사이언스', '데이터사이언스', '프로그래밍', '프로그래밍', '프로그래밍', '프로그래밍', '크리에이티브', '프로그래밍', '프로그래밍', '프로그래밍', '프로그래밍', '프로그래밍', '프로그래밍', '부동산/금융', '프로그래밍', '데이터사이언스', '마케팅', '업무 생산성', '프로그래밍', '프로그래밍', '프로그래밍', '프로그래밍', '프로그래밍', '데이터사이언스', '데이터사이언스', '크리에이티브', '프로그래밍', '프로그래밍', '프로그래밍', '프로그래밍', '부동산/금융', '부동산/금융', '프로그래밍', '프로그래밍', '크리에이티브', '부동산/금융', '프로그래밍', '프로그래밍', '업무 생산성', '부동산/금융', '프로그래밍', '프로그래밍', '프로그래밍', '크리에이티브', '크리에이티브', '프로그래밍', '업무 생산성', '업무 생산성', '부동산/금융', '프로그래밍', '프로그래밍', '프로그래밍', '프로그래밍', '프로그래밍', '프로그래밍', '크리에이티브', '데이터사이언스', '프로그래밍', '부동산/금융', '데이터사이언스', '데이터사이언스', '부동산/금융', '부동산/금융', '데이터사이언스', '마케팅', '프로그래밍', '프로그래밍', '프로그래밍', '프로그래밍', '업무 생산성', '데이터사이언스', '데이터사이언스', '프로그래밍', '프로그래밍', '프로그래밍', '프로그래밍', '데이터사이언스', '업무 생산성', '데이터사이언스', '데이터사이언스', '부동산/금융', '데이터사이언스', '프로그래밍', '프로그래밍', '부동산/금융', '부동산/금융', '데이터사이언스', '데이터사이언스', '데이터사이언스', '프로그래밍', '프로그래밍', '프로그래밍', '프로그래밍', '프로그래밍', '데이터사이언스', '프로그래밍', '프로그래밍', '데이터사이언스', '업무 생산성', '업무 생산성', '데이터사이언스', '프로그래밍', '프로그래밍', '데이터사이언스', '데이터사이언스', '프로그래밍', '프로그래밍', '프로그래밍', '프로그래밍', '부동산/금융', '마케팅', '크리에이티브', '프로그래밍', '프로그래밍', '프로그래밍', '마케팅', '프로그래밍', '크리에이티브', '프로그래밍', '프로그래밍', '데이터사이언스', '프로그래밍', '프로그래밍', '크리에이티브', '크리에이티브', '부동산/금융', '데이터사이언스', '프로그래밍', '프로그래밍', '프로그래밍', '프로그래밍', '프로그래밍', '프로그래밍', '프로그래밍', '프로그래밍', '업무 생산성', '업무 생산성', '프로그래밍', '프로그래밍', '프로그래밍', '프로그래밍', '데이터사이언스', '프로그래밍', '업무 생산성', '데이터사이언스', '프로그래밍', '데이터사이언스', '마케팅', '프로그래밍', '프로그래밍', '프로그래밍', '프로그래밍', '프로그래밍', '프로그래밍', '데이터사이언스', '데이터사이언스', '프로그래밍', '프로그래밍', '프로그래밍', '프로그래밍', '프로그래밍', '크리에이티브', '크리에이티브', '마케팅', '마케팅', '프로그래밍', '프로그래밍', '부동산/금융', '프로그래밍', '부동산/금융', '프로그래밍', '데이터사이언스', '부동산/금융', '부동산/금융', '프로그래밍', '프로그래밍', '업무 생산성', '프로그래밍', '부동산/금융', '프로그래밍', '프로그래밍', '프로그래밍', '데이터사이언스', '프로그래밍', '프로그래밍', '프로그래밍', '프로그래밍', '프로그래밍', '업무 생산성', '크리에이티브', '크리에이티브', '데이터사이언스', '업무 생산성', '프로그래밍', '업무 생산성', '데이터사이언스', '데이터사이언스', '데이터사이언스', '프로그래밍', '프로그래밍', '프로그래밍', '데이터사이언스', '데이터사이언스', '프로그래밍', '프로그래밍', '프로그래밍', '데이터사이언스', '부동산/금융', '프로그래밍', '프로그래밍', '데이터사이언스', '프로그래밍', '데이터사이언스', '데이터사이언스', '업무 생산성', '프로그래밍', '업무 생산성', '프로그래밍', '프로그래밍', '프로그래밍', '데이터사이언스', '크리에이티브', '크리에이티브', '프로그래밍', '프로그래밍', '프로그래밍', '데이터사이언스', '데이터사이언스', '부동산/금융', '프로그래밍', '프로그래밍', '프로그래밍', '프로그래밍', '프로그래밍', '데이터사이언스', '데이터사이언스', '프로그래밍', '프로그래밍', '프로그래밍', '데이터사이언스', '프로그래밍', '데이터사이언스', '데이터사이언스', '프로그래밍', '프로그래밍', '크리에이티브', '크리에이티브', '프로그래밍', '프로그래밍', '프로그래밍', '프로그래밍', '크리에이티브', '데이터사이언스', '데이터사이언스', '데이터사이언스', '프로그래밍', '프로그래밍', '프로그래밍', '프로그래밍', '데이터사이언스', '마케팅', '크리에이티브', '프로그래밍', '마케팅', '프로그래밍', '데이터사이언스', '데이터사이언스', '데이터사이언스', '데이터사이언스', '데이터사이언스', '프로그래밍', '프로그래밍', '프로그래밍', '프로그래밍', '프로그래밍', '프로그래밍', '프로그래밍', '프로그래밍', '프로그래밍', '데이터사이언스', '데이터사이언스', '프로그래밍', '프로그래밍', '프로그래밍', '크리에이티브', '프로그래밍', '프로그래밍', '프로그래밍', '프로그래밍', '프로그래밍', '크리에이티브', '프로그래밍', '프로그래밍', '업무 생산성', '프로그래밍', '마케팅', '마케팅', '크리에이티브', '크리에이티브', '프로그래밍', '프로그래밍', '데이터사이언스', '프로그래밍', '프로그래밍', '데이터사이언스', '프로그래밍', '프로그래밍', '프로그래밍', '프로그래밍', '프로그래밍', '프로그래밍', '프로그래밍', '프로그래밍', '프로그래밍', '데이터사이언스', '데이터사이언스', '프로그래밍', '마케팅', '프로그래밍', '프로그래밍', '프로그래밍', '프로그래밍', '마케팅', '프로그래밍', '데이터사이언스', '프로그래밍', '프로그래밍', '프로그래밍', '프로그래밍', '프로그래밍', '프로그래밍', '프로그래밍', '프로그래밍', '프로그래밍', '업무 생산성', '데이터사이언스', '프로그래밍', '데이터사이언스', '데이터사이언스', '마케팅', '데이터사이언스', '크리에이티브', '프로그래밍', '크리에이티브', '프로그래밍', '프로그래밍', '프로그래밍', '프로그래밍', '프로그래밍', '부동산/금융', '데이터사이언스', '프로그래밍', '업무 생산성', '업무 생산성', '프로그래밍', '데이터사이언스', '데이터사이언스', '프로그래밍', '프로그래밍', '프로그래밍', '프로그래밍', '프로그래밍', '부동산/금융', '프로그래밍', '프로그래밍', '데이터사이언스', '프로그래밍', '데이터사이언스', '데이터사이언스', '프로그래밍', '프로그래밍', '프로그래밍', '프로그래밍', '프로그래밍', '프로그래밍', '프로그래밍', '프로그래밍', '프로그래밍', '크리에이티브', '프로그래밍', '프로그래밍', '프로그래밍', '프로그래밍', '프로그래밍', '데이터사이언스', '데이터사이언스', '데이터사이언스', '데이터사이언스', '프로그래밍', '크리에이티브', '크리에이티브', '크리에이티브', '크리에이티브', '크리에이티브', '크리에이티브', '크리에이티브', '데이터사이언스', '데이터사이언스', '프로그래밍', '프로그래밍', '데이터사이언스', '프로그래밍', '프로그래밍', '프로그래밍', '프로그래밍', '프로그래밍', '데이터사이언스', '데이터사이언스', '데이터사이언스', '데이터사이언스', '프로그래밍', '데이터사이언스', '데이터사이언스', '데이터사이언스', '데이터사이언스', '프로그래밍', '데이터사이언스', '데이터사이언스', '프로그래밍', '프로그래밍', '프로그래밍', '데이터사이언스', '데이터사이언스', '데이터사이언스', '데이터사이언스', '프로그래밍', '프로그래밍', '마케팅', '업무 생산성', '프로그래밍', '프로그래밍', '프로그래밍', '프로그래밍', '데이터사이언스', '데이터사이언스', '프로그래밍', '프로그래밍', '프로그래밍', '프로그래밍', '크리에이티브', '크리에이티브', '크리에이티브', '데이터사이언스', '데이터사이언스', '프로그래밍', '프로그래밍', '데이터사이언스', '데이터사이언스', '데이터사이언스', '데이터사이언스', '데이터사이언스', '프로그래밍', '데이터사이언스', '데이터사이언스', '프로그래밍', '프로그래밍', '데이터사이언스', '데이터사이언스', '데이터사이언스', '프로그래밍', '프로그래밍', '크리에이티브', '프로그래밍', '프로그래밍', '프로그래밍', '프로그래밍', '프로그래밍', '프로그래밍', '프로그래밍', '프로그래밍', '프로그래밍', '프로그래밍', '프로그래밍', '프로그래밍', '프로그래밍', '프로그래밍', '프로그래밍', '데이터사이언스', '프로그래밍', '프로그래밍', '프로그래밍', '프로그래밍', '프로그래밍', '마케팅', '프로그래밍', '데이터사이언스', '데이터사이언스', '프로그래밍', '프로그래밍', '프로그래밍', '프로그래밍', '마케팅', '프로그래밍', '프로그래밍', '크리에이티브', '크리에이티브', '프로그래밍', '프로그래밍', '프로그래밍', '프로그래밍', '크리에이티브', '데이터사이언스', '프로그래밍', '데이터사이언스', '데이터사이언스', '데이터사이언스', '프로그래밍', '마케팅', '데이터사이언스', '프로그래밍', '프로그래밍', '프로그래밍', '프로그래밍', '데이터사이언스', '데이터사이언스', '프로그래밍', '프로그래밍', '프로그래밍', '프로그래밍', '프로그래밍', '프로그래밍', '크리에이티브', '프로그래밍', '프로그래밍', '데이터사이언스', '프로그래밍', '데이터사이언스', '데이터사이언스', '프로그래밍', '프로그래밍', '프로그래밍', '프로그래밍', '크리에이티브', '프로그래밍', '마케팅', '프로그래밍', '프로그래밍', '프로그래밍', '프로그래밍', '프로그래밍', '프로그래밍', '마케팅', '프로그래밍', '프로그래밍', '프로그래밍', '프로그래밍', '프로그래밍', '업무 생산성', '업무 생산성', '프로그래밍', '프로그래밍', '데이터사이언스', '데이터사이언스', '데이터사이언스', '프로그래밍', '프로그래밍', '프로그래밍', '데이터사이언스', '데이터사이언스', '데이터사이언스', '프로그래밍', '프로그래밍', '프로그래밍', '프로그래밍', '프로그래밍', '프로그래밍', '프로그래밍', '데이터사이언스', '프로그래밍', '프로그래밍', '프로그래밍', '프로그래밍', '프로그래밍', '데이터사이언스', '프로그래밍', '업무 생산성', '마케팅', '마케팅', '데이터사이언스', '데이터사이언스', '프로그래밍', '프로그래밍', '마케팅', '프로그래밍', '프로그래밍', '프로그래밍', '프로그래밍', '크리에이티브', '프로그래밍', '프로그래밍', '프로그래밍', '데이터사이언스', '데이터사이언스', '업무 생산성', '데이터사이언스', '업무 생산성', '업무 생산성', '업무 생산성', '업무 생산성', '데이터사이언스', '마케팅', '마케팅', '데이터사이언스', '데이터사이언스', '마케팅', '프로그래밍', '프로그래밍', '업무 생산성', '업무 생산성', '프로그래밍', '프로그래밍', '프로그래밍', '프로그래밍', '데이터사이언스', '데이터사이언스', '프로그래밍', '프로그래밍', '프로그래밍', '프로그래밍', '데이터사이언스', '프로그래밍', '프로그래밍', '프로그래밍', '프로그래밍', '데이터사이언스', '프로그래밍', '프로그래밍', '마케팅', '프로그래밍', '프로그래밍', '데이터사이언스', '마케팅', '크리에이티브', '프로그래밍', '프로그래밍', '프로그래밍', '프로그래밍', '프로그래밍', '프로그래밍', '크리에이티브', '크리에이티브', '프로그래밍', '프로그래밍', '데이터사이언스', '크리에이티브', '크리에이티브', '프로그래밍', '데이터사이언스', '마케팅', '마케팅', '데이터사이언스', '업무 생산성', '업무 생산성', '프로그래밍', '프로그래밍', '업무 생산성', '마케팅', '프로그래밍', '업무 생산성', '업무 생산성', '프로그래밍', '프로그래밍', '프로그래밍', '프로그래밍', '크리에이티브', '크리에이티브', '프로그래밍', '프로그래밍', '프로그래밍', '프로그래밍', '프로그래밍', '프로그래밍', '프로그래밍', '마케팅', '프로그래밍', '프로그래밍', '데이터사이언스', '데이터사이언스', '데이터사이언스', '프로그래밍', '프로그래밍', '데이터사이언스', '프로그래밍', '프로그래밍', '프로그래밍', '프로그래밍', '데이터사이언스', '프로그래밍', '데이터사이언스', '크리에이티브', '크리에이티브', '프로그래밍', '프로그래밍', '프로그래밍', '데이터사이언스', '프로그래밍', '데이터사이언스', '프로그래밍', '데이터사이언스', '데이터사이언스', '업무 생산성', '프로그래밍', '크리에이티브', '프로그래밍', '데이터사이언스', '프로그래밍', '프로그래밍', '프로그래밍', '업무 생산성', '프로그래밍', '데이터사이언스', '마케팅', '마케팅', '프로그래밍', '크리에이티브', '프로그래밍', '프로그래밍', '부동산/금융', '프로그래밍', '마케팅', '크리에이티브', '데이터사이언스', '프로그래밍', '프로그래밍', '프로그래밍', '크리에이티브', '프로그래밍', '프로그래밍', '프로그래밍', '마케팅', '업무 생산성', '데이터사이언스', '데이터사이언스', '프로그래밍', '마케팅', '프로그래밍', '프로그래밍', '프로그래밍', '프로그래밍', '프로그래밍', '프로그래밍', '프로그래밍', '데이터사이언스', '프로그래밍', '프로그래밍', '프로그래밍', '프로그래밍', '데이터사이언스', '프로그래밍', '프로그래밍', '프로그래밍', '데이터사이언스', '프로그래밍', '프로그래밍', '프로그래밍', '프로그래밍', '프로그래밍', '프로그래밍', '마케팅', '데이터사이언스', '데이터사이언스', '데이터사이언스', '데이터사이언스', '프로그래밍', '프로그래밍', '크리에이티브', '크리에이티브', '프로그래밍', '데이터사이언스', '데이터사이언스', '프로그래밍', '프로그래밍', '프로그래밍', '데이터사이언스', '크리에이티브', '크리에이티브', '크리에이티브', '프로그래밍', '프로그래밍', '프로그래밍', '데이터사이언스', '데이터사이언스', '데이터사이언스', '마케팅', '프로그래밍', '데이터사이언스', '데이터사이언스', '프로그래밍', '마케팅', '마케팅', '프로그래밍', '크리에이티브', '마케팅', '프로그래밍', '크리에이티브', '데이터사이언스', '데이터사이언스', '프로그래밍', '프로그래밍', '프로그래밍', '프로그래밍', '프로그래밍', '데이터사이언스', '데이터사이언스', '프로그래밍', '프로그래밍', '데이터사이언스', '프로그래밍', '프로그래밍', '프로그래밍', '프로그래밍', '크리에이티브', '데이터사이언스', '크리에이티브', '프로그래밍', '프로그래밍', '데이터사이언스', '프로그래밍', '데이터사이언스', '크리에이티브', '프로그래밍', '업무 생산성', '업무 생산성', '업무 생산성', '업무 생산성', '프로그래밍', '프로그래밍', '프로그래밍', '프로그래밍', '크리에이티브', '크리에이티브', '마케팅', '업무 생산성', '데이터사이언스', '업무 생산성', '프로그래밍', '프로그래밍', '프로그래밍', '프로그래밍', '프로그래밍', '프로그래밍', '프로그래밍', '프로그래밍', '프로그래밍', '프로그래밍', '프로그래밍', '프로그래밍', '데이터사이언스', '데이터사이언스', '프로그래밍', '데이터사이언스', '데이터사이언스', '마케팅', '프로그래밍', '프로그래밍', '프로그래밍', '크리에이티브', '데이터사이언스', '프로그래밍', '프로그래밍', '프로그래밍', '데이터사이언스', '업무 생산성', '업무 생산성', '데이터사이언스', '마케팅', '데이터사이언스', '데이터사이언스', '프로그래밍', '프로그래밍', '프로그래밍', '프로그래밍', '프로그래밍', '프로그래밍', '프로그래밍', '프로그래밍', '프로그래밍', '프로그래밍', '프로그래밍', '데이터사이언스', '프로그래밍', '데이터사이언스', '프로그래밍', '프로그래밍', '프로그래밍', '프로그래밍', '프로그래밍', '프로그래밍', '데이터사이언스', '마케팅', '마케팅', '마케팅', '프로그래밍', '데이터사이언스', '데이터사이언스', '데이터사이언스', '데이터사이언스', '프로그래밍', '업무 생산성', '업무 생산성', '데이터사이언스', '마케팅', '프로그래밍', '프로그래밍', '프로그래밍', '프로그래밍', '크리에이티브', '크리에이티브', '크리에이티브', '데이터사이언스', '프로그래밍', '프로그래밍', '프로그래밍', '크리에이티브', '크리에이티브', '크리에이티브', '데이터사이언스', '프로그래밍', '프로그래밍', '프로그래밍', '업무 생산성', '프로그래밍', '데이터사이언스', '데이터사이언스', '업무 생산성', '업무 생산성', '데이터사이언스', '크리에이티브', '데이터사이언스', '프로그래밍', '데이터사이언스', '데이터사이언스', '프로그래밍', '프로그래밍', '프로그래밍', '프로그래밍', '프로그래밍', '프로그래밍', '데이터사이언스', '데이터사이언스', '프로그래밍', '데이터사이언스', '데이터사이언스', '마케팅', '마케팅', '크리에이티브', '프로그래밍', '프로그래밍', '프로그래밍', '프로그래밍', '프로그래밍', '프로그래밍', '프로그래밍', '프로그래밍', '크리에이티브', '마케팅', '마케팅', '마케팅', '마케팅', '데이터사이언스', '데이터사이언스', '업무 생산성', '프로그래밍', '프로그래밍', '마케팅', '프로그래밍', '프로그래밍', '프로그래밍', '프로그래밍', '데이터사이언스', '프로그래밍', '프로그래밍', '데이터사이언스', '프로그래밍', '크리에이티브', '마케팅', '프로그래밍', '크리에이티브', '프로그래밍', '프로그래밍', '프로그래밍', '데이터사이언스', '크리에이티브', '데이터사이언스', '데이터사이언스', '크리에이티브', '프로그래밍', '프로그래밍', '프로그래밍', '프로그래밍', '프로그래밍', '프로그래밍', '데이터사이언스', '프로그래밍', '데이터사이언스', '데이터사이언스', '크리에이티브', '크리에이티브', '프로그래밍', '프로그래밍', '프로그래밍', '프로그래밍', '프로그래밍', '프로그래밍', '프로그래밍', '데이터사이언스', '프로그래밍', '크리에이티브', '크리에이티브', '프로그래밍', '크리에이티브', '프로그래밍', '프로그래밍', '데이터사이언스', '프로그래밍', '데이터사이언스', '업무 생산성', '데이터사이언스', '데이터사이언스', '프로그래밍', '데이터사이언스', '프로그래밍', '프로그래밍', '프로그래밍', '데이터사이언스', '프로그래밍', '프로그래밍', '프로그래밍', '크리에이티브', '프로그래밍', '프로그래밍', '데이터사이언스', '데이터사이언스', '데이터사이언스', '프로그래밍', '데이터사이언스', '프로그래밍', '크리에이티브', '크리에이티브', '데이터사이언스', '데이터사이언스', '프로그래밍', '데이터사이언스', '데이터사이언스', '프로그래밍', '데이터사이언스', '프로그래밍', '데이터사이언스', '프로그래밍', '프로그래밍', '프로그래밍', '프로그래밍', '업무 생산성', '프로그래밍', '프로그래밍', '프로그래밍', '마케팅', '마케팅', '프로그래밍', '마케팅', '프로그래밍', '프로그래밍', '마케팅', '마케팅', '프로그래밍', '데이터사이언스', '프로그래밍', '크리에이티브', '크리에이티브', '마케팅', '프로그래밍', '크리에이티브', '마케팅', '프로그래밍', '프로그래밍', '데이터사이언스', '프로그래밍', '프로그래밍', '크리에이티브', '프로그래밍', '프로그래밍', '프로그래밍', '프로그래밍', '데이터사이언스', '프로그래밍', '데이터사이언스', '프로그래밍', '데이터사이언스', '프로그래밍', '크리에이티브', '프로그래밍', '프로그래밍', '데이터사이언스', '데이터사이언스', '프로그래밍', '데이터사이언스', '데이터사이언스', '프로그래밍', '프로그래밍', '프로그래밍', '업무 생산성', '프로그래밍', '프로그래밍', '프로그래밍', '프로그래밍', '프로그래밍', '프로그래밍', '크리에이티브', '크리에이티브', '프로그래밍', '프로그래밍', '프로그래밍', '프로그래밍', '프로그래밍', '프로그래밍', '프로그래밍', '마케팅', '프로그래밍', '프로그래밍', '프로그래밍', '프로그래밍', '데이터사이언스', '데이터사이언스', '프로그래밍', '업무 생산성', '프로그래밍', '데이터사이언스', '프로그래밍', '프로그래밍', '프로그래밍', '프로그래밍', '크리에이티브', '프로그래밍', '데이터사이언스', '프로그래밍', '프로그래밍', '프로그래밍', '프로그래밍', '프로그래밍', '프로그래밍', '프로그래밍', '프로그래밍', '프로그래밍', '프로그래밍', '프로그래밍', '프로그래밍', '크리에이티브', '크리에이티브', '프로그래밍', '프로그래밍', '프로그래밍', '데이터사이언스', '프로그래밍', '프로그래밍', '프로그래밍', '프로그래밍', '프로그래밍', '프로그래밍', '프로그래밍', '데이터사이언스', '프로그래밍', '프로그래밍', '프로그래밍', '크리에이티브', '프로그래밍', '프로그래밍', '프로그래밍', '프로그래밍', '크리에이티브', '프로그래밍', '프로그래밍', '프로그래밍', '프로그래밍', '프로그래밍', '프로그래밍', '프로그래밍', '프로그래밍', '업무 생산성', '프로그래밍', '데이터사이언스', '프로그래밍', '마케팅', '프로그래밍', '프로그래밍', '프로그래밍', '데이터사이언스', '프로그래밍', '프로그래밍', '프로그래밍', '데이터사이언스', '데이터사이언스', '프로그래밍', '데이터사이언스', '프로그래밍', '프로그래밍', '데이터사이언스', '프로그래밍', '데이터사이언스', '프로그래밍', '프로그래밍', '프로그래밍', '데이터사이언스', '데이터사이언스', '프로그래밍', '데이터사이언스', '프로그래밍', '프로그래밍', '프로그래밍', '프로그래밍', '프로그래밍', '프로그래밍', '프로그래밍', '데이터사이언스', '프로그래밍', '프로그래밍', '데이터사이언스', '데이터사이언스', '프로그래밍', '프로그래밍', '프로그래밍', '프로그래밍', '프로그래밍', '프로그래밍', '프로그래밍', '프로그래밍', '프로그래밍', '프로그래밍', '프로그래밍', '프로그래밍', '프로그래밍', '프로그래밍', '프로그래밍', '프로그래밍', '프로그래밍', '프로그래밍', '프로그래밍', '프로그래밍', '프로그래밍', '데이터사이언스', '프로그래밍', '데이터사이언스', '프로그래밍', '데이터사이언스', '프로그래밍', '프로그래밍', '프로그래밍', '프로그래밍', '프로그래밍', '데이터사이언스', '데이터사이언스', '프로그래밍', '데이터사이언스', '데이터사이언스', '데이터사이언스', '업무 생산성', '크리에이티브', '데이터사이언스', '프로그래밍', '프로그래밍', '프로그래밍', '프로그래밍', '데이터사이언스', '데이터사이언스', '데이터사이언스', '업무 생산성', '프로그래밍', '크리에이티브', '프로그래밍', '프로그래밍', '프로그래밍', '프로그래밍', '프로그래밍', '크리에이티브', '크리에이티브', '크리에이티브', '크리에이티브', '데이터사이언스', '크리에이티브', '프로그래밍', '프로그래밍', '프로그래밍', '프로그래밍', '프로그래밍', '데이터사이언스', '데이터사이언스', '프로그래밍', '프로그래밍', '데이터사이언스', '프로그래밍', '프로그래밍', '데이터사이언스', '데이터사이언스', '프로그래밍', '프로그래밍', '프로그래밍', '프로그래밍', '프로그래밍', '프로그래밍', '프로그래밍', '프로그래밍', '데이터사이언스', '데이터사이언스', '데이터사이언스', '프로그래밍', '데이터사이언스', '데이터사이언스', '프로그래밍', '프로그래밍', '데이터사이언스', '데이터사이언스', '프로그래밍', '프로그래밍', '프로그래밍', '프로그래밍', '데이터사이언스', '프로그래밍', '프로그래밍', '데이터사이언스', '프로그래밍', '데이터사이언스', '프로그래밍', '프로그래밍', '프로그래밍', '프로그래밍', '프로그래밍', '프로그래밍', '프로그래밍', '프로그래밍', '프로그래밍', '프로그래밍', '프로그래밍', '업무 생산성', '프로그래밍', '프로그래밍', '프로그래밍', '크리에이티브', '크리에이티브', '데이터사이언스', '프로그래밍', '업무 생산성', '프로그래밍', '데이터사이언스', '프로그래밍', '프로그래밍', '데이터사이언스', '데이터사이언스', '크리에이티브', '프로그래밍', '크리에이티브', '프로그래밍', '프로그래밍', '프로그래밍', '프로그래밍', '크리에이티브', '프로그래밍', '프로그래밍', '크리에이티브', '크리에이티브', '크리에이티브', '프로그래밍', '크리에이티브', '프로그래밍', '데이터사이언스', '데이터사이언스', '프로그래밍', '프로그래밍', '프로그래밍', '데이터사이언스', '프로그래밍', '프로그래밍', '프로그래밍', '데이터사이언스', '크리에이티브', '크리에이티브', '마케팅', '부동산/금융', '프로그래밍', '크리에이티브', '크리에이티브', '데이터사이언스', '데이터사이언스', '크리에이티브', '프로그래밍', '프로그래밍', '크리에이티브', '마케팅', '데이터사이언스', '데이터사이언스', '크리에이티브', '마케팅', '마케팅', '마케팅', '마케팅', '업무 생산성', '프로그래밍', '데이터사이언스', '데이터사이언스', '데이터사이언스', '프로그래밍', '프로그래밍', '프로그래밍', '프로그래밍', '프로그래밍', '프로그래밍', '크리에이티브', '크리에이티브', '데이터사이언스', '데이터사이언스', '데이터사이언스', '데이터사이언스', '데이터사이언스', '프로그래밍', '데이터사이언스', '프로그래밍', '프로그래밍', '프로그래밍', '마케팅', '프로그래밍', '프로그래밍', '프로그래밍', '프로그래밍', '프로그래밍', '프로그래밍', '프로그래밍', '업무 생산성', '데이터사이언스', '프로그래밍', '프로그래밍', '마케팅', '마케팅', '프로그래밍', '프로그래밍', '마케팅', '마케팅', '데이터사이언스', '업무 생산성', '업무 생산성', '마케팅', '크리에이티브', '프로그래밍', '프로그래밍', '프로그래밍', '프로그래밍', '프로그래밍', '크리에이티브', '크리에이티브', '데이터사이언스', '프로그래밍', '데이터사이언스', '데이터사이언스', '프로그래밍', '데이터사이언스', '크리에이티브', '크리에이티브', '프로그래밍', '마케팅', '프로그래밍', '프로그래밍', '프로그래밍', '마케팅', '마케팅', '프로그래밍', '데이터사이언스', '프로그래밍', '프로그래밍', '프로그래밍', '크리에이티브', '프로그래밍', '데이터사이언스', '프로그래밍', '프로그래밍', '프로그래밍', '데이터사이언스', '데이터사이언스', '마케팅', '마케팅', '데이터사이언스', '데이터사이언스', '데이터사이언스', '프로그래밍', '프로그래밍', '데이터사이언스', '프로그래밍', '데이터사이언스', '데이터사이언스', '프로그래밍', '프로그래밍', '데이터사이언스', '데이터사이언스', '데이터사이언스', '프로그래밍', '프로그래밍', '데이터사이언스', '데이터사이언스', '프로그래밍', '업무 생산성', '마케팅', '프로그래밍', '프로그래밍', '크리에이티브', '크리에이티브', '크리에이티브', '프로그래밍', '프로그래밍', '크리에이티브', '크리에이티브', '프로그래밍', '프로그래밍', '데이터사이언스', '데이터사이언스', '프로그래밍', '프로그래밍', '프로그래밍', '데이터사이언스', '데이터사이언스', '데이터사이언스', '업무 생산성', '크리에이티브', '부동산/금융', '데이터사이언스', '데이터사이언스', '데이터사이언스', '크리에이티브', '데이터사이언스', '데이터사이언스', '크리에이티브', '프로그래밍', '데이터사이언스', '크리에이티브', '크리에이티브', '프로그래밍', '데이터사이언스', '데이터사이언스', '데이터사이언스', '프로그래밍', '프로그래밍', '데이터사이언스', '데이터사이언스', '마케팅', '데이터사이언스', '데이터사이언스', '프로그래밍', '마케팅', '마케팅', '마케팅', '프로그래밍', '프로그래밍', '마케팅', '프로그래밍', '데이터사이언스', '프로그래밍', '데이터사이언스', '프로그래밍', '데이터사이언스', '프로그래밍', '프로그래밍', '프로그래밍', '프로그래밍', '데이터사이언스', '데이터사이언스', '마케팅', '데이터사이언스', '데이터사이언스', '업무 생산성', '데이터사이언스', '데이터사이언스', '업무 생산성', '업무 생산성', '크리에이티브', '프로그래밍', '프로그래밍', '프로그래밍', '프로그래밍', '마케팅', '프로그래밍', '프로그래밍', '크리에이티브', '프로그래밍', '데이터사이언스', '데이터사이언스', '프로그래밍', '프로그래밍', '마케팅', '마케팅', '마케팅', '프로그래밍', '크리에이티브', '크리에이티브', '프로그래밍', '프로그래밍', '프로그래밍', '프로그래밍', '프로그래밍', '프로그래밍', '프로그래밍', '프로그래밍', '프로그래밍', '프로그래밍', '프로그래밍', '프로그래밍', '크리에이티브', '크리에이티브', '크리에이티브', '프로그래밍', '업무 생산성', '프로그래밍', '데이터사이언스', '데이터사이언스', '크리에이티브', '크리에이티브', '업무 생산성', '프로그래밍', '프로그래밍', '프로그래밍', '프로그래밍', '프로그래밍', '프로그래밍', '프로그래밍', '프로그래밍', '프로그래밍', '프로그래밍', '프로그래밍', '프로그래밍', '프로그래밍', '프로그래밍', '업무 생산성', '프로그래밍', '프로그래밍', '프로그래밍', '프로그래밍', '프로그래밍', '프로그래밍', '프로그래밍', '업무 생산성', '프로그래밍', '업무 생산성', '프로그래밍', '업무 생산성', '데이터사이언스', '마케팅', '마케팅', '프로그래밍', '프로그래밍', '크리에이티브', '프로그래밍', '마케팅', '프로그래밍', '프로그래밍', '업무 생산성', '프로그래밍', '업무 생산성', '업무 생산성', '크리에이티브', '마케팅', '마케팅', '프로그래밍', '프로그래밍', '프로그래밍', '프로그래밍', '프로그래밍', '업무 생산성', '업무 생산성', '업무 생산성', '프로그래밍', '마케팅', '크리에이티브', '크리에이티브', '마케팅', '마케팅', '프로그래밍', '업무 생산성', '프로그래밍', '프로그래밍', '마케팅', '데이터사이언스', '프로그래밍', '데이터사이언스', '프로그래밍', '프로그래밍', '프로그래밍', '마케팅', '프로그래밍', '크리에이티브', '업무 생산성', '데이터사이언스', '프로그래밍', '프로그래밍', '프로그래밍', '프로그래밍', '프로그래밍', '프로그래밍', '프로그래밍', '프로그래밍', '크리에이티브', '프로그래밍', '프로그래밍', '데이터사이언스', '크리에이티브', '크리에이티브', '크리에이티브', '프로그래밍', '프로그래밍', '프로그래밍', '프로그래밍', '프로그래밍', '프로그래밍', '프로그래밍', '프로그래밍', '프로그래밍', '프로그래밍', '프로그래밍', '프로그래밍', '프로그래밍', '크리에이티브', '데이터사이언스', '데이터사이언스', '프로그래밍', '크리에이티브', '프로그래밍', '프로그래밍', '프로그래밍', '프로그래밍', '프로그래밍', '프로그래밍', '데이터사이언스', '크리에이티브', '크리에이티브', '마케팅', '데이터사이언스', '프로그래밍', '마케팅', '데이터사이언스', '프로그래밍', '프로그래밍', '크리에이티브', '크리에이티브', '크리에이티브', '업무 생산성', '프로그래밍', '데이터사이언스', '업무 생산성', '프로그래밍', '프로그래밍', '업무 생산성', '프로그래밍', '프로그래밍', '프로그래밍', '프로그래밍', '프로그래밍', '프로그래밍', '프로그래밍', '프로그래밍', '프로그래밍', '크리에이티브', '프로그래밍', '프로그래밍', '데이터사이언스', '프로그래밍', '크리에이티브', '마케팅', '마케팅', '프로그래밍', '크리에이티브', '프로그래밍', '프로그래밍', '크리에이티브', '크리에이티브', '크리에이티브', '데이터사이언스', '업무 생산성', '업무 생산성', '크리에이티브', '크리에이티브', '프로그래밍', '데이터사이언스', '프로그래밍', '부동산/금융', '프로그래밍', '크리에이티브', '부동산/금융', '크리에이티브', '크리에이티브', '데이터사이언스', '프로그래밍', '데이터사이언스', '데이터사이언스', '크리에이티브', '데이터사이언스', '데이터사이언스', '프로그래밍', '프로그래밍', '데이터사이언스', '프로그래밍', '업무 생산성', '프로그래밍', '데이터사이언스', '데이터사이언스', '크리에이티브', '업무 생산성', '데이터사이언스', '업무 생산성', '업무 생산성', '업무 생산성', '프로그래밍', '프로그래밍', '데이터사이언스', '크리에이티브', '프로그래밍', '크리에이티브', '프로그래밍', '프로그래밍', '마케팅', '마케팅', '데이터사이언스', '데이터사이언스', '크리에이티브', '크리에이티브', '크리에이티브', '크리에이티브', '프로그래밍', '업무 생산성', '데이터사이언스', '마케팅', '데이터사이언스', '업무 생산성', '업무 생산성', '데이터사이언스', '프로그래밍', '크리에이티브', '크리에이티브', '크리에이티브', '크리에이티브', '부동산/금융', '프로그래밍', '프로그래밍', '업무 생산성', '마케팅', '마케팅', '데이터사이언스', '데이터사이언스', '업무 생산성', '업무 생산성', '프로그래밍', '부동산/금융', '크리에이티브', '크리에이티브', '크리에이티브', '크리에이티브', '크리에이티브', '프로그래밍', '크리에이티브', '마케팅', '프로그래밍', '업무 생산성', '업무 생산성', '프로그래밍', '프로그래밍', '프로그래밍', '프로그래밍', '프로그래밍', '프로그래밍', '마케팅', '크리에이티브', '프로그래밍', '프로그래밍', '업무 생산성', '프로그래밍', '프로그래밍', '크리에이티브', '크리에이티브', '프로그래밍', '프로그래밍', '데이터사이언스', '데이터사이언스', '크리에이티브', '프로그래밍', '크리에이티브', '프로그래밍', '크리에이티브', '프로그래밍', '프로그래밍', '프로그래밍', '프로그래밍', '프로그래밍', '데이터사이언스', '프로그래밍', '마케팅', '크리에이티브', '크리에이티브', '업무 생산성', '프로그래밍', '데이터사이언스', '프로그래밍', '프로그래밍', '프로그래밍', '업무 생산성', '크리에이티브', '데이터사이언스', '크리에이티브', '크리에이티브', '마케팅', '프로그래밍', '데이터사이언스', '데이터사이언스', '데이터사이언스', '업무 생산성', '업무 생산성', '크리에이티브', '프로그래밍', '데이터사이언스', '크리에이티브', '크리에이티브', '크리에이티브', '마케팅', '크리에이티브', '크리에이티브', '크리에이티브', '크리에이티브', '마케팅', '크리에이티브', '프로그래밍', '프로그래밍', '데이터사이언스', '프로그래밍', '프로그래밍', '크리에이티브', '프로그래밍', '데이터사이언스', '데이터사이언스', '데이터사이언스', '프로그래밍', '프로그래밍', '프로그래밍', '마케팅', '크리에이티브', '크리에이티브', '크리에이티브', '크리에이티브', '데이터사이언스', '데이터사이언스', '크리에이티브', '크리에이티브', '업무 생산성', '업무 생산성', '업무 생산성', '데이터사이언스', '데이터사이언스', '마케팅', '데이터사이언스', '업무 생산성', '크리에이티브', '프로그래밍', '업무 생산성', '프로그래밍', '데이터사이언스', '데이터사이언스', '프로그래밍', '데이터사이언스', '데이터사이언스', '프로그래밍', '프로그래밍', '크리에이티브', '크리에이티브', '프로그래밍', '프로그래밍', '마케팅', '마케팅', '마케팅', '크리에이티브', '크리에이티브', '프로그래밍', '프로그래밍', '데이터사이언스', '데이터사이언스', '데이터사이언스', '프로그래밍', '크리에이티브', '프로그래밍', '데이터사이언스', '프로그래밍', '데이터사이언스', '데이터사이언스', '데이터사이언스', '데이터사이언스', '부동산/금융', '부동산/금융', '부동산/금융', '마케팅', '데이터사이언스', '데이터사이언스', '프로그래밍', '프로그래밍', '데이터사이언스', '마케팅', '데이터사이언스', '프로그래밍', '데이터사이언스', '프로그래밍', '프로그래밍', '프로그래밍', '데이터사이언스', '프로그래밍', '프로그래밍', '업무 생산성', '업무 생산성', '데이터사이언스', '프로그래밍', '프로그래밍', '크리에이티브', '크리에이티브', '크리에이티브', '데이터사이언스', '데이터사이언스', '데이터사이언스', '데이터사이언스', '데이터사이언스', '크리에이티브', '부동산/금융', '부동산/금융', '크리에이티브', '업무 생산성', '업무 생산성', '업무 생산성', '데이터사이언스', '프로그래밍', '프로그래밍', '데이터사이언스', '프로그래밍', '프로그래밍', '프로그래밍', '크리에이티브', '크리에이티브', '프로그래밍', '크리에이티브', '크리에이티브', '마케팅', '마케팅', '크리에이티브', '프로그래밍', '크리에이티브', '크리에이티브', '프로그래밍', '크리에이티브', '프로그래밍', '크리에이티브', '데이터사이언스', '프로그래밍', '데이터사이언스', '크리에이티브', '프로그래밍', '프로그래밍', '프로그래밍', '데이터사이언스', '데이터사이언스', '데이터사이언스', '데이터사이언스', '데이터사이언스', '프로그래밍', '프로그래밍', '데이터사이언스', '데이터사이언스', '데이터사이언스', '크리에이티브', '업무 생산성', '프로그래밍', '프로그래밍', '크리에이티브', '크리에이티브', '크리에이티브', '프로그래밍', '프로그래밍', '마케팅', '마케팅', '프로그래밍', '프로그래밍', '데이터사이언스', '데이터사이언스', '크리에이티브', '프로그래밍', '프로그래밍', '프로그래밍', '프로그래밍', '프로그래밍', '프로그래밍', '업무 생산성', '업무 생산성', '데이터사이언스', '크리에이티브', '프로그래밍', '프로그래밍', '프로그래밍', '크리에이티브', '크리에이티브', '마케팅', '데이터사이언스', '프로그래밍', '프로그래밍', '데이터사이언스', '크리에이티브', '프로그래밍', '프로그래밍', '프로그래밍', '프로그래밍', '프로그래밍', '프로그래밍', '프로그래밍', '프로그래밍', '프로그래밍', '크리에이티브', '크리에이티브', '프로그래밍', '크리에이티브', '크리에이티브', '크리에이티브', '크리에이티브', '업무 생산성', '업무 생산성', '업무 생산성', '업무 생산성', '프로그래밍', '프로그래밍', '프로그래밍', '마케팅', '크리에이티브', '마케팅', '업무 생산성', '데이터사이언스', '데이터사이언스', '데이터사이언스', '부동산/금융', '크리에이티브', '업무 생산성', '프로그래밍', '프로그래밍', '업무 생산성', '부동산/금융', '크리에이티브', '크리에이티브', '부동산/금융', '데이터사이언스', '데이터사이언스', '데이터사이언스', '데이터사이언스', '데이터사이언스', '프로그래밍', '마케팅', '크리에이티브', '마케팅', '마케팅', '데이터사이언스', '데이터사이언스', '부동산/금융', '부동산/금융', '프로그래밍', '크리에이티브', '마케팅', '크리에이티브', '데이터사이언스', '마케팅', '업무 생산성', '프로그래밍', '프로그래밍', '크리에이티브', '프로그래밍', '프로그래밍', '크리에이티브', '프로그래밍', '크리에이티브', '크리에이티브', '데이터사이언스', '데이터사이언스', '크리에이티브', '프로그래밍', '프로그래밍', '프로그래밍', '프로그래밍', '프로그래밍', '데이터사이언스', '프로그래밍', '프로그래밍', '데이터사이언스', '프로그래밍', '프로그래밍', '프로그래밍', '크리에이티브', '크리에이티브', '프로그래밍', '크리에이티브', '업무 생산성', '크리에이티브', '프로그래밍', '프로그래밍', '프로그래밍', '업무 생산성', '프로그래밍', '프로그래밍', '마케팅', '크리에이티브', '크리에이티브', '프로그래밍', '프로그래밍', '프로그래밍', '프로그래밍', '프로그래밍', '프로그래밍', '프로그래밍', '프로그래밍', '업무 생산성', '프로그래밍', '프로그래밍', '크리에이티브', '크리에이티브', '크리에이티브', '프로그래밍', '부동산/금융', '프로그래밍', '프로그래밍', '업무 생산성', '업무 생산성', '프로그래밍', '크리에이티브', '프로그래밍', '마케팅', '크리에이티브', '크리에이티브', '업무 생산성', '크리에이티브', '프로그래밍', '프로그래밍', '크리에이티브', '업무 생산성', '업무 생산성', '크리에이티브', '프로그래밍', '프로그래밍', '크리에이티브', '크리에이티브', '프로그래밍', '프로그래밍', '프로그래밍', '데이터사이언스', '데이터사이언스', '프로그래밍', '프로그래밍', '크리에이티브', '크리에이티브', '크리에이티브', '크리에이티브', '크리에이티브', '크리에이티브', '데이터사이언스', '프로그래밍', '프로그래밍', '마케팅', '업무 생산성', '업무 생산성', '크리에이티브', '크리에이티브', '마케팅', '프로그래밍', '프로그래밍', '크리에이티브', '프로그래밍', '프로그래밍', '프로그래밍', '데이터사이언스', '업무 생산성', '마케팅', '프로그래밍', '프로그래밍', '프로그래밍', '프로그래밍', '프로그래밍', '프로그래밍', '부동산/금융', '부동산/금융', '데이터사이언스', '데이터사이언스', '데이터사이언스', '프로그래밍', '프로그래밍', '데이터사이언스', '데이터사이언스', '데이터사이언스', '데이터사이언스', '데이터사이언스', '데이터사이언스', '프로그래밍', '프로그래밍', '프로그래밍', '프로그래밍', '프로그래밍', '프로그래밍', '프로그래밍', '프로그래밍', '프로그래밍', '프로그래밍', '프로그래밍', '프로그래밍', '프로그래밍', '데이터사이언스', '데이터사이언스', '프로그래밍', '프로그래밍', '프로그래밍', '프로그래밍', '프로그래밍', '크리에이티브', '프로그래밍', '데이터사이언스', '프로그래밍', '프로그래밍', '프로그래밍', '크리에이티브', '업무 생산성', '프로그래밍', '데이터사이언스', '프로그래밍', '프로그래밍', '프로그래밍', '프로그래밍', '크리에이티브', '프로그래밍', '프로그래밍', '데이터사이언스', '데이터사이언스', '프로그래밍', '데이터사이언스', '프로그래밍', '크리에이티브', '크리에이티브', '크리에이티브', '크리에이티브', '데이터사이언스', '데이터사이언스', '데이터사이언스', '데이터사이언스', '프로그래밍', '프로그래밍', '프로그래밍', '프로그래밍', '프로그래밍', '업무 생산성', '프로그래밍', '프로그래밍', '마케팅', '마케팅', '마케팅', '마케팅', '크리에이티브', '데이터사이언스', '업무 생산성', '데이터사이언스', '프로그래밍', '프로그래밍', '데이터사이언스', '크리에이티브', '프로그래밍', '데이터사이언스', '마케팅', '마케팅', '데이터사이언스', '데이터사이언스', '업무 생산성', '데이터사이언스', '프로그래밍', '프로그래밍', '부동산/금융', '프로그래밍', '부동산/금융', '프로그래밍', '프로그래밍', '마케팅', '마케팅', '마케팅', '프로그래밍', '프로그래밍', '프로그래밍', '프로그래밍', '프로그래밍', '크리에이티브', '프로그래밍', '프로그래밍', '업무 생산성', '부동산/금융', '부동산/금융', '프로그래밍', '프로그래밍', '데이터사이언스', '업무 생산성', '업무 생산성', '프로그래밍', '프로그래밍', '프로그래밍', '프로그래밍', '프로그래밍', '업무 생산성', '프로그래밍', '업무 생산성', '업무 생산성', '크리에이티브', '프로그래밍', '크리에이티브', '마케팅', '프로그래밍', '데이터사이언스', '크리에이티브', '프로그래밍', '마케팅', '마케팅', '프로그래밍', '프로그래밍', '프로그래밍', '프로그래밍', '프로그래밍', '프로그래밍', '프로그래밍', '프로그래밍', '프로그래밍', '프로그래밍', '프로그래밍', '프로그래밍', '프로그래밍', '프로그래밍', '데이터사이언스', '크리에이티브', '크리에이티브', '마케팅', '크리에이티브', '마케팅', '프로그래밍', '프로그래밍', '프로그래밍', '프로그래밍', '데이터사이언스', '데이터사이언스', '프로그래밍', '프로그래밍', '크리에이티브', '크리에이티브', '크리에이티브', '프로그래밍', '프로그래밍', '프로그래밍', '프로그래밍', '프로그래밍', '프로그래밍', '프로그래밍', '프로그래밍', '데이터사이언스', '업무 생산성', '업무 생산성', '데이터사이언스', '프로그래밍', '크리에이티브', '데이터사이언스', '프로그래밍', '프로그래밍', '프로그래밍', '프로그래밍', '데이터사이언스', '크리에이티브', '크리에이티브', '프로그래밍', '프로그래밍', '프로그래밍', '데이터사이언스', '데이터사이언스', '데이터사이언스', '크리에이티브', '데이터사이언스', '업무 생산성', '업무 생산성', '프로그래밍', '업무 생산성', '프로그래밍', '데이터사이언스', '크리에이티브', '크리에이티브', '프로그래밍', '프로그래밍', '크리에이티브', '크리에이티브', '프로그래밍', '프로그래밍', '프로그래밍', '프로그래밍', '프로그래밍', '데이터사이언스', '프로그래밍', '프로그래밍', '프로그래밍', '프로그래밍', '데이터사이언스', '데이터사이언스', '마케팅', '프로그래밍', '프로그래밍', '프로그래밍', '데이터사이언스', '프로그래밍', '프로그래밍', '마케팅', '마케팅', '프로그래밍', '데이터사이언스', '마케팅', '업무 생산성', '데이터사이언스', '프로그래밍', '데이터사이언스', '마케팅', '데이터사이언스', '데이터사이언스', '프로그래밍', '프로그래밍', '부동산/금융', '부동산/금융', '마케팅', '프로그래밍', '프로그래밍', '프로그래밍', '프로그래밍', '업무 생산성', '크리에이티브', '마케팅', '크리에이티브', '크리에이티브', '프로그래밍', '마케팅', '크리에이티브', '프로그래밍', '프로그래밍', '프로그래밍', '데이터사이언스', '프로그래밍', '프로그래밍', '프로그래밍', '프로그래밍', '프로그래밍', '데이터사이언스', '크리에이티브', '데이터사이언스', '크리에이티브', '데이터사이언스', '데이터사이언스', '프로그래밍', '부동산/금융', '프로그래밍', '마케팅', '프로그래밍', '데이터사이언스', '데이터사이언스', '프로그래밍', '업무 생산성', '프로그래밍', '크리에이티브', '크리에이티브', '업무 생산성', '크리에이티브', '크리에이티브', '프로그래밍', '크리에이티브', '크리에이티브', '크리에이티브', '크리에이티브', '크리에이티브', '데이터사이언스', '크리에이티브', '데이터사이언스', '데이터사이언스', '데이터사이언스', '크리에이티브', '데이터사이언스', '프로그래밍', '업무 생산성', '프로그래밍', '프로그래밍', '크리에이티브', '부동산/금융', '프로그래밍', '데이터사이언스', '크리에이티브', '프로그래밍', '데이터사이언스', '데이터사이언스', '마케팅', '데이터사이언스', '마케팅', '마케팅', '크리에이티브', '업무 생산성', '크리에이티브', '크리에이티브', '프로그래밍', '프로그래밍', '데이터사이언스', '데이터사이언스', '프로그래밍', '프로그래밍', '프로그래밍', '크리에이티브', '프로그래밍', '데이터사이언스', '데이터사이언스', '프로그래밍', '데이터사이언스', '프로그래밍', '크리에이티브', '크리에이티브', '크리에이티브', '크리에이티브', '크리에이티브', '크리에이티브', '프로그래밍', '크리에이티브', '프로그래밍', '프로그래밍', '프로그래밍', '프로그래밍', '프로그래밍', '마케팅', '데이터사이언스', '데이터사이언스', '업무 생산성', '데이터사이언스', '크리에이티브', '크리에이티브', '크리에이티브', '업무 생산성', '프로그래밍', '데이터사이언스', '데이터사이언스', '데이터사이언스', '프로그래밍', '크리에이티브', '데이터사이언스', '데이터사이언스', '프로그래밍', '프로그래밍', '프로그래밍', '데이터사이언스', '데이터사이언스', '크리에이티브', '크리에이티브', '데이터사이언스', '데이터사이언스', '프로그래밍', '크리에이티브', '크리에이티브', '크리에이티브', '데이터사이언스', '데이터사이언스', '프로그래밍', '데이터사이언스', '데이터사이언스', '프로그래밍', '데이터사이언스', '데이터사이언스', '프로그래밍', '프로그래밍', '데이터사이언스', '프로그래밍', '프로그래밍', '크리에이티브', '데이터사이언스', '데이터사이언스', '데이터사이언스', '크리에이티브', '프로그래밍', '크리에이티브', '부동산/금융', '프로그래밍', '프로그래밍', '데이터사이언스', '데이터사이언스', '프로그래밍', '크리에이티브', '크리에이티브', '데이터사이언스', '마케팅', '데이터사이언스', '데이터사이언스', '데이터사이언스', '프로그래밍', '데이터사이언스', '프로그래밍', '프로그래밍', '업무 생산성', '프로그래밍', '크리에이티브', '데이터사이언스', '프로그래밍', '크리에이티브', '프로그래밍', '프로그래밍', '업무 생산성', '업무 생산성', '프로그래밍', '크리에이티브', '크리에이티브', '데이터사이언스', '데이터사이언스', '데이터사이언스', '크리에이티브', '크리에이티브', '크리에이티브', '부동산/금융', '프로그래밍', '데이터사이언스', '업무 생산성', '프로그래밍', '프로그래밍', '크리에이티브', '프로그래밍', '프로그래밍', '업무 생산성', '업무 생산성', '크리에이티브', '크리에이티브', '프로그래밍', '업무 생산성', '마케팅', '마케팅', '프로그래밍', '프로그래밍', '업무 생산성', '업무 생산성', '업무 생산성', '업무 생산성', '크리에이티브', '크리에이티브', '프로그래밍', '데이터사이언스', '데이터사이언스', '마케팅', '마케팅', '부동산/금융', '데이터사이언스', '업무 생산성', '업무 생산성', '크리에이티브', '크리에이티브', '크리에이티브', '데이터사이언스', '크리에이티브', '데이터사이언스', '업무 생산성', '업무 생산성', '마케팅', '데이터사이언스', '데이터사이언스', '프로그래밍', '프로그래밍', '프로그래밍', '프로그래밍', '프로그래밍', '프로그래밍', '데이터사이언스', '부동산/금융', '부동산/금융', '업무 생산성', '프로그래밍', '프로그래밍', '프로그래밍', '데이터사이언스', '프로그래밍', '크리에이티브', '크리에이티브', '프로그래밍', '프로그래밍', '프로그래밍', '데이터사이언스', '데이터사이언스', '업무 생산성', '프로그래밍', '프로그래밍', '프로그래밍', '프로그래밍', '크리에이티브', '프로그래밍', '데이터사이언스', '데이터사이언스', '프로그래밍', '프로그래밍', '프로그래밍', '데이터사이언스', '마케팅', '마케팅', '프로그래밍', '프로그래밍', '데이터사이언스', '프로그래밍', '프로그래밍', '업무 생산성', '업무 생산성', '업무 생산성', '부동산/금융', '부동산/금융', '프로그래밍', '프로그래밍', '프로그래밍', '프로그래밍', '부동산/금융', '크리에이티브', '크리에이티브', '크리에이티브', '마케팅', '크리에이티브', '크리에이티브', '크리에이티브', '프로그래밍', '프로그래밍', '데이터사이언스', '마케팅', '데이터사이언스', '크리에이티브', '프로그래밍', '프로그래밍', '데이터사이언스', '데이터사이언스', '데이터사이언스', '부동산/금융', '데이터사이언스', '데이터사이언스', '데이터사이언스', '프로그래밍', '마케팅', '데이터사이언스', '크리에이티브', '크리에이티브', '크리에이티브', '크리에이티브', '크리에이티브', '크리에이티브', '데이터사이언스', '데이터사이언스', '크리에이티브', '크리에이티브', '크리에이티브', '데이터사이언스', '프로그래밍', '크리에이티브', '마케팅', '부동산/금융', '마케팅', '프로그래밍', '크리에이티브', '마케팅', '크리에이티브', '프로그래밍', '프로그래밍', '프로그래밍', '프로그래밍', '프로그래밍', '프로그래밍', '크리에이티브', '프로그래밍', '프로그래밍', '데이터사이언스', '크리에이티브', '크리에이티브', '프로그래밍', '프로그래밍', '크리에이티브', '데이터사이언스', '크리에이티브', '데이터사이언스', '데이터사이언스', '데이터사이언스', '데이터사이언스', '데이터사이언스', '데이터사이언스', '데이터사이언스', '프로그래밍', '크리에이티브', '프로그래밍', '프로그래밍', '프로그래밍', '업무 생산성', '데이터사이언스', '프로그래밍', '프로그래밍', '데이터사이언스', '데이터사이언스', '프로그래밍', '프로그래밍', '데이터사이언스', '데이터사이언스', '마케팅', '마케팅', '데이터사이언스', '프로그래밍', '프로그래밍', '부동산/금융', '데이터사이언스', '업무 생산성', '크리에이티브', '프로그래밍', '프로그래밍', '크리에이티브', '크리에이티브', '프로그래밍', '데이터사이언스', '데이터사이언스', '데이터사이언스', '업무 생산성', '데이터사이언스', '크리에이티브', '프로그래밍', '크리에이티브', '데이터사이언스', '데이터사이언스', '데이터사이언스', '업무 생산성', '데이터사이언스', '크리에이티브', '크리에이티브', '프로그래밍', '프로그래밍', '데이터사이언스', '크리에이티브', '프로그래밍', '업무 생산성', '업무 생산성', '데이터사이언스', '데이터사이언스', '프로그래밍', '프로그래밍', '프로그래밍', '프로그래밍', '데이터사이언스', '업무 생산성', '데이터사이언스', '프로그래밍', '프로그래밍', '프로그래밍', '크리에이티브', '크리에이티브', '마케팅', '마케팅', '마케팅', '프로그래밍', '프로그래밍', '프로그래밍', '크리에이티브', '크리에이티브', '크리에이티브', '크리에이티브', '프로그래밍', '프로그래밍', '크리에이티브', '크리에이티브', '크리에이티브', '마케팅', '마케팅', '프로그래밍', '프로그래밍', '데이터사이언스', '데이터사이언스', '프로그래밍', '프로그래밍', '데이터사이언스', '프로그래밍', '프로그래밍', '프로그래밍', '프로그래밍', '업무 생산성', '프로그래밍', '데이터사이언스', '크리에이티브', '크리에이티브', '프로그래밍', '데이터사이언스', '데이터사이언스', '프로그래밍', '프로그래밍', '프로그래밍', '크리에이티브', '프로그래밍', '데이터사이언스', '크리에이티브', '크리에이티브', '크리에이티브', '데이터사이언스', '크리에이티브', '데이터사이언스', '크리에이티브', '마케팅', '크리에이티브', '데이터사이언스', '크리에이티브', '크리에이티브', '크리에이티브', '프로그래밍', '데이터사이언스', '프로그래밍', '데이터사이언스', '데이터사이언스', '데이터사이언스', '데이터사이언스', '데이터사이언스', '데이터사이언스', '업무 생산성', '프로그래밍', '프로그래밍', '프로그래밍', '마케팅', '프로그래밍', '프로그래밍', '프로그래밍', '마케팅', '프로그래밍', '프로그래밍', '프로그래밍', '마케팅', '데이터사이언스', '크리에이티브', '프로그래밍', '데이터사이언스', '크리에이티브', '크리에이티브', '프로그래밍', '데이터사이언스', '프로그래밍', '프로그래밍', '프로그래밍', '프로그래밍', '프로그래밍', '크리에이티브', '크리에이티브', '프로그래밍', '프로그래밍', '데이터사이언스', '프로그래밍', '프로그래밍', '프로그래밍', '프로그래밍', '프로그래밍', '크리에이티브', '크리에이티브', '프로그래밍', '크리에이티브', '프로그래밍', '프로그래밍', '데이터사이언스', '데이터사이언스', '데이터사이언스', '크리에이티브', '크리에이티브', '데이터사이언스', '데이터사이언스', '크리에이티브', '데이터사이언스', '데이터사이언스', '데이터사이언스', '크리에이티브', '데이터사이언스', '데이터사이언스', '마케팅', '마케팅', '데이터사이언스', '프로그래밍', '프로그래밍', '크리에이티브', '마케팅', '프로그래밍', '프로그래밍', '데이터사이언스', '프로그래밍', '프로그래밍', '데이터사이언스', '업무 생산성', '데이터사이언스', '마케팅', '프로그래밍', '업무 생산성', '크리에이티브', '프로그래밍', '마케팅', '마케팅', '프로그래밍', '프로그래밍', '프로그래밍', '마케팅', '마케팅', '데이터사이언스', '데이터사이언스', '데이터사이언스', '데이터사이언스', '데이터사이언스', '프로그래밍', '데이터사이언스', '크리에이티브', '프로그래밍', '프로그래밍', '프로그래밍', '데이터사이언스', '업무 생산성', '업무 생산성', '데이터사이언스', '데이터사이언스', '크리에이티브', '데이터사이언스', '데이터사이언스', '크리에이티브', '크리에이티브', '프로그래밍', '크리에이티브', '크리에이티브', '프로그래밍', '크리에이티브', '프로그래밍', '데이터사이언스', '크리에이티브', '크리에이티브', '크리에이티브', '프로그래밍', '프로그래밍', '프로그래밍', '프로그래밍', '프로그래밍', '프로그래밍', '프로그래밍', '크리에이티브', '크리에이티브', '업무 생산성', '크리에이티브', '프로그래밍', '프로그래밍', '부동산/금융', '프로그래밍', '프로그래밍', '데이터사이언스', '프로그래밍', '프로그래밍', '프로그래밍', '데이터사이언스', '데이터사이언스', '마케팅', '데이터사이언스', '크리에이티브', '크리에이티브', '프로그래밍', '크리에이티브', '데이터사이언스', '마케팅', '마케팅', '마케팅', '마케팅', '데이터사이언스', '데이터사이언스', '데이터사이언스', '데이터사이언스', '프로그래밍', '크리에이티브', '업무 생산성', '프로그래밍', '프로그래밍', '크리에이티브', '마케팅', '데이터사이언스', '프로그래밍', '프로그래밍', '데이터사이언스', '데이터사이언스', '크리에이티브', '크리에이티브', '데이터사이언스', '프로그래밍', '프로그래밍', '프로그래밍', '데이터사이언스', '데이터사이언스', '프로그래밍', '데이터사이언스', '크리에이티브', '프로그래밍', '프로그래밍', '프로그래밍', '프로그래밍', '프로그래밍', '프로그래밍', '프로그래밍', '프로그래밍', '프로그래밍', '프로그래밍', '프로그래밍', '프로그래밍', '마케팅', '프로그래밍', '프로그래밍', '프로그래밍', '프로그래밍', '데이터사이언스', '마케팅', '데이터사이언스', '크리에이티브', '크리에이티브', '프로그래밍', '프로그래밍', '프로그래밍', '프로그래밍', '프로그래밍', '프로그래밍', '프로그래밍', '프로그래밍', '데이터사이언스', '데이터사이언스', '프로그래밍', '프로그래밍', '프로그래밍', '프로그래밍', '크리에이티브', '프로그래밍', '프로그래밍', '부동산/금융', '마케팅', '프로그래밍', '데이터사이언스', '데이터사이언스', '마케팅', '데이터사이언스', '마케팅', '마케팅', '마케팅', '크리에이티브', '프로그래밍', '크리에이티브', '프로그래밍', '프로그래밍', '크리에이티브', '데이터사이언스', '프로그래밍', '크리에이티브', '데이터사이언스', '프로그래밍', '크리에이티브', '프로그래밍', '프로그래밍', '프로그래밍', '프로그래밍', '프로그래밍', '마케팅', '마케팅', '크리에이티브', '프로그래밍', '프로그래밍', '크리에이티브', '프로그래밍', '프로그래밍', '크리에이티브', '크리에이티브', '크리에이티브', '업무 생산성', '데이터사이언스', '데이터사이언스', '크리에이티브', '크리에이티브', '크리에이티브', '프로그래밍', '프로그래밍', '프로그래밍', '크리에이티브', '마케팅', '마케팅', '마케팅', '데이터사이언스', '프로그래밍', '프로그래밍', '프로그래밍', '크리에이티브', '크리에이티브', '프로그래밍', '크리에이티브', '크리에이티브', '크리에이티브', '프로그래밍', '데이터사이언스', '크리에이티브', '데이터사이언스', '데이터사이언스', '프로그래밍', '프로그래밍', '프로그래밍', '프로그래밍', '프로그래밍', '프로그래밍', '데이터사이언스', '마케팅', '데이터사이언스', '데이터사이언스', '데이터사이언스', '데이터사이언스', '프로그래밍', '데이터사이언스', '마케팅', '데이터사이언스', '업무 생산성', '마케팅', '마케팅', '크리에이티브', '크리에이티브', '크리에이티브', '크리에이티브', '프로그래밍', '프로그래밍', '크리에이티브', '업무 생산성', '크리에이티브', '업무 생산성', '업무 생산성', '프로그래밍', '크리에이티브', '데이터사이언스', '프로그래밍', '데이터사이언스', '데이터사이언스', '프로그래밍', '프로그래밍', '프로그래밍', '데이터사이언스', '데이터사이언스', '데이터사이언스', '데이터사이언스', '데이터사이언스', '크리에이티브', '크리에이티브', '프로그래밍', '마케팅', '프로그래밍', '프로그래밍', '부동산/금융', '프로그래밍', '마케팅', '마케팅', '프로그래밍', '데이터사이언스', '프로그래밍', '프로그래밍', '프로그래밍', '프로그래밍', '프로그래밍', '데이터사이언스', '프로그래밍', '데이터사이언스', '데이터사이언스', '크리에이티브', '업무 생산성', '업무 생산성', '프로그래밍', '프로그래밍', '마케팅', '데이터사이언스', '마케팅', '프로그래밍', '크리에이티브', '크리에이티브', '프로그래밍', '데이터사이언스', '프로그래밍', '프로그래밍', '업무 생산성', '업무 생산성', '프로그래밍', '업무 생산성', '크리에이티브', '프로그래밍', '프로그래밍', '프로그래밍', '프로그래밍', '프로그래밍', '프로그래밍', '프로그래밍', '프로그래밍', '프로그래밍', '크리에이티브', '크리에이티브', '프로그래밍', '프로그래밍', '프로그래밍', '프로그래밍', '데이터사이언스', '데이터사이언스', '프로그래밍', '프로그래밍', '프로그래밍', '크리에이티브', '크리에이티브', '데이터사이언스', '데이터사이언스', '프로그래밍', '마케팅', '프로그래밍', '크리에이티브', '크리에이티브', '프로그래밍', '프로그래밍', '업무 생산성', '업무 생산성', '업무 생산성', '업무 생산성', '데이터사이언스', '데이터사이언스', '프로그래밍', '프로그래밍', '업무 생산성', '마케팅', '마케팅', '마케팅', '마케팅', '마케팅', '크리에이티브', '프로그래밍', '데이터사이언스', '데이터사이언스', '데이터사이언스', '업무 생산성', '업무 생산성', '프로그래밍', '프로그래밍', '프로그래밍', '프로그래밍', '프로그래밍', '프로그래밍', '프로그래밍', '프로그래밍', '프로그래밍', '프로그래밍', '데이터사이언스', '프로그래밍', '프로그래밍', '프로그래밍', '데이터사이언스', '데이터사이언스', '데이터사이언스', '마케팅', '프로그래밍', '프로그래밍', '프로그래밍', '프로그래밍', '프로그래밍', '프로그래밍', '프로그래밍', '프로그래밍', '데이터사이언스', '데이터사이언스', '프로그래밍', '프로그래밍', '프로그래밍', '프로그래밍', '프로그래밍', '프로그래밍', '프로그래밍', '크리에이티브', '크리에이티브', '데이터사이언스', '마케팅', '프로그래밍', '데이터사이언스', '프로그래밍', '프로그래밍', '프로그래밍', '프로그래밍', '프로그래밍', '프로그래밍', '프로그래밍', '데이터사이언스', '프로그래밍', '프로그래밍', '프로그래밍', '프로그래밍', '프로그래밍', '마케팅', '프로그래밍', '프로그래밍', '프로그래밍', '데이터사이언스', '데이터사이언스', '프로그래밍', '프로그래밍', '프로그래밍', '프로그래밍', '프로그래밍', '프로그래밍', '프로그래밍', '프로그래밍', '프로그래밍', '프로그래밍', '데이터사이언스', '크리에이티브', '마케팅', '데이터사이언스', '프로그래밍', '업무 생산성', '데이터사이언스', '데이터사이언스', '크리에이티브', '크리에이티브', '프로그래밍', '프로그래밍', '프로그래밍', '프로그래밍', '프로그래밍', '프로그래밍', '데이터사이언스', '프로그래밍', '데이터사이언스', '프로그래밍', '프로그래밍', '프로그래밍', '프로그래밍', '크리에이티브', '크리에이티브', '프로그래밍', '데이터사이언스', '데이터사이언스', '데이터사이언스', '프로그래밍', '데이터사이언스', '프로그래밍', '데이터사이언스', '프로그래밍', '프로그래밍', '데이터사이언스', '프로그래밍', '데이터사이언스', '데이터사이언스', '데이터사이언스', '프로그래밍', '프로그래밍', '프로그래밍', '프로그래밍', '프로그래밍', '프로그래밍', '프로그래밍', '프로그래밍', '프로그래밍', '프로그래밍', '프로그래밍', '프로그래밍', '프로그래밍', '프로그래밍', '크리에이티브', '데이터사이언스', '데이터사이언스', '프로그래밍', '데이터사이언스', '프로그래밍', '프로그래밍', '프로그래밍', '프로그래밍', '프로그래밍', '프로그래밍', '프로그래밍', '프로그래밍', '프로그래밍', '프로그래밍', '프로그래밍', '데이터사이언스', '프로그래밍', '프로그래밍', '프로그래밍', '프로그래밍', '데이터사이언스', '크리에이티브', '프로그래밍', '프로그래밍', '프로그래밍', '크리에이티브', '프로그래밍', '프로그래밍', '프로그래밍', '프로그래밍', '데이터사이언스', '마케팅', '마케팅', '프로그래밍', '데이터사이언스', '프로그래밍', '프로그래밍', '데이터사이언스', '프로그래밍', '프로그래밍', '프로그래밍', '크리에이티브', '데이터사이언스', '크리에이티브', '프로그래밍', '프로그래밍', '프로그래밍', '데이터사이언스', '데이터사이언스', '데이터사이언스', '데이터사이언스', '프로그래밍', '프로그래밍', '프로그래밍', '프로그래밍', '크리에이티브', '프로그래밍', '프로그래밍', '프로그래밍', '프로그래밍', '프로그래밍', '프로그래밍', '프로그래밍', '프로그래밍', '프로그래밍', '프로그래밍', '크리에이티브', '프로그래밍', '프로그래밍', '크리에이티브', '마케팅', '프로그래밍', '프로그래밍', '프로그래밍', '데이터사이언스', '데이터사이언스', '데이터사이언스', '데이터사이언스', '크리에이티브', '크리에이티브', '프로그래밍', '프로그래밍', '프로그래밍', '크리에이티브', '데이터사이언스', '프로그래밍', '업무 생산성', '프로그래밍', '프로그래밍', '프로그래밍', '데이터사이언스', '데이터사이언스', '프로그래밍', '프로그래밍', '크리에이티브', '크리에이티브', '프로그래밍', '프로그래밍', '프로그래밍', '프로그래밍', '프로그래밍', '데이터사이언스', '데이터사이언스', '데이터사이언스', '프로그래밍', '프로그래밍', '프로그래밍', '프로그래밍', '프로그래밍', '프로그래밍', '프로그래밍', '프로그래밍', '프로그래밍', '데이터사이언스', '프로그래밍', '크리에이티브', '크리에이티브', '데이터사이언스', '프로그래밍', '업무 생산성', '업무 생산성', '프로그래밍', '프로그래밍', '프로그래밍', '프로그래밍', '프로그래밍', '프로그래밍', '프로그래밍', '데이터사이언스', '데이터사이언스', '프로그래밍', '프로그래밍', '프로그래밍', '프로그래밍', '데이터사이언스', '데이터사이언스', '데이터사이언스', '프로그래밍', '데이터사이언스', '프로그래밍', '프로그래밍', '프로그래밍', '크리에이티브', '프로그래밍', '프로그래밍', '크리에이티브', '크리에이티브', '크리에이티브', '프로그래밍', '프로그래밍', '프로그래밍', '프로그래밍', '프로그래밍', '프로그래밍', '프로그래밍', '프로그래밍', '프로그래밍', '프로그래밍', '프로그래밍', '프로그래밍', '프로그래밍', '프로그래밍', '데이터사이언스', '데이터사이언스', '데이터사이언스', '마케팅', '크리에이티브', '데이터사이언스', '데이터사이언스', '데이터사이언스', '프로그래밍', '프로그래밍', '프로그래밍', '프로그래밍', '프로그래밍', '데이터사이언스', '데이터사이언스', '프로그래밍', '프로그래밍', '프로그래밍', '업무 생산성', '프로그래밍', '프로그래밍', '프로그래밍', '프로그래밍', '프로그래밍', '마케팅', '데이터사이언스', '프로그래밍', '프로그래밍', '프로그래밍', '데이터사이언스', '프로그래밍', '프로그래밍', '업무 생산성', '크리에이티브', '크리에이티브', '프로그래밍', '프로그래밍', '마케팅', '크리에이티브', '프로그래밍', '프로그래밍', '데이터사이언스', '프로그래밍', '프로그래밍', '프로그래밍', '프로그래밍', '프로그래밍', '프로그래밍', '프로그래밍', '프로그래밍', '프로그래밍', '프로그래밍', '프로그래밍', '마케팅', '프로그래밍', '크리에이티브', '크리에이티브', '데이터사이언스', '마케팅', '마케팅', '마케팅', '데이터사이언스', '프로그래밍', '프로그래밍', '데이터사이언스', '프로그래밍', '프로그래밍', '데이터사이언스', '프로그래밍', '프로그래밍', '프로그래밍', '크리에이티브', '데이터사이언스', '프로그래밍', '마케팅', '데이터사이언스', '크리에이티브', '데이터사이언스', '프로그래밍', '프로그래밍', '프로그래밍', '프로그래밍', '프로그래밍', '프로그래밍', '프로그래밍', '프로그래밍', '프로그래밍', '프로그래밍', '데이터사이언스', '프로그래밍', '데이터사이언스', '프로그래밍', '데이터사이언스', '데이터사이언스', '프로그래밍', '프로그래밍', '프로그래밍', '데이터사이언스', '데이터사이언스', '크리에이티브', '크리에이티브', '프로그래밍', '프로그래밍', '프로그래밍', '프로그래밍', '프로그래밍', '프로그래밍', '프로그래밍', '프로그래밍', '프로그래밍', '프로그래밍', '프로그래밍', '프로그래밍', '프로그래밍', '프로그래밍', '프로그래밍', '프로그래밍', '프로그래밍', '프로그래밍', '프로그래밍', '프로그래밍', '프로그래밍', '프로그래밍', '프로그래밍', '프로그래밍', '프로그래밍', '프로그래밍', '프로그래밍', '프로그래밍', '프로그래밍', '프로그래밍', '프로그래밍', '프로그래밍', '프로그래밍', '프로그래밍', '프로그래밍', '프로그래밍', '프로그래밍', '프로그래밍', '프로그래밍', '프로그래밍', '프로그래밍', '프로그래밍', '데이터사이언스', '프로그래밍', '프로그래밍', '프로그래밍', '프로그래밍', '프로그래밍', '프로그래밍', '프로그래밍', '프로그래밍', '프로그래밍', '프로그래밍', '프로그래밍', '프로그래밍', '프로그래밍', '프로그래밍', '프로그래밍', '프로그래밍', '프로그래밍', '프로그래밍', '크리에이티브', '크리에이티브', '프로그래밍', '프로그래밍', '프로그래밍', '프로그래밍', '마케팅', '마케팅', '데이터사이언스', '프로그래밍', '프로그래밍', '데이터사이언스', '데이터사이언스', '프로그래밍', '프로그래밍', '프로그래밍', '프로그래밍', '프로그래밍', '프로그래밍', '크리에이티브', '프로그래밍', '크리에이티브', '프로그래밍', '프로그래밍', '데이터사이언스', '데이터사이언스', '프로그래밍', '프로그래밍', '프로그래밍', '프로그래밍', '데이터사이언스', '프로그래밍', '프로그래밍', '부동산/금융', '프로그래밍', '프로그래밍', '데이터사이언스', '데이터사이언스', '크리에이티브', '데이터사이언스', '데이터사이언스', '프로그래밍', '데이터사이언스', '데이터사이언스', '데이터사이언스', '프로그래밍', '프로그래밍', '프로그래밍', '크리에이티브', '데이터사이언스', '데이터사이언스', '프로그래밍', '프로그래밍', '프로그래밍', '프로그래밍', '프로그래밍', '프로그래밍', '데이터사이언스', '마케팅', '마케팅', '마케팅', '데이터사이언스', '데이터사이언스', '데이터사이언스', '데이터사이언스', '데이터사이언스', '마케팅', '데이터사이언스', '마케팅', '프로그래밍', '프로그래밍', '프로그래밍', '데이터사이언스', '데이터사이언스', '데이터사이언스', '데이터사이언스', '데이터사이언스', '프로그래밍', '크리에이티브', '프로그래밍', '데이터사이언스', '프로그래밍', '프로그래밍', '크리에이티브', '데이터사이언스', '데이터사이언스', '프로그래밍', '프로그래밍', '프로그래밍', '프로그래밍', '데이터사이언스', '프로그래밍', '프로그래밍', '프로그래밍', '프로그래밍', '프로그래밍', '업무 생산성', '마케팅', '프로그래밍', '프로그래밍', '프로그래밍', '데이터사이언스', '데이터사이언스', '데이터사이언스', '크리에이티브', '프로그래밍', '마케팅', '마케팅', '데이터사이언스', '프로그래밍', '프로그래밍', '프로그래밍', '마케팅', '마케팅', '데이터사이언스', '데이터사이언스', '데이터사이언스', '데이터사이언스', '프로그래밍', '프로그래밍', '프로그래밍', '마케팅', '업무 생산성', '업무 생산성', '데이터사이언스', '프로그래밍', '프로그래밍', '프로그래밍', '업무 생산성', '업무 생산성', '업무 생산성', '프로그래밍', '업무 생산성', '크리에이티브', '업무 생산성', '데이터사이언스', '데이터사이언스', '프로그래밍', '프로그래밍', '프로그래밍', '프로그래밍', '프로그래밍', '프로그래밍', '업무 생산성', '업무 생산성', '업무 생산성', '프로그래밍', '프로그래밍', '프로그래밍', '프로그래밍', '프로그래밍', '업무 생산성', '프로그래밍', '마케팅', '마케팅', '데이터사이언스', '데이터사이언스', '업무 생산성', '업무 생산성', '프로그래밍', '프로그래밍', '프로그래밍', '프로그래밍', '프로그래밍', '데이터사이언스', '데이터사이언스', '업무 생산성', '프로그래밍', '프로그래밍', '프로그래밍', '프로그래밍', '업무 생산성', '업무 생산성', '업무 생산성', '데이터사이언스', '업무 생산성', '업무 생산성', '업무 생산성', '프로그래밍', '프로그래밍', '프로그래밍', '업무 생산성', '프로그래밍', '프로그래밍', '업무 생산성', '업무 생산성', '프로그래밍', '마케팅', '데이터사이언스', '프로그래밍', '업무 생산성', '업무 생산성', '업무 생산성', '마케팅', '부동산/금융', '업무 생산성', '업무 생산성', '업무 생산성', '프로그래밍', '프로그래밍', '데이터사이언스', '데이터사이언스', '프로그래밍', '프로그래밍', '프로그래밍', '업무 생산성', '업무 생산성', '업무 생산성', '프로그래밍', '프로그래밍', '프로그래밍', '업무 생산성', '업무 생산성', '업무 생산성', '데이터사이언스', '데이터사이언스', '업무 생산성', '업무 생산성', '업무 생산성', '프로그래밍', '크리에이티브', '프로그래밍', '프로그래밍', '프로그래밍', '프로그래밍', '업무 생산성', '프로그래밍', '프로그래밍', '업무 생산성', '업무 생산성', '업무 생산성', '업무 생산성', '데이터사이언스', '프로그래밍', '프로그래밍', '프로그래밍', '프로그래밍', '업무 생산성', '업무 생산성', '프로그래밍', '데이터사이언스', '데이터사이언스', '프로그래밍', '프로그래밍', '업무 생산성', '업무 생산성', '프로그래밍', '프로그래밍', '업무 생산성', '프로그래밍', '프로그래밍', '프로그래밍', '프로그래밍', '프로그래밍', '프로그래밍', '프로그래밍', '프로그래밍', '업무 생산성', '업무 생산성', '프로그래밍', '업무 생산성', '업무 생산성', '프로그래밍', '프로그래밍', '업무 생산성', '업무 생산성', '프로그래밍', '프로그래밍', '데이터사이언스', '프로그래밍', '프로그래밍', '프로그래밍', '업무 생산성', '프로그래밍', '업무 생산성', '업무 생산성', '부동산/금융', '업무 생산성', '데이터사이언스', '데이터사이언스', '업무 생산성', '업무 생산성', '프로그래밍', '프로그래밍', '데이터사이언스', '데이터사이언스', '프로그래밍', '데이터사이언스', '데이터사이언스', '프로그래밍', '업무 생산성', '업무 생산성', '프로그래밍', '프로그래밍', '프로그래밍', '프로그래밍', '업무 생산성', '업무 생산성', '마케팅', '프로그래밍', '프로그래밍', '프로그래밍', '프로그래밍', '업무 생산성', '업무 생산성', '프로그래밍', '프로그래밍', '업무 생산성', '프로그래밍', '프로그래밍', '데이터사이언스', '데이터사이언스', '데이터사이언스', '데이터사이언스', '데이터사이언스', '프로그래밍', '프로그래밍', '데이터사이언스', '프로그래밍', '프로그래밍', '프로그래밍', '프로그래밍', '프로그래밍', '프로그래밍', '프로그래밍', '프로그래밍', '데이터사이언스', '프로그래밍', '프로그래밍', '업무 생산성', '업무 생산성', '프로그래밍', '업무 생산성', '업무 생산성', '데이터사이언스', '프로그래밍', '프로그래밍', '프로그래밍', '업무 생산성', '업무 생산성', '프로그래밍', '프로그래밍', '프로그래밍', '업무 생산성', '프로그래밍', '프로그래밍', '프로그래밍', '프로그래밍', '프로그래밍', '프로그래밍', '프로그래밍', '업무 생산성', '프로그래밍', '프로그래밍', '프로그래밍', '프로그래밍', '프로그래밍', '프로그래밍', '데이터사이언스', '데이터사이언스', '데이터사이언스', '데이터사이언스', '프로그래밍', '프로그래밍', '프로그래밍', '프로그래밍', '프로그래밍', '프로그래밍', '마케팅', '업무 생산성', '프로그래밍', '프로그래밍', '업무 생산성', '업무 생산성', '업무 생산성', '업무 생산성', '프로그래밍', '프로그래밍', '프로그래밍', '업무 생산성', '프로그래밍', '프로그래밍', '데이터사이언스', '데이터사이언스', '프로그래밍', '프로그래밍', '프로그래밍', '프로그래밍', '데이터사이언스', '업무 생산성', '업무 생산성', '프로그래밍', '프로그래밍', '프로그래밍', '프로그래밍', '데이터사이언스', '업무 생산성', '데이터사이언스', '업무 생산성', '마케팅', '마케팅', '업무 생산성', '데이터사이언스', '업무 생산성', '프로그래밍', '프로그래밍', '프로그래밍', '데이터사이언스', '업무 생산성', '프로그래밍', '크리에이티브', '데이터사이언스', '데이터사이언스', '데이터사이언스', '데이터사이언스', '데이터사이언스', '데이터사이언스', '데이터사이언스', '프로그래밍', '업무 생산성', '프로그래밍', '프로그래밍', '데이터사이언스', '데이터사이언스', '데이터사이언스', '프로그래밍', '프로그래밍', '업무 생산성', '업무 생산성', '업무 생산성', '업무 생산성', '업무 생산성', '프로그래밍', '프로그래밍', '프로그래밍', '프로그래밍', '데이터사이언스', '프로그래밍', '업무 생산성', '업무 생산성', '업무 생산성', '업무 생산성', '업무 생산성', '업무 생산성', '업무 생산성', '업무 생산성', '프로그래밍', '업무 생산성', '업무 생산성', '프로그래밍', '업무 생산성', '업무 생산성', '프로그래밍', '프로그래밍', '업무 생산성', '업무 생산성', '프로그래밍', '프로그래밍', '프로그래밍', '업무 생산성', '업무 생산성', '프로그래밍', '업무 생산성', '크리에이티브', '업무 생산성', '업무 생산성', '프로그래밍', '프로그래밍', '데이터사이언스', '업무 생산성', '프로그래밍', '프로그래밍', '프로그래밍', '업무 생산성', '데이터사이언스', '프로그래밍', '프로그래밍', '프로그래밍', '프로그래밍', '업무 생산성', '프로그래밍', '데이터사이언스', '데이터사이언스', '업무 생산성', '업무 생산성', '프로그래밍', '프로그래밍', '업무 생산성', '업무 생산성', '업무 생산성', '업무 생산성', '데이터사이언스', '데이터사이언스', '데이터사이언스', '크리에이티브', '크리에이티브', '프로그래밍', '데이터사이언스', '프로그래밍', '업무 생산성', '프로그래밍', '데이터사이언스', '데이터사이언스', '프로그래밍', '데이터사이언스', '프로그래밍', '프로그래밍', '프로그래밍', '프로그래밍', '데이터사이언스', '프로그래밍', '업무 생산성', '데이터사이언스', '프로그래밍', '업무 생산성', '프로그래밍', '프로그래밍', '프로그래밍', '프로그래밍', '프로그래밍', '프로그래밍', '프로그래밍', '프로그래밍', '업무 생산성', '프로그래밍', '프로그래밍', '프로그래밍', '프로그래밍', '마케팅', '업무 생산성', '프로그래밍', '프로그래밍', '프로그래밍', '데이터사이언스', '프로그래밍', '데이터사이언스', '업무 생산성', '프로그래밍', '프로그래밍', '데이터사이언스', '프로그래밍', '프로그래밍', '프로그래밍', '업무 생산성', '업무 생산성', '프로그래밍', '프로그래밍', '업무 생산성', '프로그래밍', '프로그래밍', '업무 생산성', '업무 생산성', '크리에이티브', '크리에이티브', '프로그래밍', '프로그래밍', '프로그래밍', '데이터사이언스', '프로그래밍', '데이터사이언스', '데이터사이언스', '크리에이티브', '데이터사이언스', '데이터사이언스', '프로그래밍', '프로그래밍', '업무 생산성', '업무 생산성', '업무 생산성', '프로그래밍', '프로그래밍', '마케팅', '프로그래밍', '마케팅', '데이터사이언스', '프로그래밍', '프로그래밍', '프로그래밍', '업무 생산성', '데이터사이언스', '데이터사이언스', '데이터사이언스', '업무 생산성', '프로그래밍', '데이터사이언스', '프로그래밍', '업무 생산성', '마케팅', '업무 생산성', '데이터사이언스', '프로그래밍', '프로그래밍', '프로그래밍', '업무 생산성', '프로그래밍', '프로그래밍', '프로그래밍', '프로그래밍', '데이터사이언스', '프로그래밍', '프로그래밍', '업무 생산성', '데이터사이언스', '데이터사이언스', '업무 생산성', '업무 생산성', '데이터사이언스', '프로그래밍', '프로그래밍', '데이터사이언스', '데이터사이언스', '업무 생산성', '프로그래밍', '프로그래밍', '프로그래밍', '프로그래밍', '프로그래밍', '업무 생산성', '업무 생산성', '업무 생산성', '업무 생산성', '업무 생산성', '업무 생산성', '업무 생산성', '업무 생산성', '업무 생산성', '업무 생산성', '업무 생산성', '업무 생산성', '업무 생산성', '업무 생산성', '업무 생산성', '업무 생산성', '프로그래밍', '업무 생산성', '업무 생산성', '업무 생산성', '업무 생산성', '업무 생산성', '업무 생산성', '업무 생산성', '데이터사이언스', '프로그래밍', '업무 생산성', '업무 생산성', '프로그래밍', '업무 생산성', '업무 생산성', '업무 생산성', '크리에이티브', '업무 생산성', '업무 생산성', '업무 생산성', '업무 생산성', '업무 생산성', '업무 생산성', '업무 생산성', '프로그래밍', '업무 생산성', '업무 생산성', '업무 생산성', '데이터사이언스', '프로그래밍', '업무 생산성', '업무 생산성', '업무 생산성', '업무 생산성', '업무 생산성', '업무 생산성', '프로그래밍', '프로그래밍', '프로그래밍', '프로그래밍', '업무 생산성', '업무 생산성', '프로그래밍', '프로그래밍', '프로그래밍', '업무 생산성', '업무 생산성', '업무 생산성', '프로그래밍', '데이터사이언스', '프로그래밍', '프로그래밍', '업무 생산성', '업무 생산성', '프로그래밍', '프로그래밍', '업무 생산성', '업무 생산성', '업무 생산성', '업무 생산성', '업무 생산성', '프로그래밍', '프로그래밍', '프로그래밍', '프로그래밍', '프로그래밍', '프로그래밍', '업무 생산성', '프로그래밍', '프로그래밍', '프로그래밍', '업무 생산성', '업무 생산성', '프로그래밍', '프로그래밍', '업무 생산성', '프로그래밍', '업무 생산성', '프로그래밍', '프로그래밍', '업무 생산성', '업무 생산성', '업무 생산성', '프로그래밍', '프로그래밍', '프로그래밍', '업무 생산성', '업무 생산성', '업무 생산성', '업무 생산성', '업무 생산성', '업무 생산성', '업무 생산성', '업무 생산성', '프로그래밍', '데이터사이언스', '프로그래밍', '업무 생산성', '업무 생산성', '프로그래밍', '업무 생산성', '데이터사이언스', '업무 생산성', '업무 생산성', '프로그래밍', '프로그래밍', '업무 생산성', '프로그래밍', '프로그래밍', '프로그래밍', '업무 생산성', '프로그래밍', '프로그래밍', '프로그래밍', '업무 생산성', '프로그래밍', '프로그래밍', '데이터사이언스', '데이터사이언스', '프로그래밍', '데이터사이언스', '데이터사이언스', '업무 생산성', '업무 생산성', '프로그래밍', '프로그래밍', '업무 생산성', '업무 생산성', '프로그래밍', '프로그래밍', '프로그래밍', '업무 생산성', '데이터사이언스', '데이터사이언스', '프로그래밍', '프로그래밍', '프로그래밍', '프로그래밍', '프로그래밍', '프로그래밍', '프로그래밍', '업무 생산성', '프로그래밍', '업무 생산성', '업무 생산성', '프로그래밍', '데이터사이언스', '데이터사이언스', '업무 생산성', '데이터사이언스', '프로그래밍', '프로그래밍', '프로그래밍', '업무 생산성', '업무 생산성', '프로그래밍', '업무 생산성', '업무 생산성', '프로그래밍', '프로그래밍', '프로그래밍', '프로그래밍', '프로그래밍', '업무 생산성', '업무 생산성', '프로그래밍', '프로그래밍', '업무 생산성', '프로그래밍', '업무 생산성', '프로그래밍', '프로그래밍', '데이터사이언스', '프로그래밍', '프로그래밍', '데이터사이언스', '프로그래밍', '프로그래밍', '데이터사이언스', '업무 생산성', '업무 생산성', '업무 생산성', '데이터사이언스', '프로그래밍', '프로그래밍', '프로그래밍', '프로그래밍', '데이터사이언스', '프로그래밍', '크리에이티브', '프로그래밍', '프로그래밍', '프로그래밍', '프로그래밍', '업무 생산성', '업무 생산성', '프로그래밍', '프로그래밍', '프로그래밍', '프로그래밍', '프로그래밍', '업무 생산성', '업무 생산성', '업무 생산성', '업무 생산성', '데이터사이언스', '데이터사이언스', '업무 생산성', '업무 생산성', '업무 생산성', '업무 생산성', '업무 생산성', '프로그래밍', '프로그래밍', '업무 생산성', '업무 생산성', '마케팅', '업무 생산성', '크리에이티브', '프로그래밍', '프로그래밍', '크리에이티브', '프로그래밍', '프로그래밍', '업무 생산성', '업무 생산성', '업무 생산성', '마케팅', '마케팅', '프로그래밍', '업무 생산성', '데이터사이언스', '데이터사이언스', '업무 생산성', '업무 생산성', '업무 생산성', '데이터사이언스', '크리에이티브', '업무 생산성', '업무 생산성', '업무 생산성', '크리에이티브', '데이터사이언스', '업무 생산성', '업무 생산성', '크리에이티브', '업무 생산성', '프로그래밍', '크리에이티브', '크리에이티브', '프로그래밍', '업무 생산성', '업무 생산성', '업무 생산성', '업무 생산성', '업무 생산성', '업무 생산성', '업무 생산성', '업무 생산성', '업무 생산성', '업무 생산성', '업무 생산성', '업무 생산성', '프로그래밍', '프로그래밍', '프로그래밍', '업무 생산성', '업무 생산성', '업무 생산성', '데이터사이언스', '업무 생산성', '업무 생산성', '프로그래밍', '프로그래밍', '업무 생산성', '프로그래밍', '프로그래밍', '프로그래밍', '업무 생산성', '업무 생산성', '크리에이티브', '업무 생산성', '업무 생산성', '프로그래밍', '프로그래밍', '크리에이티브', '업무 생산성', '프로그래밍', '업무 생산성', '프로그래밍', '프로그래밍', '프로그래밍', '프로그래밍', '프로그래밍', '업무 생산성', '업무 생산성', '업무 생산성', '프로그래밍', '프로그래밍', '업무 생산성', '업무 생산성', '업무 생산성', '프로그래밍', '크리에이티브', '크리에이티브', '크리에이티브', '업무 생산성', '업무 생산성', '업무 생산성', '프로그래밍', '크리에이티브', '크리에이티브', '업무 생산성', '업무 생산성', '프로그래밍', '업무 생산성', '업무 생산성', '프로그래밍', '프로그래밍', '업무 생산성', '프로그래밍', '크리에이티브', '업무 생산성', '프로그래밍', '프로그래밍', '프로그래밍', '프로그래밍', '프로그래밍', '크리에이티브', '크리에이티브', '데이터사이언스', '마케팅', '프로그래밍', '프로그래밍', '업무 생산성', '프로그래밍', '크리에이티브', '업무 생산성', '프로그래밍', '프로그래밍', '업무 생산성', '크리에이티브', '데이터사이언스', '업무 생산성', '업무 생산성', '데이터사이언스', '크리에이티브', '프로그래밍', '프로그래밍', '프로그래밍', '업무 생산성', '크리에이티브', '크리에이티브', '프로그래밍', '프로그래밍', '업무 생산성', '프로그래밍', '프로그래밍', '업무 생산성', '업무 생산성', '업무 생산성', '프로그래밍', '프로그래밍', '업무 생산성', '프로그래밍', '프로그래밍', '마케팅', '업무 생산성', '크리에이티브', '크리에이티브', '데이터사이언스', '프로그래밍', '프로그래밍', '프로그래밍', '크리에이티브', '프로그래밍', '프로그래밍', '프로그래밍', '업무 생산성', '크리에이티브', '프로그래밍', '크리에이티브', '크리에이티브', '업무 생산성', '프로그래밍', '프로그래밍', '마케팅', '마케팅', '업무 생산성', '업무 생산성', '업무 생산성', '프로그래밍', '프로그래밍', '프로그래밍', '프로그래밍', '프로그래밍', '데이터사이언스', '데이터사이언스', '업무 생산성', '업무 생산성', '업무 생산성', '업무 생산성', '프로그래밍', '프로그래밍', '업무 생산성', '크리에이티브', '크리에이티브', '업무 생산성', '업무 생산성', '크리에이티브', '크리에이티브', '데이터사이언스', '업무 생산성', '업무 생산성', '업무 생산성', '데이터사이언스', '데이터사이언스', '업무 생산성', '업무 생산성', '업무 생산성', '프로그래밍', '업무 생산성', '프로그래밍', '부동산/금융', '크리에이티브', '업무 생산성', '프로그래밍', '업무 생산성', '프로그래밍', '프로그래밍', '업무 생산성', '프로그래밍', '프로그래밍', '프로그래밍', '프로그래밍', '프로그래밍', '업무 생산성', '업무 생산성', '부동산/금융', '부동산/금융', '프로그래밍', '업무 생산성', '업무 생산성', '업무 생산성', '크리에이티브', '데이터사이언스', '업무 생산성', '업무 생산성', '크리에이티브', '데이터사이언스', '데이터사이언스', '크리에이티브', '프로그래밍', '업무 생산성', '프로그래밍', '업무 생산성', '업무 생산성', '업무 생산성', '프로그래밍', '데이터사이언스', '프로그래밍', '업무 생산성', '업무 생산성', '프로그래밍', '크리에이티브', '크리에이티브', '프로그래밍', '부동산/금융', '업무 생산성', '업무 생산성', '업무 생산성', '부동산/금융', '프로그래밍', '프로그래밍', '프로그래밍', '업무 생산성', '업무 생산성', '프로그래밍', '프로그래밍', '업무 생산성', '데이터사이언스', '업무 생산성', '프로그래밍', '업무 생산성', '업무 생산성', '업무 생산성', '업무 생산성', '업무 생산성', '크리에이티브', '업무 생산성', '데이터사이언스', '데이터사이언스', '프로그래밍', '업무 생산성', '업무 생산성', '업무 생산성', '업무 생산성', '업무 생산성', '업무 생산성', '프로그래밍', '프로그래밍', '업무 생산성', '업무 생산성', '업무 생산성', '업무 생산성', '업무 생산성', '프로그래밍', '업무 생산성', '업무 생산성', '업무 생산성', '업무 생산성', '업무 생산성', '프로그래밍', '업무 생산성', '업무 생산성', '업무 생산성', '업무 생산성', '업무 생산성', '마케팅', '업무 생산성', '업무 생산성', '업무 생산성', '업무 생산성', '업무 생산성', '업무 생산성', '업무 생산성', '업무 생산성', '업무 생산성', '부동산/금융', '부동산/금융', '업무 생산성', '업무 생산성', '업무 생산성', '부동산/금융', '업무 생산성', '업무 생산성', '마케팅', '마케팅', '업무 생산성', '프로그래밍', '프로그래밍', '데이터사이언스', '데이터사이언스', '크리에이티브', '업무 생산성', '데이터사이언스', '프로그래밍', '프로그래밍', '크리에이티브', '프로그래밍', '프로그래밍', '업무 생산성', '업무 생산성', '업무 생산성', '프로그래밍', '데이터사이언스', '업무 생산성', '업무 생산성', '프로그래밍', '프로그래밍', '프로그래밍', '업무 생산성', '업무 생산성', '업무 생산성', '프로그래밍', '프로그래밍', '프로그래밍', '프로그래밍', '프로그래밍', '프로그래밍', '프로그래밍', '프로그래밍', '크리에이티브', '업무 생산성', '업무 생산성', '프로그래밍', '크리에이티브', '크리에이티브', '프로그래밍', '프로그래밍', '프로그래밍', '프로그래밍', '프로그래밍', '업무 생산성', '업무 생산성', '업무 생산성', '크리에이티브', '프로그래밍', '프로그래밍', '프로그래밍', '프로그래밍', '프로그래밍', '프로그래밍', '크리에이티브', '업무 생산성', '업무 생산성', '업무 생산성', '프로그래밍', '프로그래밍', '업무 생산성', '업무 생산성', '프로그래밍', '업무 생산성', '프로그래밍', '업무 생산성', '업무 생산성', '프로그래밍', '마케팅', '업무 생산성', '업무 생산성', '데이터사이언스', '업무 생산성', '프로그래밍', '업무 생산성', '프로그래밍', '크리에이티브', '프로그래밍', '프로그래밍', '업무 생산성', '업무 생산성', '프로그래밍', '업무 생산성', '데이터사이언스', '업무 생산성', '데이터사이언스', '프로그래밍', '프로그래밍', '프로그래밍', '크리에이티브', '프로그래밍', '프로그래밍', '크리에이티브', '업무 생산성', '업무 생산성', '프로그래밍', '업무 생산성', '업무 생산성', '업무 생산성', '업무 생산성', '업무 생산성', '프로그래밍', '프로그래밍', '프로그래밍', '프로그래밍', '프로그래밍', '마케팅', '마케팅', '마케팅', '프로그래밍', '업무 생산성', '업무 생산성', '프로그래밍', '프로그래밍', '프로그래밍', '프로그래밍', '프로그래밍', '업무 생산성', '프로그래밍', '프로그래밍', '프로그래밍', '프로그래밍', '업무 생산성', '프로그래밍', '크리에이티브', '크리에이티브', '프로그래밍', '프로그래밍', '크리에이티브', '크리에이티브', '데이터사이언스', '프로그래밍', '업무 생산성', '업무 생산성', '프로그래밍', '데이터사이언스', '크리에이티브', '프로그래밍', '크리에이티브', '업무 생산성', '업무 생산성', '프로그래밍', '업무 생산성', '프로그래밍', '프로그래밍', '프로그래밍', '업무 생산성', '업무 생산성', '프로그래밍', '프로그래밍', '프로그래밍', '프로그래밍', '업무 생산성', '프로그래밍', '크리에이티브', '크리에이티브', '크리에이티브', '크리에이티브', '데이터사이언스', '부동산/금융', '부동산/금융', '프로그래밍', '프로그래밍', '프로그래밍', '프로그래밍', '프로그래밍', '업무 생산성', '업무 생산성', '프로그래밍', '프로그래밍', '업무 생산성', '프로그래밍', '업무 생산성', '업무 생산성', '프로그래밍', '프로그래밍', '마케팅', '마케팅', '업무 생산성', '업무 생산성', '업무 생산성', '업무 생산성', '업무 생산성', '업무 생산성', '업무 생산성', '프로그래밍', '마케팅', '마케팅', '업무 생산성', '업무 생산성', '데이터사이언스', '프로그래밍', '데이터사이언스', '데이터사이언스', '업무 생산성', '업무 생산성', '업무 생산성', '데이터사이언스', '마케팅', '마케팅', '프로그래밍', '프로그래밍', '업무 생산성', '업무 생산성', '프로그래밍', '프로그래밍', '데이터사이언스', '데이터사이언스', '업무 생산성', '업무 생산성', '업무 생산성', '업무 생산성', '업무 생산성', '업무 생산성', '데이터사이언스', '데이터사이언스', '크리에이티브', '프로그래밍', '크리에이티브', '업무 생산성', '크리에이티브', '프로그래밍', '프로그래밍', '프로그래밍', '프로그래밍', '프로그래밍', '프로그래밍', '업무 생산성', '데이터사이언스', '마케팅', '데이터사이언스', '데이터사이언스', '데이터사이언스', '업무 생산성', '데이터사이언스', '업무 생산성', '업무 생산성', '프로그래밍', '크리에이티브', '데이터사이언스', '프로그래밍', '프로그래밍', '업무 생산성', '업무 생산성', '업무 생산성', '업무 생산성', '프로그래밍', '프로그래밍', '프로그래밍', '업무 생산성', '프로그래밍', '업무 생산성', '크리에이티브', '업무 생산성', '크리에이티브', '데이터사이언스', '프로그래밍', '프로그래밍', '프로그래밍', '프로그래밍', '업무 생산성', '프로그래밍', '업무 생산성', '업무 생산성', '크리에이티브', '업무 생산성', '프로그래밍', '프로그래밍', '업무 생산성', '업무 생산성', '크리에이티브', '프로그래밍', '크리에이티브', '업무 생산성', '업무 생산성', '크리에이티브', '크리에이티브', '데이터사이언스', '데이터사이언스', '크리에이티브', '크리에이티브', '크리에이티브', '마케팅', '프로그래밍', '프로그래밍', '업무 생산성', '업무 생산성', '업무 생산성', '마케팅', '업무 생산성', '업무 생산성', '데이터사이언스', '데이터사이언스', '데이터사이언스', '프로그래밍', '크리에이티브', '프로그래밍', '마케팅', '프로그래밍', '프로그래밍', '프로그래밍', '업무 생산성', '데이터사이언스', '프로그래밍', '프로그래밍', '데이터사이언스', '데이터사이언스', '마케팅', '프로그래밍', '데이터사이언스', '프로그래밍', '업무 생산성', '크리에이티브', '크리에이티브', '부동산/금융', '부동산/금융', '업무 생산성', '업무 생산성', '업무 생산성', '데이터사이언스', '데이터사이언스', '업무 생산성', '업무 생산성', '크리에이티브', '업무 생산성', '업무 생산성', '업무 생산성', '프로그래밍', '프로그래밍', '프로그래밍', '프로그래밍', '업무 생산성', '업무 생산성', '프로그래밍', '프로그래밍', '크리에이티브', '크리에이티브', '마케팅', '업무 생산성', '업무 생산성', '업무 생산성', '업무 생산성', '업무 생산성', '업무 생산성', '업무 생산성', '업무 생산성', '업무 생산성', '업무 생산성', '프로그래밍', '프로그래밍', '프로그래밍', '업무 생산성', '프로그래밍', '프로그래밍', '업무 생산성', '업무 생산성', '업무 생산성', '데이터사이언스', '프로그래밍', '크리에이티브', '데이터사이언스', '데이터사이언스', '마케팅', '프로그래밍', '마케팅', '업무 생산성', '업무 생산성', '업무 생산성', '업무 생산성', '업무 생산성', '업무 생산성', '프로그래밍', '프로그래밍', '데이터사이언스', '데이터사이언스', '데이터사이언스', '업무 생산성', '프로그래밍', '프로그래밍', '업무 생산성', '데이터사이언스', '데이터사이언스', '크리에이티브', '프로그래밍', '프로그래밍', '프로그래밍', '업무 생산성', '데이터사이언스', '데이터사이언스', '업무 생산성', '업무 생산성', '업무 생산성', '업무 생산성', '프로그래밍', '프로그래밍', '데이터사이언스', '프로그래밍', '업무 생산성', '업무 생산성', '업무 생산성', '업무 생산성', '데이터사이언스', '마케팅', '크리에이티브', '업무 생산성', '프로그래밍', '마케팅', '마케팅', '마케팅', '업무 생산성', '업무 생산성', '업무 생산성', '마케팅', '데이터사이언스', '업무 생산성', '크리에이티브', '프로그래밍', '프로그래밍', '크리에이티브', '업무 생산성', '데이터사이언스', '데이터사이언스', '업무 생산성', '업무 생산성', '업무 생산성', '업무 생산성', '업무 생산성', '업무 생산성', '업무 생산성', '마케팅', '업무 생산성', '업무 생산성', '업무 생산성', '프로그래밍', '업무 생산성', '업무 생산성', '프로그래밍', '프로그래밍', '업무 생산성', '프로그래밍', '프로그래밍', '프로그래밍', '프로그래밍', '업무 생산성', '프로그래밍', '프로그래밍', '프로그래밍', '프로그래밍', '업무 생산성', '업무 생산성', '업무 생산성', '업무 생산성', '업무 생산성', '업무 생산성', '프로그래밍', '데이터사이언스', '프로그래밍', '데이터사이언스', '데이터사이언스', '프로그래밍', '프로그래밍', '크리에이티브', '크리에이티브', '업무 생산성', '업무 생산성', '업무 생산성', '데이터사이언스', '프로그래밍', '프로그래밍', '업무 생산성', '업무 생산성', '프로그래밍', '크리에이티브', '업무 생산성', '업무 생산성', '업무 생산성', '업무 생산성', '업무 생산성', '크리에이티브', '업무 생산성', '업무 생산성', '프로그래밍', '업무 생산성', '업무 생산성', '업무 생산성', '프로그래밍', '크리에이티브', '크리에이티브', '업무 생산성', '업무 생산성', '프로그래밍', '프로그래밍', '프로그래밍', '프로그래밍', '업무 생산성', '업무 생산성', '데이터사이언스', '데이터사이언스', '업무 생산성', '업무 생산성', '프로그래밍', '마케팅', '크리에이티브', '업무 생산성', '프로그래밍', '크리에이티브', '크리에이티브', '크리에이티브', '프로그래밍', '데이터사이언스', '업무 생산성', '프로그래밍', '크리에이티브', '크리에이티브', '크리에이티브', '업무 생산성', '업무 생산성', '프로그래밍', '마케팅', '마케팅', '프로그래밍', '프로그래밍', '업무 생산성', '크리에이티브', '데이터사이언스', '데이터사이언스', '마케팅', '마케팅', '데이터사이언스', '데이터사이언스', '업무 생산성', '프로그래밍', '프로그래밍', '업무 생산성', '업무 생산성', '업무 생산성', '프로그래밍', '업무 생산성', '데이터사이언스', '업무 생산성', '업무 생산성', '크리에이티브', '크리에이티브', '업무 생산성', '프로그래밍', '프로그래밍', '프로그래밍', '업무 생산성', '프로그래밍', '프로그래밍', '업무 생산성', '업무 생산성', '데이터사이언스', '업무 생산성', '업무 생산성', '프로그래밍', '업무 생산성', '크리에이티브', '프로그래밍', '마케팅', '마케팅', '데이터사이언스', '프로그래밍', '마케팅', '프로그래밍', '데이터사이언스', '데이터사이언스', '데이터사이언스', '크리에이티브', '업무 생산성', '업무 생산성', '크리에이티브', '업무 생산성', '프로그래밍', '업무 생산성', '크리에이티브', '크리에이티브', '업무 생산성', '크리에이티브', '업무 생산성', '프로그래밍', '마케팅', '마케팅', '프로그래밍', '크리에이티브', '마케팅', '업무 생산성', '업무 생산성', '프로그래밍', '업무 생산성', '업무 생산성', '크리에이티브', '마케팅', '데이터사이언스', '업무 생산성', '데이터사이언스', '데이터사이언스', '데이터사이언스', '데이터사이언스', '데이터사이언스', '크리에이티브', '마케팅', '업무 생산성', '데이터사이언스', '업무 생산성', '프로그래밍', '업무 생산성', '프로그래밍', '프로그래밍', '프로그래밍', '업무 생산성', '업무 생산성', '크리에이티브', '프로그래밍', '프로그래밍', '프로그래밍', '데이터사이언스', '업무 생산성', '업무 생산성', '업무 생산성', '프로그래밍', '크리에이티브', '업무 생산성', '데이터사이언스', '프로그래밍', '업무 생산성', '업무 생산성', '프로그래밍', '프로그래밍', '업무 생산성', '업무 생산성', '업무 생산성', '크리에이티브', '크리에이티브', '프로그래밍', '크리에이티브', '데이터사이언스', '업무 생산성', '업무 생산성', '프로그래밍', '업무 생산성', '프로그래밍', '크리에이티브', '크리에이티브', '크리에이티브', '크리에이티브', '업무 생산성', '업무 생산성', '프로그래밍', '프로그래밍', '프로그래밍', '프로그래밍', '프로그래밍', '크리에이티브', '프로그래밍', '프로그래밍', '부동산/금융', '업무 생산성', '데이터사이언스', '업무 생산성', '프로그래밍', '크리에이티브', '크리에이티브', '크리에이티브', '프로그래밍', '프로그래밍', '업무 생산성', '업무 생산성', '업무 생산성', '업무 생산성', '프로그래밍', '업무 생산성', '업무 생산성', '프로그래밍', '업무 생산성', '업무 생산성', '프로그래밍', '프로그래밍', '프로그래밍', '업무 생산성', '업무 생산성', '업무 생산성', '업무 생산성', '프로그래밍', '프로그래밍', '업무 생산성', '업무 생산성', '마케팅', '마케팅', '업무 생산성', '크리에이티브', '크리에이티브', '데이터사이언스', '프로그래밍', '크리에이티브', '마케팅', '프로그래밍', '프로그래밍', '업무 생산성', '업무 생산성', '데이터사이언스', '프로그래밍', '업무 생산성', '마케팅', '프로그래밍', '프로그래밍', '데이터사이언스', '크리에이티브', '크리에이티브', '업무 생산성', '업무 생산성', '프로그래밍', '프로그래밍', '업무 생산성', '업무 생산성', '업무 생산성', '데이터사이언스', '업무 생산성', '업무 생산성', '프로그래밍', '업무 생산성', '업무 생산성', '프로그래밍', '마케팅', '프로그래밍', '부동산/금융', '데이터사이언스', '부동산/금융', '크리에이티브', '마케팅', '마케팅', '프로그래밍', '프로그래밍', '프로그래밍', '프로그래밍', '크리에이티브', '업무 생산성', '프로그래밍', '프로그래밍', '프로그래밍', '프로그래밍', '업무 생산성', '업무 생산성', '프로그래밍', '업무 생산성', '업무 생산성', '프로그래밍', '크리에이티브', '업무 생산성', '크리에이티브', '크리에이티브', '크리에이티브', '프로그래밍', '마케팅', '데이터사이언스', '데이터사이언스', '업무 생산성', '업무 생산성', '데이터사이언스', '마케팅', '크리에이티브', '프로그래밍', '프로그래밍', '크리에이티브', '마케팅', '업무 생산성', '업무 생산성', '업무 생산성', '마케팅', '마케팅', '업무 생산성', '업무 생산성', '업무 생산성', '업무 생산성', '업무 생산성', '업무 생산성', '업무 생산성', '업무 생산성', '업무 생산성', '업무 생산성', '업무 생산성', '업무 생산성', '업무 생산성', '업무 생산성', '프로그래밍', '업무 생산성', '업무 생산성', '업무 생산성', '업무 생산성', '프로그래밍', '프로그래밍', '프로그래밍', '프로그래밍', '프로그래밍', '업무 생산성', '업무 생산성', '업무 생산성', '업무 생산성', '프로그래밍', '프로그래밍', '업무 생산성', '업무 생산성', '크리에이티브', '크리에이티브', '업무 생산성', '업무 생산성', '업무 생산성', '업무 생산성', '업무 생산성', '업무 생산성', '업무 생산성', '업무 생산성', '업무 생산성', '업무 생산성', '업무 생산성', '업무 생산성', '업무 생산성', '업무 생산성', '크리에이티브', '업무 생산성', '업무 생산성', '프로그래밍', '프로그래밍', '업무 생산성', '업무 생산성', '데이터사이언스', '마케팅', '프로그래밍', '프로그래밍', '업무 생산성', '업무 생산성', '업무 생산성', '업무 생산성', '업무 생산성', '업무 생산성', '업무 생산성', '업무 생산성', '업무 생산성', '업무 생산성', '업무 생산성', '업무 생산성', '업무 생산성', '업무 생산성', '업무 생산성', '업무 생산성', '크리에이티브', '크리에이티브', '프로그래밍', '프로그래밍', '업무 생산성', '업무 생산성', '업무 생산성', '프로그래밍', '업무 생산성', '업무 생산성', '업무 생산성', '프로그래밍', '크리에이티브', '크리에이티브', '프로그래밍', '프로그래밍', '프로그래밍', '업무 생산성', '업무 생산성', '업무 생산성', '업무 생산성', '업무 생산성', '업무 생산성', '업무 생산성', '업무 생산성', '업무 생산성', '업무 생산성', '크리에이티브', '업무 생산성', '프로그래밍', '프로그래밍', '프로그래밍', '업무 생산성', '부동산/금융', '업무 생산성', '업무 생산성', '업무 생산성', '프로그래밍', '업무 생산성', '업무 생산성', '업무 생산성', '프로그래밍', '프로그래밍', '프로그래밍', '크리에이티브', '프로그래밍', '크리에이티브', '크리에이티브', '업무 생산성', '업무 생산성', '업무 생산성', '크리에이티브', '업무 생산성', '업무 생산성', '데이터사이언스', '업무 생산성', '업무 생산성', '업무 생산성', '업무 생산성', '업무 생산성', '업무 생산성', '프로그래밍', '프로그래밍', '업무 생산성', '데이터사이언스', '데이터사이언스', '프로그래밍', '프로그래밍', '업무 생산성', '업무 생산성', '업무 생산성', '프로그래밍', '프로그래밍', '업무 생산성', '업무 생산성', '업무 생산성', '업무 생산성', '업무 생산성', '업무 생산성', '업무 생산성', '업무 생산성', '업무 생산성', '업무 생산성', '업무 생산성', '업무 생산성', '부동산/금융', '업무 생산성', '업무 생산성', '프로그래밍', '업무 생산성', '업무 생산성', '마케팅', '프로그래밍', '프로그래밍', '크리에이티브', '프로그래밍', '업무 생산성', '업무 생산성', '업무 생산성', '업무 생산성', '업무 생산성', '업무 생산성', '데이터사이언스', '업무 생산성', '업무 생산성', '업무 생산성', '크리에이티브', '크리에이티브', '프로그래밍', '프로그래밍', '업무 생산성', '업무 생산성', '업무 생산성', '업무 생산성', '크리에이티브', '크리에이티브', '업무 생산성', '프로그래밍', '프로그래밍', '프로그래밍', '프로그래밍', '프로그래밍', '프로그래밍', '프로그래밍', '프로그래밍', '프로그래밍', '업무 생산성', '업무 생산성', '데이터사이언스', '프로그래밍', '크리에이티브', '크리에이티브', '부동산/금융', '업무 생산성', '마케팅', '프로그래밍', '프로그래밍', '업무 생산성', '부동산/금융', '부동산/금융', '크리에이티브', '업무 생산성', '업무 생산성', '업무 생산성', '크리에이티브', '크리에이티브', '업무 생산성', '업무 생산성', '데이터사이언스', '업무 생산성', '업무 생산성', '업무 생산성', '데이터사이언스', '데이터사이언스', '데이터사이언스', '데이터사이언스', '업무 생산성', '업무 생산성', '데이터사이언스', '업무 생산성', '업무 생산성', '데이터사이언스', '업무 생산성', '데이터사이언스', '데이터사이언스', '프로그래밍', '프로그래밍', '프로그래밍', '데이터사이언스', '프로그래밍', '업무 생산성', '크리에이티브', '데이터사이언스', '프로그래밍', '프로그래밍', '프로그래밍', '프로그래밍', '프로그래밍', '프로그래밍', '업무 생산성', '크리에이티브', '크리에이티브', '프로그래밍', '업무 생산성', '업무 생산성', '프로그래밍', '프로그래밍', '프로그래밍', '마케팅', '프로그래밍', '데이터사이언스', '프로그래밍', '프로그래밍', '크리에이티브', '업무 생산성', '업무 생산성', '업무 생산성', '크리에이티브', '크리에이티브', '크리에이티브', '크리에이티브', '데이터사이언스', '데이터사이언스', '프로그래밍', '업무 생산성', '프로그래밍', '크리에이티브', '데이터사이언스', '업무 생산성', '프로그래밍', '업무 생산성', '크리에이티브', '크리에이티브', '업무 생산성', '업무 생산성', '데이터사이언스', '업무 생산성', '프로그래밍', '프로그래밍', '업무 생산성', '프로그래밍', '업무 생산성', '프로그래밍', '프로그래밍', '프로그래밍', '프로그래밍', '마케팅', '데이터사이언스', '프로그래밍', '업무 생산성', '업무 생산성', '업무 생산성', '크리에이티브', '크리에이티브', '업무 생산성', '크리에이티브', '크리에이티브', '데이터사이언스', '데이터사이언스', '프로그래밍', '프로그래밍', '프로그래밍', '업무 생산성', '업무 생산성', '업무 생산성', '업무 생산성', '업무 생산성', '크리에이티브', '크리에이티브', '프로그래밍', '프로그래밍', '데이터사이언스', '데이터사이언스', '크리에이티브', '업무 생산성', '업무 생산성', '업무 생산성', '데이터사이언스', '데이터사이언스', '업무 생산성', '업무 생산성', '데이터사이언스', '크리에이티브', '크리에이티브', '프로그래밍', '프로그래밍', '프로그래밍', '프로그래밍', '프로그래밍', '크리에이티브', '업무 생산성', '프로그래밍', '프로그래밍', '업무 생산성', '크리에이티브', '크리에이티브', '데이터사이언스', '업무 생산성', '업무 생산성', '업무 생산성', '크리에이티브', '프로그래밍', '업무 생산성', '업무 생산성', '업무 생산성', '업무 생산성', '업무 생산성', '업무 생산성', '업무 생산성', '프로그래밍', '업무 생산성', '프로그래밍', '업무 생산성', '업무 생산성', '크리에이티브', '프로그래밍', '데이터사이언스', '프로그래밍', '마케팅', '데이터사이언스', '업무 생산성', '업무 생산성', '업무 생산성', '업무 생산성', '크리에이티브', '프로그래밍', '크리에이티브', '크리에이티브', '크리에이티브', '크리에이티브', '업무 생산성', '크리에이티브', '크리에이티브', '프로그래밍', '프로그래밍', '업무 생산성', '프로그래밍', '크리에이티브', '데이터사이언스', '업무 생산성', '데이터사이언스', '프로그래밍', '마케팅', '데이터사이언스', '프로그래밍', '데이터사이언스', '업무 생산성', '업무 생산성', '프로그래밍', '프로그래밍', '데이터사이언스', '데이터사이언스', '프로그래밍', '프로그래밍', '업무 생산성', '업무 생산성', '크리에이티브', '프로그래밍', '프로그래밍', '마케팅', '업무 생산성', '프로그래밍', '프로그래밍', '프로그래밍', '프로그래밍', '크리에이티브', '업무 생산성', '데이터사이언스', '마케팅', '데이터사이언스', '데이터사이언스', '업무 생산성', '업무 생산성', '업무 생산성', '업무 생산성', '업무 생산성', '프로그래밍', '프로그래밍', '프로그래밍', '데이터사이언스', '프로그래밍', '마케팅', '업무 생산성', '크리에이티브', '프로그래밍', '크리에이티브', '프로그래밍', '업무 생산성', '업무 생산성', '프로그래밍', '크리에이티브', '프로그래밍', '데이터사이언스', '프로그래밍', '프로그래밍', '업무 생산성', '업무 생산성', '프로그래밍', '프로그래밍', '프로그래밍', '데이터사이언스', '데이터사이언스', '프로그래밍', '프로그래밍', '프로그래밍', '마케팅', '프로그래밍', '프로그래밍', '데이터사이언스', '데이터사이언스', '데이터사이언스', '프로그래밍', '프로그래밍', '업무 생산성', '업무 생산성', '크리에이티브', '업무 생산성', '데이터사이언스', '업무 생산성', '프로그래밍', '프로그래밍', '업무 생산성', '프로그래밍', '업무 생산성', '업무 생산성', '업무 생산성', '업무 생산성', '업무 생산성', '업무 생산성', '프로그래밍', '프로그래밍', '프로그래밍', '크리에이티브', '프로그래밍', '크리에이티브', '프로그래밍', '업무 생산성', '업무 생산성', '프로그래밍', '업무 생산성', '업무 생산성', '프로그래밍', '업무 생산성', '업무 생산성', '마케팅', '프로그래밍', '프로그래밍', '데이터사이언스', '데이터사이언스', '데이터사이언스', '프로그래밍', '프로그래밍', '데이터사이언스', '업무 생산성', '업무 생산성', '업무 생산성', '업무 생산성', '프로그래밍', '프로그래밍', '프로그래밍', '프로그래밍', '마케팅', '프로그래밍', '프로그래밍', '프로그래밍', '프로그래밍', '업무 생산성', '업무 생산성', '업무 생산성', '업무 생산성', '업무 생산성', '프로그래밍', '프로그래밍', '프로그래밍', '프로그래밍', '크리에이티브', '크리에이티브', '업무 생산성', '크리에이티브', '업무 생산성', '프로그래밍', '크리에이티브', '업무 생산성', '크리에이티브', '크리에이티브', '크리에이티브', '부동산/금융', '업무 생산성', '크리에이티브', '업무 생산성', '데이터사이언스', '데이터사이언스', '프로그래밍', '업무 생산성', '데이터사이언스', '데이터사이언스', '크리에이티브', '크리에이티브', '크리에이티브', '크리에이티브', '프로그래밍', '업무 생산성', '업무 생산성', '업무 생산성', '크리에이티브', '업무 생산성', '업무 생산성', '데이터사이언스', '프로그래밍', '프로그래밍', '업무 생산성', '업무 생산성', '프로그래밍', '마케팅', '프로그래밍', '크리에이티브', '마케팅', '마케팅', '업무 생산성', '프로그래밍', '프로그래밍', '업무 생산성', '업무 생산성', '업무 생산성', '업무 생산성', '업무 생산성', '프로그래밍', '데이터사이언스', '데이터사이언스', '데이터사이언스', '업무 생산성', '업무 생산성', '크리에이티브', '업무 생산성', '업무 생산성', '업무 생산성', '프로그래밍', '업무 생산성', '업무 생산성', '크리에이티브', '업무 생산성', '업무 생산성', '데이터사이언스', '데이터사이언스', '프로그래밍', '크리에이티브', '크리에이티브', '업무 생산성', '크리에이티브', '업무 생산성', '업무 생산성', '프로그래밍', '프로그래밍', '프로그래밍', '프로그래밍', '업무 생산성', '프로그래밍', '크리에이티브', '프로그래밍', '업무 생산성', '업무 생산성', '프로그래밍', '프로그래밍', '프로그래밍', '업무 생산성', '마케팅', '데이터사이언스', '데이터사이언스', '프로그래밍', '크리에이티브', '프로그래밍', '프로그래밍', '업무 생산성', '업무 생산성', '업무 생산성', '크리에이티브', '크리에이티브', '프로그래밍', '프로그래밍', '프로그래밍', '업무 생산성', '데이터사이언스', '프로그래밍', '크리에이티브', '크리에이티브', '프로그래밍', '업무 생산성', '업무 생산성', '업무 생산성', '업무 생산성', '데이터사이언스', '업무 생산성', '업무 생산성', '프로그래밍', '업무 생산성', '데이터사이언스', '크리에이티브', '마케팅', '크리에이티브', '업무 생산성', '데이터사이언스', '데이터사이언스', '프로그래밍', '마케팅', '마케팅', '업무 생산성', '업무 생산성', '프로그래밍', '업무 생산성', '프로그래밍', '프로그래밍', '크리에이티브', '크리에이티브', '업무 생산성', '업무 생산성', '업무 생산성', '데이터사이언스', '업무 생산성', '부동산/금융', '부동산/금융', '업무 생산성', '데이터사이언스', '데이터사이언스', '데이터사이언스', '데이터사이언스', '데이터사이언스', '프로그래밍', '프로그래밍', '업무 생산성', '크리에이티브', '프로그래밍', '업무 생산성', '프로그래밍', '프로그래밍', '부동산/금융', '업무 생산성', '업무 생산성', '데이터사이언스', '마케팅', '마케팅', '프로그래밍', '크리에이티브', '업무 생산성', '업무 생산성', '업무 생산성', '업무 생산성', '업무 생산성', '데이터사이언스', '데이터사이언스', '데이터사이언스', '데이터사이언스', '프로그래밍', '프로그래밍', '업무 생산성', '업무 생산성', '업무 생산성', '업무 생산성', '데이터사이언스', '프로그래밍', '데이터사이언스', '업무 생산성', '업무 생산성', '업무 생산성', '데이터사이언스', '프로그래밍', '프로그래밍', '업무 생산성', '업무 생산성', '프로그래밍', '프로그래밍', '프로그래밍', '프로그래밍', '크리에이티브', '프로그래밍', '업무 생산성', '업무 생산성', '업무 생산성', '업무 생산성', '업무 생산성', '업무 생산성', '업무 생산성', '업무 생산성', '업무 생산성', '크리에이티브', '크리에이티브', '프로그래밍', '프로그래밍', '크리에이티브', '업무 생산성', '프로그래밍', '프로그래밍', '업무 생산성', '업무 생산성', '업무 생산성', '업무 생산성', '업무 생산성', '업무 생산성', '업무 생산성', '업무 생산성', '프로그래밍', '프로그래밍', '업무 생산성', '업무 생산성', '프로그래밍', '프로그래밍', '업무 생산성', '업무 생산성', '업무 생산성', '크리에이티브', '업무 생산성', '업무 생산성', '업무 생산성', '업무 생산성', '업무 생산성', '데이터사이언스', '크리에이티브', '크리에이티브', '데이터사이언스', '크리에이티브', '크리에이티브', '크리에이티브', '데이터사이언스', '데이터사이언스', '업무 생산성', '업무 생산성', '데이터사이언스', '업무 생산성', '업무 생산성', '크리에이티브', '업무 생산성', '업무 생산성', '크리에이티브', '업무 생산성', '업무 생산성', '업무 생산성', '업무 생산성', '업무 생산성', '업무 생산성', '부동산/금융', '업무 생산성', '업무 생산성', '업무 생산성', '프로그래밍', '프로그래밍', '업무 생산성', '업무 생산성', '업무 생산성', '업무 생산성', '크리에이티브', '프로그래밍', '업무 생산성', '프로그래밍', '프로그래밍', '프로그래밍', '업무 생산성', '업무 생산성', '업무 생산성', '업무 생산성', '업무 생산성', '프로그래밍', '업무 생산성', '업무 생산성', '업무 생산성', '업무 생산성', '크리에이티브', '크리에이티브', '마케팅', '업무 생산성', '프로그래밍', '업무 생산성', '데이터사이언스', '데이터사이언스', '프로그래밍', '프로그래밍', '데이터사이언스', '업무 생산성', '업무 생산성', '업무 생산성', '업무 생산성', '부동산/금융', '부동산/금융', '업무 생산성', '업무 생산성', '업무 생산성', '업무 생산성', '업무 생산성', '업무 생산성', '업무 생산성', '프로그래밍', '업무 생산성', '업무 생산성', '업무 생산성', '데이터사이언스', '마케팅', '프로그래밍', '업무 생산성', '프로그래밍', '데이터사이언스', '업무 생산성', '업무 생산성', '프로그래밍', '업무 생산성', '프로그래밍', '업무 생산성', '업무 생산성', '업무 생산성', '크리에이티브', '크리에이티브', '프로그래밍', '크리에이티브', '데이터사이언스', '프로그래밍', '업무 생산성', '업무 생산성', '프로그래밍', '프로그래밍', '프로그래밍', '업무 생산성', '업무 생산성', '업무 생산성', '업무 생산성', '데이터사이언스', '데이터사이언스', '크리에이티브', '프로그래밍', '프로그래밍', '프로그래밍', '업무 생산성', '마케팅', '업무 생산성', '데이터사이언스', '프로그래밍', '프로그래밍', '업무 생산성', '업무 생산성', '업무 생산성', '업무 생산성', '업무 생산성', '마케팅', '프로그래밍', '프로그래밍', '프로그래밍', '데이터사이언스', '프로그래밍', '데이터사이언스', '프로그래밍', '업무 생산성', '크리에이티브', '데이터사이언스', '프로그래밍', '크리에이티브', '프로그래밍', '데이터사이언스', '업무 생산성', '업무 생산성', '업무 생산성', '데이터사이언스', '크리에이티브', '프로그래밍', '데이터사이언스', '프로그래밍', '프로그래밍', '프로그래밍', '크리에이티브', '업무 생산성', '업무 생산성', '업무 생산성', '마케팅', '업무 생산성', '업무 생산성', '업무 생산성', '업무 생산성', '프로그래밍', '데이터사이언스', '업무 생산성', '프로그래밍', '마케팅', '마케팅', '업무 생산성', '마케팅', '부동산/금융', '데이터사이언스', '데이터사이언스', '프로그래밍', '마케팅', '프로그래밍', '크리에이티브', '크리에이티브', '프로그래밍', '데이터사이언스', '크리에이티브', '업무 생산성', '프로그래밍', '프로그래밍', '데이터사이언스', '프로그래밍', '프로그래밍', '프로그래밍', '프로그래밍', '업무 생산성', '프로그래밍', '마케팅', '프로그래밍', '업무 생산성', '업무 생산성', '크리에이티브', '크리에이티브', '업무 생산성', '크리에이티브', '마케팅', '마케팅', '업무 생산성', '프로그래밍', '프로그래밍', '크리에이티브', '업무 생산성', '크리에이티브', '데이터사이언스', '크리에이티브', '프로그래밍', '프로그래밍', '업무 생산성', '업무 생산성', '크리에이티브', '크리에이티브', '업무 생산성', '업무 생산성', '크리에이티브', '크리에이티브', '업무 생산성', '크리에이티브', '크리에이티브', '업무 생산성', '크리에이티브', '프로그래밍', '업무 생산성', '프로그래밍', '크리에이티브', '업무 생산성', '업무 생산성', '데이터사이언스', '데이터사이언스', '프로그래밍', '프로그래밍', '프로그래밍', '업무 생산성', '업무 생산성', '업무 생산성', '업무 생산성', '프로그래밍', '업무 생산성', '프로그래밍', '업무 생산성', '업무 생산성', '업무 생산성', '프로그래밍', '프로그래밍', '업무 생산성', '프로그래밍', '데이터사이언스', '업무 생산성', '업무 생산성', '프로그래밍', '업무 생산성', '업무 생산성', '업무 생산성', '데이터사이언스', '데이터사이언스', '업무 생산성', '업무 생산성', '업무 생산성', '업무 생산성', '업무 생산성', '크리에이티브', '업무 생산성', '업무 생산성', '크리에이티브', '크리에이티브', '프로그래밍', '업무 생산성', '업무 생산성', '프로그래밍', '부동산/금융', '프로그래밍', '업무 생산성', '업무 생산성', '업무 생산성', '프로그래밍', '업무 생산성', '업무 생산성', '업무 생산성', '프로그래밍', '프로그래밍', '프로그래밍', '업무 생산성', '업무 생산성', '데이터사이언스', '프로그래밍', '프로그래밍', '업무 생산성', '프로그래밍', '업무 생산성', '프로그래밍', '데이터사이언스', '크리에이티브', '업무 생산성', '프로그래밍', '프로그래밍', '업무 생산성', '프로그래밍', '업무 생산성', '크리에이티브', '크리에이티브', '업무 생산성', '업무 생산성', '업무 생산성', '데이터사이언스', '업무 생산성', '업무 생산성', '업무 생산성', '업무 생산성', '업무 생산성', '업무 생산성', '프로그래밍', '업무 생산성', '업무 생산성', '업무 생산성', '크리에이티브', '업무 생산성', '업무 생산성', '업무 생산성', '업무 생산성', '업무 생산성', '데이터사이언스', '데이터사이언스', '업무 생산성', '업무 생산성', '마케팅', '마케팅', '업무 생산성', '업무 생산성', '프로그래밍', '프로그래밍', '프로그래밍', '데이터사이언스', '업무 생산성', '크리에이티브', '마케팅', '마케팅', '마케팅', '업무 생산성', '업무 생산성', '업무 생산성', '데이터사이언스', '크리에이티브', '데이터사이언스', '업무 생산성', '프로그래밍', '업무 생산성', '업무 생산성', '업무 생산성', '크리에이티브', '크리에이티브', '크리에이티브', '업무 생산성', '업무 생산성', '업무 생산성', '프로그래밍', '업무 생산성', '업무 생산성', '프로그래밍', '업무 생산성', '프로그래밍', '업무 생산성', '프로그래밍', '업무 생산성', '업무 생산성', '업무 생산성', '프로그래밍', '마케팅', '마케팅', '업무 생산성', '업무 생산성', '마케팅', '프로그래밍', '업무 생산성', '업무 생산성', '프로그래밍', '프로그래밍', '업무 생산성', '프로그래밍', '데이터사이언스', '프로그래밍', '프로그래밍', '데이터사이언스', '업무 생산성', '업무 생산성', '업무 생산성', '업무 생산성', '크리에이티브', '크리에이티브', '데이터사이언스', '업무 생산성', '크리에이티브', '업무 생산성', '데이터사이언스', '데이터사이언스', '업무 생산성', '프로그래밍', '프로그래밍', '업무 생산성', '업무 생산성', '크리에이티브', '크리에이티브', '프로그래밍', '업무 생산성', '프로그래밍', '업무 생산성', '업무 생산성', '프로그래밍', '프로그래밍', '프로그래밍', '데이터사이언스', '프로그래밍', '업무 생산성', '업무 생산성', '업무 생산성', '크리에이티브', '크리에이티브', '데이터사이언스', '프로그래밍', '업무 생산성', '프로그래밍', '프로그래밍', '업무 생산성', '업무 생산성', '크리에이티브', '업무 생산성', '업무 생산성', '업무 생산성', '업무 생산성', '데이터사이언스', '크리에이티브', '업무 생산성', '업무 생산성', '크리에이티브', '크리에이티브', '크리에이티브', '프로그래밍', '프로그래밍', '업무 생산성', '크리에이티브', '크리에이티브', '크리에이티브', '업무 생산성', '마케팅', '마케팅', '크리에이티브', '크리에이티브', '마케팅', '데이터사이언스', '데이터사이언스', '업무 생산성', '업무 생산성', '업무 생산성', '데이터사이언스', '업무 생산성', '크리에이티브', '크리에이티브', '업무 생산성', '데이터사이언스', '크리에이티브', '업무 생산성', '크리에이티브', '데이터사이언스', '데이터사이언스', '데이터사이언스', '데이터사이언스', '업무 생산성', '업무 생산성', '업무 생산성', '업무 생산성', '업무 생산성', '데이터사이언스', '업무 생산성', '업무 생산성', '크리에이티브', '프로그래밍', '프로그래밍', '크리에이티브', '크리에이티브', '업무 생산성', '업무 생산성', '프로그래밍', '프로그래밍', '업무 생산성', '업무 생산성', '프로그래밍', '업무 생산성', '업무 생산성', '업무 생산성', '업무 생산성', '업무 생산성', '업무 생산성', '크리에이티브', '업무 생산성', '업무 생산성', '크리에이티브', '크리에이티브', '크리에이티브', '크리에이티브', '크리에이티브', '크리에이티브', '업무 생산성', '크리에이티브', '크리에이티브', '업무 생산성', '데이터사이언스', '크리에이티브', '프로그래밍', '프로그래밍', '업무 생산성', '업무 생산성', '마케팅', '업무 생산성', '프로그래밍', '업무 생산성', '업무 생산성', '업무 생산성', '프로그래밍', '크리에이티브', '프로그래밍', '마케팅', '마케팅', '업무 생산성', '업무 생산성', '프로그래밍', '프로그래밍', '크리에이티브', '크리에이티브', '크리에이티브', '데이터사이언스', '업무 생산성', '업무 생산성', '프로그래밍', '프로그래밍', '크리에이티브', '프로그래밍', '프로그래밍', '부동산/금융', '부동산/금융', '데이터사이언스', '데이터사이언스', '데이터사이언스', '업무 생산성', '업무 생산성', '업무 생산성', '데이터사이언스', '데이터사이언스', '프로그래밍', '데이터사이언스', '크리에이티브', '크리에이티브', '크리에이티브', '업무 생산성', '크리에이티브', '크리에이티브', '업무 생산성', '프로그래밍', '업무 생산성', '크리에이티브', '업무 생산성', '프로그래밍', '프로그래밍', '업무 생산성', '업무 생산성', '크리에이티브', '크리에이티브', '업무 생산성', '크리에이티브', '크리에이티브', '크리에이티브', '프로그래밍', '크리에이티브', '업무 생산성', '업무 생산성', '업무 생산성', '업무 생산성', '크리에이티브', '업무 생산성', '업무 생산성', '업무 생산성', '크리에이티브', '업무 생산성', '업무 생산성', '업무 생산성', '업무 생산성', '업무 생산성', '업무 생산성', '업무 생산성', '업무 생산성', '부동산/금융', '데이터사이언스', '업무 생산성', '업무 생산성', '데이터사이언스', '크리에이티브', '크리에이티브', '크리에이티브', '크리에이티브', '크리에이티브', '업무 생산성', '업무 생산성', '업무 생산성', '업무 생산성', '업무 생산성', '업무 생산성', '업무 생산성', '업무 생산성', '업무 생산성', '업무 생산성', '데이터사이언스', '데이터사이언스', '업무 생산성', '업무 생산성', '업무 생산성', '데이터사이언스', '프로그래밍', '업무 생산성', '업무 생산성', '업무 생산성', '부동산/금융', '부동산/금융', '데이터사이언스', '부동산/금융', '업무 생산성', '데이터사이언스', '데이터사이언스', '부동산/금융', '프로그래밍', '프로그래밍', '업무 생산성', '프로그래밍', '데이터사이언스', '데이터사이언스', '업무 생산성', '업무 생산성', '업무 생산성', '크리에이티브', '크리에이티브', '데이터사이언스', '업무 생산성', '데이터사이언스', '업무 생산성', '크리에이티브', '업무 생산성', '데이터사이언스', '크리에이티브', '데이터사이언스', '데이터사이언스', '크리에이티브', '업무 생산성', '데이터사이언스', '크리에이티브', '크리에이티브', '크리에이티브', '프로그래밍', '업무 생산성', '업무 생산성', '크리에이티브', '업무 생산성', '업무 생산성', '업무 생산성', '크리에이티브', '업무 생산성', '마케팅', '크리에이티브', '데이터사이언스', '업무 생산성', '프로그래밍', '마케팅', '업무 생산성', '크리에이티브', '프로그래밍', '프로그래밍', '크리에이티브', '프로그래밍', '업무 생산성', '업무 생산성', '업무 생산성', '업무 생산성', '업무 생산성', '크리에이티브', '업무 생산성', '프로그래밍', '프로그래밍', '크리에이티브', '크리에이티브', '프로그래밍', '업무 생산성', '크리에이티브', '데이터사이언스', '업무 생산성', '업무 생산성', '업무 생산성', '크리에이티브', '업무 생산성', '업무 생산성', '업무 생산성', '업무 생산성', '업무 생산성', '업무 생산성', '업무 생산성', '업무 생산성', '업무 생산성', '크리에이티브', '업무 생산성', '업무 생산성', '업무 생산성', '데이터사이언스', '데이터사이언스', '업무 생산성', '업무 생산성', '업무 생산성', '프로그래밍', '업무 생산성', '크리에이티브', '업무 생산성', '프로그래밍', '프로그래밍', '업무 생산성', '업무 생산성', '프로그래밍', '프로그래밍', '프로그래밍', '업무 생산성', '크리에이티브', '데이터사이언스', '크리에이티브', '업무 생산성', '업무 생산성', '업무 생산성', '크리에이티브', '업무 생산성', '업무 생산성', '업무 생산성', '업무 생산성', '업무 생산성', '업무 생산성', '업무 생산성', '업무 생산성', '업무 생산성', '데이터사이언스', '업무 생산성', '업무 생산성', '업무 생산성', '마케팅', '업무 생산성', '프로그래밍', '업무 생산성', '업무 생산성', '마케팅', '데이터사이언스', '프로그래밍', '데이터사이언스', '업무 생산성', '업무 생산성', '업무 생산성', '데이터사이언스', '데이터사이언스', '업무 생산성', '업무 생산성', '프로그래밍', '크리에이티브', '크리에이티브', '업무 생산성', '부동산/금융', '부동산/금융', '업무 생산성', '업무 생산성', '업무 생산성', '업무 생산성', '크리에이티브', '업무 생산성', '업무 생산성', '크리에이티브', '크리에이티브', '업무 생산성', '데이터사이언스', '데이터사이언스', '업무 생산성', '업무 생산성', '업무 생산성', '업무 생산성', '업무 생산성', '프로그래밍', '프로그래밍', '업무 생산성', '업무 생산성', '업무 생산성', '크리에이티브', '업무 생산성', '업무 생산성', '프로그래밍', '프로그래밍', '업무 생산성', '업무 생산성', '업무 생산성', '업무 생산성', '업무 생산성', '업무 생산성', '프로그래밍', '업무 생산성', '업무 생산성', '업무 생산성', '업무 생산성', '업무 생산성', '업무 생산성', '업무 생산성', '업무 생산성', '크리에이티브', '데이터사이언스', '데이터사이언스', '업무 생산성', '업무 생산성', '크리에이티브', '업무 생산성', '프로그래밍', '업무 생산성', '데이터사이언스', '업무 생산성', '업무 생산성', '업무 생산성', '업무 생산성', '마케팅', '프로그래밍', '프로그래밍', '업무 생산성', '프로그래밍', '업무 생산성', '마케팅', '프로그래밍', '업무 생산성', '업무 생산성', '프로그래밍', '업무 생산성', '업무 생산성', '프로그래밍', '프로그래밍', '크리에이티브', '업무 생산성', '데이터사이언스', '업무 생산성', '업무 생산성', '업무 생산성', '프로그래밍', '업무 생산성', '업무 생산성', '업무 생산성', '프로그래밍', '업무 생산성', '업무 생산성', '업무 생산성', '업무 생산성', '업무 생산성', '데이터사이언스', '업무 생산성', '업무 생산성', '프로그래밍', '데이터사이언스', '프로그래밍', '데이터사이언스', '업무 생산성', '프로그래밍', '프로그래밍', '프로그래밍', '데이터사이언스', '프로그래밍', '프로그래밍', '프로그래밍', '프로그래밍', '업무 생산성', '업무 생산성', '업무 생산성', '프로그래밍', '업무 생산성', '업무 생산성', '업무 생산성', '프로그래밍', '업무 생산성', '크리에이티브', '데이터사이언스', '데이터사이언스', '데이터사이언스', '프로그래밍', '프로그래밍', '업무 생산성', '업무 생산성', '업무 생산성', '업무 생산성', '업무 생산성', '업무 생산성', '업무 생산성', '데이터사이언스', '크리에이티브', '크리에이티브', '크리에이티브', '업무 생산성', '업무 생산성', '업무 생산성', '프로그래밍', '업무 생산성', '업무 생산성', '업무 생산성', '업무 생산성', '업무 생산성', '업무 생산성', '업무 생산성', '업무 생산성', '부동산/금융', '프로그래밍', '프로그래밍', '프로그래밍', '업무 생산성', '업무 생산성', '프로그래밍', '프로그래밍', '업무 생산성', '업무 생산성', '프로그래밍', '프로그래밍', '데이터사이언스', '크리에이티브', '업무 생산성', '프로그래밍', '업무 생산성', '업무 생산성', '업무 생산성', '마케팅', '업무 생산성', '업무 생산성', '업무 생산성', '업무 생산성', '업무 생산성', '업무 생산성', '업무 생산성', '업무 생산성', '업무 생산성', '마케팅', '업무 생산성', '업무 생산성', '업무 생산성', '업무 생산성', '업무 생산성', '업무 생산성', '크리에이티브', '업무 생산성', '업무 생산성', '업무 생산성', '업무 생산성', '프로그래밍', '업무 생산성', '업무 생산성', '데이터사이언스', '업무 생산성', '프로그래밍', '업무 생산성', '업무 생산성', '업무 생산성', '크리에이티브', '업무 생산성', '업무 생산성', '업무 생산성', '업무 생산성', '프로그래밍', '프로그래밍', '프로그래밍', '업무 생산성', '프로그래밍', '업무 생산성', '업무 생산성', '업무 생산성', '업무 생산성', '업무 생산성', '업무 생산성', '프로그래밍', '업무 생산성', '업무 생산성', '업무 생산성', '업무 생산성', '업무 생산성', '프로그래밍', '프로그래밍', '데이터사이언스', '프로그래밍', '업무 생산성', '업무 생산성', '크리에이티브', '업무 생산성', '업무 생산성', '데이터사이언스', '업무 생산성', '업무 생산성', '업무 생산성', '크리에이티브', '업무 생산성', '업무 생산성', '업무 생산성', '업무 생산성', '업무 생산성', '프로그래밍', '프로그래밍', '업무 생산성', '업무 생산성', '업무 생산성', '업무 생산성', '업무 생산성', '데이터사이언스', '데이터사이언스', '데이터사이언스', '데이터사이언스', '프로그래밍', '프로그래밍', '프로그래밍', '크리에이티브', '크리에이티브', '업무 생산성', '프로그래밍', '프로그래밍', '프로그래밍', '업무 생산성', '업무 생산성', '프로그래밍', '데이터사이언스', '업무 생산성', '업무 생산성', '데이터사이언스', '데이터사이언스', '업무 생산성', '프로그래밍', '프로그래밍', '프로그래밍', '프로그래밍', '업무 생산성', '업무 생산성', '업무 생산성', '프로그래밍', '프로그래밍', '데이터사이언스', '데이터사이언스', '업무 생산성', '업무 생산성', '프로그래밍', '업무 생산성', '업무 생산성', '프로그래밍', '업무 생산성', '업무 생산성', '업무 생산성', '프로그래밍', '프로그래밍', '프로그래밍', '프로그래밍', '프로그래밍', '프로그래밍', '업무 생산성', '데이터사이언스', '프로그래밍', '데이터사이언스', '프로그래밍', '업무 생산성', '프로그래밍', '프로그래밍', '프로그래밍', '데이터사이언스', '업무 생산성', '프로그래밍', '크리에이티브', '프로그래밍', '크리에이티브', '프로그래밍', '프로그래밍', '데이터사이언스', '데이터사이언스', '프로그래밍', '프로그래밍', '크리에이티브', '프로그래밍', '데이터사이언스', '업무 생산성', '업무 생산성', '크리에이티브', '프로그래밍', '프로그래밍', '프로그래밍', '프로그래밍', '프로그래밍', '크리에이티브', '프로그래밍', '업무 생산성', '프로그래밍', '업무 생산성', '업무 생산성', '업무 생산성', '업무 생산성', '업무 생산성', '업무 생산성', '프로그래밍', '업무 생산성', '업무 생산성', '크리에이티브', '업무 생산성', '업무 생산성', '업무 생산성', '업무 생산성', '프로그래밍', '업무 생산성', '업무 생산성', '데이터사이언스', '업무 생산성', '업무 생산성', '업무 생산성', '크리에이티브', '크리에이티브', '프로그래밍', '프로그래밍', '업무 생산성', '업무 생산성', '업무 생산성', '업무 생산성', '크리에이티브', '업무 생산성', '업무 생산성', '업무 생산성', '프로그래밍', '데이터사이언스', '프로그래밍', '프로그래밍', '업무 생산성', '업무 생산성', '업무 생산성', '업무 생산성', '업무 생산성', '업무 생산성', '프로그래밍', '프로그래밍', '업무 생산성', '업무 생산성', '크리에이티브', '업무 생산성', '데이터사이언스', '데이터사이언스', '업무 생산성', '업무 생산성', '데이터사이언스', '프로그래밍', '업무 생산성', '업무 생산성', '프로그래밍', '프로그래밍', '업무 생산성', '업무 생산성', '업무 생산성', '업무 생산성', '업무 생산성', '업무 생산성', '데이터사이언스', '데이터사이언스', '업무 생산성', '업무 생산성', '업무 생산성', '업무 생산성', '프로그래밍', '업무 생산성', '업무 생산성', '업무 생산성', '업무 생산성', '업무 생산성', '프로그래밍', '프로그래밍', '데이터사이언스', '데이터사이언스', '마케팅', '업무 생산성', '업무 생산성', '업무 생산성', '데이터사이언스', '데이터사이언스', '업무 생산성', '데이터사이언스', '업무 생산성', '프로그래밍', '프로그래밍', '데이터사이언스', '프로그래밍', '프로그래밍', '업무 생산성', '업무 생산성', '업무 생산성', '크리에이티브', '크리에이티브', '프로그래밍', '업무 생산성', '업무 생산성', '업무 생산성', '프로그래밍', '업무 생산성', '업무 생산성', '프로그래밍', '프로그래밍', '프로그래밍', '업무 생산성', '마케팅', '마케팅', '크리에이티브', '업무 생산성', '업무 생산성', '크리에이티브', '크리에이티브', '크리에이티브', '크리에이티브', '업무 생산성', '크리에이티브', '크리에이티브', '크리에이티브', '마케팅', '업무 생산성', '프로그래밍', '프로그래밍', '프로그래밍', '업무 생산성', '업무 생산성', '업무 생산성', '프로그래밍', '프로그래밍', '프로그래밍', '업무 생산성', '업무 생산성', '업무 생산성', '데이터사이언스', '업무 생산성', '업무 생산성', '프로그래밍', '크리에이티브', '크리에이티브', '프로그래밍', '데이터사이언스', '크리에이티브', '크리에이티브', '크리에이티브', '업무 생산성', '업무 생산성', '데이터사이언스', '업무 생산성', '업무 생산성', '프로그래밍', '업무 생산성', '업무 생산성', '업무 생산성', '데이터사이언스', '데이터사이언스', '업무 생산성', '업무 생산성', '프로그래밍', '크리에이티브', '프로그래밍', '업무 생산성', '업무 생산성', '프로그래밍', '프로그래밍', '크리에이티브', '크리에이티브', '업무 생산성', '업무 생산성', '업무 생산성', '크리에이티브', '크리에이티브', '업무 생산성', '프로그래밍', '업무 생산성', '마케팅', '프로그래밍', '프로그래밍', '크리에이티브', '업무 생산성', '업무 생산성', '업무 생산성', '업무 생산성', '업무 생산성', '업무 생산성', '업무 생산성', '업무 생산성', '업무 생산성', '업무 생산성', '크리에이티브', '업무 생산성', '업무 생산성', '업무 생산성', '업무 생산성', '업무 생산성', '업무 생산성', '업무 생산성', '업무 생산성', '크리에이티브', '업무 생산성', '업무 생산성', '업무 생산성', '업무 생산성', '업무 생산성', '크리에이티브', '크리에이티브', '크리에이티브', '데이터사이언스', '데이터사이언스', '업무 생산성', '업무 생산성', '업무 생산성', '데이터사이언스', '업무 생산성', '업무 생산성', '업무 생산성', '업무 생산성', '업무 생산성', '업무 생산성', '업무 생산성', '업무 생산성', '업무 생산성', '프로그래밍', '업무 생산성', '업무 생산성', '업무 생산성', '업무 생산성', '업무 생산성', '프로그래밍', '프로그래밍', '크리에이티브', '프로그래밍', '크리에이티브', '크리에이티브', '마케팅', '업무 생산성', '프로그래밍', '업무 생산성', '업무 생산성', '크리에이티브', '업무 생산성', '업무 생산성', '프로그래밍', '데이터사이언스', '데이터사이언스', '데이터사이언스', '업무 생산성', '마케팅', '업무 생산성', '업무 생산성', '업무 생산성', '업무 생산성', '업무 생산성', '크리에이티브', '크리에이티브', '업무 생산성', '업무 생산성', '업무 생산성', '업무 생산성', '업무 생산성', '업무 생산성', '업무 생산성', '업무 생산성', '업무 생산성', '데이터사이언스', '데이터사이언스', '업무 생산성', '업무 생산성', '데이터사이언스', '업무 생산성', '데이터사이언스', '업무 생산성', '업무 생산성', '업무 생산성', '업무 생산성', '업무 생산성', '크리에이티브', '크리에이티브', '데이터사이언스', '데이터사이언스', '업무 생산성', '업무 생산성', '업무 생산성', '업무 생산성', '업무 생산성', '업무 생산성', '업무 생산성', '업무 생산성', '프로그래밍', '프로그래밍', '업무 생산성', '데이터사이언스', '프로그래밍', '마케팅', '마케팅', '업무 생산성', '업무 생산성', '프로그래밍', '프로그래밍', '프로그래밍', '업무 생산성', '업무 생산성', '업무 생산성', '업무 생산성', '업무 생산성', '업무 생산성', '업무 생산성', '업무 생산성', '업무 생산성', '업무 생산성', '업무 생산성', '업무 생산성', '업무 생산성', '업무 생산성', '업무 생산성', '업무 생산성', '데이터사이언스', '프로그래밍', '업무 생산성', '업무 생산성', '업무 생산성', '프로그래밍', '업무 생산성', '크리에이티브', '크리에이티브', '업무 생산성', '프로그래밍', '업무 생산성', '데이터사이언스', '업무 생산성', '업무 생산성', '업무 생산성', '업무 생산성', '업무 생산성', '업무 생산성', '업무 생산성', '데이터사이언스', '크리에이티브', '크리에이티브', '크리에이티브', '크리에이티브', '프로그래밍', '프로그래밍', '데이터사이언스', '데이터사이언스', '프로그래밍', '업무 생산성', '업무 생산성', '업무 생산성', '업무 생산성', '업무 생산성', '업무 생산성', '데이터사이언스', '데이터사이언스', '데이터사이언스', '데이터사이언스', '업무 생산성', '업무 생산성', '업무 생산성', '크리에이티브', '프로그래밍', '업무 생산성', '프로그래밍', '업무 생산성', '업무 생산성', '업무 생산성', '업무 생산성', '업무 생산성', '크리에이티브', '크리에이티브', '업무 생산성', '크리에이티브', '데이터사이언스', '업무 생산성', '업무 생산성', '프로그래밍', '데이터사이언스', '데이터사이언스', '프로그래밍', '업무 생산성', '프로그래밍', '데이터사이언스', '데이터사이언스', '프로그래밍', '업무 생산성', '프로그래밍', '업무 생산성', '업무 생산성', '업무 생산성', '업무 생산성', '업무 생산성', '업무 생산성', '마케팅', '데이터사이언스', '데이터사이언스', '크리에이티브', '크리에이티브', '크리에이티브', '업무 생산성', '데이터사이언스', '프로그래밍', '마케팅', '프로그래밍', '프로그래밍', '프로그래밍', '프로그래밍', '업무 생산성', '프로그래밍', '프로그래밍', '프로그래밍', '프로그래밍', '프로그래밍', '프로그래밍', '프로그래밍', '프로그래밍', '데이터사이언스', '데이터사이언스', '마케팅', '마케팅', '프로그래밍', '업무 생산성', '데이터사이언스', '데이터사이언스', '데이터사이언스', '프로그래밍', '업무 생산성', '업무 생산성', '업무 생산성', '업무 생산성', '데이터사이언스', '프로그래밍', '업무 생산성', '업무 생산성', '마케팅', '업무 생산성', '업무 생산성', '업무 생산성', '업무 생산성', '프로그래밍', '프로그래밍', '업무 생산성', '업무 생산성', '업무 생산성', '프로그래밍', '크리에이티브', '프로그래밍', '크리에이티브', '프로그래밍', '프로그래밍', '크리에이티브', '크리에이티브', '프로그래밍', '크리에이티브', '크리에이티브', '프로그래밍', '크리에이티브', '크리에이티브', '크리에이티브', '크리에이티브', '크리에이티브', '업무 생산성', '프로그래밍', '업무 생산성', '업무 생산성', '프로그래밍', '프로그래밍', '크리에이티브', '업무 생산성', '업무 생산성', '업무 생산성', '업무 생산성', '업무 생산성', '업무 생산성', '업무 생산성', '업무 생산성', '업무 생산성', '업무 생산성', '크리에이티브', '업무 생산성', '업무 생산성', '마케팅', '프로그래밍', '업무 생산성', '업무 생산성', '업무 생산성', '마케팅', '마케팅', '업무 생산성', '프로그래밍', '업무 생산성', '업무 생산성', '업무 생산성', '프로그래밍', '프로그래밍', '데이터사이언스', '업무 생산성', '업무 생산성', '마케팅', '데이터사이언스', '데이터사이언스', '업무 생산성', '데이터사이언스', '데이터사이언스', '업무 생산성', '업무 생산성', '업무 생산성', '업무 생산성', '크리에이티브', '크리에이티브', '업무 생산성', '업무 생산성', '데이터사이언스', '크리에이티브', '크리에이티브', '업무 생산성', '마케팅', '마케팅', '데이터사이언스', '데이터사이언스', '업무 생산성', '업무 생산성', '크리에이티브', '업무 생산성', '업무 생산성', '업무 생산성', '업무 생산성', '업무 생산성', '마케팅', '마케팅', '업무 생산성', '업무 생산성', '크리에이티브', '업무 생산성', '업무 생산성', '업무 생산성', '업무 생산성', '업무 생산성', '업무 생산성', '업무 생산성', '업무 생산성', '프로그래밍', '업무 생산성', '업무 생산성', '업무 생산성', '업무 생산성', '업무 생산성', '업무 생산성', '크리에이티브', '프로그래밍', '업무 생산성', '업무 생산성', '업무 생산성', '업무 생산성', '업무 생산성', '업무 생산성', '업무 생산성', '업무 생산성', '프로그래밍', '프로그래밍', '업무 생산성', '업무 생산성', '업무 생산성', '업무 생산성', '업무 생산성', '업무 생산성', '업무 생산성', '크리에이티브', '크리에이티브', '프로그래밍', '프로그래밍', '업무 생산성', '업무 생산성', '데이터사이언스', '프로그래밍', '프로그래밍', '크리에이티브', '업무 생산성', '업무 생산성', '업무 생산성', '업무 생산성', '업무 생산성', '업무 생산성', '업무 생산성', '업무 생산성', '업무 생산성', '프로그래밍', '업무 생산성', '프로그래밍', '프로그래밍', '업무 생산성', '마케팅', '업무 생산성', '데이터사이언스', '업무 생산성', '업무 생산성', '업무 생산성', '업무 생산성', '업무 생산성', '업무 생산성', '업무 생산성', '업무 생산성', '프로그래밍', '업무 생산성', '업무 생산성', '업무 생산성', '업무 생산성', '업무 생산성', '업무 생산성', '업무 생산성', '업무 생산성', '업무 생산성', '업무 생산성', '업무 생산성', '프로그래밍', '업무 생산성', '업무 생산성', '업무 생산성', '업무 생산성', '업무 생산성', '업무 생산성', '업무 생산성', '데이터사이언스', '업무 생산성', '업무 생산성', '업무 생산성', '업무 생산성', '데이터사이언스', '업무 생산성', '업무 생산성', '프로그래밍', '프로그래밍', '데이터사이언스', '데이터사이언스', '업무 생산성', '업무 생산성', '프로그래밍', '업무 생산성', '업무 생산성', '업무 생산성', '업무 생산성', '업무 생산성', '업무 생산성', '업무 생산성', '업무 생산성', '업무 생산성', '업무 생산성', '업무 생산성', '업무 생산성', '업무 생산성', '데이터사이언스', '프로그래밍', '프로그래밍', '데이터사이언스', '데이터사이언스', '업무 생산성', '업무 생산성', '업무 생산성', '프로그래밍', '데이터사이언스', '데이터사이언스', '프로그래밍', '프로그래밍', '업무 생산성', '업무 생산성', '데이터사이언스', '크리에이티브', '업무 생산성', '크리에이티브', '크리에이티브', '마케팅', '업무 생산성', '업무 생산성', '업무 생산성', '크리에이티브', '업무 생산성', '프로그래밍', '업무 생산성', '프로그래밍', '데이터사이언스', '프로그래밍', '업무 생산성', '업무 생산성', '프로그래밍', '데이터사이언스', '업무 생산성', '업무 생산성', '업무 생산성', '업무 생산성', '업무 생산성', '업무 생산성', '업무 생산성', '업무 생산성', '프로그래밍', '업무 생산성', '업무 생산성', '업무 생산성', '업무 생산성', '프로그래밍', '업무 생산성', '업무 생산성', '업무 생산성', '업무 생산성', '데이터사이언스', '업무 생산성', '업무 생산성', '업무 생산성', '업무 생산성', '업무 생산성', '마케팅', '업무 생산성', '프로그래밍', '프로그래밍', '프로그래밍', '프로그래밍', '업무 생산성', '업무 생산성', '업무 생산성', '업무 생산성', '업무 생산성', '업무 생산성', '업무 생산성', '데이터사이언스', '데이터사이언스', '프로그래밍', '프로그래밍', '업무 생산성', '업무 생산성', '업무 생산성', '업무 생산성', '업무 생산성', '크리에이티브', '크리에이티브', '업무 생산성', '업무 생산성', '크리에이티브', '크리에이티브', '업무 생산성', '크리에이티브', '업무 생산성', '업무 생산성', '업무 생산성', '업무 생산성', '업무 생산성', '업무 생산성', '업무 생산성', '업무 생산성', '업무 생산성', '업무 생산성', '크리에이티브', '데이터사이언스', '프로그래밍', '프로그래밍', '프로그래밍', '프로그래밍', '프로그래밍', '업무 생산성', '업무 생산성', '업무 생산성', '데이터사이언스', '업무 생산성', '업무 생산성', '업무 생산성', '업무 생산성', '업무 생산성', '업무 생산성', '업무 생산성', '업무 생산성', '업무 생산성', '업무 생산성', '프로그래밍', '업무 생산성', '업무 생산성', '업무 생산성', '업무 생산성', '업무 생산성', '업무 생산성', '업무 생산성', '데이터사이언스', '데이터사이언스', '업무 생산성', '업무 생산성', '업무 생산성', '업무 생산성', '업무 생산성', '데이터사이언스', '데이터사이언스', '프로그래밍', '업무 생산성', '프로그래밍', '업무 생산성', '업무 생산성', '업무 생산성', '프로그래밍', '프로그래밍', '크리에이티브', '크리에이티브', '업무 생산성', '업무 생산성', '마케팅', '마케팅', '프로그래밍', '업무 생산성', '업무 생산성', '프로그래밍', '프로그래밍', '업무 생산성', '크리에이티브', '크리에이티브', '크리에이티브', '크리에이티브', '크리에이티브', '프로그래밍', '프로그래밍', '업무 생산성', '업무 생산성', '업무 생산성', '업무 생산성', '크리에이티브', '크리에이티브', '업무 생산성', '업무 생산성', '데이터사이언스', '크리에이티브', '업무 생산성', '업무 생산성', '업무 생산성', '업무 생산성', '업무 생산성', '업무 생산성', '프로그래밍', '크리에이티브', '데이터사이언스', '업무 생산성', '업무 생산성', '프로그래밍', '프로그래밍', '프로그래밍', '프로그래밍', '크리에이티브', '업무 생산성', '업무 생산성', '업무 생산성', '업무 생산성', '업무 생산성', '업무 생산성', '업무 생산성', '크리에이티브', '프로그래밍', '프로그래밍', '업무 생산성', '업무 생산성', '업무 생산성', '업무 생산성', '업무 생산성', '업무 생산성', '업무 생산성', '업무 생산성', '업무 생산성', '업무 생산성', '프로그래밍', '프로그래밍', '업무 생산성', '업무 생산성', '업무 생산성', '업무 생산성', '업무 생산성', '업무 생산성', '업무 생산성', '프로그래밍', '프로그래밍', '프로그래밍', '업무 생산성', '업무 생산성', '업무 생산성', '프로그래밍', '마케팅', '업무 생산성', '업무 생산성', '업무 생산성', '업무 생산성', '업무 생산성', '업무 생산성', '크리에이티브', '업무 생산성', '데이터사이언스', '업무 생산성', '업무 생산성', '업무 생산성', '업무 생산성', '프로그래밍', '업무 생산성', '프로그래밍', '프로그래밍', '크리에이티브', '크리에이티브', '업무 생산성', '프로그래밍', '업무 생산성', '업무 생산성', '업무 생산성', '업무 생산성', '업무 생산성', '프로그래밍', '프로그래밍', '프로그래밍', '업무 생산성', '프로그래밍', '업무 생산성', '업무 생산성', '업무 생산성', '프로그래밍', '업무 생산성', '데이터사이언스', '프로그래밍', '업무 생산성', '업무 생산성', '프로그래밍', '업무 생산성', '업무 생산성', '업무 생산성', '업무 생산성', '마케팅', '프로그래밍', '업무 생산성', '크리에이티브', '크리에이티브', '프로그래밍', '마케팅', '업무 생산성', '업무 생산성', '업무 생산성', '업무 생산성', '업무 생산성', '업무 생산성', '업무 생산성', '크리에이티브', '업무 생산성', '업무 생산성', '업무 생산성', '프로그래밍', '업무 생산성', '업무 생산성', '업무 생산성', '데이터사이언스', '업무 생산성', '업무 생산성', '데이터사이언스', '업무 생산성', '프로그래밍', '업무 생산성', '프로그래밍', '업무 생산성', '업무 생산성', '마케팅', '마케팅', '마케팅', '업무 생산성', '업무 생산성', '프로그래밍', '업무 생산성', '업무 생산성', '프로그래밍', '프로그래밍', '업무 생산성', '프로그래밍', '프로그래밍', '업무 생산성', '업무 생산성', '프로그래밍', '데이터사이언스', '마케팅', '프로그래밍', '마케팅', '프로그래밍', '업무 생산성', '데이터사이언스', '프로그래밍', '업무 생산성', '데이터사이언스', '데이터사이언스', '프로그래밍', '업무 생산성', '데이터사이언스', '데이터사이언스', '마케팅', '업무 생산성', '업무 생산성', '프로그래밍', '프로그래밍', '크리에이티브', '업무 생산성', '프로그래밍', '프로그래밍', '프로그래밍', '프로그래밍', '업무 생산성', '업무 생산성', '업무 생산성', '프로그래밍', '업무 생산성', '업무 생산성', '업무 생산성', '업무 생산성', '크리에이티브', '업무 생산성', '업무 생산성', '업무 생산성', '데이터사이언스', '업무 생산성', '업무 생산성', '업무 생산성', '업무 생산성', '업무 생산성', '업무 생산성', '업무 생산성', '업무 생산성', '업무 생산성', '업무 생산성', '업무 생산성', '업무 생산성', '프로그래밍', '프로그래밍', '데이터사이언스', '데이터사이언스', '프로그래밍', '프로그래밍', '마케팅', '크리에이티브', '업무 생산성', '업무 생산성', '프로그래밍', '데이터사이언스', '프로그래밍', '업무 생산성', '마케팅', '프로그래밍', '크리에이티브', '업무 생산성', '프로그래밍', '마케팅', '데이터사이언스', '업무 생산성', '프로그래밍', '업무 생산성', '데이터사이언스', '업무 생산성', '프로그래밍', '업무 생산성', '업무 생산성', '프로그래밍', '프로그래밍', '프로그래밍', '데이터사이언스', '업무 생산성', '프로그래밍', '프로그래밍', '크리에이티브', '데이터사이언스', '크리에이티브', '업무 생산성', '데이터사이언스', '크리에이티브', '크리에이티브', '프로그래밍', '프로그래밍', '프로그래밍', '크리에이티브', '프로그래밍', '프로그래밍', '업무 생산성', '프로그래밍', '프로그래밍', '프로그래밍', '프로그래밍', '프로그래밍', '프로그래밍', '데이터사이언스', '데이터사이언스', '마케팅', '마케팅', '크리에이티브', '프로그래밍', '프로그래밍', '프로그래밍', '업무 생산성', '데이터사이언스', '데이터사이언스', '업무 생산성', '업무 생산성', '데이터사이언스', '데이터사이언스', '업무 생산성', '프로그래밍', '프로그래밍', '프로그래밍', '데이터사이언스', '데이터사이언스', '크리에이티브', '크리에이티브', '프로그래밍', '업무 생산성', '업무 생산성', '데이터사이언스', '데이터사이언스', '프로그래밍', '프로그래밍', '데이터사이언스', '프로그래밍', '프로그래밍', '프로그래밍', '업무 생산성', '업무 생산성', '업무 생산성', '업무 생산성', '업무 생산성', '데이터사이언스', '업무 생산성', '데이터사이언스', '업무 생산성', '업무 생산성', '업무 생산성', '마케팅', '업무 생산성', '업무 생산성', '업무 생산성', '업무 생산성', '업무 생산성', '데이터사이언스', '크리에이티브', '크리에이티브', '업무 생산성', '업무 생산성', '업무 생산성', '업무 생산성', '업무 생산성', '업무 생산성', '업무 생산성', '프로그래밍', '마케팅', '크리에이티브', '업무 생산성', '업무 생산성', '업무 생산성', '프로그래밍', '업무 생산성', '프로그래밍', '마케팅', '크리에이티브', '프로그래밍', '업무 생산성', '업무 생산성', '업무 생산성', '업무 생산성', '크리에이티브', '업무 생산성', '업무 생산성', '업무 생산성', '데이터사이언스', '프로그래밍', '프로그래밍', '업무 생산성', '크리에이티브', '크리에이티브', '데이터사이언스', '마케팅', '데이터사이언스', '마케팅', '프로그래밍', '업무 생산성', '마케팅', '크리에이티브', '크리에이티브', '크리에이티브', '데이터사이언스', '업무 생산성', '업무 생산성', '업무 생산성', '프로그래밍', '업무 생산성', '업무 생산성', '업무 생산성', '프로그래밍', '업무 생산성', '업무 생산성', '업무 생산성', '프로그래밍', '프로그래밍', '프로그래밍', '업무 생산성', '업무 생산성', '크리에이티브', '크리에이티브', '데이터사이언스', '데이터사이언스', '업무 생산성', '업무 생산성', '업무 생산성', '프로그래밍', '프로그래밍', '업무 생산성', '프로그래밍', '마케팅', '데이터사이언스', '업무 생산성', '업무 생산성', '프로그래밍', '업무 생산성', '업무 생산성', '업무 생산성', '업무 생산성', '업무 생산성', '업무 생산성', '마케팅', '업무 생산성', '업무 생산성', '업무 생산성', '업무 생산성', '업무 생산성', '업무 생산성', '업무 생산성', '데이터사이언스', '데이터사이언스', '업무 생산성', '업무 생산성', '프로그래밍', '업무 생산성', '데이터사이언스', '업무 생산성', '업무 생산성', '업무 생산성', '업무 생산성', '프로그래밍', '프로그래밍', '프로그래밍', '크리에이티브', '프로그래밍', '프로그래밍', '업무 생산성', '업무 생산성', '마케팅', '마케팅', '업무 생산성', '업무 생산성', '업무 생산성', '데이터사이언스', '데이터사이언스', '데이터사이언스', '업무 생산성', '업무 생산성', '업무 생산성', '업무 생산성', '프로그래밍', '프로그래밍', '데이터사이언스', '업무 생산성', '데이터사이언스', '업무 생산성', '업무 생산성', '업무 생산성', '데이터사이언스', '데이터사이언스', '프로그래밍', '프로그래밍', '크리에이티브', '업무 생산성', '업무 생산성', '프로그래밍', '프로그래밍', '프로그래밍', '업무 생산성', '업무 생산성', '프로그래밍', '프로그래밍', '프로그래밍', '프로그래밍', '프로그래밍', '프로그래밍', '프로그래밍', '프로그래밍', '프로그래밍', '프로그래밍', '프로그래밍', '업무 생산성', '업무 생산성', '업무 생산성', '업무 생산성', '프로그래밍', '업무 생산성', '프로그래밍', '데이터사이언스', '프로그래밍', '프로그래밍', '업무 생산성', '프로그래밍', '프로그래밍', '업무 생산성', '업무 생산성', '프로그래밍', '프로그래밍', '업무 생산성', '업무 생산성', '업무 생산성', '업무 생산성', '업무 생산성', '프로그래밍', '업무 생산성', '업무 생산성', '업무 생산성', '프로그래밍', '프로그래밍', '업무 생산성', '업무 생산성', '업무 생산성', '업무 생산성', '프로그래밍', '업무 생산성', '프로그래밍', '업무 생산성', '프로그래밍', '프로그래밍', '업무 생산성', '프로그래밍', '마케팅', '마케팅', '마케팅', '마케팅', '마케팅', '마케팅', '마케팅', '프로그래밍', '프로그래밍', '업무 생산성', '데이터사이언스', '데이터사이언스', '업무 생산성', '업무 생산성', '업무 생산성', '업무 생산성', '프로그래밍', '업무 생산성', '업무 생산성', '업무 생산성', '업무 생산성', '업무 생산성', '업무 생산성', '프로그래밍', '프로그래밍', '프로그래밍', '프로그래밍', '업무 생산성', '업무 생산성', '업무 생산성', '프로그래밍', '프로그래밍', '데이터사이언스', '데이터사이언스', '부동산/금융', '업무 생산성', '프로그래밍', '프로그래밍', '마케팅', '프로그래밍', '데이터사이언스', '마케팅', '마케팅', '업무 생산성', '업무 생산성', '마케팅', '업무 생산성', '크리에이티브', '데이터사이언스', '업무 생산성', '데이터사이언스', '데이터사이언스', '업무 생산성', '데이터사이언스', '데이터사이언스', '데이터사이언스', '데이터사이언스', '프로그래밍', '프로그래밍', '업무 생산성', '업무 생산성', '크리에이티브', '프로그래밍', '업무 생산성', '크리에이티브', '프로그래밍', '프로그래밍', '프로그래밍', '프로그래밍', '업무 생산성', '프로그래밍', '데이터사이언스', '데이터사이언스', '업무 생산성', '업무 생산성', '업무 생산성', '프로그래밍', '크리에이티브', '크리에이티브', '프로그래밍', '프로그래밍', '데이터사이언스', '프로그래밍', '프로그래밍', '프로그래밍', '업무 생산성', '업무 생산성', '프로그래밍', '데이터사이언스', '데이터사이언스', '데이터사이언스', '데이터사이언스', '프로그래밍', '프로그래밍', '프로그래밍', '데이터사이언스', '업무 생산성', '업무 생산성', '업무 생산성', '업무 생산성', '데이터사이언스', '업무 생산성', '프로그래밍', '업무 생산성', '업무 생산성', '크리에이티브', '크리에이티브', '프로그래밍', '업무 생산성', '크리에이티브', '크리에이티브', '업무 생산성', '데이터사이언스', '프로그래밍', '프로그래밍', '업무 생산성', '업무 생산성', '업무 생산성', '업무 생산성', '데이터사이언스', '데이터사이언스', '업무 생산성', '업무 생산성', '프로그래밍', '마케팅', '업무 생산성', '크리에이티브', '마케팅', '마케팅', '크리에이티브', '크리에이티브', '프로그래밍', '업무 생산성', '업무 생산성', '업무 생산성', '업무 생산성', '업무 생산성', '프로그래밍', '프로그래밍', '업무 생산성', '업무 생산성', '업무 생산성', '프로그래밍', '부동산/금융', '업무 생산성', '업무 생산성', '업무 생산성', '크리에이티브', '업무 생산성', '프로그래밍', '프로그래밍', '프로그래밍', '업무 생산성', '업무 생산성', '업무 생산성', '업무 생산성', '업무 생산성', '업무 생산성', '업무 생산성', '업무 생산성', '업무 생산성', '크리에이티브', '크리에이티브', '크리에이티브', '프로그래밍', '업무 생산성', '프로그래밍', '프로그래밍', '프로그래밍', '프로그래밍', '업무 생산성', '부동산/금융', '업무 생산성', '프로그래밍', '업무 생산성', '업무 생산성', '데이터사이언스', '데이터사이언스', '업무 생산성', '프로그래밍', '크리에이티브', '크리에이티브', '프로그래밍', '프로그래밍', '프로그래밍', '업무 생산성', '데이터사이언스', '데이터사이언스', '프로그래밍', '프로그래밍', '데이터사이언스', '데이터사이언스', '크리에이티브', '업무 생산성', '부동산/금융', '부동산/금융', '업무 생산성', '데이터사이언스', '데이터사이언스', '크리에이티브', '프로그래밍', '프로그래밍', '업무 생산성', '업무 생산성', '프로그래밍', '크리에이티브', '크리에이티브', '업무 생산성', '업무 생산성', '업무 생산성', '업무 생산성', '프로그래밍', '프로그래밍', '크리에이티브', '크리에이티브', '크리에이티브', '크리에이티브', '업무 생산성', '업무 생산성', '프로그래밍', '업무 생산성', '크리에이티브', '프로그래밍', '데이터사이언스', '데이터사이언스', '업무 생산성', '마케팅', '업무 생산성', '마케팅', '크리에이티브', '업무 생산성', '업무 생산성', '업무 생산성', '업무 생산성', '업무 생산성', '크리에이티브', '업무 생산성', '프로그래밍', '프로그래밍', '프로그래밍', '프로그래밍', '프로그래밍', '업무 생산성', '업무 생산성', '업무 생산성', '업무 생산성', '업무 생산성', '업무 생산성', '업무 생산성', '프로그래밍', '업무 생산성', '데이터사이언스', '프로그래밍', '업무 생산성', '크리에이티브', '업무 생산성', '크리에이티브', '프로그래밍', '프로그래밍', '업무 생산성', '데이터사이언스', '데이터사이언스', '마케팅', '프로그래밍', '프로그래밍', '프로그래밍', '프로그래밍', '업무 생산성', '업무 생산성', '업무 생산성', '업무 생산성', '프로그래밍', '데이터사이언스', '업무 생산성', '업무 생산성', '업무 생산성', '업무 생산성', '업무 생산성', '업무 생산성', '업무 생산성', '업무 생산성', '업무 생산성', '업무 생산성', '업무 생산성', '프로그래밍', '프로그래밍', '프로그래밍', '프로그래밍', '업무 생산성', '크리에이티브', '업무 생산성', '업무 생산성', '프로그래밍', '업무 생산성', '업무 생산성', '데이터사이언스', '업무 생산성', '업무 생산성', '프로그래밍', '업무 생산성', '프로그래밍', '업무 생산성', '크리에이티브', '업무 생산성', '프로그래밍', '마케팅', '크리에이티브', '프로그래밍', '프로그래밍', '프로그래밍', '프로그래밍', '마케팅', '업무 생산성', '업무 생산성', '업무 생산성', '업무 생산성', '업무 생산성', '업무 생산성', '데이터사이언스', '데이터사이언스', '데이터사이언스', '프로그래밍', '프로그래밍', '프로그래밍', '업무 생산성', '업무 생산성', '업무 생산성', '프로그래밍', '크리에이티브', '프로그래밍', '프로그래밍', '데이터사이언스', '크리에이티브', '업무 생산성', '프로그래밍', '프로그래밍', '프로그래밍', '데이터사이언스', '업무 생산성', '업무 생산성', '업무 생산성', '업무 생산성', '업무 생산성', '업무 생산성', '업무 생산성', '업무 생산성', '업무 생산성', '크리에이티브', '업무 생산성', '프로그래밍', '프로그래밍', '마케팅', '프로그래밍', '크리에이티브', '업무 생산성', '업무 생산성', '업무 생산성', '업무 생산성', '프로그래밍', '크리에이티브', '업무 생산성', '업무 생산성', '데이터사이언스', '데이터사이언스', '마케팅', '프로그래밍', '마케팅', '업무 생산성', '업무 생산성', '업무 생산성', '업무 생산성', '업무 생산성', '업무 생산성', '데이터사이언스', '프로그래밍', '프로그래밍', '데이터사이언스', '데이터사이언스', '데이터사이언스', '업무 생산성', '데이터사이언스', '데이터사이언스', '데이터사이언스', '프로그래밍', '업무 생산성', '업무 생산성', '업무 생산성', '업무 생산성', '업무 생산성', '업무 생산성', '업무 생산성', '업무 생산성', '업무 생산성', '프로그래밍', '프로그래밍', '프로그래밍', '프로그래밍', '업무 생산성', '마케팅', '업무 생산성', '프로그래밍', '프로그래밍', '업무 생산성', '프로그래밍', '업무 생산성', '업무 생산성', '업무 생산성', '업무 생산성', '업무 생산성', '업무 생산성', '업무 생산성', '업무 생산성', '업무 생산성', '업무 생산성', '업무 생산성', '업무 생산성', '업무 생산성', '업무 생산성', '업무 생산성', '프로그래밍', '프로그래밍', '프로그래밍', '프로그래밍', '업무 생산성', '프로그래밍', '프로그래밍', '업무 생산성', '업무 생산성', '업무 생산성', '업무 생산성', '업무 생산성', '업무 생산성', '업무 생산성', '업무 생산성', '업무 생산성', '프로그래밍', '업무 생산성', '업무 생산성', '프로그래밍', '업무 생산성', '업무 생산성', '업무 생산성', '프로그래밍', '프로그래밍', '프로그래밍', '프로그래밍', '업무 생산성', '업무 생산성', '업무 생산성', '마케팅', '업무 생산성', '업무 생산성', '마케팅', '마케팅', '마케팅', '마케팅', '프로그래밍', '프로그래밍', '프로그래밍', '업무 생산성', '업무 생산성', '업무 생산성', '데이터사이언스', '업무 생산성', '업무 생산성', '프로그래밍', '마케팅', '프로그래밍', '업무 생산성', '업무 생산성', '프로그래밍', '프로그래밍', '프로그래밍', '데이터사이언스', '업무 생산성', '프로그래밍', '프로그래밍', '크리에이티브', '업무 생산성', '업무 생산성', '프로그래밍', '업무 생산성', '업무 생산성', '업무 생산성', '업무 생산성', '프로그래밍', '프로그래밍', '업무 생산성', '데이터사이언스', '데이터사이언스', '업무 생산성', '데이터사이언스', '데이터사이언스', '업무 생산성', '데이터사이언스', '프로그래밍', '업무 생산성', '업무 생산성', '업무 생산성', '업무 생산성', '업무 생산성', '업무 생산성', '업무 생산성', '업무 생산성', '프로그래밍', '업무 생산성', '업무 생산성', '업무 생산성', '데이터사이언스', '업무 생산성', '업무 생산성', '데이터사이언스', '데이터사이언스', '업무 생산성', '업무 생산성', '업무 생산성', '업무 생산성', '프로그래밍', '프로그래밍', '프로그래밍', '프로그래밍', '업무 생산성', '업무 생산성', '프로그래밍', '크리에이티브', '업무 생산성', '프로그래밍', '프로그래밍', '업무 생산성', '크리에이티브', '크리에이티브', '업무 생산성', '업무 생산성', '업무 생산성', '업무 생산성', '프로그래밍', '업무 생산성', '업무 생산성', '업무 생산성', '업무 생산성', '업무 생산성', '프로그래밍', '프로그래밍', '크리에이티브', '크리에이티브', '프로그래밍', '프로그래밍', '프로그래밍', '프로그래밍', '마케팅', '마케팅', '업무 생산성', '크리에이티브', '업무 생산성', '업무 생산성', '프로그래밍', '업무 생산성', '업무 생산성', '데이터사이언스', '업무 생산성', '업무 생산성', '업무 생산성', '업무 생산성', '업무 생산성', '업무 생산성', '업무 생산성', '크리에이티브', '업무 생산성', '업무 생산성', '업무 생산성', '업무 생산성', '마케팅', '업무 생산성', '업무 생산성', '프로그래밍', '업무 생산성', '데이터사이언스', '데이터사이언스', '데이터사이언스', '데이터사이언스', '데이터사이언스', '크리에이티브', '프로그래밍', '업무 생산성', '프로그래밍', '데이터사이언스', '업무 생산성', '업무 생산성', '업무 생산성', '프로그래밍', '프로그래밍', '프로그래밍', '데이터사이언스', '데이터사이언스', '프로그래밍', '프로그래밍', '데이터사이언스', '데이터사이언스', '프로그래밍', '프로그래밍', '업무 생산성', '업무 생산성', '마케팅', '마케팅', '업무 생산성', '업무 생산성', '업무 생산성', '업무 생산성', '업무 생산성', '업무 생산성', '업무 생산성', '업무 생산성', '업무 생산성', '업무 생산성', '업무 생산성', '마케팅', '프로그래밍', '마케팅', '마케팅', '마케팅', '데이터사이언스', '데이터사이언스', '업무 생산성', '프로그래밍', '프로그래밍', '크리에이티브', '마케팅', '데이터사이언스', '프로그래밍', '프로그래밍', '프로그래밍', '데이터사이언스', '데이터사이언스', '데이터사이언스', '데이터사이언스', '업무 생산성', '업무 생산성', '마케팅', '업무 생산성', '업무 생산성', '업무 생산성', '마케팅', '마케팅', '프로그래밍', '업무 생산성', '업무 생산성', '마케팅', '마케팅', '업무 생산성', '업무 생산성', '업무 생산성', '프로그래밍', '프로그래밍', '프로그래밍', '마케팅', '업무 생산성', '업무 생산성', '업무 생산성', '프로그래밍', '프로그래밍', '프로그래밍', '프로그래밍', '프로그래밍', '업무 생산성', '업무 생산성', '프로그래밍', '프로그래밍', '데이터사이언스', '업무 생산성', '업무 생산성', '데이터사이언스', '업무 생산성', '업무 생산성', '마케팅', '프로그래밍', '크리에이티브', '업무 생산성', '크리에이티브', '업무 생산성', '업무 생산성', '프로그래밍', '프로그래밍', '데이터사이언스', '데이터사이언스', '프로그래밍', '프로그래밍', '업무 생산성', '크리에이티브', '크리에이티브', '업무 생산성', '업무 생산성', '업무 생산성', '업무 생산성', '프로그래밍', '프로그래밍', '업무 생산성', '업무 생산성', '프로그래밍', '프로그래밍', '프로그래밍', '마케팅', '업무 생산성', '데이터사이언스', '프로그래밍', '데이터사이언스', '프로그래밍', '크리에이티브', '크리에이티브', '프로그래밍', '프로그래밍', '프로그래밍', '마케팅', '크리에이티브', '업무 생산성', '업무 생산성', '프로그래밍', '프로그래밍', '데이터사이언스', '프로그래밍', '크리에이티브', '크리에이티브', '크리에이티브', '데이터사이언스', '업무 생산성', '데이터사이언스', '데이터사이언스', '마케팅', '프로그래밍', '업무 생산성', '크리에이티브', '크리에이티브', '데이터사이언스', '데이터사이언스', '크리에이티브', '업무 생산성', '부동산/금융', '데이터사이언스', '데이터사이언스', '업무 생산성', '크리에이티브', '프로그래밍', '크리에이티브', '프로그래밍', '프로그래밍', '프로그래밍', '업무 생산성', '업무 생산성', '업무 생산성', '업무 생산성', '업무 생산성', '데이터사이언스', '데이터사이언스', '업무 생산성', '크리에이티브', '프로그래밍', '프로그래밍', '업무 생산성', '업무 생산성', '업무 생산성', '업무 생산성', '업무 생산성', '프로그래밍', '프로그래밍', '프로그래밍', '프로그래밍', '프로그래밍', '프로그래밍', '업무 생산성', '데이터사이언스', '데이터사이언스', '프로그래밍', '크리에이티브', '업무 생산성', '데이터사이언스', '데이터사이언스', '업무 생산성', '프로그래밍', '업무 생산성', '업무 생산성', '데이터사이언스', '데이터사이언스', '프로그래밍', '프로그래밍', '데이터사이언스', '데이터사이언스', '마케팅', '데이터사이언스', '프로그래밍', '프로그래밍', '프로그래밍', '프로그래밍', '프로그래밍', '마케팅', '프로그래밍', '업무 생산성', '업무 생산성', '프로그래밍', '업무 생산성', '크리에이티브', '프로그래밍', '프로그래밍', '크리에이티브', '데이터사이언스', '프로그래밍', '업무 생산성', '업무 생산성', '프로그래밍', '프로그래밍', '프로그래밍', '크리에이티브', '마케팅', '마케팅', '데이터사이언스', '업무 생산성', '업무 생산성', '업무 생산성', '업무 생산성', '크리에이티브', '크리에이티브', '크리에이티브', '크리에이티브', '크리에이티브', '업무 생산성', '업무 생산성', '업무 생산성', '데이터사이언스', '프로그래밍', '데이터사이언스', '프로그래밍', '프로그래밍', '프로그래밍', '업무 생산성', '업무 생산성', '업무 생산성', '업무 생산성', '업무 생산성', '프로그래밍', '프로그래밍', '크리에이티브', '크리에이티브', '업무 생산성', '데이터사이언스', '데이터사이언스', '업무 생산성', '크리에이티브', '업무 생산성', '업무 생산성', '업무 생산성', '프로그래밍', '데이터사이언스', '데이터사이언스', '프로그래밍', '업무 생산성', '업무 생산성', '프로그래밍', '데이터사이언스', '업무 생산성', '크리에이티브', '크리에이티브', '마케팅', '마케팅', '데이터사이언스', '프로그래밍', '업무 생산성', '프로그래밍', '데이터사이언스', '데이터사이언스', '업무 생산성', '프로그래밍', '업무 생산성', '프로그래밍', '업무 생산성', '크리에이티브', '크리에이티브', '업무 생산성', '업무 생산성', '프로그래밍', '프로그래밍', '프로그래밍', '프로그래밍', '데이터사이언스', '데이터사이언스', '크리에이티브', '프로그래밍', '프로그래밍', '업무 생산성', '업무 생산성', '업무 생산성', '데이터사이언스', '업무 생산성', '업무 생산성', '프로그래밍', '업무 생산성', '업무 생산성', '업무 생산성', '업무 생산성', '프로그래밍', '프로그래밍', '데이터사이언스', '마케팅', '마케팅', '마케팅', '업무 생산성', '업무 생산성', '업무 생산성', '업무 생산성', '데이터사이언스', '업무 생산성', '업무 생산성', '프로그래밍', '프로그래밍', '프로그래밍', '프로그래밍', '프로그래밍', '크리에이티브', '크리에이티브', '마케팅', '업무 생산성', '마케팅', '프로그래밍', '업무 생산성', '업무 생산성', '프로그래밍', '프로그래밍', '데이터사이언스', '업무 생산성', '업무 생산성', '업무 생산성', '업무 생산성', '마케팅', '데이터사이언스', '업무 생산성', '업무 생산성', '업무 생산성', '업무 생산성', '프로그래밍', '부동산/금융', '데이터사이언스', '데이터사이언스', '데이터사이언스', '데이터사이언스', '업무 생산성', '프로그래밍', '데이터사이언스', '업무 생산성', '프로그래밍', '프로그래밍', '업무 생산성', '업무 생산성', '업무 생산성', '프로그래밍', '데이터사이언스', '데이터사이언스', '프로그래밍', '프로그래밍', '업무 생산성', '프로그래밍', '프로그래밍', '업무 생산성', '마케팅', '프로그래밍', '프로그래밍', '프로그래밍', '데이터사이언스', '업무 생산성', '프로그래밍', '프로그래밍', '크리에이티브', '크리에이티브', '데이터사이언스', '업무 생산성', '업무 생산성', '프로그래밍', '업무 생산성', '업무 생산성', '업무 생산성', '크리에이티브', '프로그래밍', '프로그래밍', '업무 생산성', '업무 생산성', '업무 생산성', '업무 생산성', '업무 생산성', '프로그래밍', '업무 생산성', '업무 생산성', '프로그래밍', '프로그래밍', '업무 생산성', '업무 생산성', '업무 생산성', '업무 생산성', '크리에이티브', '크리에이티브', '프로그래밍', '프로그래밍', '업무 생산성', '크리에이티브', '크리에이티브', '크리에이티브', '마케팅', '업무 생산성', '프로그래밍', '프로그래밍', '업무 생산성', '마케팅', '업무 생산성', '프로그래밍', '프로그래밍', '프로그래밍', '업무 생산성', '프로그래밍', '데이터사이언스', '데이터사이언스', '데이터사이언스', '프로그래밍', '프로그래밍', '데이터사이언스', '업무 생산성', '업무 생산성', '프로그래밍', '프로그래밍', '데이터사이언스', '마케팅', '프로그래밍', '프로그래밍', '업무 생산성', '업무 생산성', '데이터사이언스', '데이터사이언스', '업무 생산성', '프로그래밍', '프로그래밍', '프로그래밍', '프로그래밍', '프로그래밍', '업무 생산성', '업무 생산성', '프로그래밍', '프로그래밍', '업무 생산성', '업무 생산성', '업무 생산성', '업무 생산성', '프로그래밍', '업무 생산성', '업무 생산성', '업무 생산성', '업무 생산성', '크리에이티브', '업무 생산성', '업무 생산성', '업무 생산성', '업무 생산성', '업무 생산성', '프로그래밍', '프로그래밍', '프로그래밍', '마케팅', '데이터사이언스', '데이터사이언스', '업무 생산성', '업무 생산성', '업무 생산성', '업무 생산성', '마케팅', '프로그래밍', '업무 생산성', '프로그래밍', '크리에이티브', '업무 생산성', '업무 생산성', '업무 생산성', '업무 생산성', '업무 생산성', '업무 생산성', '데이터사이언스', '데이터사이언스', '데이터사이언스', '업무 생산성', '업무 생산성', '업무 생산성', '프로그래밍', '프로그래밍', '프로그래밍', '업무 생산성', '프로그래밍', '프로그래밍', '프로그래밍', '프로그래밍', '프로그래밍', '프로그래밍', '프로그래밍', '프로그래밍', '업무 생산성', '데이터사이언스', '데이터사이언스', '업무 생산성', '프로그래밍', '프로그래밍', '프로그래밍', '업무 생산성', '크리에이티브', '업무 생산성', '업무 생산성', '업무 생산성', '업무 생산성', '업무 생산성', '업무 생산성', '업무 생산성', '프로그래밍', '프로그래밍', '데이터사이언스', '업무 생산성', '업무 생산성', '크리에이티브', '크리에이티브', '크리에이티브', '프로그래밍', '데이터사이언스', '데이터사이언스', '프로그래밍', '프로그래밍', '데이터사이언스', '데이터사이언스', '데이터사이언스', '업무 생산성', '프로그래밍', '프로그래밍', '업무 생산성', '프로그래밍', '업무 생산성', '업무 생산성', '업무 생산성', '프로그래밍', '프로그래밍', '프로그래밍', '프로그래밍', '업무 생산성', '마케팅', '마케팅', '업무 생산성', '업무 생산성', '업무 생산성', '데이터사이언스', '마케팅', '마케팅', '업무 생산성', '프로그래밍', '프로그래밍', '크리에이티브', '업무 생산성', '프로그래밍', '데이터사이언스', '데이터사이언스', '업무 생산성', '업무 생산성', '업무 생산성', '업무 생산성', '프로그래밍', '프로그래밍', '업무 생산성', '프로그래밍', '프로그래밍', '프로그래밍', '프로그래밍', '데이터사이언스', '프로그래밍', '업무 생산성', '업무 생산성', '업무 생산성', '프로그래밍', '프로그래밍', '업무 생산성', '업무 생산성', '크리에이티브', '크리에이티브', '프로그래밍', '업무 생산성', '업무 생산성', '프로그래밍', '프로그래밍', '업무 생산성', '크리에이티브', '프로그래밍', '프로그래밍', '업무 생산성', '프로그래밍', '업무 생산성', '업무 생산성', '업무 생산성', '업무 생산성', '업무 생산성', '업무 생산성', '업무 생산성', '업무 생산성', '프로그래밍', '크리에이티브', '업무 생산성', '크리에이티브', '데이터사이언스', '업무 생산성', '업무 생산성', '업무 생산성', '업무 생산성', '업무 생산성', '크리에이티브', '마케팅', '크리에이티브', '업무 생산성', '프로그래밍', '프로그래밍', '데이터사이언스', '업무 생산성', '업무 생산성', '업무 생산성', '업무 생산성', '마케팅', '프로그래밍', '업무 생산성', '업무 생산성', '업무 생산성', '업무 생산성', '업무 생산성', '크리에이티브', '프로그래밍', '데이터사이언스', '데이터사이언스', '업무 생산성', '업무 생산성', '업무 생산성', '업무 생산성', '업무 생산성', '프로그래밍', '프로그래밍', '업무 생산성', '프로그래밍', '크리에이티브', '프로그래밍', '프로그래밍', '프로그래밍', '프로그래밍', '프로그래밍', '프로그래밍', '업무 생산성', '업무 생산성', '업무 생산성', '업무 생산성', '프로그래밍', '프로그래밍', '프로그래밍', '업무 생산성', '프로그래밍', '업무 생산성', '업무 생산성', '프로그래밍', '프로그래밍', '마케팅', '프로그래밍', '프로그래밍', '업무 생산성', '업무 생산성', '업무 생산성', '업무 생산성', '업무 생산성', '업무 생산성', '프로그래밍', '프로그래밍', '프로그래밍', '프로그래밍', '프로그래밍', '데이터사이언스', '업무 생산성', '업무 생산성', '업무 생산성', '업무 생산성', '업무 생산성', '크리에이티브', '프로그래밍', '프로그래밍', '프로그래밍', '프로그래밍', '크리에이티브', '마케팅', '프로그래밍', '업무 생산성', '업무 생산성', '프로그래밍', '마케팅', '업무 생산성', '데이터사이언스', '업무 생산성', '업무 생산성', '데이터사이언스', '데이터사이언스', '프로그래밍', '프로그래밍', '프로그래밍', '크리에이티브', '업무 생산성', '프로그래밍', '업무 생산성', '크리에이티브', '크리에이티브', '업무 생산성', '업무 생산성', '업무 생산성', '데이터사이언스', '프로그래밍', '업무 생산성', '프로그래밍', '프로그래밍', '마케팅', '프로그래밍', '데이터사이언스', '크리에이티브', '업무 생산성', '프로그래밍', '프로그래밍', '업무 생산성', '프로그래밍', '프로그래밍', '업무 생산성', '크리에이티브', '크리에이티브', '업무 생산성', '프로그래밍', '데이터사이언스', '업무 생산성', '업무 생산성', '업무 생산성', '업무 생산성', '프로그래밍', '마케팅', '프로그래밍', '크리에이티브', '프로그래밍', '프로그래밍', '프로그래밍', '마케팅', '프로그래밍', '프로그래밍', '업무 생산성', '데이터사이언스', '프로그래밍', '프로그래밍', '프로그래밍', '업무 생산성', '프로그래밍', '프로그래밍', '프로그래밍', '업무 생산성', '업무 생산성', '프로그래밍', '프로그래밍', '마케팅', '크리에이티브', '마케팅', '업무 생산성', '업무 생산성', '프로그래밍', '마케팅', '마케팅', '마케팅', '크리에이티브', '크리에이티브', '업무 생산성', '마케팅', '프로그래밍', '프로그래밍', '프로그래밍', '업무 생산성', '크리에이티브', '업무 생산성', '데이터사이언스', '프로그래밍', '프로그래밍', '업무 생산성', '크리에이티브', '데이터사이언스', '데이터사이언스', '프로그래밍', '프로그래밍', '데이터사이언스', '업무 생산성', '업무 생산성', '크리에이티브', '크리에이티브', '업무 생산성', '크리에이티브', '프로그래밍', '업무 생산성', '업무 생산성', '업무 생산성', '업무 생산성', '업무 생산성', '업무 생산성', '업무 생산성', '프로그래밍', '마케팅', '마케팅', '업무 생산성', '업무 생산성', '프로그래밍', '프로그래밍', '프로그래밍', '프로그래밍', '프로그래밍', '프로그래밍', '크리에이티브', '프로그래밍', '프로그래밍', '마케팅', '마케팅', '마케팅', '데이터사이언스', '프로그래밍', '프로그래밍', '프로그래밍', '데이터사이언스', '데이터사이언스', '프로그래밍', '프로그래밍', '프로그래밍', '프로그래밍', '프로그래밍', '프로그래밍', '프로그래밍', '데이터사이언스', '프로그래밍', '프로그래밍', '프로그래밍', '프로그래밍', '프로그래밍', '프로그래밍', '크리에이티브', '크리에이티브', '프로그래밍', '데이터사이언스', '데이터사이언스', '업무 생산성', '프로그래밍', '프로그래밍', '마케팅', '프로그래밍', '프로그래밍', '업무 생산성', '업무 생산성', '업무 생산성', '프로그래밍', '프로그래밍', '프로그래밍', '업무 생산성', '업무 생산성', '업무 생산성', '업무 생산성', '업무 생산성', '데이터사이언스', '데이터사이언스', '업무 생산성', '업무 생산성', '데이터사이언스', '프로그래밍', '프로그래밍', '업무 생산성', '업무 생산성', '프로그래밍', '업무 생산성', '업무 생산성', '프로그래밍', '프로그래밍', '프로그래밍', '프로그래밍', '프로그래밍', '프로그래밍', '프로그래밍', '프로그래밍', '프로그래밍', '부동산/금융', '업무 생산성', '크리에이티브', '업무 생산성', '업무 생산성', '마케팅', '프로그래밍', '프로그래밍', '프로그래밍', '프로그래밍', '크리에이티브', '크리에이티브', '업무 생산성', '데이터사이언스', '프로그래밍', '업무 생산성', '프로그래밍', '업무 생산성', '프로그래밍', '프로그래밍', '크리에이티브', '프로그래밍', '데이터사이언스', '데이터사이언스', '크리에이티브', '업무 생산성', '프로그래밍', '크리에이티브', '업무 생산성', '업무 생산성', '프로그래밍', '프로그래밍', '프로그래밍', '프로그래밍', '프로그래밍', '마케팅', '마케팅', '프로그래밍', '데이터사이언스', '프로그래밍', '프로그래밍', '크리에이티브', '크리에이티브', '프로그래밍', '프로그래밍', '데이터사이언스', '프로그래밍', '데이터사이언스', '마케팅', '마케팅', '프로그래밍', '업무 생산성', '업무 생산성', '프로그래밍', '데이터사이언스', '마케팅', '마케팅', '프로그래밍', '프로그래밍', '프로그래밍', '업무 생산성', '업무 생산성', '업무 생산성', '크리에이티브', '크리에이티브', '프로그래밍', '프로그래밍', '프로그래밍', '크리에이티브', '크리에이티브', '프로그래밍', '업무 생산성', '업무 생산성', '업무 생산성', '마케팅', '프로그래밍', '프로그래밍', '크리에이티브', '업무 생산성', '업무 생산성', '마케팅', '데이터사이언스', '업무 생산성', '업무 생산성', '프로그래밍', '프로그래밍', '마케팅', '마케팅', '마케팅', '마케팅', '마케팅', '프로그래밍', '크리에이티브', '크리에이티브', '프로그래밍', '프로그래밍', '프로그래밍', '크리에이티브', '프로그래밍', '프로그래밍', '프로그래밍', '업무 생산성', '프로그래밍', '크리에이티브', '업무 생산성', '업무 생산성', '업무 생산성', '업무 생산성', '프로그래밍', '프로그래밍', '프로그래밍', '업무 생산성', '업무 생산성', '크리에이티브', '업무 생산성', '데이터사이언스', '데이터사이언스', '프로그래밍', '마케팅', '프로그래밍', '데이터사이언스', '프로그래밍', '크리에이티브', '프로그래밍', '크리에이티브', '크리에이티브', '크리에이티브', '크리에이티브', '마케팅', '프로그래밍', '업무 생산성', '업무 생산성', '프로그래밍', '프로그래밍', '프로그래밍', '데이터사이언스', '프로그래밍', '프로그래밍', '마케팅', '프로그래밍', '프로그래밍', '프로그래밍', '프로그래밍', '크리에이티브', '업무 생산성', '크리에이티브', '데이터사이언스', '크리에이티브', '마케팅', '업무 생산성', '업무 생산성', '데이터사이언스', '데이터사이언스', '업무 생산성', '크리에이티브', '크리에이티브', '프로그래밍', '마케팅', '마케팅', '데이터사이언스', '크리에이티브', '프로그래밍', '데이터사이언스', '프로그래밍', '크리에이티브', '크리에이티브', '데이터사이언스', '크리에이티브', '데이터사이언스', '데이터사이언스', '프로그래밍', '프로그래밍', '프로그래밍', '프로그래밍', '프로그래밍', '마케팅', '데이터사이언스', '마케팅', '프로그래밍', '업무 생산성', '프로그래밍', '크리에이티브', '크리에이티브', '데이터사이언스', '데이터사이언스', '데이터 사이언스', '데이터 사이언스', '업무 생산성', '업무 생산성', '비즈니스', '비즈니스', '마케팅', '마케팅', '데이터사이언스', '프로그래밍', '프로그래밍', '프로그래밍', '데이터사이언스', '프로그래밍', '데이터 사이언스', '데이터 사이언스', '비즈니스', '비즈니스', '크리에이티브', '크리에이티브', '데이터 사이언스', '프로그래밍', '프로그래밍', '데이터 사이언스', '데이터 사이언스', '크리에이티브', '프로그래밍', '프로그래밍', '비즈니스', '부동산/금융', '부동산/금융', '크리에이티브', '비즈니스', '비즈니스', '크리에이티브', '업무 생산성', '업무 생산성', '마케팅', '데이터 사이언스', '비즈니스', '업무 생산성', '업무 생산성', '비즈니스', '프로그래밍', '비즈니스', '마케팅', '마케팅', '마케팅', '크리에이티브', '프로그래밍', '업무 생산성', '크리에이티브', '크리에이티브', '크리에이티브', '비즈니스', '데이터사이언스', '데이터사이언스', '프로그래밍', '프로그래밍', '크리에이티브', '데이터사이언스', '업무 생산성', '프로그래밍', '업무 생산성', '프로그래밍', '프로그래밍', '마케팅', '마케팅', '데이터사이언스', '프로그래밍', '업무 생산성', '마케팅', '업무 생산성', '프로그래밍', '데이터사이언스', '크리에이티브', '크리에이티브', '프로그래밍', '프로그래밍', '프로그래밍', '부동산/금융', '부동산/금융', '프로그래밍', '프로그래밍', '프로그래밍', '크리에이티브', '프로그래밍', '프로그래밍', '마케팅', '크리에이티브', '크리에이티브', '업무 생산성', '업무 생산성', '업무 생산성', '업무 생산성', '데이터사이언스', '프로그래밍', '마케팅', '프로그래밍', '프로그래밍', '프로그래밍', '데이터사이언스', '업무 생산성', '데이터사이언스', '마케팅', '데이터사이언스', '데이터사이언스', '마케팅', '데이터사이언스', '데이터사이언스', '데이터사이언스', '데이터사이언스', '데이터사이언스', '업무 생산성', '크리에이티브', '데이터사이언스', '데이터사이언스', '마케팅', '업무 생산성', '업무 생산성', '마케팅', '업무 생산성', '업무 생산성', '마케팅', '지식콘텐츠', '크리에이티브', '프로그래밍', '프로그래밍', '데이터사이언스', '업무 생산성', '업무 생산성', '프로그래밍', '마케팅', '업무 생산성', '업무 생산성', '프로그래밍', '프로그래밍', '프로그래밍', '프로그래밍', '프로그래밍', '프로그래밍', '프로그래밍', '업무 생산성', '업무 생산성', '업무 생산성', '업무 생산성', '업무 생산성', '업무 생산성', '업무 생산성', '업무 생산성', '프로그래밍', '프로그래밍', '데이터사이언스', '데이터사이언스', '데이터사이언스', '업무 생산성', '업무 생산성', '업무 생산성', '부동산/금융', '프로그래밍', '프로그래밍', '업무 생산성', '업무 생산성', '크리에이티브', '크리에이티브', '업무 생산성', '업무 생산성', '프로그래밍', '프로그래밍', '데이터사이언스', '업무 생산성', '데이터사이언스', '업무 생산성', '프로그래밍', '프로그래밍', '크리에이티브', '업무 생산성', '업무 생산성', '프로그래밍', '데이터사이언스', '데이터사이언스', '크리에이티브', '크리에이티브', '마케팅', '프로그래밍', '크리에이티브', '업무 생산성', '크리에이티브', '데이터사이언스', '데이터사이언스', '프로그래밍', '프로그래밍', '데이터사이언스', '데이터사이언스', '데이터사이언스', '크리에이티브', '프로그래밍', '업무 생산성', '부동산/금융', '마케팅', '업무 생산성', '업무 생산성', '크리에이티브', '크리에이티브', '부동산/금융', '데이터사이언스', '데이터사이언스', '마케팅', '마케팅', '업무 생산성', '크리에이티브', '업무 생산성', '크리에이티브', '업무 생산성', '프로그래밍', '업무 생산성', '업무 생산성', '업무 생산성', '프로그래밍', '크리에이티브', '크리에이티브', '업무 생산성', '프로그래밍', '크리에이티브', '크리에이티브', '업무 생산성', '프로그래밍', '크리에이티브', '프로그래밍', '업무 생산성', '업무 생산성', '크리에이티브', '마케팅', '크리에이티브', '업무 생산성', '크리에이티브', '프로그래밍', '크리에이티브', '업무 생산성', '업무 생산성', '업무 생산성', '마케팅', '업무 생산성', '업무 생산성', '데이터사이언스', '크리에이티브', '크리에이티브', '크리에이티브', '업무 생산성', '업무 생산성', '크리에이티브', '프로그래밍', '프로그래밍', '크리에이티브', '업무 생산성', '업무 생산성', '업무 생산성', '업무 생산성', '부동산/금융', '데이터사이언스', '데이터사이언스', '프로그래밍', '프로그래밍', '업무 생산성', '프로그래밍', '크리에이티브', '크리에이티브', '크리에이티브', '프로그래밍', '크리에이티브', '프로그래밍', '프로그래밍', '마케팅', '데이터사이언스', '마케팅', '프로그래밍', '마케팅', '데이터사이언스', '크리에이티브', '프로그래밍', '크리에이티브', '데이터사이언스', '프로그래밍', '프로그래밍', '업무 생산성', '업무 생산성', '프로그래밍', '프로그래밍', '데이터사이언스', '프로그래밍', '업무 생산성', '업무 생산성', '업무 생산성', '크리에이티브', '프로그래밍', '프로그래밍', '크리에이티브', '마케팅', '프로그래밍', '프로그래밍', '업무 생산성', '프로그래밍', '프로그래밍', '프로그래밍', '데이터사이언스', '업무 생산성', '프로그래밍', '프로그래밍', '데이터사이언스', '데이터사이언스', '프로그래밍', '마케팅', '데이터사이언스', '마케팅', '마케팅', '마케팅', '지식콘텐츠', '지식콘텐츠', '업무 생산성', '크리에이티브', '크리에이티브', '크리에이티브', '크리에이티브', '크리에이티브', '크리에이티브', '크리에이티브', '데이터사이언스', '업무 생산성', '데이터사이언스', '업무 생산성', '업무 생산성', '데이터사이언스', '프로그래밍', '마케팅', '마케팅', '프로그래밍', '프로그래밍', '데이터사이언스', '업무 생산성', '프로그래밍', '프로그래밍', '프로그래밍', '프로그래밍', '프로그래밍', '데이터사이언스', '마케팅', '마케팅', '크리에이티브', '프로그래밍', '프로그래밍', '프로그래밍', '데이터사이언스', '업무 생산성', '크리에이티브', '크리에이티브', '프로그래밍', '데이터사이언스', '크리에이티브', '크리에이티브', '프로그래밍', '프로그래밍', '업무 생산성', '데이터사이언스', '데이터사이언스', '업무 생산성', '크리에이티브', '프로그래밍', '프로그래밍', '업무 생산성', '데이터사이언스', '데이터사이언스', '데이터사이언스', '크리에이티브', '마케팅', '프로그래밍', '마케팅', '크리에이티브', '데이터사이언스', '데이터사이언스', '데이터사이언스', '데이터사이언스', '데이터사이언스', '데이터사이언스', '데이터사이언스', '데이터사이언스', '크리에이티브', '프로그래밍', '크리에이티브', '프로그래밍', '프로그래밍', '프로그래밍', '업무 생산성', '크리에이티브', '크리에이티브', '데이터사이언스', '크리에이티브', '업무 생산성', '업무 생산성', '업무 생산성', '업무 생산성', '프로그래밍', '업무 생산성', '데이터사이언스', '데이터사이언스', '크리에이티브', '데이터사이언스', '데이터사이언스', '업무 생산성', '크리에이티브', '크리에이티브', '프로그래밍', '프로그래밍', '프로그래밍', '프로그래밍', '프로그래밍', '데이터사이언스', '데이터사이언스', '데이터사이언스', '크리에이티브', '업무 생산성', '업무 생산성', '크리에이티브', '크리에이티브', '업무 생산성', '업무 생산성', '업무 생산성', '부동산/금융', '부동산/금융', '데이터사이언스', '데이터사이언스', '프로그래밍', '프로그래밍', '프로그래밍', '데이터사이언스', '업무 생산성', '업무 생산성', '업무 생산성', '데이터사이언스', '데이터사이언스', '데이터사이언스', '데이터사이언스', '데이터사이언스', '업무 생산성', '업무 생산성', '마케팅', '프로그래밍', '데이터사이언스', '크리에이티브', '프로그래밍', '크리에이티브', '데이터사이언스', '프로그래밍', '업무 생산성', '데이터사이언스', '업무 생산성', '업무 생산성', '프로그래밍', '프로그래밍', '데이터사이언스', '프로그래밍', '프로그래밍', '업무 생산성', '크리에이티브', '크리에이티브', '업무 생산성', '크리에이티브', '프로그래밍', '데이터사이언스', '업무 생산성', '업무 생산성', '데이터사이언스', '업무 생산성', '데이터사이언스', '프로그래밍', '프로그래밍', '업무 생산성', '데이터사이언스', '프로그래밍', '프로그래밍', '프로그래밍', '마케팅', '프로그래밍', '프로그래밍', '데이터사이언스', '데이터사이언스', '업무 생산성', '업무 생산성', '데이터사이언스', '데이터사이언스', '데이터사이언스', '데이터사이언스', '프로그래밍', '마케팅', '마케팅', '크리에이티브', '크리에이티브', '크리에이티브', '데이터사이언스', '데이터사이언스', '업무 생산성', '프로그래밍', '업무 생산성', '업무 생산성', '업무 생산성', '업무 생산성', '마케팅', '마케팅', '프로그래밍', '프로그래밍', '데이터사이언스', '데이터사이언스', '크리에이티브', '크리에이티브', '프로그래밍', '크리에이티브', '크리에이티브', '크리에이티브', '크리에이티브', '크리에이티브', '데이터사이언스', '데이터사이언스', '업무 생산성', '마케팅', '크리에이티브', '데이터사이언스', '업무 생산성', '업무 생산성', '데이터사이언스', '프로그래밍', '데이터사이언스', '업무 생산성', '업무 생산성', '프로그래밍', '크리에이티브', '크리에이티브', '크리에이티브', '부동산/금융', '업무 생산성', '업무 생산성', '크리에이티브', '데이터사이언스', '프로그래밍', '데이터사이언스', '크리에이티브', '크리에이티브', '업무 생산성', '업무 생산성', '프로그래밍', '프로그래밍', '마케팅', '데이터사이언스', '크리에이티브', '프로그래밍', '프로그래밍', '마케팅', '마케팅', '크리에이티브', '크리에이티브', '프로그래밍', '업무 생산성', '업무 생산성', '데이터사이언스', '프로그래밍', '크리에이티브', '데이터사이언스', '데이터사이언스', '업무 생산성', '업무 생산성', '업무 생산성', '프로그래밍', '데이터사이언스', '업무 생산성', '업무 생산성', '크리에이티브', '크리에이티브', '데이터사이언스', '데이터사이언스', '크리에이티브', '업무 생산성', '데이터사이언스', '업무 생산성', '데이터사이언스', '업무 생산성', '업무 생산성', '프로그래밍', '업무 생산성', '지식콘텐츠', '데이터사이언스', '데이터사이언스', '프로그래밍', '데이터사이언스', '데이터사이언스', '업무 생산성', '마케팅', '마케팅', '프로그래밍', '프로그래밍', '프로그래밍', '부동산/금융', '업무 생산성', '데이터사이언스', '업무 생산성', '업무 생산성', '업무 생산성', '업무 생산성', '프로그래밍', '프로그래밍', '업무 생산성', '데이터사이언스', '데이터사이언스', '업무 생산성', '업무 생산성', '프로그래밍', '업무 생산성', '부동산/금융', '프로그래밍', '프로그래밍', '프로그래밍', '프로그래밍', '부동산/금융', '업무 생산성', '프로그래밍', '데이터사이언스', '데이터사이언스', '프로그래밍', '크리에이티브', '크리에이티브', '프로그래밍', '프로그래밍', '프로그래밍', '업무 생산성', '업무 생산성', '마케팅', '마케팅', '업무 생산성', '프로그래밍', '마케팅', '업무 생산성', '크리에이티브', '업무 생산성', '업무 생산성', '크리에이티브', '크리에이티브', '부동산/금융', '부동산/금융', '크리에이티브', '크리에이티브', '크리에이티브', '업무 생산성', '크리에이티브', '데이터사이언스', '데이터사이언스', '업무 생산성', '프로그래밍', '업무 생산성', '부동산/금융', '데이터사이언스', '데이터사이언스', '프로그래밍', '업무 생산성', '프로그래밍', '데이터사이언스', '데이터사이언스', '마케팅', '마케팅', '프로그래밍', '프로그래밍', '프로그래밍', '프로그래밍', '데이터사이언스', '데이터사이언스', '프로그래밍', '크리에이티브', '크리에이티브', '크리에이티브', '크리에이티브', '크리에이티브', '프로그래밍', '데이터사이언스', '프로그래밍', '프로그래밍', '프로그래밍', '크리에이티브', '프로그래밍', '데이터사이언스', '마케팅', '데이터사이언스', '크리에이티브', '데이터사이언스', '마케팅', '마케팅', '프로그래밍', '프로그래밍', '업무 생산성', '업무 생산성', '업무 생산성', '마케팅', '마케팅', '마케팅', '크리에이티브', '마케팅', '업무 생산성', '업무 생산성', '크리에이티브', '크리에이티브', '마케팅', '업무 생산성', '지식콘텐츠', '마케팅', '프로그래밍', '프로그래밍', '프로그래밍', '프로그래밍', '부동산/금융', '프로그래밍', '프로그래밍', '프로그래밍', '프로그래밍', '크리에이티브', '크리에이티브', '프로그래밍', '프로그래밍', '프로그래밍', '마케팅', '프로그래밍', '프로그래밍', '프로그래밍', '마케팅', '마케팅', '프로그래밍', '크리에이티브', '크리에이티브', '업무 생산성', '프로그래밍', '부동산/금융', '프로그래밍', '프로그래밍', '프로그래밍', '프로그래밍', '부동산/금융', '부동산/금융', '크리에이티브', '크리에이티브', '업무 생산성', '데이터사이언스', '마케팅', '프로그래밍', '데이터사이언스', '데이터사이언스', '업무 생산성', '업무 생산성', '데이터사이언스', '데이터사이언스', '마케팅', '크리에이티브', '프로그래밍', '프로그래밍', '마케팅', '크리에이티브', '프로그래밍', '프로그래밍', '마케팅', '마케팅', '프로그래밍', '마케팅', '마케팅', '프로그래밍', '프로그래밍', '프로그래밍', '부동산/금융', '업무 생산성', '프로그래밍', '프로그래밍', '데이터사이언스', '업무 생산성', '프로그래밍', '프로그래밍', '프로그래밍', '프로그래밍', '프로그래밍', '마케팅', '프로그래밍', '프로그래밍', '데이터사이언스', '프로그래밍', '프로그래밍', '크리에이티브', '프로그래밍', '데이터사이언스', '업무 생산성', '데이터사이언스', '크리에이티브', '프로그래밍', '프로그래밍', '프로그래밍', '프로그래밍', '부동산/금융', '부동산/금융', '데이터사이언스', '크리에이티브', '크리에이티브', '마케팅', '마케팅', '크리에이티브', '크리에이티브', '프로그래밍', '크리에이티브', '데이터사이언스', '크리에이티브', '데이터사이언스', '마케팅', '마케팅', '데이터사이언스', '크리에이티브', '프로그래밍', '크리에이티브', '크리에이티브', '크리에이티브', '업무 생산성', '업무 생산성', '업무 생산성', '크리에이티브', '프로그래밍', '데이터사이언스', '크리에이티브', '크리에이티브', '프로그래밍', '크리에이티브', '크리에이티브', '업무 생산성', '크리에이티브', '크리에이티브', '크리에이티브', '업무 생산성', '크리에이티브', '부동산/금융', '크리에이티브', '프로그래밍', '데이터사이언스', '데이터사이언스', '데이터사이언스', '크리에이티브', '크리에이티브', '크리에이티브', '크리에이티브', '크리에이티브', '크리에이티브', '프로그래밍', '프로그래밍', '마케팅', '크리에이티브', '프로그래밍', '프로그래밍', '크리에이티브', '프로그래밍', '업무 생산성', '프로그래밍', '크리에이티브', '업무 생산성', '업무 생산성', '프로그래밍', '데이터사이언스', '업무 생산성', '업무 생산성', '데이터사이언스', '프로그래밍', '프로그래밍', '프로그래밍', '크리에이티브', '크리에이티브', '프로그래밍', '프로그래밍', '프로그래밍', '데이터사이언스', '프로그래밍', '마케팅', '데이터사이언스', '마케팅', '데이터사이언스', '데이터사이언스', '데이터사이언스', '데이터사이언스', '데이터사이언스', '업무 생산성', '업무 생산성', '데이터사이언스', '데이터사이언스', '데이터사이언스', '데이터사이언스', '프로그래밍', '업무 생산성', '마케팅', '마케팅', '데이터사이언스', '프로그래밍', '지식콘텐츠', '지식콘텐츠', '프로그래밍', '데이터사이언스', '업무 생산성', '크리에이티브', '데이터사이언스', '업무 생산성', '크리에이티브', '업무 생산성', '프로그래밍', '데이터사이언스', '업무 생산성', '크리에이티브', '업무 생산성', '업무 생산성', '마케팅', '프로그래밍', '프로그래밍', '마케팅', '데이터사이언스', '데이터사이언스', '크리에이티브', '지식콘텐츠', '프로그래밍', '프로그래밍', '크리에이티브', '부동산/금융', '프로그래밍', '프로그래밍', '데이터사이언스', '프로그래밍', '데이터사이언스', '데이터사이언스', '데이터사이언스', '데이터사이언스', '마케팅', '데이터사이언스', '데이터사이언스', '마케팅', '프로그래밍', '프로그래밍', '프로그래밍', '프로그래밍', '마케팅', '프로그래밍', '업무 생산성', '데이터사이언스', '프로그래밍', '크리에이티브', '데이터사이언스', '프로그래밍', '업무 생산성', '프로그래밍', '데이터사이언스', '데이터사이언스', '마케팅', '프로그래밍', '프로그래밍', '프로그래밍', '마케팅', '크리에이티브', '크리에이티브', '크리에이티브', '업무 생산성', '프로그래밍', '프로그래밍', '마케팅', '마케팅', '업무 생산성', '업무 생산성', '크리에이티브', '크리에이티브', '데이터사이언스', '업무 생산성', '프로그래밍', '프로그래밍', '크리에이티브', '크리에이티브', '데이터사이언스', '데이터사이언스', '크리에이티브', '크리에이티브', '프로그래밍', '프로그래밍', '업무 생산성', '데이터사이언스', '데이터사이언스', '데이터사이언스', '프로그래밍', '마케팅', '데이터사이언스', '크리에이티브', '업무 생산성', '크리에이티브', '업무 생산성', '업무 생산성', '프로그래밍', '업무 생산성', '업무 생산성', '프로그래밍', '업무 생산성', '업무 생산성', '업무 생산성', '업무 생산성', '프로그래밍', '프로그래밍', '프로그래밍', '프로그래밍', '업무 생산성', '프로그래밍', '프로그래밍', '프로그래밍', '부동산/금융', '데이터사이언스', '데이터사이언스', '데이터사이언스', '크리에이티브', '크리에이티브', '지식콘텐츠', '프로그래밍', '데이터사이언스', '데이터사이언스', '데이터사이언스', '크리에이티브', '프로그래밍', '프로그래밍', '마케팅', '업무 생산성', '업무 생산성', '프로그래밍', '크리에이티브', '업무 생산성', '데이터사이언스', '업무 생산성', '프로그래밍', '프로그래밍', '크리에이티브', '크리에이티브', '업무 생산성', '업무 생산성', '프로그래밍', '데이터사이언스', '데이터사이언스', '프로그래밍', '프로그래밍', '데이터사이언스', '프로그래밍', '마케팅', '마케팅', '업무 생산성', '업무 생산성', '업무 생산성', '업무 생산성', '업무 생산성', '업무 생산성', '프로그래밍', '프로그래밍', '크리에이티브', '데이터사이언스', '데이터사이언스', '크리에이티브', '업무 생산성', '프로그래밍', '크리에이티브', '프로그래밍', '프로그래밍', '프로그래밍', '프로그래밍', '프로그래밍', '데이터사이언스', '업무 생산성', '업무 생산성', '업무 생산성', '데이터사이언스', '부동산/금융', '데이터사이언스', '데이터사이언스', '프로그래밍', '업무 생산성', '프로그래밍', '크리에이티브', '프로그래밍', '부동산/금융', '부동산/금융', '업무 생산성', '업무 생산성', '업무 생산성', '업무 생산성', '데이터사이언스', '크리에이티브', '부동산/금융', '부동산/금융', '업무 생산성', '프로그래밍', '프로그래밍', '마케팅', '마케팅', '마케팅', '업무 생산성', '크리에이티브', '프로그래밍', '프로그래밍', '데이터사이언스', '프로그래밍', '업무 생산성', '프로그래밍', '프로그래밍', '부동산/금융', '업무 생산성', '프로그래밍', '프로그래밍', '업무 생산성', '업무 생산성', '프로그래밍', '프로그래밍', '업무 생산성', '데이터사이언스', '프로그래밍', '프로그래밍', '프로그래밍', '업무 생산성', '업무 생산성', '데이터사이언스', '프로그래밍', '데이터사이언스', '크리에이티브', '데이터사이언스', '데이터사이언스', '업무 생산성', '프로그래밍', '프로그래밍', '크리에이티브', '업무 생산성', '업무 생산성', '마케팅', '프로그래밍', '프로그래밍', '프로그래밍', '업무 생산성', '프로그래밍', '프로그래밍', '데이터사이언스', '데이터사이언스', '데이터사이언스', '크리에이티브', '프로그래밍', '업무 생산성', '마케팅', '프로그래밍', '데이터사이언스', '프로그래밍', '크리에이티브', '데이터사이언스', '데이터사이언스', '프로그래밍', '크리에이티브', '크리에이티브', '크리에이티브', '크리에이티브', '크리에이티브', '크리에이티브', '크리에이티브', '크리에이티브', '크리에이티브', '크리에이티브', '크리에이티브', '프로그래밍', '크리에이티브', '크리에이티브', '크리에이티브', '프로그래밍', '프로그래밍', '프로그래밍', '데이터사이언스', '크리에이티브', '크리에이티브', '프로그래밍', '프로그래밍', '크리에이티브', '프로그래밍', '프로그래밍', '데이터사이언스', '마케팅', '크리에이티브', '크리에이티브', '데이터사이언스', '업무 생산성', '크리에이티브', '데이터사이언스', '데이터사이언스', '업무 생산성', '업무 생산성', '데이터사이언스', '프로그래밍', '데이터사이언스', '데이터사이언스', '데이터사이언스', '데이터사이언스', '데이터사이언스', '프로그래밍', '프로그래밍', '업무 생산성', '업무 생산성', '크리에이티브', '프로그래밍', '크리에이티브', '프로그래밍', '크리에이티브', '크리에이티브', '크리에이티브', '프로그래밍', '업무 생산성', '프로그래밍', '프로그래밍', '데이터사이언스', '프로그래밍', '프로그래밍', '프로그래밍', '지식콘텐츠', '지식콘텐츠', '데이터사이언스', '데이터사이언스', '데이터사이언스', '마케팅', '프로그래밍', '프로그래밍', '프로그래밍', '프로그래밍', '프로그래밍', '업무 생산성', '데이터사이언스', '데이터사이언스', '프로그래밍', '부동산/금융', '크리에이티브', '크리에이티브', '크리에이티브', '크리에이티브', '데이터사이언스', '데이터사이언스', '데이터사이언스', '프로그래밍', '크리에이티브', '크리에이티브', '데이터사이언스', '프로그래밍', '프로그래밍', '크리에이티브', '업무 생산성', '데이터사이언스', '크리에이티브', '프로그래밍', '업무 생산성', '크리에이티브', '크리에이티브', '프로그래밍', '프로그래밍', '프로그래밍', '프로그래밍', '데이터사이언스', '마케팅', '프로그래밍', '업무 생산성', '마케팅', '데이터사이언스', '업무 생산성', '업무 생산성', '데이터사이언스', '데이터사이언스', '프로그래밍', '크리에이티브', '업무 생산성', '크리에이티브', '데이터사이언스', '프로그래밍', '프로그래밍', '업무 생산성', '업무 생산성', '업무 생산성', '업무 생산성', '업무 생산성', '업무 생산성', '크리에이티브', '크리에이티브', '크리에이티브', '데이터사이언스', '데이터사이언스', '업무 생산성', '업무 생산성', '데이터사이언스', '업무 생산성', '업무 생산성', '크리에이티브', '프로그래밍', '프로그래밍', '데이터사이언스', '부동산/금융', '데이터사이언스', '데이터사이언스', '업무 생산성', '프로그래밍', '데이터사이언스', '프로그래밍', '프로그래밍', '프로그래밍', '프로그래밍', '데이터사이언스', '프로그래밍', '업무 생산성', '프로그래밍', '크리에이티브', '크리에이티브', '데이터사이언스', '데이터사이언스', '데이터사이언스', '데이터사이언스', '업무 생산성', '업무 생산성', '데이터사이언스', '데이터사이언스', '데이터사이언스', '업무 생산성', '업무 생산성', '마케팅', '마케팅', '데이터사이언스', '데이터사이언스', '마케팅', '마케팅', '크리에이티브', '크리에이티브', '프로그래밍', '업무 생산성', '업무 생산성', '데이터사이언스', '데이터사이언스', '프로그래밍', '프로그래밍', '프로그래밍', '프로그래밍', '마케팅', '데이터사이언스', '데이터사이언스', '업무 생산성', '프로그래밍', '마케팅', '업무 생산성', '프로그래밍', '프로그래밍', '프로그래밍', '크리에이티브', '업무 생산성', '업무 생산성', '업무 생산성', '업무 생산성', '업무 생산성', '데이터사이언스', '크리에이티브', '데이터사이언스', '데이터사이언스', '업무 생산성', '데이터사이언스', '업무 생산성', '업무 생산성', '지식콘텐츠', '크리에이티브', '프로그래밍', '프로그래밍', '마케팅', '데이터사이언스', '크리에이티브', '업무 생산성', '프로그래밍', '지식콘텐츠', '크리에이티브', '업무 생산성', '프로그래밍', '업무 생산성', '업무 생산성', '업무 생산성', '프로그래밍', '업무 생산성', '프로그래밍', '데이터사이언스', '업무 생산성', '프로그래밍', '프로그래밍', '마케팅', '업무 생산성', '업무 생산성', '데이터사이언스', '데이터사이언스', '프로그래밍', '데이터사이언스', '데이터사이언스', '데이터사이언스', '마케팅', '마케팅', '데이터사이언스', '프로그래밍', '크리에이티브', '프로그래밍', '프로그래밍', '부동산/금융', '부동산/금융', '프로그래밍', '마케팅', '마케팅', '크리에이티브', '프로그래밍', '크리에이티브', '프로그래밍', '데이터사이언스', '데이터사이언스', '프로그래밍', '업무 생산성', '프로그래밍', '프로그래밍', '프로그래밍', '프로그래밍', '프로그래밍', '프로그래밍', '프로그래밍', '프로그래밍', '업무 생산성', '크리에이티브', '데이터사이언스', '데이터사이언스', '데이터사이언스', '프로그래밍', '프로그래밍', '프로그래밍', '프로그래밍', '프로그래밍', '프로그래밍', '업무 생산성', '데이터사이언스', '데이터사이언스', '데이터사이언스', '업무 생산성', '프로그래밍', '프로그래밍', '크리에이티브', '크리에이티브', '마케팅', '데이터사이언스', '데이터사이언스', '업무 생산성', '데이터사이언스', '업무 생산성', '데이터사이언스', '데이터사이언스', '프로그래밍', '마케팅', '데이터사이언스', '크리에이티브', '프로그래밍', '지식콘텐츠', '데이터사이언스', '마케팅', '마케팅', '부동산/금융', '부동산/금융', '마케팅', '데이터사이언스', '업무 생산성', '업무 생산성', '프로그래밍', '프로그래밍', '프로그래밍', '크리에이티브', '프로그래밍', '프로그래밍', '업무 생산성', '프로그래밍', '프로그래밍', '프로그래밍', '크리에이티브', '크리에이티브', '업무 생산성', '업무 생산성', '데이터사이언스', '크리에이티브', '크리에이티브', '크리에이티브', '크리에이티브', '크리에이티브', '업무 생산성', '업무 생산성', '업무 생산성', '프로그래밍', '업무 생산성', '업무 생산성', '데이터사이언스', '데이터사이언스', '업무 생산성', '데이터사이언스', '프로그래밍', '프로그래밍', '프로그래밍', '프로그래밍', '업무 생산성', '마케팅', '프로그래밍', '프로그래밍', '프로그래밍', '업무 생산성', '크리에이티브', '데이터사이언스', '크리에이티브', '크리에이티브', '크리에이티브', '프로그래밍', '프로그래밍', '크리에이티브', '크리에이티브', '크리에이티브', '업무 생산성', '크리에이티브', '크리에이티브', '크리에이티브', '업무 생산성', '프로그래밍', '프로그래밍', '업무 생산성', '프로그래밍', '데이터사이언스', '업무 생산성', '업무 생산성', '데이터사이언스', '업무 생산성', '업무 생산성', '프로그래밍', '업무 생산성', '업무 생산성', '크리에이티브', '마케팅', '크리에이티브', '크리에이티브', '프로그래밍', '프로그래밍', '프로그래밍', '프로그래밍', '크리에이티브', '크리에이티브', '데이터사이언스', '업무 생산성', '마케팅', '마케팅', '크리에이티브', '데이터사이언스', '업무 생산성', '업무 생산성', '업무 생산성', '크리에이티브', '크리에이티브', '업무 생산성', '부동산/금융', '데이터사이언스', '크리에이티브', '업무 생산성', '프로그래밍', '프로그래밍', '프로그래밍', '데이터사이언스', '데이터사이언스', '데이터사이언스', '데이터사이언스', '데이터사이언스', '데이터사이언스', '업무 생산성', '크리에이티브', '데이터사이언스', '프로그래밍', '프로그래밍', '프로그래밍', '프로그래밍', '프로그래밍', '프로그래밍', '프로그래밍', '프로그래밍', '업무 생산성', '마케팅', '마케팅', '프로그래밍', '프로그래밍', '프로그래밍', '프로그래밍', '데이터사이언스', '프로그래밍', '프로그래밍', '프로그래밍', '프로그래밍', '프로그래밍', '업무 생산성', '마케팅', '마케팅', '업무 생산성', '데이터사이언스', '데이터사이언스', '업무 생산성', '업무 생산성', '업무 생산성', '데이터사이언스', '크리에이티브', '데이터사이언스', '데이터사이언스', '프로그래밍', '프로그래밍', '프로그래밍', '프로그래밍', '데이터사이언스', '데이터사이언스', '데이터사이언스', '데이터사이언스', '마케팅', '프로그래밍', '데이터사이언스', '프로그래밍', '부동산/금융', '데이터사이언스', '크리에이티브', '업무 생산성', '업무 생산성', '업무 생산성', '데이터사이언스', '업무 생산성', '업무 생산성', '크리에이티브', '크리에이티브', '프로그래밍', '업무 생산성', '업무 생산성', '크리에이티브', '크리에이티브', '크리에이티브', '업무 생산성', '프로그래밍', '프로그래밍', '프로그래밍', '데이터사이언스', '데이터사이언스', '데이터사이언스', '데이터사이언스', '마케팅', '마케팅', '마케팅', '마케팅', '크리에이티브', '프로그래밍', '프로그래밍', '프로그래밍', '업무 생산성', '프로그래밍', '크리에이티브', '데이터사이언스', '프로그래밍', '프로그래밍', '크리에이티브', '업무 생산성', '업무 생산성', '업무 생산성', '마케팅', '마케팅', '업무 생산성', '업무 생산성', '데이터사이언스', '부동산/금융', '업무 생산성', '프로그래밍', '프로그래밍', '프로그래밍', '데이터사이언스', '크리에이티브', '크리에이티브', '프로그래밍', '데이터사이언스', '데이터사이언스', '데이터사이언스', '프로그래밍', '프로그래밍', '마케팅', '프로그래밍', '데이터사이언스', '크리에이티브', '프로그래밍', '프로그래밍', '업무 생산성', '업무 생산성', '지식콘텐츠', '마케팅', '업무 생산성', '프로그래밍', '데이터사이언스', '데이터사이언스', '프로그래밍', '프로그래밍', '프로그래밍', '업무 생산성', '데이터사이언스', '마케팅', '데이터사이언스', '데이터사이언스', '업무 생산성', '프로그래밍', '크리에이티브', '프로그래밍', '프로그래밍', '업무 생산성', '크리에이티브', '크리에이티브', '프로그래밍', '프로그래밍', '프로그래밍', '크리에이티브', '데이터사이언스', '데이터사이언스', '데이터사이언스', '데이터사이언스', '데이터사이언스', '데이터사이언스', '크리에이티브', '업무 생산성', '크리에이티브', '프로그래밍', '프로그래밍', '프로그래밍', '프로그래밍', '프로그래밍', '프로그래밍', '프로그래밍', '크리에이티브', '업무 생산성', '크리에이티브', '마케팅', '마케팅', '크리에이티브', '업무 생산성', '업무 생산성', '크리에이티브', '크리에이티브', '데이터사이언스', '프로그래밍', '데이터사이언스', '데이터사이언스', '프로그래밍', '부동산/금융', '프로그래밍', '프로그래밍', '프로그래밍', '데이터사이언스', '프로그래밍', '프로그래밍', '프로그래밍', '프로그래밍', '프로그래밍', '프로그래밍', '크리에이티브', '크리에이티브', '업무 생산성', '업무 생산성', '업무 생산성', '프로그래밍', '업무 생산성', '프로그래밍', '업무 생산성', '업무 생산성', '크리에이티브', '크리에이티브', '프로그래밍', '크리에이티브', '크리에이티브', '크리에이티브', '프로그래밍', '업무 생산성', '업무 생산성', '마케팅', '마케팅', '마케팅', '마케팅', '크리에이티브', '프로그래밍', '지식콘텐츠', '크리에이티브', '데이터사이언스', '데이터사이언스', '데이터사이언스', '프로그래밍', '크리에이티브', '크리에이티브', '크리에이티브', '크리에이티브', '크리에이티브', '크리에이티브', '데이터사이언스', '업무 생산성', '크리에이티브', '크리에이티브', '크리에이티브', '크리에이티브', '프로그래밍', '업무 생산성', '데이터사이언스', '데이터사이언스', '프로그래밍', '프로그래밍', '프로그래밍', '데이터사이언스', '데이터사이언스', '업무 생산성', '크리에이티브', '업무 생산성', '크리에이티브', '크리에이티브', '크리에이티브', '프로그래밍', '프로그래밍', '마케팅', '프로그래밍', '마케팅', '마케팅', '데이터사이언스', '프로그래밍', '프로그래밍', '프로그래밍', '프로그래밍', '업무 생산성', '프로그래밍', '데이터사이언스', '데이터사이언스', '프로그래밍', '크리에이티브', '크리에이티브', '크리에이티브', '데이터사이언스', '데이터사이언스', '데이터사이언스', '프로그래밍', '프로그래밍', '부동산/금융', '프로그래밍', '프로그래밍', '업무 생산성', '업무 생산성', '데이터사이언스', '업무 생산성', '크리에이티브', '프로그래밍', '부동산/금융', '부동산/금융', '프로그래밍', '크리에이티브', '크리에이티브', '프로그래밍', '업무 생산성', '크리에이티브', '업무 생산성', '크리에이티브', '프로그래밍', '데이터사이언스', '데이터사이언스', '크리에이티브', '크리에이티브', '업무 생산성', '프로그래밍', '프로그래밍', '업무 생산성', '업무 생산성', '프로그래밍', '프로그래밍', '업무 생산성', '데이터사이언스', '크리에이티브', '데이터사이언스', '크리에이티브', '크리에이티브', '크리에이티브', '크리에이티브', '마케팅', '크리에이티브', '업무 생산성', '마케팅', '마케팅', '업무 생산성', '업무 생산성', '업무 생산성', '업무 생산성', '데이터사이언스', '데이터사이언스', '데이터사이언스', '프로그래밍', '데이터사이언스', '데이터사이언스', '프로그래밍', '프로그래밍', '프로그래밍', '프로그래밍', '프로그래밍', '크리에이티브', '크리에이티브', '마케팅', '프로그래밍', '프로그래밍', '데이터사이언스', '프로그래밍', '데이터사이언스', '프로그래밍', '프로그래밍', '프로그래밍', '프로그래밍', '프로그래밍', '프로그래밍', '프로그래밍', '크리에이티브', '크리에이티브', '프로그래밍', '프로그래밍', '업무 생산성', '프로그래밍', '업무 생산성', '프로그래밍', '크리에이티브', '마케팅', '데이터사이언스', '데이터사이언스', '프로그래밍', '데이터사이언스', '데이터사이언스', '프로그래밍', '크리에이티브', '크리에이티브', '크리에이티브', '데이터사이언스', '데이터사이언스', '크리에이티브', '프로그래밍', '프로그래밍', '크리에이티브', '크리에이티브', '크리에이티브', '데이터사이언스', '데이터사이언스', '업무 생산성', '업무 생산성', '업무 생산성', '프로그래밍', '프로그래밍', '프로그래밍', '프로그래밍', '프로그래밍', '업무 생산성', '업무 생산성', '크리에이티브', '데이터사이언스', '데이터사이언스', '데이터사이언스', '데이터사이언스', '데이터사이언스', '데이터사이언스', '데이터사이언스', '프로그래밍', '데이터사이언스', '데이터사이언스', '크리에이티브', '크리에이티브', '크리에이티브', '프로그래밍', '크리에이티브', '크리에이티브', '프로그래밍', '프로그래밍', '업무 생산성', '업무 생산성', '크리에이티브', '크리에이티브', '크리에이티브', '프로그래밍', '마케팅', '데이터사이언스', '업무 생산성', '크리에이티브', '크리에이티브', '크리에이티브', '프로그래밍', '프로그래밍', '업무 생산성', '프로그래밍', '프로그래밍', '업무 생산성', '프로그래밍', '데이터사이언스', '마케팅', '프로그래밍', '프로그래밍', '크리에이티브', '업무 생산성', '프로그래밍', '프로그래밍', '프로그래밍', '업무 생산성', '업무 생산성', '업무 생산성', '데이터사이언스', '프로그래밍', '마케팅', '데이터사이언스', '데이터사이언스', '프로그래밍', '데이터사이언스', '크리에이티브', '마케팅', '마케팅', '프로그래밍', '프로그래밍', '프로그래밍', '마케팅', '마케팅', '데이터사이언스', '데이터사이언스', '크리에이티브', '데이터사이언스', '데이터사이언스', '데이터사이언스', '프로그래밍', '데이터사이언스', '데이터사이언스', '데이터사이언스', '업무 생산성', '크리에이티브', '크리에이티브', '프로그래밍', '크리에이티브', '프로그래밍', '데이터사이언스', '프로그래밍', '마케팅', '데이터사이언스', '프로그래밍', '크리에이티브', '데이터사이언스', '데이터사이언스', '크리에이티브', '프로그래밍', '업무 생산성', '데이터사이언스', '프로그래밍', '데이터사이언스', '마케팅', '프로그래밍', '프로그래밍', '프로그래밍', '크리에이티브', '업무 생산성', '마케팅', '업무 생산성', '데이터사이언스', '데이터사이언스', '데이터사이언스', '데이터사이언스', '데이터사이언스', '데이터사이언스', '업무 생산성', '크리에이티브', '크리에이티브', '마케팅', '마케팅', '크리에이티브', '프로그래밍', '데이터사이언스', '마케팅', '마케팅', '마케팅', '데이터사이언스', '프로그래밍', '프로그래밍', '프로그래밍', '프로그래밍', '업무 생산성', '마케팅', '업무 생산성', '마케팅', '크리에이티브', '데이터사이언스', '데이터사이언스', '업무 생산성', '프로그래밍', '데이터사이언스', '업무 생산성', '업무 생산성', '크리에이티브', '데이터사이언스', '데이터사이언스', '업무 생산성', '업무 생산성', '크리에이티브', '크리에이티브', '크리에이티브', '데이터사이언스', '프로그래밍', '프로그래밍', '마케팅', '데이터사이언스', '데이터사이언스', '프로그래밍', '업무 생산성', '데이터사이언스', '업무 생산성', '크리에이티브', '크리에이티브', '데이터사이언스', '크리에이티브', '크리에이티브', '데이터사이언스', '업무 생산성', '마케팅', '프로그래밍', '프로그래밍', '데이터사이언스', '데이터사이언스', '데이터사이언스', '크리에이티브', '프로그래밍', '데이터사이언스', '업무 생산성', '데이터사이언스', '업무 생산성', '데이터사이언스', '데이터사이언스', '데이터사이언스', '크리에이티브', '데이터사이언스', '데이터사이언스', '크리에이티브', '크리에이티브', '크리에이티브', '프로그래밍', '프로그래밍', '업무 생산성', '데이터사이언스', '프로그래밍', '프로그래밍', '크리에이티브', '크리에이티브', '데이터사이언스', '프로그래밍', '업무 생산성', '크리에이티브', '크리에이티브', '크리에이티브', '프로그래밍', '프로그래밍', '마케팅', '업무 생산성', '데이터사이언스', '프로그래밍', '업무 생산성', '프로그래밍', '데이터사이언스', '프로그래밍', '프로그래밍', '프로그래밍', '프로그래밍', '프로그래밍', '프로그래밍', '데이터사이언스', '프로그래밍', '프로그래밍', '데이터사이언스', '데이터사이언스', '업무 생산성', '프로그래밍', '프로그래밍', '업무 생산성', '크리에이티브', '프로그래밍', '프로그래밍', '크리에이티브', '업무 생산성', '데이터사이언스', '데이터사이언스', '업무 생산성', '크리에이티브', '업무 생산성', '업무 생산성', '업무 생산성', '업무 생산성', '업무 생산성', '업무 생산성', '업무 생산성', '업무 생산성', '업무 생산성', '프로그래밍', '크리에이티브', '지식콘텐츠', '마케팅', '프로그래밍', '데이터사이언스', '크리에이티브', '데이터사이언스', '업무 생산성', '업무 생산성', '데이터사이언스', '데이터사이언스', '데이터사이언스', '데이터사이언스', '프로그래밍', '프로그래밍', '프로그래밍', '업무 생산성', '업무 생산성', '업무 생산성', '업무 생산성', '업무 생산성', '업무 생산성', '업무 생산성', '업무 생산성', '마케팅', '업무 생산성', '프로그래밍', '업무 생산성', '업무 생산성', '업무 생산성', '데이터사이언스', '프로그래밍', '지식콘텐츠', '지식콘텐츠', '지식콘텐츠', '데이터사이언스', '업무 생산성', '데이터사이언스', '업무 생산성', '업무 생산성', '업무 생산성', '업무 생산성', '업무 생산성', '데이터사이언스', '데이터사이언스', '데이터사이언스', '프로그래밍', '프로그래밍', '업무 생산성', '업무 생산성', '업무 생산성', '업무 생산성', '크리에이티브', '크리에이티브', '크리에이티브', '업무 생산성', '마케팅', '마케팅', '업무 생산성', '마케팅', '마케팅', '지식콘텐츠', '업무 생산성', '프로그래밍', '마케팅', '마케팅', '마케팅', '업무 생산성', '데이터사이언스', '데이터사이언스', '업무 생산성', '데이터사이언스', '업무 생산성', '업무 생산성', '데이터사이언스', '마케팅', '마케팅', '마케팅', '프로그래밍', '데이터사이언스', '업무 생산성', '업무 생산성', '업무 생산성', '데이터사이언스', '데이터사이언스', '프로그래밍', '프로그래밍', '프로그래밍', '업무 생산성', '업무 생산성', '업무 생산성', '업무 생산성', '업무 생산성', '크리에이티브', '업무 생산성', '업무 생산성', '업무 생산성', '마케팅', '업무 생산성', '업무 생산성', '프로그래밍', '프로그래밍', '업무 생산성', '프로그래밍', '프로그래밍', '데이터사이언스', '데이터사이언스', '업무 생산성', '업무 생산성', '데이터사이언스', '프로그래밍', '데이터사이언스', '크리에이티브', '크리에이티브', '데이터사이언스', '데이터사이언스', '데이터사이언스', '크리에이티브', '데이터사이언스', '업무 생산성', '업무 생산성', '지식콘텐츠', '지식콘텐츠', '프로그래밍', '업무 생산성', '업무 생산성', '프로그래밍', '프로그래밍', '업무 생산성', '데이터사이언스', '업무 생산성', '프로그래밍', '프로그래밍', '프로그래밍', '업무 생산성', '데이터사이언스', '마케팅', '마케팅', '데이터사이언스', '데이터사이언스', '업무 생산성', '프로그래밍', '데이터사이언스', '업무 생산성', '데이터사이언스', '데이터사이언스', '데이터사이언스', '데이터사이언스', '데이터사이언스', '프로그래밍', '프로그래밍', '프로그래밍', '크리에이티브', '마케팅', '마케팅', '업무 생산성', '데이터사이언스', '업무 생산성', '업무 생산성', '업무 생산성', '프로그래밍', '업무 생산성', '마케팅', '프로그래밍', '마케팅', '마케팅', '데이터사이언스', '데이터사이언스', '업무 생산성', '데이터사이언스', '마케팅', '마케팅', '마케팅', '데이터사이언스', '업무 생산성', '데이터사이언스', '프로그래밍', '프로그래밍', '업무 생산성', '업무 생산성', '프로그래밍', '업무 생산성', '업무 생산성', '데이터사이언스', '업무 생산성', '프로그래밍', '프로그래밍', '업무 생산성', '마케팅', '마케팅', '마케팅', '프로그래밍', '프로그래밍', '데이터사이언스', '데이터사이언스', '지식콘텐츠', '마케팅', '마케팅', '마케팅', '마케팅', '마케팅', '데이터사이언스', '데이터사이언스', '프로그래밍', '프로그래밍', '데이터사이언스', '업무 생산성', '프로그래밍', '크리에이티브', '크리에이티브', '프로그래밍', '프로그래밍', '프로그래밍', '업무 생산성', '프로그래밍', '업무 생산성', '프로그래밍', '프로그래밍', '프로그래밍', '프로그래밍', '업무 생산성', '크리에이티브', '업무 생산성', '업무 생산성', '프로그래밍', '업무 생산성', '업무 생산성', '데이터사이언스', '프로그래밍', '업무 생산성', '업무 생산성', '마케팅', '마케팅', '프로그래밍', '업무 생산성', '프로그래밍', '프로그래밍', '프로그래밍', '프로그래밍', '크리에이티브', '업무 생산성', '업무 생산성', '마케팅', '마케팅', '크리에이티브', '업무 생산성', '마케팅', '프로그래밍', '프로그래밍', '데이터사이언스', '프로그래밍', '프로그래밍', '프로그래밍', '프로그래밍', '프로그래밍', '프로그래밍', '프로그래밍', '프로그래밍', '마케팅', '마케팅', '크리에이티브', '업무 생산성', '마케팅', '마케팅', '마케팅', '마케팅', '프로그래밍', '마케팅', '마케팅', '지식콘텐츠', '지식콘텐츠', '프로그래밍', '데이터사이언스', '데이터사이언스', '업무 생산성', '프로그래밍', '프로그래밍', '프로그래밍', '업무 생산성', '크리에이티브', '프로그래밍', '데이터사이언스', '업무 생산성', '업무 생산성', '업무 생산성', '마케팅', '데이터사이언스', '데이터사이언스', '마케팅', '업무 생산성', '프로그래밍', '크리에이티브', '지식콘텐츠', '마케팅', '마케팅', '크리에이티브', '크리에이티브', '크리에이티브', '크리에이티브', '크리에이티브', '마케팅', '마케팅', '크리에이티브', '크리에이티브', '크리에이티브', '데이터사이언스', '프로그래밍', '업무 생산성', '업무 생산성', '프로그래밍', '프로그래밍', '업무 생산성', '프로그래밍', '프로그래밍', '프로그래밍', '프로그래밍', '프로그래밍', '프로그래밍', '마케팅', '프로그래밍', '프로그래밍', '프로그래밍', '프로그래밍', '마케팅', '마케팅', '마케팅', '데이터사이언스', '프로그래밍', '프로그래밍', '업무 생산성', '데이터사이언스', '데이터사이언스', '데이터사이언스', '데이터사이언스', '프로그래밍', '프로그래밍', '크리에이티브', '프로그래밍', '데이터사이언스', '업무 생산성', '데이터사이언스', '업무 생산성', '업무 생산성', '데이터사이언스', '업무 생산성', '업무 생산성', '마케팅', '데이터사이언스', '업무 생산성', '업무 생산성', '크리에이티브', '업무 생산성', '업무 생산성', '업무 생산성', '크리에이티브', '크리에이티브', '프로그래밍', '업무 생산성', '업무 생산성', '데이터사이언스', '데이터사이언스', '프로그래밍', '마케팅', '마케팅', '프로그래밍', '마케팅', '마케팅', '마케팅', '마케팅', '지식콘텐츠', '데이터사이언스', '데이터사이언스', '프로그래밍', '업무 생산성', '업무 생산성', '프로그래밍', '프로그래밍', '프로그래밍', '프로그래밍', '크리에이티브', '데이터사이언스', '프로그래밍', '업무 생산성', '프로그래밍', '마케팅', '마케팅', '프로그래밍', '프로그래밍', '데이터사이언스', '마케팅', '업무 생산성', '업무 생산성', '프로그래밍', '업무 생산성', '프로그래밍', '프로그래밍', '프로그래밍', '마케팅', '프로그래밍', '프로그래밍', '업무 생산성', '데이터사이언스', '프로그래밍', '프로그래밍', '프로그래밍', '데이터사이언스', '프로그래밍', '프로그래밍', '프로그래밍', '프로그래밍', '프로그래밍', '프로그래밍', '프로그래밍', '지식콘텐츠', '업무 생산성', '마케팅', '프로그래밍', '프로그래밍', '프로그래밍', '프로그래밍', '프로그래밍', '프로그래밍', '데이터사이언스', '프로그래밍', '프로그래밍', '크리에이티브', '프로그래밍', '프로그래밍', '프로그래밍', '프로그래밍', '프로그래밍', '데이터사이언스', '지식콘텐츠', '프로그래밍', '프로그래밍', '프로그래밍', '프로그래밍', '프로그래밍', '프로그래밍', '프로그래밍', '프로그래밍', '프로그래밍', '프로그래밍', '프로그래밍', '프로그래밍', '프로그래밍', '프로그래밍', '지식콘텐츠', '프로그래밍', '마케팅', '프로그래밍', '프로그래밍', '프로그래밍', '마케팅', '마케팅', '프로그래밍', '프로그래밍', '프로그래밍', '프로그래밍', '업무 생산성', '프로그래밍', '프로그래밍', '프로그래밍', '프로그래밍', '프로그래밍', '프로그래밍', '마케팅', '프로그래밍', '프로그래밍', '프로그래밍', '프로그래밍', '프로그래밍', '프로그래밍', '프로그래밍', '프로그래밍', '프로그래밍', '프로그래밍', '프로그래밍', '프로그래밍', '프로그래밍', '프로그래밍', '프로그래밍', '프로그래밍', '프로그래밍', '프로그래밍', '프로그래밍', '프로그래밍', '프로그래밍', '프로그래밍', '프로그래밍', '프로그래밍', '프로그래밍', '데이터사이언스', '프로그래밍', '프로그래밍', '업무 생산성', '프로그래밍', '프로그래밍', '프로그래밍', '지식콘텐츠', '프로그래밍', '프로그래밍', '마케팅', '마케팅', '프로그래밍', '프로그래밍', '프로그래밍', '프로그래밍', '프로그래밍', '프로그래밍', '데이터사이언스', '데이터사이언스', '프로그래밍', '프로그래밍', '프로그래밍', '프로그래밍', '프로그래밍', '프로그래밍', '프로그래밍', '프로그래밍', '프로그래밍', '프로그래밍', '프로그래밍', '프로그래밍', '데이터사이언스', '데이터사이언스', '데이터사이언스', '프로그래밍', '프로그래밍', '프로그래밍', '프로그래밍', '프로그래밍', '프로그래밍', '마케팅', '프로그래밍', '프로그래밍', '프로그래밍', '프로그래밍', '프로그래밍', '프로그래밍', '프로그래밍', '지식콘텐츠', '지식콘텐츠', '프로그래밍', '프로그래밍', '프로그래밍', '프로그래밍', '프로그래밍', '프로그래밍', '프로그래밍', '프로그래밍', '프로그래밍', '프로그래밍', '프로그래밍', '지식콘텐츠', '프로그래밍', '프로그래밍', '지식콘텐츠', '프로그래밍', '프로그래밍', '프로그래밍', '프로그래밍', '프로그래밍', '프로그래밍', '프로그래밍', '크리에이티브', '지식콘텐츠', '프로그래밍', '데이터사이언스', '프로그래밍', '프로그래밍', '프로그래밍', '프로그래밍', '프로그래밍', '프로그래밍', '프로그래밍', '프로그래밍', '프로그래밍', '프로그래밍', '프로그래밍', '프로그래밍', '프로그래밍', '프로그래밍', '프로그래밍', '프로그래밍', '프로그래밍', '프로그래밍', '프로그래밍', '데이터사이언스', '프로그래밍', '프로그래밍', '프로그래밍', '프로그래밍', '프로그래밍', '프로그래밍', '프로그래밍', '프로그래밍', '프로그래밍', '프로그래밍', '프로그래밍', '프로그래밍', '프로그래밍', '프로그래밍', '프로그래밍', '프로그래밍', '프로그래밍', '프로그래밍', '프로그래밍', '프로그래밍', '프로그래밍', '프로그래밍', '프로그래밍', '프로그래밍', '프로그래밍', '프로그래밍', '프로그래밍', '프로그래밍', '프로그래밍', '데이터사이언스', '데이터사이언스', '프로그래밍', '프로그래밍', '프로그래밍', '프로그래밍', '프로그래밍', '프로그래밍', '프로그래밍', '프로그래밍', '프로그래밍', '프로그래밍', '데이터사이언스', '데이터사이언스', '프로그래밍', '프로그래밍', '프로그래밍', '프로그래밍', '프로그래밍', '프로그래밍', '프로그래밍', '프로그래밍', '프로그래밍', '프로그래밍', '프로그래밍', '프로그래밍', '프로그래밍', '프로그래밍', '프로그래밍', '프로그래밍', '데이터사이언스', '데이터사이언스', '지식콘텐츠', '데이터사이언스', '프로그래밍', '프로그래밍', '데이터사이언스', '프로그래밍', '데이터사이언스', '프로그래밍', '프로그래밍', '프로그래밍', '프로그래밍', '프로그래밍', '프로그래밍', '프로그래밍', '프로그래밍', '프로그래밍', '프로그래밍', '프로그래밍', '프로그래밍', '프로그래밍', '프로그래밍', '프로그래밍', '프로그래밍', '프로그래밍', '프로그래밍', '프로그래밍', '프로그래밍', '프로그래밍', '프로그래밍', '지식콘텐츠', '프로그래밍', '프로그래밍', '프로그래밍', '프로그래밍', '프로그래밍', '프로그래밍', '프로그래밍', '프로그래밍', '프로그래밍', '프로그래밍', '지식콘텐츠', '프로그래밍', '프로그래밍', '프로그래밍', '지식콘텐츠', '프로그래밍', '프로그래밍', '프로그래밍', '프로그래밍', '프로그래밍', '지식콘텐츠', '지식콘텐츠', '프로그래밍', '프로그래밍', '프로그래밍', '프로그래밍', '프로그래밍', '프로그래밍', '프로그래밍', '프로그래밍', '데이터사이언스', '프로그래밍', '프로그래밍', '프로그래밍', '프로그래밍', '프로그래밍', '프로그래밍', '지식콘텐츠', '프로그래밍', '프로그래밍', '프로그래밍', '프로그래밍', '프로그래밍', '프로그래밍', '프로그래밍', '프로그래밍', '프로그래밍', '프로그래밍', '데이터사이언스', '프로그래밍', '프로그래밍', '프로그래밍', '프로그래밍', '프로그래밍', '프로그래밍', '프로그래밍', '프로그래밍', '프로그래밍', '프로그래밍', '프로그래밍', '프로그래밍', '프로그래밍', '프로그래밍', '마케팅', '부동산/금융', '마케팅', '크리에이티브', '크리에이티브', '프로그래밍', '프로그래밍', '데이터사이언스', '데이터사이언스', '데이터사이언스', '데이터사이언스', '데이터사이언스', '마케팅', '업무 생산성', '마케팅', '프로그래밍', '프로그래밍', '프로그래밍', '프로그래밍', '데이터사이언스', '프로그래밍', '프로그래밍', '프로그래밍', '프로그래밍', '프로그래밍', '프로그래밍', '크리에이티브', '프로그래밍', '데이터사이언스', '마케팅', '마케팅', '프로그래밍', '데이터사이언스', '데이터사이언스', '데이터사이언스', '데이터사이언스', '프로그래밍', '데이터사이언스', '데이터사이언스', '데이터사이언스', '데이터사이언스', '프로그래밍', '프로그래밍', '부동산/금융', '지식콘텐츠', '부동산/금융', '프로그래밍', '크리에이티브', '크리에이티브', '프로그래밍', '프로그래밍', '데이터사이언스', '프로그래밍', '크리에이티브', '데이터사이언스', '부동산/금융', '마케팅', '마케팅', '크리에이티브', '프로그래밍', '프로그래밍', '마케팅', '데이터사이언스', '프로그래밍', '데이터사이언스', '크리에이티브', '크리에이티브', '데이터사이언스', '데이터사이언스', '프로그래밍', '데이터사이언스', '마케팅', '마케팅', '데이터사이언스', '데이터사이언스', '데이터사이언스', '데이터사이언스', '데이터사이언스', '프로그래밍', '프로그래밍', '마케팅', '프로그래밍', '크리에이티브', '프로그래밍', '크리에이티브', '프로그래밍', '크리에이티브', '크리에이티브', '데이터사이언스', '프로그래밍', '프로그래밍', '부동산/금융', '크리에이티브', '마케팅', '데이터사이언스', '데이터사이언스', '데이터사이언스', '데이터사이언스', '프로그래밍', '마케팅', '마케팅', '마케팅', '프로그래밍', '프로그래밍', '데이터사이언스', '프로그래밍', '마케팅', '프로그래밍', '프로그래밍', '프로그래밍', '프로그래밍', '프로그래밍', '업무 생산성', '프로그래밍', '데이터사이언스', '부동산/금융', '지식콘텐츠', '프로그래밍', '크리에이티브', '프로그래밍', '프로그래밍', '프로그래밍', '업무 생산성', '프로그래밍', '프로그래밍', '크리에이티브', '프로그래밍', '데이터사이언스', '프로그래밍', '마케팅', '마케팅', '크리에이티브', '크리에이티브', '크리에이티브', '크리에이티브', '마케팅', '마케팅', '마케팅', '크리에이티브', '프로그래밍', '프로그래밍', '업무 생산성', '크리에이티브', '데이터사이언스', '데이터사이언스', '프로그래밍', '업무 생산성', '업무 생산성', '마케팅', '마케팅', '데이터사이언스', '데이터사이언스', '업무 생산성', '업무 생산성', '크리에이티브', '프로그래밍', '크리에이티브', '크리에이티브', '프로그래밍', '프로그래밍', '데이터사이언스', '데이터사이언스', '데이터사이언스', '마케팅', '업무 생산성', '업무 생산성', '프로그래밍', '프로그래밍', '프로그래밍', '프로그래밍', '프로그래밍', '데이터사이언스', '데이터사이언스', '크리에이티브', '프로그래밍', '업무 생산성', '프로그래밍', '프로그래밍', '크리에이티브', '크리에이티브', '크리에이티브', '프로그래밍', '프로그래밍', '프로그래밍', '크리에이티브', '프로그래밍', '프로그래밍', '프로그래밍', '데이터사이언스', '크리에이티브', '업무 생산성', '업무 생산성', '데이터사이언스', '크리에이티브', '데이터사이언스', '마케팅', '마케팅', '마케팅', '마케팅', '마케팅', '크리에이티브', '크리에이티브', '크리에이티브', '크리에이티브', '프로그래밍', '크리에이티브', '크리에이티브', '데이터사이언스', '데이터사이언스', '마케팅', '부동산/금융', '부동산/금융', '프로그래밍', '부동산/금융', '크리에이티브', '마케팅', '프로그래밍', '마케팅', '프로그래밍', '프로그래밍', '크리에이티브', '마케팅', '프로그래밍', '프로그래밍', '마케팅', '마케팅', '마케팅', '프로그래밍', '프로그래밍', '데이터사이언스', '마케팅', '프로그래밍', '업무 생산성', '프로그래밍', '데이터사이언스', '업무 생산성', '마케팅', '마케팅', '마케팅', '크리에이티브', '데이터사이언스', '데이터사이언스', '데이터사이언스', '크리에이티브', '마케팅', '마케팅', '마케팅', '마케팅', '크리에이티브', '프로그래밍', '프로그래밍', '업무 생산성', '프로그래밍', '데이터사이언스', '프로그래밍', '프로그래밍', '프로그래밍', '프로그래밍', '업무 생산성', '마케팅', '데이터사이언스', '크리에이티브', '프로그래밍', '마케팅', '프로그래밍', '크리에이티브', '프로그래밍', '크리에이티브', '마케팅', '크리에이티브', '크리에이티브', '부동산/금융', '데이터사이언스', '부동산/금융', '프로그래밍', '마케팅', '마케팅', '업무 생산성', '업무 생산성', '크리에이티브', '크리에이티브', '크리에이티브', '크리에이티브', '크리에이티브', '크리에이티브', '크리에이티브', '크리에이티브', '프로그래밍', '크리에이티브', '데이터사이언스', '프로그래밍', '프로그래밍', '크리에이티브', '크리에이티브', '프로그래밍', '크리에이티브', '크리에이티브', '데이터사이언스', '크리에이티브', '데이터사이언스', '마케팅', '데이터사이언스', '데이터사이언스', '데이터사이언스', '데이터사이언스', '데이터사이언스', '크리에이티브', '데이터사이언스', '크리에이티브', '데이터사이언스', '업무 생산성', '프로그래밍', '프로그래밍', '데이터사이언스', '데이터사이언스', '데이터사이언스', '데이터사이언스', '프로그래밍', '프로그래밍', '업무 생산성', '부동산/금융', '부동산/금융', '크리에이티브', '부동산/금융', '부동산/금융', '데이터사이언스', '크리에이티브', '크리에이티브', '크리에이티브', '데이터사이언스', '프로그래밍', '데이터사이언스', '데이터사이언스', '데이터사이언스', '크리에이티브', '데이터사이언스', '프로그래밍', '크리에이티브', '업무 생산성', '업무 생산성', '업무 생산성', '프로그래밍', '프로그래밍', '프로그래밍', '크리에이티브', '부동산/금융', '업무 생산성', '데이터사이언스', '데이터사이언스', '데이터사이언스', '프로그래밍', '프로그래밍', '프로그래밍', '데이터사이언스', '데이터사이언스', '프로그래밍', '마케팅', '프로그래밍', '마케팅', '프로그래밍', '크리에이티브', '프로그래밍', '크리에이티브', '크리에이티브', '데이터사이언스', '부동산/금융', '데이터사이언스', '프로그래밍', '부동산/금융', '프로그래밍', '프로그래밍', '크리에이티브', '크리에이티브', '크리에이티브', '프로그래밍', '부동산/금융', '프로그래밍', '프로그래밍', '크리에이티브', '프로그래밍', '마케팅', '프로그래밍', '크리에이티브', '프로그래밍', '프로그래밍', '마케팅', '프로그래밍', '마케팅', '프로그래밍', '프로그래밍', '프로그래밍', '크리에이티브', '크리에이티브', '프로그래밍', '데이터사이언스', '크리에이티브', '부동산/금융', '마케팅', '마케팅', '프로그래밍', '크리에이티브', '프로그래밍', '프로그래밍', '프로그래밍', '프로그래밍', '프로그래밍', '프로그래밍', '데이터사이언스', '데이터사이언스', '프로그래밍', '크리에이티브', '프로그래밍', '프로그래밍', '데이터사이언스', '프로그래밍', '프로그래밍', '프로그래밍', '프로그래밍', '프로그래밍', '프로그래밍', '프로그래밍', '프로그래밍', '프로그래밍', '프로그래밍', '프로그래밍', '프로그래밍', '프로그래밍', '크리에이티브', '프로그래밍', '프로그래밍', '프로그래밍', '크리에이티브', '크리에이티브', '크리에이티브', '크리에이티브', '프로그래밍', '프로그래밍', '크리에이티브', '프로그래밍', '프로그래밍', '데이터사이언스', '프로그래밍', '프로그래밍', '프로그래밍', '프로그래밍', '프로그래밍', '마케팅', '데이터사이언스', '데이터사이언스', '데이터사이언스', '프로그래밍', '프로그래밍', '크리에이티브', '크리에이티브', '데이터사이언스', '데이터사이언스', '크리에이티브', '데이터사이언스', '크리에이티브', '데이터사이언스', '데이터사이언스', '프로그래밍', '프로그래밍', '프로그래밍', '데이터사이언스', '업무 생산성', '업무 생산성', '데이터사이언스', '데이터사이언스', '크리에이티브', '프로그래밍', '마케팅', '마케팅', '프로그래밍', '부동산/금융', '부동산/금융', '데이터사이언스', '크리에이티브', '프로그래밍', '데이터사이언스', '마케팅', '프로그래밍', '업무 생산성', '데이터사이언스', '마케팅', '데이터사이언스', '데이터사이언스', '데이터사이언스', '데이터사이언스', '프로그래밍', '업무 생산성', '업무 생산성', '데이터사이언스', '업무 생산성', '데이터사이언스', '프로그래밍', '프로그래밍', '크리에이티브', '크리에이티브', '크리에이티브', '크리에이티브', '프로그래밍', '프로그래밍', '프로그래밍', '프로그래밍', '크리에이티브', '데이터사이언스', '데이터사이언스', '데이터사이언스', '업무 생산성', '업무 생산성', '업무 생산성', '업무 생산성', '마케팅', '데이터사이언스', '데이터사이언스', '크리에이티브', '프로그래밍', '크리에이티브', '프로그래밍', '데이터사이언스', '데이터사이언스', '프로그래밍', '부동산/금융', '부동산/금융', '프로그래밍', '업무 생산성', '크리에이티브', '크리에이티브', '프로그래밍', '프로그래밍', '데이터사이언스', '프로그래밍', '프로그래밍', '프로그래밍', '마케팅', '데이터사이언스', '데이터사이언스', '크리에이티브', '업무 생산성', '데이터사이언스', '프로그래밍', '크리에이티브', '크리에이티브', '프로그래밍', '프로그래밍', '프로그래밍', '크리에이티브', '프로그래밍', '프로그래밍', '데이터사이언스', '데이터사이언스', '크리에이티브', '프로그래밍', '데이터사이언스', '데이터사이언스', '프로그래밍', '프로그래밍', '데이터사이언스', '프로그래밍', '프로그래밍', '프로그래밍', '크리에이티브', '크리에이티브', '크리에이티브', '크리에이티브', '크리에이티브', '부동산/금융', '부동산/금융', '업무 생산성', '크리에이티브', '프로그래밍', '프로그래밍', '크리에이티브', '마케팅', '크리에이티브', '마케팅', '프로그래밍', '프로그래밍', '프로그래밍', '데이터사이언스', '데이터사이언스', '데이터사이언스', '프로그래밍', '프로그래밍', '마케팅', '크리에이티브', '마케팅', '마케팅', '마케팅', '프로그래밍', '프로그래밍', '마케팅', '프로그래밍', '크리에이티브', '크리에이티브', '마케팅', '프로그래밍', '프로그래밍', '크리에이티브', '크리에이티브', '프로그래밍', '크리에이티브', '프로그래밍', '데이터사이언스', '프로그래밍', '업무 생산성', '부동산/금융', '업무 생산성', '업무 생산성', '프로그래밍', '프로그래밍', '부동산/금융', '부동산/금융', '데이터사이언스', '데이터사이언스', '업무 생산성', '업무 생산성', '부동산/금융', '마케팅', '마케팅', '프로그래밍', '프로그래밍', '프로그래밍', '크리에이티브', '프로그래밍', '프로그래밍', '크리에이티브', '크리에이티브', '크리에이티브', '크리에이티브', '데이터사이언스', '데이터사이언스', '데이터사이언스', '데이터사이언스', '데이터사이언스', '데이터사이언스', '크리에이티브', '크리에이티브', '마케팅', '프로그래밍', '크리에이티브', '프로그래밍', '프로그래밍', '크리에이티브', '프로그래밍', '프로그래밍', '지식콘텐츠', '업무 생산성', '프로그래밍', '프로그래밍', '프로그래밍', '프로그래밍', '프로그래밍', '프로그래밍', '프로그래밍', '데이터사이언스', '프로그래밍', '프로그래밍', '크리에이티브', '프로그래밍', '데이터사이언스', '프로그래밍', '프로그래밍', '업무 생산성', '프로그래밍', '프로그래밍', '프로그래밍', '크리에이티브', '크리에이티브', '마케팅', '프로그래밍', '크리에이티브', '데이터사이언스', '부동산/금융', '마케팅', '마케팅', '프로그래밍', '프로그래밍', '프로그래밍', '프로그래밍', '마케팅', '마케팅', '업무 생산성', '업무 생산성', '데이터사이언스', '데이터사이언스', '마케팅', '데이터사이언스', '데이터사이언스', '데이터사이언스', '프로그래밍', '프로그래밍', '데이터사이언스', '프로그래밍', '프로그래밍', '크리에이티브', '데이터사이언스', '프로그래밍', '프로그래밍', '크리에이티브', '프로그래밍', '프로그래밍', '업무 생산성', '업무 생산성', '프로그래밍', '프로그래밍', '프로그래밍', '프로그래밍', '지식콘텐츠', '마케팅', '부동산/금융', '부동산/금융', '업무 생산성', '업무 생산성', '데이터사이언스', '데이터사이언스', '크리에이티브', '크리에이티브', '업무 생산성', '데이터사이언스', '크리에이티브', '크리에이티브', '프로그래밍', '마케팅', '크리에이티브', '업무 생산성', '마케팅', '크리에이티브', '데이터사이언스', '데이터사이언스', '프로그래밍', '데이터사이언스', '마케팅', '업무 생산성', '데이터사이언스', '데이터사이언스', '프로그래밍', '프로그래밍', '프로그래밍', '프로그래밍', '프로그래밍', '업무 생산성', '업무 생산성', '크리에이티브', '데이터사이언스', '프로그래밍', '프로그래밍', '프로그래밍', '크리에이티브', '크리에이티브', '데이터사이언스', '크리에이티브', '크리에이티브', '마케팅', '마케팅', '크리에이티브', '크리에이티브', '부동산/금융', '부동산/금융', '업무 생산성', '프로그래밍', '업무 생산성', '데이터사이언스', '데이터사이언스', '데이터사이언스', '데이터사이언스', '데이터사이언스', '데이터사이언스', '데이터사이언스', '데이터사이언스', '업무 생산성', '데이터사이언스', '데이터사이언스', '데이터사이언스', '업무 생산성', '업무 생산성', '업무 생산성', '데이터사이언스', '프로그래밍', '크리에이티브', '프로그래밍', '프로그래밍', '프로그래밍', '프로그래밍', '데이터사이언스', '부동산/금융', '프로그래밍', '프로그래밍', '크리에이티브', '크리에이티브', '프로그래밍', '마케팅', '데이터사이언스', '데이터사이언스', '데이터사이언스', '크리에이티브', '크리에이티브', '부동산/금융', '크리에이티브', '마케팅', '부동산/금융', '데이터사이언스', '데이터사이언스', '프로그래밍', '프로그래밍', '프로그래밍', '업무 생산성', '업무 생산성', '데이터사이언스', '마케팅', '마케팅', '지식콘텐츠', '지식콘텐츠', '지식콘텐츠', '크리에이티브', '크리에이티브', '크리에이티브', '크리에이티브', '크리에이티브', '업무 생산성', '프로그래밍', '마케팅', '업무 생산성', '마케팅', '데이터사이언스', '크리에이티브', '크리에이티브', '프로그래밍', '프로그래밍', '프로그래밍', '업무 생산성', '업무 생산성', '프로그래밍', '데이터사이언스', '데이터사이언스', '데이터사이언스', '데이터사이언스', '데이터사이언스', '크리에이티브', '데이터사이언스', '데이터사이언스', '업무 생산성', '데이터사이언스', '데이터사이언스', '프로그래밍', '마케팅', '마케팅', '업무 생산성', '업무 생산성', '데이터사이언스', '데이터사이언스', '데이터사이언스', '데이터사이언스', '크리에이티브', '크리에이티브', '크리에이티브', '크리에이티브', '프로그래밍', '마케팅', '프로그래밍', '프로그래밍', '크리에이티브', '업무 생산성', '업무 생산성', '업무 생산성', '업무 생산성', '데이터사이언스', '프로그래밍', '프로그래밍', '데이터사이언스', '업무 생산성', '크리에이티브', '업무 생산성', '업무 생산성', '데이터사이언스', '크리에이티브', '데이터사이언스', '부동산/금융', '데이터사이언스', '데이터사이언스', '업무 생산성', '업무 생산성', '프로그래밍', '프로그래밍', '프로그래밍', '크리에이티브', '프로그래밍', '프로그래밍', '마케팅', '부동산/금융', '부동산/금융', '크리에이티브', '크리에이티브', '데이터사이언스', '프로그래밍', '크리에이티브', '데이터사이언스', '크리에이티브', '크리에이티브', '프로그래밍', '프로그래밍', '프로그래밍', '업무 생산성', '부동산/금융', '부동산/금융', '업무 생산성', '업무 생산성', '크리에이티브', '마케팅', '프로그래밍', '프로그래밍', '크리에이티브', '데이터사이언스', '크리에이티브', '데이터사이언스', '프로그래밍', '프로그래밍', '데이터사이언스', '업무 생산성', '데이터사이언스', '지식콘텐츠', '지식콘텐츠', '마케팅', '크리에이티브', '크리에이티브', '크리에이티브', '크리에이티브', '크리에이티브', '프로그래밍', '크리에이티브', '크리에이티브', '마케팅', '마케팅', '마케팅', '마케팅', '마케팅', '크리에이티브', '데이터사이언스', '크리에이티브', '데이터사이언스', '크리에이티브', '마케팅', '데이터사이언스', '데이터사이언스', '마케팅', '마케팅', '데이터사이언스', '데이터사이언스', '프로그래밍', '마케팅', '프로그래밍', '크리에이티브', '크리에이티브', '마케팅', '업무 생산성', '데이터사이언스', '마케팅', '마케팅', '마케팅', '프로그래밍', '프로그래밍', '마케팅', '프로그래밍', '프로그래밍', '프로그래밍', '데이터사이언스', '크리에이티브', '프로그래밍', '크리에이티브', '크리에이티브', '일러스트', '프로그래밍', '프로그래밍', '프로그래밍', '크리에이티브', '크리에이티브', '부동산/금융', '프로그래밍', '프로그래밍', '데이터사이언스', '데이터사이언스', '크리에이티브', '프로그래밍', '프로그래밍', '업무 생산성', '크리에이티브', '데이터사이언스', '데이터사이언스', '크리에이티브', '데이터사이언스', '데이터사이언스', '데이터사이언스', '크리에이티브', '프로그래밍', '프로그래밍', '데이터사이언스', '프로그래밍', '프로그래밍', '데이터사이언스', '데이터사이언스', '데이터사이언스', '데이터사이언스', '데이터사이언스', '데이터사이언스', '프로그래밍', '프로그래밍', '크리에이티브', '업무 생산성', '업무 생산성', '크리에이티브', '크리에이티브', '프로그래밍', '데이터사이언스', '크리에이티브', '마케팅', '크리에이티브', '프로그래밍', '프로그래밍', '크리에이티브', '프로그래밍', '마케팅', '프로그래밍', '프로그래밍', '지식콘텐츠', '크리에이티브', '크리에이티브', '데이터사이언스', '프로그래밍', '데이터사이언스', '프로그래밍', '프로그래밍', '프로그래밍', '크리에이티브', '크리에이티브', '크리에이티브', '크리에이티브', '프로그래밍', '프로그래밍', '프로그래밍', '크리에이티브', '크리에이티브', '마케팅', '프로그래밍', '프로그래밍', '프로그래밍', '마케팅', '프로그래밍', '크리에이티브', '크리에이티브', '크리에이티브', '크리에이티브', '크리에이티브', '크리에이티브', '프로그래밍', '데이터사이언스', '프로그래밍', '프로그래밍', '데이터사이언스', '프로그래밍', '프로그래밍', '프로그래밍', '프로그래밍', '프로그래밍', '업무 생산성', '데이터사이언스', '데이터사이언스', '프로그래밍', '프로그래밍', '크리에이티브', '데이터사이언스', '크리에이티브', '프로그래밍', '프로그래밍', '프로그래밍', '크리에이티브', '프로그래밍', '업무 생산성', '크리에이티브', '마케팅', '부동산/금융', '업무 생산성', '업무 생산성', '크리에이티브', '부동산/금융', '부동산/금융', '부동산/금융', '마케팅', '마케팅', '프로그래밍', '프로그래밍', '크리에이티브', '크리에이티브', '크리에이티브', '크리에이티브', '크리에이티브', '데이터사이언스', '데이터사이언스', '데이터사이언스', '크리에이티브', '크리에이티브', '프로그래밍', '업무 생산성', '마케팅', '부동산/금융', '부동산/금융', '부동산/금융', '데이터사이언스', '데이터사이언스', '데이터사이언스', '크리에이티브', '데이터사이언스', '데이터사이언스', '데이터사이언스', '데이터사이언스', '데이터사이언스', '프로그래밍', '프로그래밍', '프로그래밍', '크리에이티브', '크리에이티브', '크리에이티브', '크리에이티브', '크리에이티브', '업무 생산성', '크리에이티브', '업무 생산성', '크리에이티브', '크리에이티브', '마케팅', '크리에이티브', '프로그래밍', '마케팅', '마케팅', '마케팅', '마케팅', '데이터사이언스', '크리에이티브', '프로그래밍', '크리에이티브', '크리에이티브', '크리에이티브', '마케팅', '업무 생산성', '업무 생산성', '업무 생산성', '데이터사이언스', '프로그래밍', '프로그래밍', '마케팅', '크리에이티브', '데이터사이언스', '프로그래밍', '데이터사이언스', '프로그래밍', '마케팅', '데이터사이언스', '크리에이티브', '크리에이티브', '데이터사이언스', '마케팅', '마케팅', '데이터사이언스', '데이터사이언스', '크리에이티브', '데이터사이언스', '데이터사이언스', '프로그래밍', '데이터사이언스', '프로그래밍', '프로그래밍', '프로그래밍', '데이터사이언스', '프로그래밍', '데이터사이언스', '업무 생산성', '데이터사이언스', '데이터사이언스', '데이터사이언스', '데이터사이언스', '데이터사이언스', '데이터사이언스', '크리에이티브', '데이터사이언스', '데이터사이언스', '데이터사이언스', '데이터사이언스', '데이터사이언스', '크리에이티브', '크리에이티브', '프로그래밍', '마케팅', '비즈니스', '크리에이티브', '업무 생산성', '데이터사이언스', '크리에이티브', '마케팅', '비즈니스', '크리에이티브', '비즈니스', '크리에이티브', '크리에이티브', '크리에이티브', '비즈니스', '데이터사이언스', '크리에이티브', '크리에이티브', '데이터사이언스', '데이터사이언스', '마케팅', '데이터사이언스', '데이터사이언스', '마케팅', '마케팅', '업무 생산성', '데이터사이언스', '데이터사이언스', '프로그래밍', '업무 생산성', '데이터사이언스', '데이터사이언스', '프로그래밍', '프로그래밍', '데이터사이언스', '데이터사이언스', '데이터사이언스', '크리에이티브', '크리에이티브', '마케팅', '마케팅', '마케팅', '프로그래밍', '데이터사이언스', '데이터사이언스', '데이터사이언스', '데이터사이언스', '마케팅', '마케팅', '프로그래밍', '크리에이티브', '크리에이티브', '프로그래밍', '데이터사이언스', '프로그래밍', '데이터사이언스', '크리에이티브', '크리에이티브', '프로그래밍', '크리에이티브', '프로그래밍', '프로그래밍', '프로그래밍', '데이터사이언스', '데이터사이언스', '마케팅', '데이터사이언스', '프로그래밍', '크리에이티브', '데이터사이언스', '데이터사이언스', '프로그래밍', '업무 생산성', '업무 생산성', '파이낸스', '파이낸스', '크리에이티브', '데이터사이언스', '마케팅', '크리에이티브', '프로그래밍', '프로그래밍', '데이터사이언스', '데이터사이언스', '데이터사이언스', '프로그래밍', '마케팅', '데이터사이언스', '데이터사이언스', '데이터사이언스', '크리에이티브', '프로그래밍', '프로그래밍', '크리에이티브', '크리에이티브', '업무 생산성', '크리에이티브', '프로그래밍', '파이낸스', '마케팅', '프로그래밍', '프로그래밍', '프로그래밍', '크리에이티브', '비즈니스', '프로그래밍', '비즈니스', '데이터사이언스', '데이터사이언스', '데이터사이언스', '프로그래밍', '크리에이티브', '크리에이티브', '데이터사이언스', '업무 생산성', '크리에이티브', '프로그래밍', '업무 생산성', '업무 생산성', '마케팅', '데이터사이언스', '크리에이티브', '크리에이티브', '업무 생산성', '업무 생산성', '마케팅', '프로그래밍', '프로그래밍', '프로그래밍', '프로그래밍', '프로그래밍', '크리에이티브', '데이터사이언스', '업무 생산성', '크리에이티브', '프로그래밍', '프로그래밍', '프로그래밍', '크리에이티브', '데이터사이언스', '크리에이티브', '데이터사이언스', '데이터사이언스', '데이터사이언스', '크리에이티브', '마케팅', '마케팅', '마케팅', '마케팅', '크리에이티브', '프로그래밍', '마케팅', '데이터사이언스', '프로그래밍', '마케팅', '크리에이티브', '데이터사이언스', '프로그래밍', '프로그래밍', '파이낸스', '마케팅', '크리에이티브', '크리에이티브', '크리에이티브', '크리에이티브', '마케팅', '데이터사이언스', '마케팅', '크리에이티브', '프로그래밍', '데이터사이언스', '데이터사이언스', '프로그래밍', '비즈니스', '파이낸스', '파이낸스', '비즈니스', '부동산/금융', '프로그래밍', '프로그래밍', '프로그래밍', '업무 생산성', '프로그래밍', '마케팅', '데이터사이언스', '프로그래밍', '프로그래밍', '크리에이티브', '마케팅', '프로그래밍', '데이터사이언스', '데이터사이언스', '크리에이티브', '비즈니스', '데이터사이언스', '파이낸스', '프로그래밍', '크리에이티브', '프로그래밍', '프로그래밍', '크리에이티브', '비즈니스', '비즈니스', '크리에이티브', '데이터사이언스', '마케팅', '비즈니스', '프로그래밍', '데이터사이언스', '크리에이티브', '데이터사이언스', '비즈니스', '비즈니스', '마케팅', '마케팅', '프로그래밍', '프로그래밍', '마케팅', '데이터사이언스', '크리에이티브', '프로그래밍', '크리에이티브', '데이터사이언스', '프로그래밍', '프로그래밍', '프로그래밍', '크리에이티브', '크리에이티브', '파이낸스', '크리에이티브', '마케팅', '데이터사이언스', '크리에이티브', '마케팅', '크리에이티브', '크리에이티브', '크리에이티브', '마케팅', '파이낸스', '크리에이티브', '데이터사이언스', '데이터사이언스', '프로그래밍', '크리에이티브', '프로그래밍', '크리에이티브', '프로그래밍', '프로그래밍', '프로그래밍', '데이터사이언스', '비즈니스', '크리에이티브', '비즈니스', '크리에이티브', '파이낸스', '데이터사이언스', '크리에이티브', '프로그래밍', '데이터사이언스', '데이터사이언스', '업무 생산성', '비즈니스', '데이터사이언스', '크리에이티브', '프로그래밍', '마케팅', '데이터사이언스', '프로그래밍', '프로그래밍', '크리에이티브', '데이터사이언스', '크리에이티브', '크리에이티브', '크리에이티브', '크리에이티브', '비즈니스', '데이터사이언스', '프로그래밍', '데이터사이언스', '크리에이티브', '프로그래밍', '프로그래밍', '마케팅', '프로그래밍', '크리에이티브', '프로그래밍', '데이터사이언스', '크리에이티브', '데이터사이언스', '비즈니스', '데이터사이언스', '크리에이티브', '부동산/금융', '부동산/금융', '프로그래밍', '부동산/금융', '프로그래밍', '파이낸스', '데이터사이언스', '데이터사이언스', '데이터사이언스', '데이터사이언스', '데이터사이언스', '프로그래밍', '프로그래밍', '데이터사이언스', '데이터사이언스', '데이터사이언스', '프로그래밍', '마케팅', '업무 생산성', '데이터사이언스', '데이터사이언스', '프로그래밍', '데이터사이언스', '데이터사이언스', '마케팅', '데이터사이언스', '데이터사이언스', '데이터사이언스', '마케팅', '크리에이티브', '데이터사이언스', '데이터사이언스', '데이터 사이언스', '데이터사이언스', '프로그래밍', '데이터사이언스', '데이터사이언스', '데이터사이언스', '마케팅', '크리에이티브', '데이터사이언스', '마케팅', '데이터사이언스', '마케팅', '마케팅', '크리에이티브', '크리에이티브', '데이터사이언스', '크리에이티브', '파이낸스', '크리에이티브', '파이낸스', '크리에이티브', '마케팅', '크리에이티브', '업무 생산성', '마케팅', '데이터사이언스', '크리에이티브', '업무 생산성', '마케팅', '마케팅', '데이터사이언스', '마케팅', '데이터사이언스', '마케팅', '크리에이티브', '마케팅', '마케팅', '마케팅', '마케팅', '마케팅', '크리에이티브', '크리에이티브', '업무 생산성', '파이낸스', '지식콘텐츠', '업무 생산성', '크리에이티브', '마케팅', '마케팅', '마케팅', '파이낸스', '크리에이티브', '부동산/금융', '데이터사이언스', '비즈니스', '데이터사이언스', '마케팅', '마케팅', '업무 생산성', '업무 생산성', '마케팅', '크리에이티브', '크리에이티브', '데이터사이언스', '크리에이티브', '업무 생산성', '데이터사이언스', '마케팅', '마케팅', '마케팅', '마케팅', '크리에이티브', '파이낸스', '마케팅', '크리에이티브', '파이낸스', '데이터사이언스', '데이터사이언스', '데이터사이언스', '데이터사이언스', '데이터사이언스', '데이터사이언스', '데이터사이언스', '마케팅', '크리에이티브', '마케팅', '크리에이티브', '데이터사이언스', '데이터사이언스', '데이터사이언스', '마케팅', '마케팅', '크리에이티브', '데이터사이언스', '데이터사이언스', '데이터사이언스', '데이터사이언스', '마케팅', '데이터사이언스', '크리에이티브', '업무 생산성', '업무 생산성', '데이터사이언스', '데이터사이언스', '데이터사이언스', '마케팅', '크리에이티브', '크리에이티브', '크리에이티브', '크리에이티브', '데이터사이언스', '데이터사이언스', '크리에이티브', '크리에이티브', '마케팅', '마케팅', '업무 생산성', '크리에이티브', '크리에이티브', '마케팅', '파이낸스', '크리에이티브', '데이터사이언스', '데이터사이언스', '업무 생산성', '크리에이티브', '마케팅', '마케팅', '비즈니스', '크리에이티브', '데이터사이언스', '크리에이티브', '업무 생산성', '크리에이티브', '크리에이티브', '비즈니스', '비즈니스', '크리에이티브', '비즈니스', '데이터사이언스', '크리에이티브', '파이낸스', '마케팅', '마케팅', '크리에이티브', '마케팅', '비즈니스', '크리에이티브', '크리에이티브', '파이낸스', '비즈니스', '비즈니스', '크리에이티브', '크리에이티브', '데이터사이언스', '데이터사이언스', '데이터사이언스', '크리에이티브', '마케팅', '크리에이티브', '크리에이티브', '크리에이티브', '크리에이티브', '마케팅', '마케팅', '마케팅', '크리에이티브', '마케팅', '마케팅', '데이터사이언스', '데이터사이언스', '데이터사이언스', '크리에이티브', '크리에이티브', '크리에이티브', '데이터사이언스', '크리에이티브', '크리에이티브', '데이터사이언스', '부동산/금융', '데이터사이언스', '마케팅', '크리에이티브', '크리에이티브', '크리에이티브', '파이낸스', '파이낸스', '크리에이티브', '데이터사이언스', '데이터사이언스', '마케팅', '마케팅', '데이터사이언스', '마케팅', '데이터사이언스', '마케팅', '마케팅', '크리에이티브', '데이터사이언스', '데이터사이언스', '데이터사이언스', '파이낸스', '마케팅', '크리에이티브', '크리에이티브', '데이터사이언스', '크리에이티브', '마케팅', '크리에이티브', '비즈니스', '마케팅', '부동산/금융', '데이터사이언스', '데이터사이언스', '크리에이티브', '비즈니스', '크리에이티브', '크리에이티브', '데이터사이언스', '데이터사이언스', '마케팅', '데이터사이언스', '마케팅', '파이낸스', '데이터사이언스', '데이터사이언스', '데이터사이언스', '프로그래밍', '데이터사이언스', '크리에이티브', '데이터사이언스', '데이터사이언스', '크리에이티브', '데이터사이언스', '데이터사이언스', '업무 생산성', '크리에이티브', '크리에이티브', '데이터사이언스', '마케팅', '크리에이티브', '업무 생산성', '데이터사이언스', '크리에이티브', '데이터사이언스', '데이터사이언스', '크리에이티브', '크리에이티브', '데이터사이언스', '크리에이티브', '데이터사이언스', '데이터사이언스', '데이터사이언스', '크리에이티브', '데이터사이언스', '크리에이티브', '데이터사이언스', '데이터사이언스', '업무 생산성', '크리에이티브', '크리에이티브', '크리에이티브', '마케팅', '크리에이티브', '업무 생산성', '데이터사이언스', '데이터사이언스', '크리에이티브', '크리에이티브', '데이터사이언스', '데이터사이언스', '크리에이티브', '크리에이티브', '크리에이티브', '크리에이티브', '데이터사이언스', '마케팅', '업무 생산성', '부동산/금융', '데이터사이언스', '부동산/금융', '부동산/금융', '데이터사이언스', '부동산/금융', '데이터사이언스', '크리에이티브', '크리에이티브', '업무 생산성', '업무 생산성', '업무 생산성', '업무 생산성', '크리에이티브', '마케팅', '데이터사이언스', '크리에이티브', '크리에이티브', '부동산/금융', '부동산/금융', '데이터사이언스', '크리에이티브', '업무 생산성', '데이터사이언스', '데이터사이언스', '크리에이티브', '크리에이티브', '데이터사이언스', '크리에이티브', '업무 생산성', '데이터사이언스', '데이터사이언스', '업무 생산성', '업무 생산성', '업무 생산성', '크리에이티브', '크리에이티브', '데이터사이언스', '크리에이티브', '크리에이티브', '크리에이티브', '업무 생산성', '크리에이티브', '크리에이티브', '크리에이티브', '크리에이티브', '크리에이티브', '크리에이티브', '데이터사이언스', '데이터사이언스', '업무 생산성', '데이터사이언스', '데이터사이언스', '데이터사이언스', '데이터사이언스', '크리에이티브', '업무 생산성', '크리에이티브', '크리에이티브', '데이터사이언스', '데이터사이언스', '데이터사이언스', '부동산/금융', '크리에이티브', '부동산/금융', '부동산/금융', '업무 생산성', '크리에이티브', '부동산/금융', '업무 생산성', '부동산/금융', '데이터사이언스', '부동산/금융', '크리에이티브', '데이터사이언스', '데이터사이언스', '데이터사이언스', '데이터사이언스', '업무 생산성', '데이터사이언스', '데이터사이언스', '데이터사이언스', '업무 생산성', '마케팅', '마케팅', '부동산/금융', '마케팅', '데이터사이언스', '부동산/금융', '데이터사이언스', '크리에이티브', '데이터사이언스', '크리에이티브', '데이터사이언스', '데이터사이언스', '데이터사이언스', '크리에이티브', '데이터사이언스', '데이터사이언스', '크리에이티브', '크리에이티브', '크리에이티브', '데이터사이언스', '데이터사이언스', '마케팅', '데이터사이언스', '데이터사이언스', '데이터사이언스', '크리에이티브', '데이터사이언스', '데이터사이언스', '부동산/금융', '크리에이티브', '크리에이티브', '데이터사이언스', '부동산/금융', '데이터사이언스', '크리에이티브', '크리에이티브', '크리에이티브', '데이터사이언스', '데이터사이언스', '데이터사이언스', '데이터사이언스', '데이터사이언스', '부동산/금융', '업무 생산성', '업무 생산성', '업무 생산성', '크리에이티브', '크리에이티브', '크리에이티브', '크리에이티브', '크리에이티브', '크리에이티브', '데이터사이언스', '데이터사이언스', '부동산/금융', '부동산/금융', '데이터사이언스', '크리에이티브', '크리에이티브', '크리에이티브', '데이터사이언스', '데이터사이언스', '데이터사이언스', '데이터사이언스', '업무 생산성', '업무 생산성', '데이터사이언스', '크리에이티브', '크리에이티브', '데이터사이언스', '데이터사이언스', '크리에이티브', '데이터사이언스', '크리에이티브', '데이터사이언스', '크리에이티브', '업무 생산성', '부동산/금융', '크리에이티브', '크리에이티브', '데이터사이언스', '부동산/금융', '부동산/금융', '데이터사이언스', '데이터사이언스', '프로그래밍', '프로그래밍', '영상/3D', '디자인', '프로그래밍', '프로그래밍', '디자인', '디자인', '영상/3D', '데이터사이언스', '데이터사이언스', '프로그래밍', '업무 생산성', '프로그래밍', '프로그래밍', '프로그래밍', '프로그래밍', '디자인', '디자인', '프로그래밍', '프로그래밍', '데이터사이언스', '데이터사이언스', '데이터사이언스', '데이터사이언스', '마케팅', '크리에이티브', '프로그래밍', '영상/3D', '데이터사이언스', '프로그래밍', '프로그래밍', '프로그래밍', '데이터사이언스', '영상/3D', '영상/3D', '디자인', '디자인', '크리에이티브', '데이터사이언스', '영상/3D', '부동산/금융', '프로그래밍', '프로그래밍', '프로그래밍', '부동산/금융', '마케팅', '데이터사이언스', '디자인', '부동산/금융', '크리에이티브', '마케팅', '업무 생산성', '마케팅', '프로그래밍', '데이터사이언스', '프로그래밍', '디자인', '마케팅', '크리에이티브', '크리에이티브', '영상/3D', '디자인', '데이터사이언스', '업무 생산성', '마케팅', '데이터사이언스', '데이터사이언스', '디자인', '데이터사이언스', '데이터사이언스', '영상/3D', '부동산/금융', '크리에이티브', '디자인', '부동산/금융', '데이터사이언스', '데이터사이언스', '프로그래밍', '프로그래밍', '크리에이티브', '데이터사이언스', '프로그래밍', '부동산/금융', '부동산/금융', '프로그래밍', '영상/3D', '크리에이티브', '업무 생산성', '프로그래밍', '디자인', '데이터사이언스', '업무 생산성', '프로그래밍', '데이터사이언스', '데이터사이언스', '데이터사이언스', '데이터사이언스', '데이터사이언스', '크리에이티브', '데이터사이언스', '디자인', '프로그래밍', '마케팅', '데이터사이언스', '데이터사이언스', '데이터사이언스', '크리에이티브', '마케팅', '디자인', '영상/3D', '프로그래밍', '데이터사이언스', '프로그래밍', '프로그래밍', '데이터사이언스', '디자인', '프로그래밍']\n"
     ]
    }
   ],
   "source": [
    "a = df1[df1['subcategory_title'].isnull()]\n",
    "s = []\n",
    "for i in a['category_title']:\n",
    "    L = df1.loc[df1['subcategory_title'] != df1['subcategory_title'], 'subcategory_title'] = i\n",
    "    s.append(L)\n",
    "print(s)"
   ]
  },
  {
   "cell_type": "markdown",
   "id": "4e179729",
   "metadata": {},
   "source": [
    "unique 가 왜 늘어났지?"
   ]
  },
  {
   "cell_type": "code",
   "execution_count": null,
   "id": "17ca17e4",
   "metadata": {},
   "outputs": [],
   "source": []
  },
  {
   "cell_type": "markdown",
   "id": "01d5ea46",
   "metadata": {},
   "source": [
    "# 보류) 구매결정 요인이 아니라고 보이는  'coupon_title' 732건, 195종\n",
    "### 서포터즈, 강사용, 테스트, 직원검수 등 \n",
    "### 문제는\n",
    "- B2G 제공강좌 쿠폰은 어떻게 할꺼야? B2G도 선행 학습이나 이런거 보고 신청할 수도 있는데\n",
    "- 강사 지인이나 이런건데 또 결제금액이 있는 것도 있고\n",
    "- 쿠폰 중 실결제가가 0원인걸 하자니 1+1이 있고"
   ]
  },
  {
   "cell_type": "code",
   "execution_count": 193,
   "id": "9b6fde87",
   "metadata": {},
   "outputs": [
    {
     "data": {
      "text/plain": [
       "(495,\n",
       " array([nan, '[10% 할인] 시크릿코드 실무 완성편', '[웰컴쿠폰] 올인원 패키지 2만원 할인 쿠폰',\n",
       "        '[웰컴쿠폰] 올인원 패키지 1만원 할인 쿠폰', '[웰컴쿠폰] 온라인 완주반 5만원 할인 쿠폰',\n",
       "        '?즉시할인 쿠폰 코드 : spring5% ?', '[럭키룰렛] 올인원패키지',\n",
       "        '[웰컴쿠폰] 올인원 패키지 3만원 할인 쿠폰', '타이포그래피 기수강생 할인 쿠폰',\n",
       "        '[할인쿠폰] 파이낸스 카테고리 올인원 패키지 30% 할인 (금융 아카데미 제외)', '[럭키룰렛] 완주반',\n",
       "        '[10% 할인] 프론트엔드 실무 완성편',\n",
       "        '한 번에 끝내는 Java/Sring 웹 개발 마스터 초격차 패키지 무료 쿠폰 (-2/28)',\n",
       "        '수강생 50만명 돌파 기념 감사제 쿠폰', '올인원 패키지 : 타이포그래피와 편집디자인 강의 수강권',\n",
       "        '[무료수강권] 강의 검수용_이호상 PM님', '패캐머_온라인 쿠폰 !',\n",
       "        '[무료수강권] 파이낸스 카테고리 올인원 패키지_대체투자 자산운용 실무 영상 오픈 일정 변경',\n",
       "        '한 번에 끝내는 반복 업무 자동화 초격차 패키지 사용 가능 쿠폰', 'crm 검수용 쿠폰 aop',\n",
       "        '[쿠폰재발급]수강생 50만명 돌파 기념 감사제 쿠폰', '[재발급] 페이백 쿠폰',\n",
       "        '[무료수강권] 강의검수용_강사님 쿠폰_박혜린 강사님', '신해동 발행 쿠폰', '[무료수강권] 강사님 제공용 RED',\n",
       "        '[무료수강권] 강사님 제공용', '[할인쿠폰] 영상/디자인 카테고리 올인원 패키지 5만원 할인_영상 오픈 일정 변경',\n",
       "        '[무료수강권] 내부직원 검수용 RED',\n",
       "        '[무료수강권] 올인원 패키지 : 인스타를 성장시킨 50명의 성공 방정식 강의검수용_강사님 쿠폰', '올인원패키지',\n",
       "        '[무료수강권] 내부직원 강의 검수용',\n",
       "        '[무료수강권] 권오상 회계사의 자금조달 분석 및 가치평가_23기 신동현 수강생님',\n",
       "        '[재발급] [웰컴쿠폰] 올인원 패키지 3만원 할인 쿠폰', '[무료수강권] 완주반 후기 리워드',\n",
       "        '[할인쿠폰] 초격차 패키지 디자인 툴 5만원 기수강생 할인 쿠폰', 'SQLD 합격패스_5만원 보상 쿠폰',\n",
       "        'Vue.js 압축 완성 강의', '[무료수강권] CRM팀 테스트용_김경진 개인계정 (이메일 인증 안 된 계정)',\n",
       "        '[쿠폰재발급][웰컴쿠폰] 올인원 패키지 3만원 할인 쿠폰',\n",
       "        '[쿠폰재발급][웰컴쿠폰] 올인원 패키지 2만원 할인 쿠폰',\n",
       "        '[20% 할인 쿠폰] 올인원 패키지 : 엑셀언니의 사무실용 엑셀뿌수기',\n",
       "        '이지웰 쿠폰_직장인 필수 스킬 3종 세트 MAX', '올인원 패키지 보상 쿠폰 1', '올인원 패키지 보상 쿠폰 2',\n",
       "        '[무료수강권] 파이썬 웹 개발 올인원 패키지_조성준 강사님', '[웰컴쿠폰] 개발자의 시크릿코드 5만원 할인쿠폰',\n",
       "        '[폐강 보상] 온라인 완주반 100% 할인 쿠폰', '[웰컴쿠폰] 온라인 완주반 10% 할인 쿠폰',\n",
       "        '[무료수강권] 권오상 회계사의 금융 아카데미 - 재무제표 기초',\n",
       "        '[무료수강권] 머신러닝과 데이터 분석 A to Z', '[99,000원] 시크릿코드 프론트엔드 실무 완성편',\n",
       "        'GA4 30% 할인쿠폰', '[20% 할인] 완주반 1주년 기념 쿠폰',\n",
       "        '[7만원] 완주반 1주년 VIP 할인 쿠폰', '프론트엔드(React)기수강생 설문지 할인 쿠폰',\n",
       "        '패캐머_온라인 쿠폰', '서포터즈 1기 리워드 (유니티 게임 포트폴리오 완성)',\n",
       "        '서포터즈 1기 리워드 (인스타를 성장시킨 50명의 성공방정식)',\n",
       "        '서포터즈 1기 리워드 (한번에 끝내는 영상 촬영과 편집)',\n",
       "        '서포터즈 1기 리워드 (100억을 움직이는 단 10장의 PPT)',\n",
       "        '서포터즈 1기 리워드 (FAST MBA 2020 )', '서포터즈 1기 리워드 (완전정복! 시각디자인 기초)',\n",
       "        '서포터즈 1기 리워드 (파이썬 웹 개발)', '서포터즈 1기 리워드 (디지털 마케팅 MAX)',\n",
       "        '서포터즈 1기 리워드 (퀴즈처럼 풀면서 배우는 파이썬 머신러닝 300제+)',\n",
       "        '서포터즈 1기 리워드 (타이포그래피와 편집디자인 by 인디자인(Indesign))',\n",
       "        '패캐머_온라인 쿠폰! (CRM팀)', '서포터즈 1기 리워드 (구글 애널리틱스)',\n",
       "        '[재결제발급][럭키룰렛] 올인원패키지', '[완주반 1주년 기념 20% 할인 쿠폰]',\n",
       "        '서포터즈 전용 | 한번에 끝내는 영상 촬영과 편집 초격차 패키지 무료 수강 쿠폰',\n",
       "        '서포터즈 전용 | 디지털 마케팅 MAX 올인원 패키지 무료 수강 쿠폰',\n",
       "        '서포터즈 전용 | 한 번에 끝내는 데이터 분석 툴 초격차 패키지 무료 수강 쿠폰',\n",
       "        '서포터즈 전용 | 100억을 움직이는 단 10장의 PPT 올인원 패키지 무료 수강 쿠폰',\n",
       "        '서포터즈 1기 리워드 (십분만에 끝낸다 십다 프리미어)',\n",
       "        '서포터즈 전용 | 한 번에 끝내는 모션그래픽 초격차 패키지 무료 수강 쿠폰',\n",
       "        '서포터즈 전용 | 한번에 끝내는 Java/Spring 웹 개발 마스터 초격차 패키지 무료 수강 쿠폰',\n",
       "        '서포터즈 전용 | 한 번에 끝내는 디자인 툴 초격차 패키지 무료 수강 쿠폰',\n",
       "        '[무료수강권] 한번에 끝내는 UX/UI 디자인 초격차_김수윤 강사님',\n",
       "        '눈치게임 이벤트 33% 페이백 쿠폰 (~04/19, 쿠폰 적용 시 환급 제도 적용 불가)',\n",
       "        '프로젝트로 배우는 부동산 PF 17기_REC.ON:VC', '[무료수강권] 데이터 기반 마케팅_박선민 강사님',\n",
       "        '[쿠폰미사용재발급][20% 할인] 완주반 1주년 기념 쿠폰', '[무료수강권] 내부직원용', '샘플',\n",
       "        '[마크업 언어 심화 편 출시 기념] 시크릿코드 10% 할인 쿠폰',\n",
       "        '주니버시티 리워드 : 올인원 패키지_이커머스 데이터 분석 무료수강권',\n",
       "        '주니버시티 리워드 : 올인원 패키지 무료수강권 1매', '?즉시할인 쿠폰 코드 : april5% ?',\n",
       "        '[무료수강권] 파이썬을 활용한 이커머스 데이터 분석_데이터분석 거북이반_박솔 수강생님',\n",
       "        '[무료수강권] 파이썬을 활용한 이커머스 데이터 분석_데이터분석 꼬끼오반_이진희 수강생님', '1+1 쿠폰',\n",
       "        '[무료수강권] 엑셀언니의 사무실용 엑셀뿌수기_황인영 강사님',\n",
       "        '[무료수강권] 기업가치평가와 M&A 전략 실무_황인영 강사님',\n",
       "        '[무료수강권] 파이썬을 활용한 이커머스 데이터 분석_데이터분석 올빼미반', '올인원 패키지 : 딥러닝/인공지능',\n",
       "        '[내부직원] 테스트용 결제 쿠폰', '[무료수강권] 초격차 패키지: 한 번에 끝내는 디자인 툴_윤소라 CM님',\n",
       "        '[무료수강권] 마디아의 UX/UI 포트폴리오_마디아(이승훈) 강사님', '올인원 패키지 : 모두를 위한 SQL/DB',\n",
       "        '스프링 아카데미아 자유이용 수강권 (강의 1)', '스프링 아카데미아 자유이용 수강권 (강의 2)',\n",
       "        '[무료수강권] AOP 강의 검수용_어효경님', '[무료수강권] 권오상 회계사의 자금조달 및 가치평가_내부 검수용',\n",
       "        '[재결제쿠폰]올인원 패키지 : C++ 실력완성',\n",
       "        '[무료수강권] 파이썬을 활용한 이커머스 데이터 분석_데이터분석 꼬끼오반_임유진 수강생님',\n",
       "        '[무료수강권] 파이썬 웹 개발 올인원 패키지_이은찬 강사님',\n",
       "        '[무료수강권] 올인원 패키지 (일부 강의 제외)_박솔 수강생님', '?즉시할인 쿠폰 코드 : sawol5% ?',\n",
       "        '이지웰 쿠폰_직장인 회계 첫걸음', '[20% 할인] 완주반 1주년 기념 연장 쿠폰',\n",
       "        '[무료수강권] 파이썬을 활용한 시계열 데이터 분석 A-Z_완주반 리워드_김혁진 수강생님',\n",
       "        '[무료수강권] 내부 직원용_김준홍님',\n",
       "        '[무료수강권] AWS/Docker 실전 클라우드 서버 구축 올인원 패키지_완주반 리워드_박진용 수강생님',\n",
       "        '[무료수강권] 모두를 위한 SQL/DB 올인원 패키지_박원빈 강사님',\n",
       "        '[아파트말고 부동산 재테크 시작하기] 출시기념 30% 할인쿠폰', '올인원패키지 수강 쿠폰', '신해동 쿠폰',\n",
       "        '[할인쿠폰] 권오상의 금융아카데미 - 재무제표 심화 : 기초강의 결제 대상자',\n",
       "        '[무료수강권] 강의 검수용 무료 수강권 (패캐머용)', '이지웰 쿠폰_부동산 투자',\n",
       "        '[할인쿠폰] 권오상 회계사의 금융 아카데미 - 재무제표 분석 기초_출시알림 신청자 할인', '예스폼 검수용 쿠폰',\n",
       "        '테스트쿠폰', '초격차 패키지 : 한번에 끝내는 3D 디자인툴 30% 할인 쿠폰',\n",
       "        '[무료수강권] 캐글 1위와 풀어보는 머신러닝 입문 트레이닝', '4월 1+1 페이백 이벤트 쿠폰',\n",
       "        '[무료수강권] 소금툰과 함께 캐릭터 드로잉/굿즈/임티/컷툰_진정민 강사님', '업무용',\n",
       "        '[쿠폰재발급]4월 1+1 페이백 이벤트 쿠폰',\n",
       "        '[무료수강권] 한 번에 끝내는 데이터 분석 툴 초격차 패키지_김유석 강사님',\n",
       "        '[무료수강권] 모두를 위한 SQL/DB 올인원 패키지_김유석 강사님', '완주반 코스 등록 쿠폰',\n",
       "        '[무료수강권] 권오상의 금융 아카데미 - 재무제표 분석 심화_재무제표 분석 23기 수강생용',\n",
       "        '[무료수강권] 강의 검수용_조은주 매니저님',\n",
       "        '[무료수강권] 올인원 패키지 (일부 강의 제한)_주니버시티: 데이터분석 거북이반_홍정기 수강생님',\n",
       "        '[무료수강권] 시각디자인 기초_이진우, 최세진 강사님', '완주반 100% 페이백 당첨!',\n",
       "        '한번에 끝내는 PPT 제작/디자인 초격차 패키지 30% 할인 쿠폰!',\n",
       "        '[6만원 할인] 시크릿코드 : 프론트엔드 실무 완성 편', '[재결제] 올인원 패키지 : 부동산 디벨로퍼',\n",
       "        '[무료수강권] The RED: 프론트엔드 Back to the Basic (by 김태곤)',\n",
       "        '강의 제작 참고용 (강사님)', '[★강사님이 쏜다★] 비즈니스 영어 10분컷 20% 할인 쿠폰 (~ 5/31)',\n",
       "        '[무료수강권] 강사님 지인 제공용', '[무료수강권] RED 검수용_지민정 매니저님',\n",
       "        '[무료수강권] 업무자동화 MAX_업무자동화 수강후기 작성_김동규 수강생님', '5월 5일 어른이날 기념 5%쿠폰',\n",
       "        '?즉시할인 쿠폰 코드 : adult5% ?', '[무료수강권] 한번에 끝내는 데이터 분석 툴',\n",
       "        '한 번에 끝내는 Java/Sring 웹 개발 마스터 초격차 패키지 무료 쿠폰',\n",
       "        '[무료수강권] 강의 검수용_하수진 매니저님', '[무료수강권] 부동산 디벨로퍼', '[무료수강권] 부동산 투자',\n",
       "        '[★흥버튼이 쏜다★] 스피치 10분컷 20% 할인 쿠폰 (~ 5/31)',\n",
       "        '스프링 아카데미아 자유이용 수강권 (강의 4)', '[특별쿠폰] 올인원 패키지 : Node 웹 프로그래밍 구매자',\n",
       "        '[무료수강권] 모델 성능 개선으로 익히는 강화 학습_김성제 강사님',\n",
       "        '[★이지쌤이 쏜다★] PPT 10분컷 20% 할인 쿠폰 (~ 5/31)',\n",
       "        '[50% 할인] 너도 상위 5% 할 수 있어', '[10% 할인] 5/16 자정까지 사용 가능!',\n",
       "        'TEST이제너두_직장인을 위한 파이썬 데이터 분석',\n",
       "        '[무료수강권] 퀴즈처럼 풀면서 배우는 파이썬 머신러닝 300제_데이터분석 올빼미반',\n",
       "        '서포터즈 전용 | 완전정복! 시각디자인 기초 올인원 패키지 무료 수강 쿠폰 (장희란님)',\n",
       "        '[무료수강권] 내부 직원 강의 검수용',\n",
       "        '아이패드 배송 지연 보상 온라인 100% 할인 쿠폰 (중복 3회 사용 가능)',\n",
       "        '[10% 할인 쿠폰] 옥테인 렌더 BASIC 오픈 기념',\n",
       "        '[무료수강권] 김민태의 프론트 아카데미 제 1강_박은종 강사님', 'TEST', '[럭키룰렛] 개발자의 시크릿코드',\n",
       "        '[무료수강권] AOP 수강권_이동근 PD님', '[만원 할인] 옥테인 렌더 BASIC 오픈 기념',\n",
       "        '[15,000원 할인] 옥테인 렌더 BASIC 오픈 기념 할인 쿠폰',\n",
       "        '[15,000원 할인] 옥테인 렌더 BASIC 할인',\n",
       "        '[무료수강권] 초격차 패키지: 한 번에 끝내는 코딩테스트 369 Java편_이준희 강사님',\n",
       "        '[웰컴쿠폰] 올인원 패키지 2만원 할인 쿠폰_재발급', '[무료수강권] 강사님 제공용_올인원 패키지',\n",
       "        '누구보다 빠르게 ｜ 드로잉 10분컷 10% 할인 쿠폰 (~5/16)',\n",
       "        '스프링 아카데미아 자유이용 수강권 (강의 3)', '[무료수강권] RED 강의 검수용_홍승희 매니저님',\n",
       "        '[5% 할인] 10분컷 카톡 플친 전용 할인 쿠폰', '[무료수강권] 강의 검수용_최현우 매니저님',\n",
       "        '[무료수강권] 강의 검수용_이호상 PM님 (RED)',\n",
       "        '[무료수강권] 올인원 패키지 (일부 강의 제한)_주니버시티: JS&React 거북이반_김은해 수강생님 (1)',\n",
       "        '[무료수강권] 올인원 패키지 : 소금툰과 함께 캐릭터 드로잉/굿즈/임티/컷툰_장혜리 매니저님',\n",
       "        '올인원 패키지 : 컴퓨터공학 전공 필수', '[무료수강권] 초격차 패키지: 한 번에 끝내는 디자인 툴_이우철 강사님',\n",
       "        '글담X패스트캠퍼스 무료수강권 제공 이벤트 쿠폰',\n",
       "        '초격차패키지 : 이지쌤과 한번에 끝내는 실무 PPT 강사검수용쿠폰 - 이지쌤',\n",
       "        '[무료수강권] 완전정복! 시각디자인 기초_박부미 강사님', '[30%할인] 개인화마케팅',\n",
       "        '★블랙 멤버십 멤버 전용 7만원 할인 쿠폰★ (~ 5/31)', '[5만원] 피드백 감사 할인 쿠폰',\n",
       "        '초격차 패키지 : 한번에 끝내는 3D 모션그래픽 30% 할인쿠폰',\n",
       "        '[5만원 할인] 엑셀 + 데이터분석 완주반 시크릿 쿠폰', '호준 테스트',\n",
       "        '이웅모 강사님 강의 준비용 쿠폰 발급_올인원 패키지 : 김민태의 프론트엔드 아카데미 : 제 1강 JavaScript & TypeScript Essential',\n",
       "        '이웅모 강사님 강의 준비용 쿠폰 발급_초격차 패키지 : 한 번에 끝내는 node.js 웹 프로그래밍',\n",
       "        '이웅모 강사님 강의 준비용 쿠폰 발급_초격차 패키지 : 한 번에 끝내는 코딩테스트 369 Java편',\n",
       "        '[무료수강권] 초격차 패키지: 30개 프로젝트로 배우는 Android 앱 개발 with Kotlin_이기정 강사님',\n",
       "        '[3만원 할인] 엑셀 + 데이터분석 완주반 시크릿 쿠폰', '10분 컷 100% 할인 쿠폰',\n",
       "        '[무료수강권] GA4 탑재, 구글 애널리틱스 끝장내기_최윤정 마케터님',\n",
       "        '[무료수강권] 30개 프로젝트로 배우는 Android 앱 개발_최종원 강사님',\n",
       "        '[무료수강권] iOS 앱 개발 올인원 패키지_최종원 강사님', '[10% 할인] 완주반 카톡 플친 전용 할인 쿠폰',\n",
       "        '[패스트캠퍼스] 올인원 패키지: 컴퓨터 공학 전공_박용현 강사님',\n",
       "        '[무료수강권] GA4 탑재, 구글 애널리틱스 끝장내기_안혜진 강사님',\n",
       "        '스프링 아카데미아 자유이용 수강권 (강의 5)', '이제너두_영상 제작편집',\n",
       "        '[특별쿠폰] 올인원 패키지 : 파이썬 웹 개발 구매자', '[디자인 툴] 기수강생 5만원 구매 쿠폰',\n",
       "        'PM 내부직원 강의 검수용 무료쿠폰', '[재결제쿠폰]초격차 패키지 : 한 번에 끝내는 엑셀 실무',\n",
       "        '[재결제쿠폰]올인원 패키지 : 100억을 움직이는 단 10장의 PPT', '[무료수강권] 부동산 투자_이해진 강사님',\n",
       "        '강의 검수용 강사 무료수강쿠폰', '★블랙멤버십 멤버 전용 7만원 할인 쿠폰★ (~6/30)',\n",
       "        '이제너두_직장인을 위한 파이썬 데이터 분석',\n",
       "        '[서포터즈 전용] 소금툰과 함께 캐릭터 드로잉/굿즈/임티/컷툰 무료 수강',\n",
       "        '[서포터즈 전용] Financial Modeling 무료 수강',\n",
       "        '[서포터즈 전용] 재무/세무 회계 실무 완성 무료 수강',\n",
       "        '[서포터즈 전용] 한 번에 끝내는 node.js 웹 프로그래밍 무료 수강',\n",
       "        '[서포터즈 전용] 파이썬 기초부터 시작하는 딥러닝 영상인식 무료 수강',\n",
       "        '[서포터즈 전용] 완전정복 시각디자인 기초 무료 수강',\n",
       "        '[서포터즈 전용] 바다가 알려주는 감성가득 영상 제작 무료 수강',\n",
       "        '[서포터즈 전용] 피피티프로젝트의 누구나 쉽게 배우는 시선강탈 피피티 디자인 무료 수강',\n",
       "        '[서포터즈 전용] GA4 탑재, 구글 애널리틱스 끝장내기 무료 수강', '[무료수강권] RED 검수용_공정필 PM님',\n",
       "        '오늘 단 하루! 하루 10분컷 5%할인 (~6/2)', '[50,000원] 엑셀+데이터분석 특별 할인 쿠폰',\n",
       "        '[시크릿쿠폰] 편집하는여자 20% 할인쿠폰',\n",
       "        '[무료수강권] 한 번에 끝내는 Java/Spring 웹 개발 마스터 초격차 패키지_안성훈 강사님',\n",
       "        '[무료수강권] 김재하 강사님', '[무료수강권] 박지우 강사님',\n",
       "        '[무료수강권] 올인원 패키지 (일부 강의 제한)_주니버시티: 데이터분석 거북이반_이선율 수강생님',\n",
       "        '[무료수강권] core MBA_결제 메일 확인용', '[특별쿠폰] 이안 굿펠로의 딥러닝 온라인 완독반 1기',\n",
       "        '모든 완주반 無조건 5만원 할인 (~6/13)', '[무료수강권] 토지개발_김민근 강사님',\n",
       "        '[무료수강권] 부동산 마케팅_김민근 강사님', '[무료수강권] 인허가_김민근 강사님',\n",
       "        '[무료수강권] 대체투자 자산운용 실무_김민근 강사님', '[무료수강권] 주거용 수익형 부동산 개발_김민근 강사님',\n",
       "        '[무료수강권] 통계와 엑셀을 활용한 데이터 분석_이민규 강사님', '5월 페이백 프로모션 쿠폰',\n",
       "        '[서포터즈 전용] 재무/세무 회계 실무 완성 무료 수강 (유현경님)',\n",
       "        '[분할결제쿠폰]초격차 패키지 : 한 번에 끝내는 node.js 웹 프로그래밍_64,542원결제',\n",
       "        '[분할결제쿠폰]초격차 패키지 : 한 번에 끝내는 node.js 웹 프로그래밍_30,458원결제',\n",
       "        '[권오상의 금융아카데미 3탄] 5만원 시크릿 쿠폰', '[권오상의 금융아카데미 3탄] 10% 시크릿 쿠폰',\n",
       "        '[권오상3탄] 출시알람자 대상 10% 할인 쿠폰', '[무료수강권] 강의 참고용 발행_강사님',\n",
       "        '[94,000] 데이터 사이언스 쿠폰_현지님 전용', '[테스트쿠폰] 네이버 페이 간편결제 테스트용 쿠폰',\n",
       "        '디지털 마케팅 MAX 무료 수강 쿠폰 (신수현)', '블랙멤버십 친구 추천 완주반 10% 할인 쿠폰 (~6/30)',\n",
       "        '[무료수강권] 완전정복! 시각디자인 기초_김진희 강사님', '테스트_전지현',\n",
       "        '[무료수강권] 디지털 마케팅 MAX 2020_이민규 강사님', '강의 제작 참고용', '[무료수강권] 유민상 강사님',\n",
       "        '[시크릿쿠폰] 유튜브 크리에이터 되기 20% 할인쿠폰',\n",
       "        '[할인쿠폰] 패스트캠퍼스X까망고니 3D 디자인 툴 초격차 패키지 특별 할인 쿠폰',\n",
       "        '[패스트캠퍼스] 올인원 패키지 : 파이썬 웹 개발 기수강생 30% 할인 쿠폰',\n",
       "        '[20%할인]데이터 분석 초격차 패키지', '[플친 추가 기념] 완주반 10% 할인 쿠폰 (~ 6/30)',\n",
       "        '<시크릿코드 : 프론트엔드 실무 완성 편> 특별 할인 쿠폰 (UI컴포넌트편 구매자 전용)',\n",
       "        '특별 할인 쿠폰(신해동)', '[50,000원] 딱 3일만! 특별 할인 쿠폰 드려요! (~6/20)',\n",
       "        '[15%시크릿쿠폰] 김영하 작가의 내 안의 숨은 이야기를 찾아 쓰는 법',\n",
       "        '[플친 추가 기념] 하루 10분컷 5% 할인 쿠폰 (~ 6/30)',\n",
       "        '이번주 한정! 10분컷 5% 할인 쿠폰 (~ 6/20)', '개발실 동영상 시청 기록 점검용',\n",
       "        '[일주일한정] 플러스 친구 1만원 즉시할인 쿠폰', '[무료수강권] 올인원 패키지 수강권_서영웅 강사님',\n",
       "        'RED 이동주님 강의 참고용 쿠폰',\n",
       "        '[선착순 100명 한정 20% 특별할인] C#으로 하는 인공지능 게임 제작 : 강화학습 에이전트를 사용한 보드게임 제작 실습',\n",
       "        '[재결제쿠폰][일주일한정] 플러스 친구 1만원 즉시할인 쿠폰',\n",
       "        '[재발급][일주일한정] 플러스 친구 1만원 즉시할인 쿠폰', 'sk 주식 강의 50% 할인 쿠폰',\n",
       "        '[시크릿쿠폰] 초격차 포토샵 활용 20% 할인쿠폰',\n",
       "        '[무료수강권] 15명의 전문 애널리스트에게 배우는 산업&매크로 분석과 투자 전략',\n",
       "        '[분할결제]올인원 패키지 : 엑셀 실무 마스터_117,500원', '마케팅 강의 검수용 쿠폰 발급',\n",
       "        '올인원 패키지 : 네트워크와 보안 핵심 요약', '아이패드드로잉 5000원 반짝 할인쿠폰',\n",
       "        '[할인쿠폰] 아이패드 드로잉 초격차 작가님 전용 5,000원 할인 쿠폰! (듀박스 작가님)',\n",
       "        '신해동 발행 쿠폰 (~21. 08. 31)', '[시크릿쿠폰] 게임캐릭터모델링 20% 할인쿠폰',\n",
       "        '[무료수강권] 남진현 강사님',\n",
       "        '[분할결제]올인원 패키지 : 13만 구독자 피피티프로젝트의 누구나 쉽게 배우는 시선강탈 피피티 디자인_54,000원결제',\n",
       "        '[분할결제]올인원 패키지 : 13만 구독자 피피티프로젝트의 누구나 쉽게 배우는 시선강탈 피피티 디자인_46,000원결제',\n",
       "        '[시크릿쿠폰] 초격차 포토샵 활용 20% 할인쿠폰_미사용 재발급',\n",
       "        '올인원/초격차 5만원 할인_하바다 영상 오픈 일정 변경',\n",
       "        '[할인쿠폰] 아이패드 드로잉 초격차 작가님 전용 5,000원 할인 쿠폰! (벨라 작가님)',\n",
       "        '[30%특별할인] The RED : 박종천의 개발자로 살아남기 30% 추가 할인 쿠폰',\n",
       "        'CRM_RED 검수용 쿠폰', '[무료수강권] CX팀 검수용_승희님',\n",
       "        '[분할결제]초격차 패키지 : 한 번에 끝내는 프론트엔드 개발_116000원',\n",
       "        '[분할결제]초격차 패키지 : 한 번에 끝내는 프론트엔드 개발_20000원',\n",
       "        '[체험단 전용] 엑셀유치원 100% 무료 수강 쿠폰', '[분할결제]올인원 패키지 : 엑셀 실무 마스터_117500',\n",
       "        '[분할결제]올인원 패키지 : 엑셀 실무 마스터_3000', '[패스트캠퍼스] 프로그래밍 강의 30% 할인 쿠폰',\n",
       "        '6월 반값특가 프로모션 쿠폰', '이제너두_직장인 회계 첫걸음',\n",
       "        '[할인쿠폰] 아이패드 드로잉 초격차 작가님 전용 5,000원 할인 쿠폰! (김잼 작가님)',\n",
       "        '[재결제쿠폰]초격차 패키지 : 한번에 끝내는 UX/UI 디자인',\n",
       "        '[서포터즈 쿠폰] 한 번에 끝내는 반복 업무 자동화 초격차 패키지 무료 수강',\n",
       "        '[할인쿠폰] 초격차: 포토샵_우티쇼트 유튜브 구독자 20% 할인 쿠폰',\n",
       "        '[분할결제2]올인원 패키지 : Android 앱 개발', '[분할결제1]올인원 패키지 : Android 앱 개발',\n",
       "        '[할인 쿠폰] 데이터 사이언스 카테고리 올인원 패키지 30% 할인_영상 오픈 일정 변경', '마케팅 GA 쿠폰',\n",
       "        '[쿠폰재발급]6월 반값특가 프로모션 쿠폰',\n",
       "        '[100%할인]The RED : 백발의 개발자를 꿈꾸며 : 코드리뷰, 레거시와 TDD by 백명석, 최범균',\n",
       "        '[30%할인]The RED : 백발의 개발자를 꿈꾸며 : 코드리뷰, 레거시와 TDD by 백명석, 최범균',\n",
       "        '조형기 10% 추가 할인 쿠폰', '[재결제쿠폰]6월 반값특가 프로모션 쿠폰',\n",
       "        '[무료수강권] 강사님 제공 무료 수강권', '[재결제쿠폰]The RED 조형기 출시할인',\n",
       "        '[분할결제쿠폰]초격차 패키지 : 한 번에 끝내는 파이썬 웹 개발_99000원',\n",
       "        '[분할결제]올인원 패키지 : 디지털 마케팅 MAX 2020_139,000원',\n",
       "        '[RED 권오준] 20% 시크릿 쿠폰', '[무료수강권] 내부직원용_AOP_허지은 PD님',\n",
       "        '[무료수강권] 내부직원용_AOP_김인지 PD님', '[무료수강권] 내부직원용_RED_성정화 PD님',\n",
       "        '[무료수강권] 겨울서점X패스트캠퍼스_유튜브 댓글 이벤트 당첨자',\n",
       "        '[시크릿 쿠폰] 한 번에 끝내는 VFX 20% 할인쿠폰', '[무료수강권] 내부직원용_RED_허지은 PD님',\n",
       "        '강사 검수용 쿠폰 : 전다정 강사님', '[분할결제]올인원 패키지 : 엑셀 실무 마스터_3,000원',\n",
       "        '[특별쿠폰] 초격차 패키지 : Java/Spring 웹 개발 마스터 구매자',\n",
       "        '[WELCOME] 온라인 강의 2만원 할인쿠폰', '[WELCOME] 온라인 강의 1만원 할인쿠폰',\n",
       "        '[WELCOME] 온라인 강의 3만원 할인쿠폰', '[CX] 관리자 외 계정 테스트용', '김영하 강의 후기 쿠폰',\n",
       "        '[내부검수용] RED: 김영하_담당 PM님', '[특별쿠폰] 올인원 패키지 : 파이썬 웹 개발 구매자 재발급',\n",
       "        '내부 직원 검수용 쿠폰', '[재발급][특별쿠폰] 초격차 패키지 : Java/Spring 웹 개발 마스터 구매자',\n",
       "        '테스트', '[쿠폰재발급][특별쿠폰] 초격차 패키지 : Java/Spring 웹 개발 마스터 구매자',\n",
       "        '[재결제쿠폰]초격차 패키지 : 한 번에 끝내는 영상 촬영과 편집_122,000원',\n",
       "        '엑셀유치원 15000원 할인쿠폰',\n",
       "        '[재결제쿠폰][특별쿠폰] 초격차 패키지 : Java/Spring 웹 개발 마스터 구매자',\n",
       "        '강의 참고용 쿠폰 : 최현우님', '[재결제쿠폰]조형기 10% 추가 할인 쿠폰',\n",
       "        '[무료수강권] 강사님 제공용_The RED 김민태',\n",
       "        '[추가 10% 할인] Apache Spark을 이용한 빅데이터 분석 입문 15기',\n",
       "        '콘텐츠 기획 제작 기수강생 10% 할인 쿠폰',\n",
       "        '[무료수강권] Financial Modleing 기수강생 대상 신규 강의 주제 소요 조사 추첨자',\n",
       "        '[무료수강쿠폰] 엑셀 유치원 이재형 강사님 검수용 쿠폰', 'RED 강의 참고용 쿠폰',\n",
       "        '[특별쿠폰] 김기현의 BERT, GPT-3 강의 20% 할인 쿠폰', '[후디니입문] 30% 시크릿 쿠폰',\n",
       "        '[재결제쿠폰]올인원 패키지 : GA4 탑재, 구글 애널리틱스 끝장내기',\n",
       "        '[시크릿 쿠폰] 게임 배경의 모든 것 20% 할인쿠폰',\n",
       "        '[체험단 전용] 엑셀유치원 100% 무료 수강 쿠폰 재발급', '이제너두_직장인 필수 스킬 3종 세트',\n",
       "        'Financial Modeling 2021년 상반기 기수강생 10% 할인 쿠폰',\n",
       "        '[감사쿠폰] 초격차 AWS/DevOps 30% 할인 쿠폰', '[무료수강권] 강의 제공용 발행',\n",
       "        '[쿠폰재발급][WELCOME] 온라인 강의 2만원 할인쿠폰_동일강의 재결제 쿠폰 예외처리',\n",
       "        '[재결제쿠폰][권오상3탄] 출시알람자 대상 10% 할인 쿠폰', '[100% 무료쿠폰] 산업&매크로 분석_무료쿠폰',\n",
       "        '[할인 쿠폰] 데이터 사이언스 카테고리 올인원 패키지 30% 할인_영상 오픈 일정 변경_재발급',\n",
       "        '아이패드 패키지 배송 지연 리워드', '[재결제쿠폰]박은종의 객체지향 설계를 위한 디자인패턴 with 자바',\n",
       "        '[재결제쿠폰]올인원 패키지 : 15명의 전문 애널리스트에게 배우는 산업&매크로 분석과 투자 전략',\n",
       "        '[서포터즈 전용] 6개월 치 업무를 하루 만에 끝내는 업무자동화 무료 수강 쿠폰',\n",
       "        '[서포터즈 전용] Java/Spring 웹 개발 마스터 무료 수강 쿠폰',\n",
       "        '[서포터즈 전용] 한번에 끝내는 파이썬 웹 개발 무료 수강 쿠폰',\n",
       "        '[서포터즈 전용] 완전정복! 시각디자인 기초 무료 수강 쿠폰',\n",
       "        '[서포터즈 전용] 100억을 움직이는 단 10장의 PPT 무료 수강 쿠폰',\n",
       "        '[파이낸셜 모델링] + [기술가치평가 or PMI 실무 중 1개 이상] 수강자분들 대상  [IB 초격차] 강의 5만원 할인 쿠폰',\n",
       "        '[재결제쿠폰]올인원 패키지 : 딥러닝/인공지능', '2021 콘텐츠상품기획인턴 쿠폰',\n",
       "        '7월 100% 페이백 프로모션 쿠폰', '[특별쿠폰] 프론트엔드 개발 초격차패키지 기수강생께 추천하는 실무 학습',\n",
       "        '[할인 쿠폰] 게임 개발자 취업의 모든 것 20% 할인',\n",
       "        '[쿠폰재발급]7월 100% 페이백 프로모션 쿠폰_초격차 패키지 : 한 번에 끝내는 컴퓨터 공학 전공필수 & 인공지능 심화 한해',\n",
       "        '[시크릿쿠폰] 산돌 런칭기념 30% 할인쿠폰', '[시크릿쿠폰] 초격차 일러스트레이터 런칭 기념 30% 할인 쿠폰',\n",
       "        '[쿠폰재발급]7월 100% 페이백 프로모션 쿠폰',\n",
       "        '올인원 패키지 : 김민태의 프론트엔드 아카데미 : 제 1강 JavaScript & TypeScript Essential',\n",
       "        '[재결제쿠폰]올인원 패키지 : 딥러닝을 활용한 추천시스템 구현',\n",
       "        '[할인쿠폰] 재테크 카테고리 AOP 30% 할인 (금융 아카데미 제외)',\n",
       "        '[재결제쿠폰]초격차 패키지 : 한 번에 끝내는 데이터 분석 툴', '[무료 수강권] 강사제공용 쿠폰',\n",
       "        '7월 100% 페이백 프로모션 쿠폰_복구', '[무료수강권] 강사님 제공용_The RED', '이제너두_부동산 투자',\n",
       "        '[할인쿠폰] 강사님 지인 할인', '[할인쿠폰] 강사님 지인 할인쿠폰', 'ssd',\n",
       "        '[용호수 영상 심화 강의] 30% 할인 쿠폰', '[무료수강권] 강의 참고용 발행_양세열 강사님',\n",
       "        '[특별할인] 스프링러너의 스프링 아카데미 40% 할인 쿠폰',\n",
       "        '[20% 시크릿 할인 쿠폰] 초격차 패키지 : 한 번에 끝내는 디지털 마케팅',\n",
       "        '[시크릿쿠폰] 시선을 사로잡는 브랜드 디자인 런칭 기념 30% 할인 쿠폰',\n",
       "        '[재결제쿠폰]7월 100% 페이백 프로모션 쿠폰', '[무료수강권] 강사님 지인 무료 수강권',\n",
       "        'K-Digital Credit 머신러닝 & AI 첫걸음 시작하기_1기(평생소장용) 쿠폰',\n",
       "        'K-Digital Credit 빅데이터분석 첫걸음 시작하기_1기(평생소장용)',\n",
       "        '[공여사와 무작정 풀어보는 엑셀 실무] 20% 시크릿 쿠폰',\n",
       "        '[재결제쿠폰]실전압축패키지 : 엑셀언니의 사무실용 엑셀뿌수기_81,000원 재결제',\n",
       "        '[할인쿠폰] 박세익 전무의 투자의 본질 출간 기념 강의 30% 할인',\n",
       "        'The RED : 조은의 프론트엔드 실무 가이드 : 요구사항 분석과 적정 기술_무료결제쿠폰',\n",
       "        'K-Digital Credit 머신러닝 & AI 첫걸음 시작하기_1기(평생소장용)',\n",
       "        '일잘러 필수스킬 모음집 .ZIP 내부직원 검수용 쿠폰', '신해동 100% 할인 쿠폰',\n",
       "        'K-Digital Credit 프로그래밍 첫걸음 시작하기_1기(평생소장용)',\n",
       "        'K-Digital Credit 나만의 iOS 앱 개발 입문_1기(평생소장용)', '[무료수강권] 외주업체 제공용',\n",
       "        '공여사들 구독자 20% 할인 쿠폰', '[할인 쿠폰] 게임 개발자 취업의 모든 것 40% 할인',\n",
       "        '[WELCOME] 온라인 강의 3만원 할인쿠폰_재발급',\n",
       "        '[재결제쿠폰]올인원 패키지 : 스케치&피그마를 활용한 모바일 UI 디자인',\n",
       "        '[재결제쿠폰]올인원 패키지 : 공여사와 무작정 풀어보는 엑셀 실무',\n",
       "        '[무료수강권] 내부직원용_RED_김인지 PD님', '[재결제쿠폰]\\t올인원 패키지 : 부동산 디벨로퍼',\n",
       "        '[한 번에 끝내는 부동산 경매/공매] 강의 5만 원 할인 쿠폰',\n",
       "        '[한 번에 끝내는 부동산 경매/공매] 강의 20% 할인 쿠폰',\n",
       "        '[1만원 할인] 한 번에 끝내는 머신러닝과 데이터분석 A-Z 초격차 패키지 Online',\n",
       "        '[20%할인] 한 번에 끝내는 머신러닝과 데이터분석 A-Z 초격차 패키지 Online',\n",
       "        '[30%쿠폰] 코딩 몰라도 가능한 웹 모션 디자인 신규 강의 할인',\n",
       "        '[시크릿 쿠폰] 빛과 색의 비주얼 스토리텔링 20% 할인쿠폰', '[무료수강권] 강사 소속법인 임직원 제공',\n",
       "        '[할인 쿠폰] 글로벌 1위 Salesforce 디자인 디렉터의 B2B SaaS 프로덕트 디자인 스프린트 실전 20% 할인',\n",
       "        '[cs팀] 테스트 결제 위한 쿠폰 발급',\n",
       "        '[재결제쿠폰]초격차 패키지 : 한번에 끝내는 Java/Spring 웹 개발 마스터',\n",
       "        '[재결제쿠폰]초격차 패키지 : 한 번에 끝내는 AWS 인프라 구축과 DevOps 운영',\n",
       "        'RED 강연 참고용 쿠폰 (김상우님)', '[분할결제 쿠폰] 2',\n",
       "        '[분할결제]Apache Spark을 이용한 빅데이터 분석 입문 CAMP_100만원',\n",
       "        '[분할결제]Apache Spark을 이용한 빅데이터 분석 입문 CAMP_53만원',\n",
       "        '패스트벤처스 박병열 파트너 특별 할인 선착순 쿠폰(수량 / 기간 한정)',\n",
       "        '[재결제쿠폰]올인원 패키지 : 완전정복 시각디자인 기초',\n",
       "        '[30%쿠폰] The RED 고객 경험을 개선하는 A/B테스트 기반 모바일 앱 개발 신규 강의 할인',\n",
       "        '[30%쿠폰] 노잼봇과 함께 배우는 파이썬 유치원 신규 강의 할인',\n",
       "        '[무료수강권] 강의 참고용 발행_내부직원검수용', '[무료수강권] 내부직원용_AOP_성정화 PD님',\n",
       "        '[미래투자금] 온라인 강의 1만원 할인쿠폰', '[미래투자금] 온라인 강의 2만원 할인쿠폰',\n",
       "        '[미래투자금] 온라인 강의 5천원 할인쿠폰', '초격차 패키지 : AWS/Docker 30% 예외 발급 할인 쿠폰',\n",
       "        '[수강생 리워드] 완주를 축하합니다! / 올인원패키지 : 알고리즘 기술 면접 완전 정복 100% 할인 쿠폰',\n",
       "        '[무료수강권] 금융아카데미: 권오상 회계사의 자금조달 및 가치평가', '[분할결제] 87,000원 차감 쿠폰',\n",
       "        '[내부검수용] RED 강의 검수용 쿠폰', '이제너두_해외소싱으로 온라인 커머스 정복하기',\n",
       "        '[재결제쿠폰]올인원 패키지 : 100억을 움직이는 단 10장의 PPT_114,000원',\n",
       "        '8월 1+1 프로모션 쿠폰', '[예외처리]연습문제 패키지 : 퀴즈처럼 풀면서 배우는 파이썬 머신러닝 300제+',\n",
       "        '(예외재발급) [용호수 영상 심화 강의] 30% 할인 쿠폰', '[편집녀 프리미어 제 2강] 20% 할인 쿠폰',\n",
       "        '[편집녀 프리미어 제 2강] 10,000원 할인 쿠폰', '[재발급] 8월 1+1 프로모션 쿠폰',\n",
       "        '[재결제쿠폰]초격차 패키지 : 한 번에 끝내는 딥러닝/인공지능',\n",
       "        '[할인 쿠폰] The RED : 현실 데이터를 활용한 추천시스템 구현 A to Z by 번개장터 CTO 이동주 20% 할인',\n",
       "        '[무료수강권] 강의 참고용 발행_다회권', '[무료수강권] 강의 참고용 발행_안성훈 강사님',\n",
       "        '[예외처리]8월 1+1 프로모션 쿠폰', '[50% 할인 쿠폰] The RED : 김영하 할인 쿠폰',\n",
       "        '[무료수강권] 강사님 제공용_AWS로DevOps',\n",
       "        '[특별할인] 스프링의 정석 : 남궁성과 끝까지 간다 커뮤니티 회원용 20% 할인 쿠폰 (~9/30)',\n",
       "        '[재결제쿠폰]올인원 패키지 : iOS 앱 개발_2만원할인',\n",
       "        '[특별할인] 스프링의 정석 : 남궁성과 끝까지 간다 유튜브 구독자용 20% 할인 쿠폰 (~9/30)',\n",
       "        '강의 검수용 강사 무료수강쿠폰 -김윤후님', '[상업용/숙박용 부동산 개발 Master] 10만원 할인 쿠폰',\n",
       "        '[한번에 끝내는 재무세무회계] 강의 15% 할인 쿠폰', '[시각디자인 요소 활용] 60% 할인 쿠폰',\n",
       "        '[시각디자인 요소 활용] 40% 할인 쿠폰', '[시크릿 쿠폰] 이호성의 언리얼 엔진 라이팅 25% 할인쿠폰',\n",
       "        '[쿠폰재발급]8월 1+1 프로모션 쿠폰',\n",
       "        '[20%할인] The RED : Hadoop & Spark 아키텍처 딥다이브',\n",
       "        '[특별쿠폰]컴퓨터공학 올인원 패키지 기수강생 100% 할인쿠폰', 'ONLY 공여사 구독자 3만원 특별할인',\n",
       "        '[재발급/시크릿 쿠폰] 이호성의 언리얼 엔진 라이팅 25% 할인쿠폰_재결제',\n",
       "        'K-Digital Credit 빅데이터 분석 첫걸음 시작하기_2기(평생소장용)',\n",
       "        'K-Digital Credit 프로그래밍 첫걸음 시작하기_2기(평생소장용)',\n",
       "        '[할인 쿠폰] 추석맞이 15% 시크릿 감사 15% 할인 쿠폰(데이터사이언스 카테고리 한정)',\n",
       "        '[30% 시크릿 할인] The RED : 개발자로 살아남기 : 30년을 주도하는 9가지 필수 기술 by 박종천',\n",
       "        'SB_네카라쿠배 강사학습용_김데레사 강사님',\n",
       "        '[분할결제]올인원 패키지 : 애프터이펙트를 활용한 2D 모션그래픽 (2021)_10만원',\n",
       "        '[분할결제]올인원 패키지 : 애프터이펙트를 활용한 2D 모션그래픽 (2021)_2.6만원',\n",
       "        '[검수용] CX 검수용 쿠폰',\n",
       "        '[쿠폰재발급][20%할인] The RED : Hadoop & Spark 아키텍처 딥다이브',\n",
       "        '[분할결제 쿠폰] 2 : 59,000원 결제 용', '[분할결제 쿠폰] 1 : 279,000원 결제 용',\n",
       "        'MacBook Pass 수강생 감사 100% 할인 쿠폰',\n",
       "        '[재결제쿠폰]초격차 패키지 : 한 번에 끝내는 node.js 웹 프로그래밍'], dtype=object))"
      ]
     },
     "execution_count": 193,
     "metadata": {},
     "output_type": "execute_result"
    }
   ],
   "source": [
    "len(df['coupon_title'].unique()), df['coupon_title'].unique()"
   ]
  },
  {
   "cell_type": "code",
   "execution_count": null,
   "id": "a106b269",
   "metadata": {},
   "outputs": [],
   "source": []
  },
  {
   "cell_type": "code",
   "execution_count": 147,
   "id": "239bf1eb",
   "metadata": {
    "ExecuteTime": {
     "end_time": "2022-06-29T06:55:33.550676Z",
     "start_time": "2022-06-29T06:55:31.074074Z"
    }
   },
   "outputs": [],
   "source": [
    "df.to_csv('./모니터조.csv', index=False)   #  지금까지한 csv"
   ]
  },
  {
   "cell_type": "code",
   "execution_count": 279,
   "id": "38e7658a",
   "metadata": {
    "ExecuteTime": {
     "end_time": "2022-06-28T14:31:12.780486Z",
     "start_time": "2022-06-28T14:31:11.849045Z"
    }
   },
   "outputs": [],
   "source": [
    "df.to_csv('./task5다함께.csv', index=False)"
   ]
  },
  {
   "cell_type": "code",
   "execution_count": 204,
   "id": "5be1a782",
   "metadata": {
    "ExecuteTime": {
     "end_time": "2022-06-29T08:10:23.982108Z",
     "start_time": "2022-06-29T08:10:23.128414Z"
    },
    "scrolled": true
   },
   "outputs": [
    {
     "data": {
      "text/html": [
       "<div>\n",
       "<style scoped>\n",
       "    .dataframe tbody tr th:only-of-type {\n",
       "        vertical-align: middle;\n",
       "    }\n",
       "\n",
       "    .dataframe tbody tr th {\n",
       "        vertical-align: top;\n",
       "    }\n",
       "\n",
       "    .dataframe thead th {\n",
       "        text-align: right;\n",
       "    }\n",
       "</style>\n",
       "<table border=\"1\" class=\"dataframe\">\n",
       "  <thead>\n",
       "    <tr style=\"text-align: right;\">\n",
       "      <th></th>\n",
       "      <th>Unnamed: 0</th>\n",
       "      <th>id</th>\n",
       "      <th>customer_id</th>\n",
       "      <th>course_id</th>\n",
       "      <th>type</th>\n",
       "      <th>state</th>\n",
       "      <th>course_title</th>\n",
       "      <th>category_title</th>\n",
       "      <th>format</th>\n",
       "      <th>completed_at</th>\n",
       "      <th>transaction_amount</th>\n",
       "      <th>coupon_title</th>\n",
       "      <th>coupon_discount_amount</th>\n",
       "      <th>sale_price</th>\n",
       "      <th>pg</th>\n",
       "      <th>method</th>\n",
       "      <th>subcategory_title</th>\n",
       "      <th>marketing_start_at</th>\n",
       "    </tr>\n",
       "  </thead>\n",
       "  <tbody>\n",
       "    <tr>\n",
       "      <th>0</th>\n",
       "      <td>0</td>\n",
       "      <td>970634</td>\n",
       "      <td>504760</td>\n",
       "      <td>201435</td>\n",
       "      <td>ORDER</td>\n",
       "      <td>CANCELLED</td>\n",
       "      <td>올인원 패키지 : 알고리즘 기술면접 완전 정복</td>\n",
       "      <td>프로그래밍</td>\n",
       "      <td>올인원</td>\n",
       "      <td>2021-03-28 15:00:11</td>\n",
       "      <td>90500</td>\n",
       "      <td>미적용</td>\n",
       "      <td>0</td>\n",
       "      <td>110500</td>\n",
       "      <td>COMM</td>\n",
       "      <td>VBANK</td>\n",
       "      <td>개발자 커리어</td>\n",
       "      <td>0</td>\n",
       "    </tr>\n",
       "    <tr>\n",
       "      <th>1</th>\n",
       "      <td>1</td>\n",
       "      <td>970650</td>\n",
       "      <td>432862</td>\n",
       "      <td>203178</td>\n",
       "      <td>ORDER</td>\n",
       "      <td>CANCELLED</td>\n",
       "      <td>초격차 패키지 : 한번에 끝내는 영상 촬영과 편집</td>\n",
       "      <td>영상/3D</td>\n",
       "      <td>올인원</td>\n",
       "      <td>2021-03-28 15:16:53</td>\n",
       "      <td>96000</td>\n",
       "      <td>미적용</td>\n",
       "      <td>0</td>\n",
       "      <td>116000</td>\n",
       "      <td>COMM</td>\n",
       "      <td>CARD</td>\n",
       "      <td>영상 편집</td>\n",
       "      <td>2020-12-02 00:00:00</td>\n",
       "    </tr>\n",
       "    <tr>\n",
       "      <th>2</th>\n",
       "      <td>2</td>\n",
       "      <td>970657</td>\n",
       "      <td>72297</td>\n",
       "      <td>204246</td>\n",
       "      <td>PAYMENT</td>\n",
       "      <td>COMPLETED</td>\n",
       "      <td>시크릿코드 : 프론트엔드 실무 완성편</td>\n",
       "      <td>프로그래밍</td>\n",
       "      <td>스쿨 온라인</td>\n",
       "      <td>2021-03-28 15:21:43</td>\n",
       "      <td>171810</td>\n",
       "      <td>[10% 할인] 시크릿코드 실무 완성편</td>\n",
       "      <td>19090</td>\n",
       "      <td>190900</td>\n",
       "      <td>COMM</td>\n",
       "      <td>CARD</td>\n",
       "      <td>프로그래밍</td>\n",
       "      <td>2021-03-04 00:00:00</td>\n",
       "    </tr>\n",
       "    <tr>\n",
       "      <th>3</th>\n",
       "      <td>3</td>\n",
       "      <td>970656</td>\n",
       "      <td>72297</td>\n",
       "      <td>204246</td>\n",
       "      <td>ORDER</td>\n",
       "      <td>CANCELLED</td>\n",
       "      <td>시크릿코드 : 프론트엔드 실무 완성편</td>\n",
       "      <td>프로그래밍</td>\n",
       "      <td>스쿨 온라인</td>\n",
       "      <td>2021-03-28 15:21:43</td>\n",
       "      <td>171810</td>\n",
       "      <td>미적용</td>\n",
       "      <td>0</td>\n",
       "      <td>190900</td>\n",
       "      <td>COMM</td>\n",
       "      <td>CARD</td>\n",
       "      <td>프로그래밍</td>\n",
       "      <td>2021-03-04 00:00:00</td>\n",
       "    </tr>\n",
       "    <tr>\n",
       "      <th>4</th>\n",
       "      <td>4</td>\n",
       "      <td>970658</td>\n",
       "      <td>478028</td>\n",
       "      <td>201797</td>\n",
       "      <td>PAYMENT</td>\n",
       "      <td>COMPLETED</td>\n",
       "      <td>올인원 패키지 : 직장인 필수 스킬 3종 세트 MAX</td>\n",
       "      <td>업무 생산성</td>\n",
       "      <td>올인원</td>\n",
       "      <td>2021-03-28 15:21:54</td>\n",
       "      <td>97500</td>\n",
       "      <td>[웰컴쿠폰] 올인원 패키지 2만원 할인 쿠폰</td>\n",
       "      <td>20000</td>\n",
       "      <td>117500</td>\n",
       "      <td>COMM</td>\n",
       "      <td>CARD</td>\n",
       "      <td>PPT/보고서</td>\n",
       "      <td>2019-11-14 00:00:00</td>\n",
       "    </tr>\n",
       "    <tr>\n",
       "      <th>...</th>\n",
       "      <td>...</td>\n",
       "      <td>...</td>\n",
       "      <td>...</td>\n",
       "      <td>...</td>\n",
       "      <td>...</td>\n",
       "      <td>...</td>\n",
       "      <td>...</td>\n",
       "      <td>...</td>\n",
       "      <td>...</td>\n",
       "      <td>...</td>\n",
       "      <td>...</td>\n",
       "      <td>...</td>\n",
       "      <td>...</td>\n",
       "      <td>...</td>\n",
       "      <td>...</td>\n",
       "      <td>...</td>\n",
       "      <td>...</td>\n",
       "      <td>...</td>\n",
       "    </tr>\n",
       "    <tr>\n",
       "      <th>101813</th>\n",
       "      <td>101813</td>\n",
       "      <td>1364995</td>\n",
       "      <td>640697</td>\n",
       "      <td>205365</td>\n",
       "      <td>PAYMENT</td>\n",
       "      <td>CANCELLED</td>\n",
       "      <td>초격차 패키지 : 한 번에 끝내는 유튜브 크리에이터 되기</td>\n",
       "      <td>영상/3D</td>\n",
       "      <td>올인원</td>\n",
       "      <td>2021-09-25 14:10:42</td>\n",
       "      <td>96000</td>\n",
       "      <td>[WELCOME] 온라인 강의 2만원 할인쿠폰</td>\n",
       "      <td>20000</td>\n",
       "      <td>116000</td>\n",
       "      <td>INICIS</td>\n",
       "      <td>TRANS</td>\n",
       "      <td>영상 편집</td>\n",
       "      <td>2021-06-15 00:00:00</td>\n",
       "    </tr>\n",
       "    <tr>\n",
       "      <th>101814</th>\n",
       "      <td>101814</td>\n",
       "      <td>1364998</td>\n",
       "      <td>670896</td>\n",
       "      <td>204159</td>\n",
       "      <td>PAYMENT</td>\n",
       "      <td>CANCELLED</td>\n",
       "      <td>부동산 디벨로퍼 아카데미 : 인허가</td>\n",
       "      <td>부동산/금융</td>\n",
       "      <td>올인원</td>\n",
       "      <td>2021-09-25 14:16:33</td>\n",
       "      <td>189000</td>\n",
       "      <td>미적용</td>\n",
       "      <td>0</td>\n",
       "      <td>189000</td>\n",
       "      <td>INICIS</td>\n",
       "      <td>CARD</td>\n",
       "      <td>부동산 개발</td>\n",
       "      <td>2021-02-10 00:00:00</td>\n",
       "    </tr>\n",
       "    <tr>\n",
       "      <th>101815</th>\n",
       "      <td>101815</td>\n",
       "      <td>1364996</td>\n",
       "      <td>640697</td>\n",
       "      <td>205365</td>\n",
       "      <td>PAYMENT</td>\n",
       "      <td>COMPLETED</td>\n",
       "      <td>초격차 패키지 : 한 번에 끝내는 유튜브 크리에이터 되기</td>\n",
       "      <td>영상/3D</td>\n",
       "      <td>올인원</td>\n",
       "      <td>2021-09-25 14:17:41</td>\n",
       "      <td>96000</td>\n",
       "      <td>[WELCOME] 온라인 강의 2만원 할인쿠폰</td>\n",
       "      <td>20000</td>\n",
       "      <td>116000</td>\n",
       "      <td>INICIS</td>\n",
       "      <td>VBANK</td>\n",
       "      <td>영상 편집</td>\n",
       "      <td>2021-06-15 00:00:00</td>\n",
       "    </tr>\n",
       "    <tr>\n",
       "      <th>101816</th>\n",
       "      <td>101816</td>\n",
       "      <td>1365005</td>\n",
       "      <td>670896</td>\n",
       "      <td>204159</td>\n",
       "      <td>PAYMENT</td>\n",
       "      <td>CANCELLED</td>\n",
       "      <td>부동산 디벨로퍼 아카데미 : 인허가</td>\n",
       "      <td>부동산/금융</td>\n",
       "      <td>올인원</td>\n",
       "      <td>2021-09-25 14:19:56</td>\n",
       "      <td>189000</td>\n",
       "      <td>미적용</td>\n",
       "      <td>0</td>\n",
       "      <td>189000</td>\n",
       "      <td>INICIS</td>\n",
       "      <td>CARD</td>\n",
       "      <td>부동산 개발</td>\n",
       "      <td>2021-02-10 00:00:00</td>\n",
       "    </tr>\n",
       "    <tr>\n",
       "      <th>101817</th>\n",
       "      <td>101817</td>\n",
       "      <td>1365007</td>\n",
       "      <td>610626</td>\n",
       "      <td>206720</td>\n",
       "      <td>PAYMENT</td>\n",
       "      <td>COMPLETED</td>\n",
       "      <td>용호수의 돈 버는 실전 영상 제작</td>\n",
       "      <td>영상/3D</td>\n",
       "      <td>올인원</td>\n",
       "      <td>2021-09-25 14:25:47</td>\n",
       "      <td>139000</td>\n",
       "      <td>[WELCOME] 온라인 강의 3만원 할인쿠폰</td>\n",
       "      <td>30000</td>\n",
       "      <td>169000</td>\n",
       "      <td>NAVER</td>\n",
       "      <td>POINT</td>\n",
       "      <td>영상 편집</td>\n",
       "      <td>2021-08-17 00:00:00</td>\n",
       "    </tr>\n",
       "  </tbody>\n",
       "</table>\n",
       "<p>101818 rows × 18 columns</p>\n",
       "</div>"
      ],
      "text/plain": [
       "        Unnamed: 0       id  customer_id  course_id     type      state  \\\n",
       "0                0   970634       504760     201435    ORDER  CANCELLED   \n",
       "1                1   970650       432862     203178    ORDER  CANCELLED   \n",
       "2                2   970657        72297     204246  PAYMENT  COMPLETED   \n",
       "3                3   970656        72297     204246    ORDER  CANCELLED   \n",
       "4                4   970658       478028     201797  PAYMENT  COMPLETED   \n",
       "...            ...      ...          ...        ...      ...        ...   \n",
       "101813      101813  1364995       640697     205365  PAYMENT  CANCELLED   \n",
       "101814      101814  1364998       670896     204159  PAYMENT  CANCELLED   \n",
       "101815      101815  1364996       640697     205365  PAYMENT  COMPLETED   \n",
       "101816      101816  1365005       670896     204159  PAYMENT  CANCELLED   \n",
       "101817      101817  1365007       610626     206720  PAYMENT  COMPLETED   \n",
       "\n",
       "                           course_title category_title  format  \\\n",
       "0             올인원 패키지 : 알고리즘 기술면접 완전 정복          프로그래밍     올인원   \n",
       "1           초격차 패키지 : 한번에 끝내는 영상 촬영과 편집          영상/3D     올인원   \n",
       "2                  시크릿코드 : 프론트엔드 실무 완성편          프로그래밍  스쿨 온라인   \n",
       "3                  시크릿코드 : 프론트엔드 실무 완성편          프로그래밍  스쿨 온라인   \n",
       "4         올인원 패키지 : 직장인 필수 스킬 3종 세트 MAX         업무 생산성     올인원   \n",
       "...                                 ...            ...     ...   \n",
       "101813  초격차 패키지 : 한 번에 끝내는 유튜브 크리에이터 되기          영상/3D     올인원   \n",
       "101814              부동산 디벨로퍼 아카데미 : 인허가         부동산/금융     올인원   \n",
       "101815  초격차 패키지 : 한 번에 끝내는 유튜브 크리에이터 되기          영상/3D     올인원   \n",
       "101816              부동산 디벨로퍼 아카데미 : 인허가         부동산/금융     올인원   \n",
       "101817               용호수의 돈 버는 실전 영상 제작          영상/3D     올인원   \n",
       "\n",
       "               completed_at  transaction_amount               coupon_title  \\\n",
       "0       2021-03-28 15:00:11               90500                        미적용   \n",
       "1       2021-03-28 15:16:53               96000                        미적용   \n",
       "2       2021-03-28 15:21:43              171810      [10% 할인] 시크릿코드 실무 완성편   \n",
       "3       2021-03-28 15:21:43              171810                        미적용   \n",
       "4       2021-03-28 15:21:54               97500   [웰컴쿠폰] 올인원 패키지 2만원 할인 쿠폰   \n",
       "...                     ...                 ...                        ...   \n",
       "101813  2021-09-25 14:10:42               96000  [WELCOME] 온라인 강의 2만원 할인쿠폰   \n",
       "101814  2021-09-25 14:16:33              189000                        미적용   \n",
       "101815  2021-09-25 14:17:41               96000  [WELCOME] 온라인 강의 2만원 할인쿠폰   \n",
       "101816  2021-09-25 14:19:56              189000                        미적용   \n",
       "101817  2021-09-25 14:25:47              139000  [WELCOME] 온라인 강의 3만원 할인쿠폰   \n",
       "\n",
       "        coupon_discount_amount  sale_price      pg method subcategory_title  \\\n",
       "0                            0      110500    COMM  VBANK           개발자 커리어   \n",
       "1                            0      116000    COMM   CARD             영상 편집   \n",
       "2                        19090      190900    COMM   CARD             프로그래밍   \n",
       "3                            0      190900    COMM   CARD             프로그래밍   \n",
       "4                        20000      117500    COMM   CARD           PPT/보고서   \n",
       "...                        ...         ...     ...    ...               ...   \n",
       "101813                   20000      116000  INICIS  TRANS             영상 편집   \n",
       "101814                       0      189000  INICIS   CARD            부동산 개발   \n",
       "101815                   20000      116000  INICIS  VBANK             영상 편집   \n",
       "101816                       0      189000  INICIS   CARD            부동산 개발   \n",
       "101817                   30000      169000   NAVER  POINT             영상 편집   \n",
       "\n",
       "         marketing_start_at  \n",
       "0                         0  \n",
       "1       2020-12-02 00:00:00  \n",
       "2       2021-03-04 00:00:00  \n",
       "3       2021-03-04 00:00:00  \n",
       "4       2019-11-14 00:00:00  \n",
       "...                     ...  \n",
       "101813  2021-06-15 00:00:00  \n",
       "101814  2021-02-10 00:00:00  \n",
       "101815  2021-06-15 00:00:00  \n",
       "101816  2021-02-10 00:00:00  \n",
       "101817  2021-08-17 00:00:00  \n",
       "\n",
       "[101818 rows x 18 columns]"
      ]
     },
     "execution_count": 204,
     "metadata": {},
     "output_type": "execute_result"
    }
   ],
   "source": [
    "df = pd.read_csv('./전처리다되었죠.csv')\n",
    "df"
   ]
  },
  {
   "cell_type": "code",
   "execution_count": 184,
   "id": "fb2625ad",
   "metadata": {
    "ExecuteTime": {
     "end_time": "2022-06-29T08:00:31.802511Z",
     "start_time": "2022-06-29T08:00:31.296768Z"
    },
    "scrolled": false
   },
   "outputs": [
    {
     "data": {
      "text/plain": [
       "Unnamed: 0                0\n",
       "id                        0\n",
       "customer_id               0\n",
       "course_id                 0\n",
       "type                      0\n",
       "state                     0\n",
       "course_title              0\n",
       "category_title            0\n",
       "format                    0\n",
       "completed_at              0\n",
       "transaction_amount        0\n",
       "coupon_title              0\n",
       "coupon_discount_amount    0\n",
       "sale_price                0\n",
       "pg                        0\n",
       "method                    0\n",
       "subcategory_title         0\n",
       "marketing_start_at        0\n",
       "dtype: int64"
      ]
     },
     "execution_count": 184,
     "metadata": {},
     "output_type": "execute_result"
    }
   ],
   "source": [
    "df.isnull().sum()"
   ]
  },
  {
   "cell_type": "code",
   "execution_count": 207,
   "id": "946712d0",
   "metadata": {
    "ExecuteTime": {
     "end_time": "2022-06-29T08:13:46.669106Z",
     "start_time": "2022-06-29T08:13:46.259440Z"
    },
    "scrolled": true
   },
   "outputs": [
    {
     "name": "stdout",
     "output_type": "stream",
     "text": [
      "<class 'pandas.core.frame.DataFrame'>\n",
      "RangeIndex: 101818 entries, 0 to 101817\n",
      "Data columns (total 18 columns):\n",
      " #   Column                  Non-Null Count   Dtype \n",
      "---  ------                  --------------   ----- \n",
      " 0   Unnamed: 0              101818 non-null  int64 \n",
      " 1   id                      101818 non-null  int64 \n",
      " 2   customer_id             101818 non-null  int64 \n",
      " 3   course_id               101818 non-null  int64 \n",
      " 4   type                    101818 non-null  object\n",
      " 5   state                   101818 non-null  object\n",
      " 6   course_title            101818 non-null  object\n",
      " 7   category_title          101818 non-null  object\n",
      " 8   format                  101818 non-null  object\n",
      " 9   completed_at            101818 non-null  object\n",
      " 10  transaction_amount      101818 non-null  int64 \n",
      " 11  coupon_title            101818 non-null  object\n",
      " 12  coupon_discount_amount  101818 non-null  int64 \n",
      " 13  sale_price              101818 non-null  int64 \n",
      " 14  pg                      101818 non-null  object\n",
      " 15  method                  101818 non-null  object\n",
      " 16  subcategory_title       101818 non-null  object\n",
      " 17  marketing_start_at      101818 non-null  object\n",
      "dtypes: int64(7), object(11)\n",
      "memory usage: 14.0+ MB\n"
     ]
    }
   ],
   "source": [
    "df.info()"
   ]
  },
  {
   "cell_type": "code",
   "execution_count": 205,
   "id": "d3dcdf8b",
   "metadata": {
    "ExecuteTime": {
     "end_time": "2022-06-29T08:10:28.696967Z",
     "start_time": "2022-06-29T08:10:28.109838Z"
    }
   },
   "outputs": [
    {
     "ename": "ParserError",
     "evalue": "day is out of range for month: 0",
     "output_type": "error",
     "traceback": [
      "\u001b[1;31m---------------------------------------------------------------------------\u001b[0m",
      "\u001b[1;31mValueError\u001b[0m                                Traceback (most recent call last)",
      "File \u001b[1;32m~\\anaconda3\\lib\\site-packages\\dateutil\\parser\\_parser.py:649\u001b[0m, in \u001b[0;36mparser.parse\u001b[1;34m(self, timestr, default, ignoretz, tzinfos, **kwargs)\u001b[0m\n\u001b[0;32m    648\u001b[0m \u001b[38;5;28;01mtry\u001b[39;00m:\n\u001b[1;32m--> 649\u001b[0m     ret \u001b[38;5;241m=\u001b[39m \u001b[38;5;28;43mself\u001b[39;49m\u001b[38;5;241;43m.\u001b[39;49m\u001b[43m_build_naive\u001b[49m\u001b[43m(\u001b[49m\u001b[43mres\u001b[49m\u001b[43m,\u001b[49m\u001b[43m \u001b[49m\u001b[43mdefault\u001b[49m\u001b[43m)\u001b[49m\n\u001b[0;32m    650\u001b[0m \u001b[38;5;28;01mexcept\u001b[39;00m \u001b[38;5;167;01mValueError\u001b[39;00m \u001b[38;5;28;01mas\u001b[39;00m e:\n",
      "File \u001b[1;32m~\\anaconda3\\lib\\site-packages\\dateutil\\parser\\_parser.py:1235\u001b[0m, in \u001b[0;36mparser._build_naive\u001b[1;34m(self, res, default)\u001b[0m\n\u001b[0;32m   1233\u001b[0m         repl[\u001b[38;5;124m'\u001b[39m\u001b[38;5;124mday\u001b[39m\u001b[38;5;124m'\u001b[39m] \u001b[38;5;241m=\u001b[39m monthrange(cyear, cmonth)[\u001b[38;5;241m1\u001b[39m]\n\u001b[1;32m-> 1235\u001b[0m naive \u001b[38;5;241m=\u001b[39m default\u001b[38;5;241m.\u001b[39mreplace(\u001b[38;5;241m*\u001b[39m\u001b[38;5;241m*\u001b[39mrepl)\n\u001b[0;32m   1237\u001b[0m \u001b[38;5;28;01mif\u001b[39;00m res\u001b[38;5;241m.\u001b[39mweekday \u001b[38;5;129;01mis\u001b[39;00m \u001b[38;5;129;01mnot\u001b[39;00m \u001b[38;5;28;01mNone\u001b[39;00m \u001b[38;5;129;01mand\u001b[39;00m \u001b[38;5;129;01mnot\u001b[39;00m res\u001b[38;5;241m.\u001b[39mday:\n",
      "\u001b[1;31mValueError\u001b[0m: day is out of range for month",
      "\nThe above exception was the direct cause of the following exception:\n",
      "\u001b[1;31mParserError\u001b[0m                               Traceback (most recent call last)",
      "File \u001b[1;32m~\\anaconda3\\lib\\site-packages\\pandas\\_libs\\tslib.pyx:536\u001b[0m, in \u001b[0;36mpandas._libs.tslib.array_to_datetime\u001b[1;34m()\u001b[0m\n",
      "File \u001b[1;32m~\\anaconda3\\lib\\site-packages\\pandas\\_libs\\tslibs\\parsing.pyx:281\u001b[0m, in \u001b[0;36mpandas._libs.tslibs.parsing.parse_datetime_string\u001b[1;34m()\u001b[0m\n",
      "File \u001b[1;32m~\\anaconda3\\lib\\site-packages\\dateutil\\parser\\_parser.py:1368\u001b[0m, in \u001b[0;36mparse\u001b[1;34m(timestr, parserinfo, **kwargs)\u001b[0m\n\u001b[0;32m   1367\u001b[0m \u001b[38;5;28;01melse\u001b[39;00m:\n\u001b[1;32m-> 1368\u001b[0m     \u001b[38;5;28;01mreturn\u001b[39;00m DEFAULTPARSER\u001b[38;5;241m.\u001b[39mparse(timestr, \u001b[38;5;241m*\u001b[39m\u001b[38;5;241m*\u001b[39mkwargs)\n",
      "File \u001b[1;32m~\\anaconda3\\lib\\site-packages\\dateutil\\parser\\_parser.py:651\u001b[0m, in \u001b[0;36mparser.parse\u001b[1;34m(self, timestr, default, ignoretz, tzinfos, **kwargs)\u001b[0m\n\u001b[0;32m    650\u001b[0m \u001b[38;5;28;01mexcept\u001b[39;00m \u001b[38;5;167;01mValueError\u001b[39;00m \u001b[38;5;28;01mas\u001b[39;00m e:\n\u001b[1;32m--> 651\u001b[0m     \u001b[43msix\u001b[49m\u001b[38;5;241;43m.\u001b[39;49m\u001b[43mraise_from\u001b[49m\u001b[43m(\u001b[49m\u001b[43mParserError\u001b[49m\u001b[43m(\u001b[49m\u001b[38;5;28;43mstr\u001b[39;49m\u001b[43m(\u001b[49m\u001b[43me\u001b[49m\u001b[43m)\u001b[49m\u001b[43m \u001b[49m\u001b[38;5;241;43m+\u001b[39;49m\u001b[43m \u001b[49m\u001b[38;5;124;43m\"\u001b[39;49m\u001b[38;5;124;43m: \u001b[39;49m\u001b[38;5;132;43;01m%s\u001b[39;49;00m\u001b[38;5;124;43m\"\u001b[39;49m\u001b[43m,\u001b[49m\u001b[43m \u001b[49m\u001b[43mtimestr\u001b[49m\u001b[43m)\u001b[49m\u001b[43m,\u001b[49m\u001b[43m \u001b[49m\u001b[43me\u001b[49m\u001b[43m)\u001b[49m\n\u001b[0;32m    653\u001b[0m \u001b[38;5;28;01mif\u001b[39;00m \u001b[38;5;129;01mnot\u001b[39;00m ignoretz:\n",
      "File \u001b[1;32m<string>:3\u001b[0m, in \u001b[0;36mraise_from\u001b[1;34m(value, from_value)\u001b[0m\n",
      "\u001b[1;31mParserError\u001b[0m: day is out of range for month: 0",
      "\nDuring handling of the above exception, another exception occurred:\n",
      "\u001b[1;31mTypeError\u001b[0m                                 Traceback (most recent call last)",
      "File \u001b[1;32m~\\anaconda3\\lib\\site-packages\\pandas\\_libs\\tslib.pyx:547\u001b[0m, in \u001b[0;36mpandas._libs.tslib.array_to_datetime\u001b[1;34m()\u001b[0m\n",
      "\u001b[1;31mTypeError\u001b[0m: invalid string coercion to datetime",
      "\nDuring handling of the above exception, another exception occurred:\n",
      "\u001b[1;31mValueError\u001b[0m                                Traceback (most recent call last)",
      "File \u001b[1;32m~\\anaconda3\\lib\\site-packages\\dateutil\\parser\\_parser.py:649\u001b[0m, in \u001b[0;36mparser.parse\u001b[1;34m(self, timestr, default, ignoretz, tzinfos, **kwargs)\u001b[0m\n\u001b[0;32m    648\u001b[0m \u001b[38;5;28;01mtry\u001b[39;00m:\n\u001b[1;32m--> 649\u001b[0m     ret \u001b[38;5;241m=\u001b[39m \u001b[38;5;28;43mself\u001b[39;49m\u001b[38;5;241;43m.\u001b[39;49m\u001b[43m_build_naive\u001b[49m\u001b[43m(\u001b[49m\u001b[43mres\u001b[49m\u001b[43m,\u001b[49m\u001b[43m \u001b[49m\u001b[43mdefault\u001b[49m\u001b[43m)\u001b[49m\n\u001b[0;32m    650\u001b[0m \u001b[38;5;28;01mexcept\u001b[39;00m \u001b[38;5;167;01mValueError\u001b[39;00m \u001b[38;5;28;01mas\u001b[39;00m e:\n",
      "File \u001b[1;32m~\\anaconda3\\lib\\site-packages\\dateutil\\parser\\_parser.py:1235\u001b[0m, in \u001b[0;36mparser._build_naive\u001b[1;34m(self, res, default)\u001b[0m\n\u001b[0;32m   1233\u001b[0m         repl[\u001b[38;5;124m'\u001b[39m\u001b[38;5;124mday\u001b[39m\u001b[38;5;124m'\u001b[39m] \u001b[38;5;241m=\u001b[39m monthrange(cyear, cmonth)[\u001b[38;5;241m1\u001b[39m]\n\u001b[1;32m-> 1235\u001b[0m naive \u001b[38;5;241m=\u001b[39m default\u001b[38;5;241m.\u001b[39mreplace(\u001b[38;5;241m*\u001b[39m\u001b[38;5;241m*\u001b[39mrepl)\n\u001b[0;32m   1237\u001b[0m \u001b[38;5;28;01mif\u001b[39;00m res\u001b[38;5;241m.\u001b[39mweekday \u001b[38;5;129;01mis\u001b[39;00m \u001b[38;5;129;01mnot\u001b[39;00m \u001b[38;5;28;01mNone\u001b[39;00m \u001b[38;5;129;01mand\u001b[39;00m \u001b[38;5;129;01mnot\u001b[39;00m res\u001b[38;5;241m.\u001b[39mday:\n",
      "\u001b[1;31mValueError\u001b[0m: day is out of range for month",
      "\nThe above exception was the direct cause of the following exception:\n",
      "\u001b[1;31mParserError\u001b[0m                               Traceback (most recent call last)",
      "Input \u001b[1;32mIn [205]\u001b[0m, in \u001b[0;36m<cell line: 1>\u001b[1;34m()\u001b[0m\n\u001b[1;32m----> 1\u001b[0m df \u001b[38;5;241m=\u001b[39m \u001b[43mdf\u001b[49m\u001b[38;5;241;43m.\u001b[39;49m\u001b[43mastype\u001b[49m\u001b[43m(\u001b[49m\u001b[43m{\u001b[49m\u001b[38;5;124;43m'\u001b[39;49m\u001b[38;5;124;43mmarketing_start_at\u001b[39;49m\u001b[38;5;124;43m'\u001b[39;49m\u001b[43m:\u001b[49m\u001b[38;5;124;43m'\u001b[39;49m\u001b[38;5;124;43mdatetime64\u001b[39;49m\u001b[38;5;124;43m'\u001b[39;49m\u001b[43m}\u001b[49m\u001b[43m)\u001b[49m\n\u001b[0;32m      2\u001b[0m df\n",
      "File \u001b[1;32m~\\anaconda3\\lib\\site-packages\\pandas\\core\\generic.py:5898\u001b[0m, in \u001b[0;36mNDFrame.astype\u001b[1;34m(self, dtype, copy, errors)\u001b[0m\n\u001b[0;32m   5896\u001b[0m             res_col \u001b[38;5;241m=\u001b[39m col\u001b[38;5;241m.\u001b[39mcopy() \u001b[38;5;28;01mif\u001b[39;00m copy \u001b[38;5;28;01melse\u001b[39;00m col\n\u001b[0;32m   5897\u001b[0m         \u001b[38;5;28;01melse\u001b[39;00m:\n\u001b[1;32m-> 5898\u001b[0m             res_col \u001b[38;5;241m=\u001b[39m \u001b[43mcol\u001b[49m\u001b[38;5;241;43m.\u001b[39;49m\u001b[43mastype\u001b[49m\u001b[43m(\u001b[49m\u001b[43mdtype\u001b[49m\u001b[38;5;241;43m=\u001b[39;49m\u001b[43mcdt\u001b[49m\u001b[43m,\u001b[49m\u001b[43m \u001b[49m\u001b[43mcopy\u001b[49m\u001b[38;5;241;43m=\u001b[39;49m\u001b[43mcopy\u001b[49m\u001b[43m,\u001b[49m\u001b[43m \u001b[49m\u001b[43merrors\u001b[49m\u001b[38;5;241;43m=\u001b[39;49m\u001b[43merrors\u001b[49m\u001b[43m)\u001b[49m\n\u001b[0;32m   5899\u001b[0m         results\u001b[38;5;241m.\u001b[39mappend(res_col)\n\u001b[0;32m   5901\u001b[0m \u001b[38;5;28;01melif\u001b[39;00m is_extension_array_dtype(dtype) \u001b[38;5;129;01mand\u001b[39;00m \u001b[38;5;28mself\u001b[39m\u001b[38;5;241m.\u001b[39mndim \u001b[38;5;241m>\u001b[39m \u001b[38;5;241m1\u001b[39m:\n\u001b[0;32m   5902\u001b[0m     \u001b[38;5;66;03m# GH 18099/22869: columnwise conversion to extension dtype\u001b[39;00m\n\u001b[0;32m   5903\u001b[0m     \u001b[38;5;66;03m# GH 24704: use iloc to handle duplicate column names\u001b[39;00m\n\u001b[0;32m   5904\u001b[0m     \u001b[38;5;66;03m# TODO(EA2D): special case not needed with 2D EAs\u001b[39;00m\n",
      "File \u001b[1;32m~\\anaconda3\\lib\\site-packages\\pandas\\core\\generic.py:5912\u001b[0m, in \u001b[0;36mNDFrame.astype\u001b[1;34m(self, dtype, copy, errors)\u001b[0m\n\u001b[0;32m   5905\u001b[0m     results \u001b[38;5;241m=\u001b[39m [\n\u001b[0;32m   5906\u001b[0m         \u001b[38;5;28mself\u001b[39m\u001b[38;5;241m.\u001b[39miloc[:, i]\u001b[38;5;241m.\u001b[39mastype(dtype, copy\u001b[38;5;241m=\u001b[39mcopy)\n\u001b[0;32m   5907\u001b[0m         \u001b[38;5;28;01mfor\u001b[39;00m i \u001b[38;5;129;01min\u001b[39;00m \u001b[38;5;28mrange\u001b[39m(\u001b[38;5;28mlen\u001b[39m(\u001b[38;5;28mself\u001b[39m\u001b[38;5;241m.\u001b[39mcolumns))\n\u001b[0;32m   5908\u001b[0m     ]\n\u001b[0;32m   5910\u001b[0m \u001b[38;5;28;01melse\u001b[39;00m:\n\u001b[0;32m   5911\u001b[0m     \u001b[38;5;66;03m# else, only a single dtype is given\u001b[39;00m\n\u001b[1;32m-> 5912\u001b[0m     new_data \u001b[38;5;241m=\u001b[39m \u001b[38;5;28;43mself\u001b[39;49m\u001b[38;5;241;43m.\u001b[39;49m\u001b[43m_mgr\u001b[49m\u001b[38;5;241;43m.\u001b[39;49m\u001b[43mastype\u001b[49m\u001b[43m(\u001b[49m\u001b[43mdtype\u001b[49m\u001b[38;5;241;43m=\u001b[39;49m\u001b[43mdtype\u001b[49m\u001b[43m,\u001b[49m\u001b[43m \u001b[49m\u001b[43mcopy\u001b[49m\u001b[38;5;241;43m=\u001b[39;49m\u001b[43mcopy\u001b[49m\u001b[43m,\u001b[49m\u001b[43m \u001b[49m\u001b[43merrors\u001b[49m\u001b[38;5;241;43m=\u001b[39;49m\u001b[43merrors\u001b[49m\u001b[43m)\u001b[49m\n\u001b[0;32m   5913\u001b[0m     \u001b[38;5;28;01mreturn\u001b[39;00m \u001b[38;5;28mself\u001b[39m\u001b[38;5;241m.\u001b[39m_constructor(new_data)\u001b[38;5;241m.\u001b[39m__finalize__(\u001b[38;5;28mself\u001b[39m, method\u001b[38;5;241m=\u001b[39m\u001b[38;5;124m\"\u001b[39m\u001b[38;5;124mastype\u001b[39m\u001b[38;5;124m\"\u001b[39m)\n\u001b[0;32m   5915\u001b[0m \u001b[38;5;66;03m# GH 33113: handle empty frame or series\u001b[39;00m\n",
      "File \u001b[1;32m~\\anaconda3\\lib\\site-packages\\pandas\\core\\internals\\managers.py:419\u001b[0m, in \u001b[0;36mBaseBlockManager.astype\u001b[1;34m(self, dtype, copy, errors)\u001b[0m\n\u001b[0;32m    418\u001b[0m \u001b[38;5;28;01mdef\u001b[39;00m \u001b[38;5;21mastype\u001b[39m(\u001b[38;5;28mself\u001b[39m: T, dtype, copy: \u001b[38;5;28mbool\u001b[39m \u001b[38;5;241m=\u001b[39m \u001b[38;5;28;01mFalse\u001b[39;00m, errors: \u001b[38;5;28mstr\u001b[39m \u001b[38;5;241m=\u001b[39m \u001b[38;5;124m\"\u001b[39m\u001b[38;5;124mraise\u001b[39m\u001b[38;5;124m\"\u001b[39m) \u001b[38;5;241m-\u001b[39m\u001b[38;5;241m>\u001b[39m T:\n\u001b[1;32m--> 419\u001b[0m     \u001b[38;5;28;01mreturn\u001b[39;00m \u001b[38;5;28;43mself\u001b[39;49m\u001b[38;5;241;43m.\u001b[39;49m\u001b[43mapply\u001b[49m\u001b[43m(\u001b[49m\u001b[38;5;124;43m\"\u001b[39;49m\u001b[38;5;124;43mastype\u001b[39;49m\u001b[38;5;124;43m\"\u001b[39;49m\u001b[43m,\u001b[49m\u001b[43m \u001b[49m\u001b[43mdtype\u001b[49m\u001b[38;5;241;43m=\u001b[39;49m\u001b[43mdtype\u001b[49m\u001b[43m,\u001b[49m\u001b[43m \u001b[49m\u001b[43mcopy\u001b[49m\u001b[38;5;241;43m=\u001b[39;49m\u001b[43mcopy\u001b[49m\u001b[43m,\u001b[49m\u001b[43m \u001b[49m\u001b[43merrors\u001b[49m\u001b[38;5;241;43m=\u001b[39;49m\u001b[43merrors\u001b[49m\u001b[43m)\u001b[49m\n",
      "File \u001b[1;32m~\\anaconda3\\lib\\site-packages\\pandas\\core\\internals\\managers.py:304\u001b[0m, in \u001b[0;36mBaseBlockManager.apply\u001b[1;34m(self, f, align_keys, ignore_failures, **kwargs)\u001b[0m\n\u001b[0;32m    302\u001b[0m         applied \u001b[38;5;241m=\u001b[39m b\u001b[38;5;241m.\u001b[39mapply(f, \u001b[38;5;241m*\u001b[39m\u001b[38;5;241m*\u001b[39mkwargs)\n\u001b[0;32m    303\u001b[0m     \u001b[38;5;28;01melse\u001b[39;00m:\n\u001b[1;32m--> 304\u001b[0m         applied \u001b[38;5;241m=\u001b[39m \u001b[38;5;28mgetattr\u001b[39m(b, f)(\u001b[38;5;241m*\u001b[39m\u001b[38;5;241m*\u001b[39mkwargs)\n\u001b[0;32m    305\u001b[0m \u001b[38;5;28;01mexcept\u001b[39;00m (\u001b[38;5;167;01mTypeError\u001b[39;00m, \u001b[38;5;167;01mNotImplementedError\u001b[39;00m):\n\u001b[0;32m    306\u001b[0m     \u001b[38;5;28;01mif\u001b[39;00m \u001b[38;5;129;01mnot\u001b[39;00m ignore_failures:\n",
      "File \u001b[1;32m~\\anaconda3\\lib\\site-packages\\pandas\\core\\internals\\blocks.py:580\u001b[0m, in \u001b[0;36mBlock.astype\u001b[1;34m(self, dtype, copy, errors)\u001b[0m\n\u001b[0;32m    562\u001b[0m \u001b[38;5;124;03m\"\"\"\u001b[39;00m\n\u001b[0;32m    563\u001b[0m \u001b[38;5;124;03mCoerce to the new dtype.\u001b[39;00m\n\u001b[0;32m    564\u001b[0m \n\u001b[1;32m   (...)\u001b[0m\n\u001b[0;32m    576\u001b[0m \u001b[38;5;124;03mBlock\u001b[39;00m\n\u001b[0;32m    577\u001b[0m \u001b[38;5;124;03m\"\"\"\u001b[39;00m\n\u001b[0;32m    578\u001b[0m values \u001b[38;5;241m=\u001b[39m \u001b[38;5;28mself\u001b[39m\u001b[38;5;241m.\u001b[39mvalues\n\u001b[1;32m--> 580\u001b[0m new_values \u001b[38;5;241m=\u001b[39m \u001b[43mastype_array_safe\u001b[49m\u001b[43m(\u001b[49m\u001b[43mvalues\u001b[49m\u001b[43m,\u001b[49m\u001b[43m \u001b[49m\u001b[43mdtype\u001b[49m\u001b[43m,\u001b[49m\u001b[43m \u001b[49m\u001b[43mcopy\u001b[49m\u001b[38;5;241;43m=\u001b[39;49m\u001b[43mcopy\u001b[49m\u001b[43m,\u001b[49m\u001b[43m \u001b[49m\u001b[43merrors\u001b[49m\u001b[38;5;241;43m=\u001b[39;49m\u001b[43merrors\u001b[49m\u001b[43m)\u001b[49m\n\u001b[0;32m    582\u001b[0m new_values \u001b[38;5;241m=\u001b[39m maybe_coerce_values(new_values)\n\u001b[0;32m    583\u001b[0m newb \u001b[38;5;241m=\u001b[39m \u001b[38;5;28mself\u001b[39m\u001b[38;5;241m.\u001b[39mmake_block(new_values)\n",
      "File \u001b[1;32m~\\anaconda3\\lib\\site-packages\\pandas\\core\\dtypes\\cast.py:1292\u001b[0m, in \u001b[0;36mastype_array_safe\u001b[1;34m(values, dtype, copy, errors)\u001b[0m\n\u001b[0;32m   1289\u001b[0m     dtype \u001b[38;5;241m=\u001b[39m dtype\u001b[38;5;241m.\u001b[39mnumpy_dtype\n\u001b[0;32m   1291\u001b[0m \u001b[38;5;28;01mtry\u001b[39;00m:\n\u001b[1;32m-> 1292\u001b[0m     new_values \u001b[38;5;241m=\u001b[39m \u001b[43mastype_array\u001b[49m\u001b[43m(\u001b[49m\u001b[43mvalues\u001b[49m\u001b[43m,\u001b[49m\u001b[43m \u001b[49m\u001b[43mdtype\u001b[49m\u001b[43m,\u001b[49m\u001b[43m \u001b[49m\u001b[43mcopy\u001b[49m\u001b[38;5;241;43m=\u001b[39;49m\u001b[43mcopy\u001b[49m\u001b[43m)\u001b[49m\n\u001b[0;32m   1293\u001b[0m \u001b[38;5;28;01mexcept\u001b[39;00m (\u001b[38;5;167;01mValueError\u001b[39;00m, \u001b[38;5;167;01mTypeError\u001b[39;00m):\n\u001b[0;32m   1294\u001b[0m     \u001b[38;5;66;03m# e.g. astype_nansafe can fail on object-dtype of strings\u001b[39;00m\n\u001b[0;32m   1295\u001b[0m     \u001b[38;5;66;03m#  trying to convert to float\u001b[39;00m\n\u001b[0;32m   1296\u001b[0m     \u001b[38;5;28;01mif\u001b[39;00m errors \u001b[38;5;241m==\u001b[39m \u001b[38;5;124m\"\u001b[39m\u001b[38;5;124mignore\u001b[39m\u001b[38;5;124m\"\u001b[39m:\n",
      "File \u001b[1;32m~\\anaconda3\\lib\\site-packages\\pandas\\core\\dtypes\\cast.py:1237\u001b[0m, in \u001b[0;36mastype_array\u001b[1;34m(values, dtype, copy)\u001b[0m\n\u001b[0;32m   1234\u001b[0m     values \u001b[38;5;241m=\u001b[39m values\u001b[38;5;241m.\u001b[39mastype(dtype, copy\u001b[38;5;241m=\u001b[39mcopy)\n\u001b[0;32m   1236\u001b[0m \u001b[38;5;28;01melse\u001b[39;00m:\n\u001b[1;32m-> 1237\u001b[0m     values \u001b[38;5;241m=\u001b[39m \u001b[43mastype_nansafe\u001b[49m\u001b[43m(\u001b[49m\u001b[43mvalues\u001b[49m\u001b[43m,\u001b[49m\u001b[43m \u001b[49m\u001b[43mdtype\u001b[49m\u001b[43m,\u001b[49m\u001b[43m \u001b[49m\u001b[43mcopy\u001b[49m\u001b[38;5;241;43m=\u001b[39;49m\u001b[43mcopy\u001b[49m\u001b[43m)\u001b[49m\n\u001b[0;32m   1239\u001b[0m \u001b[38;5;66;03m# in pandas we don't store numpy str dtypes, so convert to object\u001b[39;00m\n\u001b[0;32m   1240\u001b[0m \u001b[38;5;28;01mif\u001b[39;00m \u001b[38;5;28misinstance\u001b[39m(dtype, np\u001b[38;5;241m.\u001b[39mdtype) \u001b[38;5;129;01mand\u001b[39;00m \u001b[38;5;28missubclass\u001b[39m(values\u001b[38;5;241m.\u001b[39mdtype\u001b[38;5;241m.\u001b[39mtype, \u001b[38;5;28mstr\u001b[39m):\n",
      "File \u001b[1;32m~\\anaconda3\\lib\\site-packages\\pandas\\core\\dtypes\\cast.py:1163\u001b[0m, in \u001b[0;36mastype_nansafe\u001b[1;34m(arr, dtype, copy, skipna)\u001b[0m\n\u001b[0;32m   1159\u001b[0m \u001b[38;5;28;01melif\u001b[39;00m is_datetime64_dtype(dtype):\n\u001b[0;32m   1160\u001b[0m     \u001b[38;5;28;01mfrom\u001b[39;00m \u001b[38;5;21;01mpandas\u001b[39;00m \u001b[38;5;28;01mimport\u001b[39;00m to_datetime\n\u001b[0;32m   1162\u001b[0m     \u001b[38;5;28;01mreturn\u001b[39;00m astype_nansafe(\n\u001b[1;32m-> 1163\u001b[0m         \u001b[43mto_datetime\u001b[49m\u001b[43m(\u001b[49m\u001b[43marr\u001b[49m\u001b[43m)\u001b[49m\u001b[38;5;241m.\u001b[39mvalues,\n\u001b[0;32m   1164\u001b[0m         dtype,\n\u001b[0;32m   1165\u001b[0m         copy\u001b[38;5;241m=\u001b[39mcopy,\n\u001b[0;32m   1166\u001b[0m     )\n\u001b[0;32m   1167\u001b[0m \u001b[38;5;28;01melif\u001b[39;00m is_timedelta64_dtype(dtype):\n\u001b[0;32m   1168\u001b[0m     \u001b[38;5;28;01mfrom\u001b[39;00m \u001b[38;5;21;01mpandas\u001b[39;00m \u001b[38;5;28;01mimport\u001b[39;00m to_timedelta\n",
      "File \u001b[1;32m~\\anaconda3\\lib\\site-packages\\pandas\\core\\tools\\datetimes.py:1063\u001b[0m, in \u001b[0;36mto_datetime\u001b[1;34m(arg, errors, dayfirst, yearfirst, utc, format, exact, unit, infer_datetime_format, origin, cache)\u001b[0m\n\u001b[0;32m   1061\u001b[0m \u001b[38;5;28;01melif\u001b[39;00m is_list_like(arg):\n\u001b[0;32m   1062\u001b[0m     \u001b[38;5;28;01mtry\u001b[39;00m:\n\u001b[1;32m-> 1063\u001b[0m         cache_array \u001b[38;5;241m=\u001b[39m \u001b[43m_maybe_cache\u001b[49m\u001b[43m(\u001b[49m\u001b[43marg\u001b[49m\u001b[43m,\u001b[49m\u001b[43m \u001b[49m\u001b[38;5;28;43mformat\u001b[39;49m\u001b[43m,\u001b[49m\u001b[43m \u001b[49m\u001b[43mcache\u001b[49m\u001b[43m,\u001b[49m\u001b[43m \u001b[49m\u001b[43mconvert_listlike\u001b[49m\u001b[43m)\u001b[49m\n\u001b[0;32m   1064\u001b[0m     \u001b[38;5;28;01mexcept\u001b[39;00m OutOfBoundsDatetime:\n\u001b[0;32m   1065\u001b[0m         \u001b[38;5;66;03m# caching attempts to create a DatetimeIndex, which may raise\u001b[39;00m\n\u001b[0;32m   1066\u001b[0m         \u001b[38;5;66;03m# an OOB. If that's the desired behavior, then just reraise...\u001b[39;00m\n\u001b[0;32m   1067\u001b[0m         \u001b[38;5;28;01mif\u001b[39;00m errors \u001b[38;5;241m==\u001b[39m \u001b[38;5;124m\"\u001b[39m\u001b[38;5;124mraise\u001b[39m\u001b[38;5;124m\"\u001b[39m:\n",
      "File \u001b[1;32m~\\anaconda3\\lib\\site-packages\\pandas\\core\\tools\\datetimes.py:197\u001b[0m, in \u001b[0;36m_maybe_cache\u001b[1;34m(arg, format, cache, convert_listlike)\u001b[0m\n\u001b[0;32m    195\u001b[0m unique_dates \u001b[38;5;241m=\u001b[39m unique(arg)\n\u001b[0;32m    196\u001b[0m \u001b[38;5;28;01mif\u001b[39;00m \u001b[38;5;28mlen\u001b[39m(unique_dates) \u001b[38;5;241m<\u001b[39m \u001b[38;5;28mlen\u001b[39m(arg):\n\u001b[1;32m--> 197\u001b[0m     cache_dates \u001b[38;5;241m=\u001b[39m \u001b[43mconvert_listlike\u001b[49m\u001b[43m(\u001b[49m\u001b[43munique_dates\u001b[49m\u001b[43m,\u001b[49m\u001b[43m \u001b[49m\u001b[38;5;28;43mformat\u001b[39;49m\u001b[43m)\u001b[49m\n\u001b[0;32m    198\u001b[0m     cache_array \u001b[38;5;241m=\u001b[39m Series(cache_dates, index\u001b[38;5;241m=\u001b[39munique_dates)\n\u001b[0;32m    199\u001b[0m     \u001b[38;5;66;03m# GH#39882 and GH#35888 in case of None and NaT we get duplicates\u001b[39;00m\n",
      "File \u001b[1;32m~\\anaconda3\\lib\\site-packages\\pandas\\core\\tools\\datetimes.py:402\u001b[0m, in \u001b[0;36m_convert_listlike_datetimes\u001b[1;34m(arg, format, name, tz, unit, errors, infer_datetime_format, dayfirst, yearfirst, exact)\u001b[0m\n\u001b[0;32m    400\u001b[0m \u001b[38;5;28;01massert\u001b[39;00m \u001b[38;5;28mformat\u001b[39m \u001b[38;5;129;01mis\u001b[39;00m \u001b[38;5;28;01mNone\u001b[39;00m \u001b[38;5;129;01mor\u001b[39;00m infer_datetime_format\n\u001b[0;32m    401\u001b[0m utc \u001b[38;5;241m=\u001b[39m tz \u001b[38;5;241m==\u001b[39m \u001b[38;5;124m\"\u001b[39m\u001b[38;5;124mutc\u001b[39m\u001b[38;5;124m\"\u001b[39m\n\u001b[1;32m--> 402\u001b[0m result, tz_parsed \u001b[38;5;241m=\u001b[39m \u001b[43mobjects_to_datetime64ns\u001b[49m\u001b[43m(\u001b[49m\n\u001b[0;32m    403\u001b[0m \u001b[43m    \u001b[49m\u001b[43marg\u001b[49m\u001b[43m,\u001b[49m\n\u001b[0;32m    404\u001b[0m \u001b[43m    \u001b[49m\u001b[43mdayfirst\u001b[49m\u001b[38;5;241;43m=\u001b[39;49m\u001b[43mdayfirst\u001b[49m\u001b[43m,\u001b[49m\n\u001b[0;32m    405\u001b[0m \u001b[43m    \u001b[49m\u001b[43myearfirst\u001b[49m\u001b[38;5;241;43m=\u001b[39;49m\u001b[43myearfirst\u001b[49m\u001b[43m,\u001b[49m\n\u001b[0;32m    406\u001b[0m \u001b[43m    \u001b[49m\u001b[43mutc\u001b[49m\u001b[38;5;241;43m=\u001b[39;49m\u001b[43mutc\u001b[49m\u001b[43m,\u001b[49m\n\u001b[0;32m    407\u001b[0m \u001b[43m    \u001b[49m\u001b[43merrors\u001b[49m\u001b[38;5;241;43m=\u001b[39;49m\u001b[43merrors\u001b[49m\u001b[43m,\u001b[49m\n\u001b[0;32m    408\u001b[0m \u001b[43m    \u001b[49m\u001b[43mrequire_iso8601\u001b[49m\u001b[38;5;241;43m=\u001b[39;49m\u001b[43mrequire_iso8601\u001b[49m\u001b[43m,\u001b[49m\n\u001b[0;32m    409\u001b[0m \u001b[43m    \u001b[49m\u001b[43mallow_object\u001b[49m\u001b[38;5;241;43m=\u001b[39;49m\u001b[38;5;28;43;01mTrue\u001b[39;49;00m\u001b[43m,\u001b[49m\n\u001b[0;32m    410\u001b[0m \u001b[43m\u001b[49m\u001b[43m)\u001b[49m\n\u001b[0;32m    412\u001b[0m \u001b[38;5;28;01mif\u001b[39;00m tz_parsed \u001b[38;5;129;01mis\u001b[39;00m \u001b[38;5;129;01mnot\u001b[39;00m \u001b[38;5;28;01mNone\u001b[39;00m:\n\u001b[0;32m    413\u001b[0m     \u001b[38;5;66;03m# We can take a shortcut since the datetime64 numpy array\u001b[39;00m\n\u001b[0;32m    414\u001b[0m     \u001b[38;5;66;03m# is in UTC\u001b[39;00m\n\u001b[0;32m    415\u001b[0m     dta \u001b[38;5;241m=\u001b[39m DatetimeArray(result, dtype\u001b[38;5;241m=\u001b[39mtz_to_dtype(tz_parsed))\n",
      "File \u001b[1;32m~\\anaconda3\\lib\\site-packages\\pandas\\core\\arrays\\datetimes.py:2217\u001b[0m, in \u001b[0;36mobjects_to_datetime64ns\u001b[1;34m(data, dayfirst, yearfirst, utc, errors, require_iso8601, allow_object, allow_mixed)\u001b[0m\n\u001b[0;32m   2215\u001b[0m         \u001b[38;5;28;01mreturn\u001b[39;00m values\u001b[38;5;241m.\u001b[39mview(\u001b[38;5;124m\"\u001b[39m\u001b[38;5;124mi8\u001b[39m\u001b[38;5;124m\"\u001b[39m), tz_parsed\n\u001b[0;32m   2216\u001b[0m     \u001b[38;5;28;01mexcept\u001b[39;00m (\u001b[38;5;167;01mValueError\u001b[39;00m, \u001b[38;5;167;01mTypeError\u001b[39;00m):\n\u001b[1;32m-> 2217\u001b[0m         \u001b[38;5;28;01mraise\u001b[39;00m err\n\u001b[0;32m   2219\u001b[0m \u001b[38;5;28;01mif\u001b[39;00m tz_parsed \u001b[38;5;129;01mis\u001b[39;00m \u001b[38;5;129;01mnot\u001b[39;00m \u001b[38;5;28;01mNone\u001b[39;00m:\n\u001b[0;32m   2220\u001b[0m     \u001b[38;5;66;03m# We can take a shortcut since the datetime64 numpy array\u001b[39;00m\n\u001b[0;32m   2221\u001b[0m     \u001b[38;5;66;03m#  is in UTC\u001b[39;00m\n\u001b[0;32m   2222\u001b[0m     \u001b[38;5;66;03m# Return i8 values to denote unix timestamps\u001b[39;00m\n\u001b[0;32m   2223\u001b[0m     \u001b[38;5;28;01mreturn\u001b[39;00m result\u001b[38;5;241m.\u001b[39mview(\u001b[38;5;124m\"\u001b[39m\u001b[38;5;124mi8\u001b[39m\u001b[38;5;124m\"\u001b[39m), tz_parsed\n",
      "File \u001b[1;32m~\\anaconda3\\lib\\site-packages\\pandas\\core\\arrays\\datetimes.py:2199\u001b[0m, in \u001b[0;36mobjects_to_datetime64ns\u001b[1;34m(data, dayfirst, yearfirst, utc, errors, require_iso8601, allow_object, allow_mixed)\u001b[0m\n\u001b[0;32m   2197\u001b[0m order: Literal[\u001b[38;5;124m\"\u001b[39m\u001b[38;5;124mF\u001b[39m\u001b[38;5;124m\"\u001b[39m, \u001b[38;5;124m\"\u001b[39m\u001b[38;5;124mC\u001b[39m\u001b[38;5;124m\"\u001b[39m] \u001b[38;5;241m=\u001b[39m \u001b[38;5;124m\"\u001b[39m\u001b[38;5;124mF\u001b[39m\u001b[38;5;124m\"\u001b[39m \u001b[38;5;28;01mif\u001b[39;00m flags\u001b[38;5;241m.\u001b[39mf_contiguous \u001b[38;5;28;01melse\u001b[39;00m \u001b[38;5;124m\"\u001b[39m\u001b[38;5;124mC\u001b[39m\u001b[38;5;124m\"\u001b[39m\n\u001b[0;32m   2198\u001b[0m \u001b[38;5;28;01mtry\u001b[39;00m:\n\u001b[1;32m-> 2199\u001b[0m     result, tz_parsed \u001b[38;5;241m=\u001b[39m \u001b[43mtslib\u001b[49m\u001b[38;5;241;43m.\u001b[39;49m\u001b[43marray_to_datetime\u001b[49m\u001b[43m(\u001b[49m\n\u001b[0;32m   2200\u001b[0m \u001b[43m        \u001b[49m\u001b[43mdata\u001b[49m\u001b[38;5;241;43m.\u001b[39;49m\u001b[43mravel\u001b[49m\u001b[43m(\u001b[49m\u001b[38;5;124;43m\"\u001b[39;49m\u001b[38;5;124;43mK\u001b[39;49m\u001b[38;5;124;43m\"\u001b[39;49m\u001b[43m)\u001b[49m\u001b[43m,\u001b[49m\n\u001b[0;32m   2201\u001b[0m \u001b[43m        \u001b[49m\u001b[43merrors\u001b[49m\u001b[38;5;241;43m=\u001b[39;49m\u001b[43merrors\u001b[49m\u001b[43m,\u001b[49m\n\u001b[0;32m   2202\u001b[0m \u001b[43m        \u001b[49m\u001b[43mutc\u001b[49m\u001b[38;5;241;43m=\u001b[39;49m\u001b[43mutc\u001b[49m\u001b[43m,\u001b[49m\n\u001b[0;32m   2203\u001b[0m \u001b[43m        \u001b[49m\u001b[43mdayfirst\u001b[49m\u001b[38;5;241;43m=\u001b[39;49m\u001b[43mdayfirst\u001b[49m\u001b[43m,\u001b[49m\n\u001b[0;32m   2204\u001b[0m \u001b[43m        \u001b[49m\u001b[43myearfirst\u001b[49m\u001b[38;5;241;43m=\u001b[39;49m\u001b[43myearfirst\u001b[49m\u001b[43m,\u001b[49m\n\u001b[0;32m   2205\u001b[0m \u001b[43m        \u001b[49m\u001b[43mrequire_iso8601\u001b[49m\u001b[38;5;241;43m=\u001b[39;49m\u001b[43mrequire_iso8601\u001b[49m\u001b[43m,\u001b[49m\n\u001b[0;32m   2206\u001b[0m \u001b[43m        \u001b[49m\u001b[43mallow_mixed\u001b[49m\u001b[38;5;241;43m=\u001b[39;49m\u001b[43mallow_mixed\u001b[49m\u001b[43m,\u001b[49m\n\u001b[0;32m   2207\u001b[0m \u001b[43m    \u001b[49m\u001b[43m)\u001b[49m\n\u001b[0;32m   2208\u001b[0m     result \u001b[38;5;241m=\u001b[39m result\u001b[38;5;241m.\u001b[39mreshape(data\u001b[38;5;241m.\u001b[39mshape, order\u001b[38;5;241m=\u001b[39morder)\n\u001b[0;32m   2209\u001b[0m \u001b[38;5;28;01mexcept\u001b[39;00m \u001b[38;5;167;01mValueError\u001b[39;00m \u001b[38;5;28;01mas\u001b[39;00m err:\n",
      "File \u001b[1;32m~\\anaconda3\\lib\\site-packages\\pandas\\_libs\\tslib.pyx:381\u001b[0m, in \u001b[0;36mpandas._libs.tslib.array_to_datetime\u001b[1;34m()\u001b[0m\n",
      "File \u001b[1;32m~\\anaconda3\\lib\\site-packages\\pandas\\_libs\\tslib.pyx:613\u001b[0m, in \u001b[0;36mpandas._libs.tslib.array_to_datetime\u001b[1;34m()\u001b[0m\n",
      "File \u001b[1;32m~\\anaconda3\\lib\\site-packages\\pandas\\_libs\\tslib.pyx:751\u001b[0m, in \u001b[0;36mpandas._libs.tslib._array_to_datetime_object\u001b[1;34m()\u001b[0m\n",
      "File \u001b[1;32m~\\anaconda3\\lib\\site-packages\\pandas\\_libs\\tslib.pyx:742\u001b[0m, in \u001b[0;36mpandas._libs.tslib._array_to_datetime_object\u001b[1;34m()\u001b[0m\n",
      "File \u001b[1;32m~\\anaconda3\\lib\\site-packages\\pandas\\_libs\\tslibs\\parsing.pyx:281\u001b[0m, in \u001b[0;36mpandas._libs.tslibs.parsing.parse_datetime_string\u001b[1;34m()\u001b[0m\n",
      "File \u001b[1;32m~\\anaconda3\\lib\\site-packages\\dateutil\\parser\\_parser.py:1368\u001b[0m, in \u001b[0;36mparse\u001b[1;34m(timestr, parserinfo, **kwargs)\u001b[0m\n\u001b[0;32m   1366\u001b[0m     \u001b[38;5;28;01mreturn\u001b[39;00m parser(parserinfo)\u001b[38;5;241m.\u001b[39mparse(timestr, \u001b[38;5;241m*\u001b[39m\u001b[38;5;241m*\u001b[39mkwargs)\n\u001b[0;32m   1367\u001b[0m \u001b[38;5;28;01melse\u001b[39;00m:\n\u001b[1;32m-> 1368\u001b[0m     \u001b[38;5;28;01mreturn\u001b[39;00m DEFAULTPARSER\u001b[38;5;241m.\u001b[39mparse(timestr, \u001b[38;5;241m*\u001b[39m\u001b[38;5;241m*\u001b[39mkwargs)\n",
      "File \u001b[1;32m~\\anaconda3\\lib\\site-packages\\dateutil\\parser\\_parser.py:651\u001b[0m, in \u001b[0;36mparser.parse\u001b[1;34m(self, timestr, default, ignoretz, tzinfos, **kwargs)\u001b[0m\n\u001b[0;32m    649\u001b[0m     ret \u001b[38;5;241m=\u001b[39m \u001b[38;5;28mself\u001b[39m\u001b[38;5;241m.\u001b[39m_build_naive(res, default)\n\u001b[0;32m    650\u001b[0m \u001b[38;5;28;01mexcept\u001b[39;00m \u001b[38;5;167;01mValueError\u001b[39;00m \u001b[38;5;28;01mas\u001b[39;00m e:\n\u001b[1;32m--> 651\u001b[0m     \u001b[43msix\u001b[49m\u001b[38;5;241;43m.\u001b[39;49m\u001b[43mraise_from\u001b[49m\u001b[43m(\u001b[49m\u001b[43mParserError\u001b[49m\u001b[43m(\u001b[49m\u001b[38;5;28;43mstr\u001b[39;49m\u001b[43m(\u001b[49m\u001b[43me\u001b[49m\u001b[43m)\u001b[49m\u001b[43m \u001b[49m\u001b[38;5;241;43m+\u001b[39;49m\u001b[43m \u001b[49m\u001b[38;5;124;43m\"\u001b[39;49m\u001b[38;5;124;43m: \u001b[39;49m\u001b[38;5;132;43;01m%s\u001b[39;49;00m\u001b[38;5;124;43m\"\u001b[39;49m\u001b[43m,\u001b[49m\u001b[43m \u001b[49m\u001b[43mtimestr\u001b[49m\u001b[43m)\u001b[49m\u001b[43m,\u001b[49m\u001b[43m \u001b[49m\u001b[43me\u001b[49m\u001b[43m)\u001b[49m\n\u001b[0;32m    653\u001b[0m \u001b[38;5;28;01mif\u001b[39;00m \u001b[38;5;129;01mnot\u001b[39;00m ignoretz:\n\u001b[0;32m    654\u001b[0m     ret \u001b[38;5;241m=\u001b[39m \u001b[38;5;28mself\u001b[39m\u001b[38;5;241m.\u001b[39m_build_tzaware(ret, res, tzinfos)\n",
      "File \u001b[1;32m<string>:3\u001b[0m, in \u001b[0;36mraise_from\u001b[1;34m(value, from_value)\u001b[0m\n",
      "\u001b[1;31mParserError\u001b[0m: day is out of range for month: 0"
     ]
    }
   ],
   "source": [
    "df = df.astype({'marketing_start_at':'datetime64'})\n",
    "df"
   ]
  },
  {
   "cell_type": "code",
   "execution_count": null,
   "id": "7332a909",
   "metadata": {},
   "outputs": [],
   "source": [
    "df = df.astype({'course_id':'float64'})\n",
    "df"
   ]
  },
  {
   "cell_type": "code",
   "execution_count": 191,
   "id": "8852bc2d",
   "metadata": {
    "ExecuteTime": {
     "end_time": "2022-06-29T08:03:26.829935Z",
     "start_time": "2022-06-29T08:03:26.693173Z"
    }
   },
   "outputs": [
    {
     "data": {
      "text/plain": [
       "27"
      ]
     },
     "execution_count": 191,
     "metadata": {},
     "output_type": "execute_result"
    }
   ],
   "source": [
    "df[df['coupon_title'].str.contains('테스트')].value_counts().sum()"
   ]
  },
  {
   "cell_type": "code",
   "execution_count": 209,
   "id": "e0dcd75b",
   "metadata": {
    "ExecuteTime": {
     "end_time": "2022-06-29T08:26:11.261085Z",
     "start_time": "2022-06-29T08:26:10.420797Z"
    }
   },
   "outputs": [],
   "source": [
    "df.to_csv('./2022-06-29_bab_ppc.csv')"
   ]
  }
 ],
 "metadata": {
  "kernelspec": {
   "display_name": "Python 3 (ipykernel)",
   "language": "python",
   "name": "python3"
  },
  "language_info": {
   "codemirror_mode": {
    "name": "ipython",
    "version": 3
   },
   "file_extension": ".py",
   "mimetype": "text/x-python",
   "name": "python",
   "nbconvert_exporter": "python",
   "pygments_lexer": "ipython3",
   "version": "3.9.12"
  },
  "toc": {
   "base_numbering": 1,
   "nav_menu": {},
   "number_sections": true,
   "sideBar": true,
   "skip_h1_title": false,
   "title_cell": "Table of Contents",
   "title_sidebar": "Contents",
   "toc_cell": false,
   "toc_position": {},
   "toc_section_display": true,
   "toc_window_display": false
  },
  "varInspector": {
   "cols": {
    "lenName": 16,
    "lenType": 16,
    "lenVar": 40
   },
   "kernels_config": {
    "python": {
     "delete_cmd_postfix": "",
     "delete_cmd_prefix": "del ",
     "library": "var_list.py",
     "varRefreshCmd": "print(var_dic_list())"
    },
    "r": {
     "delete_cmd_postfix": ") ",
     "delete_cmd_prefix": "rm(",
     "library": "var_list.r",
     "varRefreshCmd": "cat(var_dic_list()) "
    }
   },
   "types_to_exclude": [
    "module",
    "function",
    "builtin_function_or_method",
    "instance",
    "_Feature"
   ],
   "window_display": false
  }
 },
 "nbformat": 4,
 "nbformat_minor": 5
}
