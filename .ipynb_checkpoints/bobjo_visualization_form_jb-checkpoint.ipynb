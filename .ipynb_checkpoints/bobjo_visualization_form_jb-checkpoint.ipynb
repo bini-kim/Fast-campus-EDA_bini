{
 "cells": [
  {
   "cell_type": "markdown",
   "id": "881f8b95",
   "metadata": {},
   "source": [
    "데이터 시각화 양식\n",
    "\n",
    "양식의 순서는 지키되 참고만 하고 자유롭게 더하거나 빼서 분석하세요."
   ]
  },
  {
   "cell_type": "code",
<<<<<<< HEAD
<<<<<<< HEAD
   "execution_count": 1,
   "id": "34d8d9cc",
   "metadata": {
    "ExecuteTime": {
     "end_time": "2022-06-30T08:07:31.843765Z",
     "start_time": "2022-06-30T08:07:28.315756Z"
=======
   "execution_count": 35,
   "id": "34d8d9cc",
   "metadata": {
    "ExecuteTime": {
     "end_time": "2022-06-30T10:18:22.650257Z",
     "start_time": "2022-06-30T10:18:22.642108Z"
>>>>>>> toast
=======
   "execution_count": 1,
   "id": "34d8d9cc",
   "metadata": {
    "ExecuteTime": {
     "end_time": "2022-07-01T02:09:47.475736Z",
     "start_time": "2022-07-01T02:09:44.058482Z"
>>>>>>> toast
    }
   },
   "outputs": [],
   "source": [
    "import numpy as np\n",
    "import pandas as pd\n",
    "import matplotlib.pyplot as plt\n",
    "import seaborn as sns\n",
    "\n",
    "import time\n",
    "import json\n",
    "import urllib\n",
    "import requests\n",
    "from bs4 import BeautifulSoup\n",
    "import random\n",
    "import time\n",
    "import warnings\n",
    "warnings.filterwarnings(action='ignore')"
   ]
  },
  {
   "cell_type": "code",
<<<<<<< HEAD
<<<<<<< HEAD
   "execution_count": 2,
   "id": "0d975706",
   "metadata": {
    "ExecuteTime": {
     "end_time": "2022-06-30T08:07:44.362598Z",
     "start_time": "2022-06-30T08:07:34.458781Z"
=======
   "execution_count": 36,
   "id": "0d975706",
   "metadata": {
    "ExecuteTime": {
     "end_time": "2022-06-30T10:18:32.113648Z",
     "start_time": "2022-06-30T10:18:26.196669Z"
>>>>>>> toast
=======
   "execution_count": 2,
   "id": "0d975706",
   "metadata": {
    "ExecuteTime": {
     "end_time": "2022-07-01T02:09:59.497266Z",
     "start_time": "2022-07-01T02:09:49.350178Z"
>>>>>>> toast
    },
    "scrolled": true
   },
   "outputs": [
    {
     "name": "stdout",
     "output_type": "stream",
     "text": [
      "Requirement already satisfied: matplotlib in c:\\users\\beom\\anaconda3\\envs\\datascience\\lib\\site-packages (3.3.4)\n",
<<<<<<< HEAD
<<<<<<< HEAD
      "Requirement already satisfied: pyparsing!=2.0.4,!=2.1.2,!=2.1.6,>=2.0.3 in c:\\users\\beom\\anaconda3\\envs\\datascience\\lib\\site-packages (from matplotlib) (2.4.7)\n",
      "Requirement already satisfied: kiwisolver>=1.0.1 in c:\\users\\beom\\anaconda3\\envs\\datascience\\lib\\site-packages (from matplotlib) (1.3.1)\n",
      "Requirement already satisfied: python-dateutil>=2.1 in c:\\users\\beom\\anaconda3\\envs\\datascience\\lib\\site-packages (from matplotlib) (2.8.1)\n",
      "Requirement already satisfied: cycler>=0.10 in c:\\users\\beom\\anaconda3\\envs\\datascience\\lib\\site-packages (from matplotlib) (0.10.0)\n",
      "Requirement already satisfied: numpy>=1.15 in c:\\users\\beom\\anaconda3\\envs\\datascience\\lib\\site-packages (from matplotlib) (1.20.1)\n",
      "Requirement already satisfied: pillow>=6.2.0 in c:\\users\\beom\\anaconda3\\envs\\datascience\\lib\\site-packages (from matplotlib) (8.2.0)\n",
=======
      "Requirement already satisfied: numpy>=1.15 in c:\\users\\beom\\anaconda3\\envs\\datascience\\lib\\site-packages (from matplotlib) (1.20.1)\n",
=======
>>>>>>> toast
      "Requirement already satisfied: cycler>=0.10 in c:\\users\\beom\\anaconda3\\envs\\datascience\\lib\\site-packages (from matplotlib) (0.10.0)\n",
      "Requirement already satisfied: pillow>=6.2.0 in c:\\users\\beom\\anaconda3\\envs\\datascience\\lib\\site-packages (from matplotlib) (8.2.0)\n",
      "Requirement already satisfied: python-dateutil>=2.1 in c:\\users\\beom\\anaconda3\\envs\\datascience\\lib\\site-packages (from matplotlib) (2.8.1)\n",
      "Requirement already satisfied: numpy>=1.15 in c:\\users\\beom\\anaconda3\\envs\\datascience\\lib\\site-packages (from matplotlib) (1.20.1)\n",
      "Requirement already satisfied: kiwisolver>=1.0.1 in c:\\users\\beom\\anaconda3\\envs\\datascience\\lib\\site-packages (from matplotlib) (1.3.1)\n",
      "Requirement already satisfied: pyparsing!=2.0.4,!=2.1.2,!=2.1.6,>=2.0.3 in c:\\users\\beom\\anaconda3\\envs\\datascience\\lib\\site-packages (from matplotlib) (2.4.7)\n",
>>>>>>> toast
      "Requirement already satisfied: six in c:\\users\\beom\\anaconda3\\envs\\datascience\\lib\\site-packages (from cycler>=0.10->matplotlib) (1.15.0)\n"
     ]
    }
   ],
   "source": [
    "!pip install matplotlib\n",
    "%matplotlib inline \n",
    "%matplotlib notebook \n",
    "\n",
    "from numpy import sin, cos\n",
    "\n",
    "from cycler import cycler\n",
    "import matplotlib as mpl\n",
    "\n",
    "mpl.rcParams['axes.unicode_minus'] = False\n",
    "import platform\n",
    "\n",
    "import matplotlib.font_manager as fm\n",
    "fm.findSystemFonts(fontpaths=None, fontext='ttf')\n",
    "plt.rc('font', family='NanumBarunGothic')\n",
    "\n",
    "from glob import glob\n",
    "\n",
    "import scipy.integrate as integrate\n",
    "import matplotlib.animation as animation\n",
    "from collections import deque\n",
    "\n",
    "# # seaborn 예제 파일 불러오기\n",
    "# penguins = sns.load_dataset('penguins')"
   ]
  },
  {
   "cell_type": "code",
<<<<<<< HEAD
   "execution_count": 19,
   "id": "3c43ea50",
   "metadata": {
    "ExecuteTime": {
     "end_time": "2022-06-30T08:13:43.946225Z",
     "start_time": "2022-06-30T08:13:43.465112Z"
=======
   "execution_count": null,
   "id": "f396ba11",
   "metadata": {
    "ExecuteTime": {
     "end_time": "2022-06-30T10:27:51.984875Z",
     "start_time": "2022-06-30T10:27:51.962875Z"
    }
   },
   "outputs": [],
   "source": [
    "# del df\n",
    "\n",
    "# df.completed_at = pd.to_datetime(df.completed_at, )\n",
    "# df.marketing_start_at = pd.to_datetime(df.marketing_start_at, )\n",
    "\n"
   ]
  },
  {
   "cell_type": "code",
   "execution_count": 3,
   "id": "3c43ea50",
   "metadata": {
    "ExecuteTime": {
<<<<<<< HEAD
<<<<<<< HEAD
     "end_time": "2022-06-30T10:38:21.739459Z",
     "start_time": "2022-06-30T10:38:21.362117Z"
>>>>>>> toast
=======
     "end_time": "2022-06-30T11:46:19.452763Z",
     "start_time": "2022-06-30T11:46:19.096704Z"
>>>>>>> toast
=======
     "end_time": "2022-07-01T02:10:07.749058Z",
     "start_time": "2022-07-01T02:10:07.121459Z"
>>>>>>> toast
    },
    "scrolled": true
   },
   "outputs": [
    {
     "data": {
      "text/html": [
       "<div>\n",
       "<style scoped>\n",
       "    .dataframe tbody tr th:only-of-type {\n",
       "        vertical-align: middle;\n",
       "    }\n",
       "\n",
       "    .dataframe tbody tr th {\n",
       "        vertical-align: top;\n",
       "    }\n",
       "\n",
       "    .dataframe thead th {\n",
       "        text-align: right;\n",
       "    }\n",
       "</style>\n",
       "<table border=\"1\" class=\"dataframe\">\n",
       "  <thead>\n",
       "    <tr style=\"text-align: right;\">\n",
       "      <th></th>\n",
<<<<<<< HEAD
       "      <th>Unnamed: 0</th>\n",
=======
>>>>>>> toast
       "      <th>id</th>\n",
       "      <th>customer_id</th>\n",
       "      <th>course_id</th>\n",
       "      <th>type</th>\n",
       "      <th>state</th>\n",
       "      <th>course_title</th>\n",
       "      <th>category_title</th>\n",
       "      <th>format</th>\n",
       "      <th>completed_at</th>\n",
       "      <th>transaction_amount</th>\n",
       "      <th>coupon_title</th>\n",
       "      <th>coupon_discount_amount</th>\n",
       "      <th>sale_price</th>\n",
       "      <th>pg</th>\n",
       "      <th>method</th>\n",
       "      <th>subcategory_title</th>\n",
       "      <th>marketing_start_at</th>\n",
       "    </tr>\n",
       "  </thead>\n",
       "  <tbody>\n",
       "    <tr>\n",
       "      <th>0</th>\n",
<<<<<<< HEAD
       "      <td>0</td>\n",
=======
>>>>>>> toast
       "      <td>970634</td>\n",
       "      <td>504760</td>\n",
       "      <td>201435</td>\n",
       "      <td>ORDER</td>\n",
       "      <td>CANCELLED</td>\n",
       "      <td>올인원 패키지 : 알고리즘 기술면접 완전 정복</td>\n",
       "      <td>프로그래밍</td>\n",
       "      <td>올인원</td>\n",
       "      <td>2021-03-28 15:00:11</td>\n",
       "      <td>90500</td>\n",
       "      <td>미적용</td>\n",
       "      <td>0</td>\n",
       "      <td>110500</td>\n",
       "      <td>COMM</td>\n",
       "      <td>VBANK</td>\n",
       "      <td>개발자 커리어</td>\n",
       "      <td>2018-11-11 00:00:00</td>\n",
       "    </tr>\n",
       "    <tr>\n",
       "      <th>1</th>\n",
<<<<<<< HEAD
       "      <td>1</td>\n",
=======
>>>>>>> toast
       "      <td>970650</td>\n",
       "      <td>432862</td>\n",
       "      <td>203178</td>\n",
       "      <td>ORDER</td>\n",
       "      <td>CANCELLED</td>\n",
       "      <td>초격차 패키지 : 한번에 끝내는 영상 촬영과 편집</td>\n",
       "      <td>영상/3D</td>\n",
       "      <td>올인원</td>\n",
       "      <td>2021-03-28 15:16:53</td>\n",
       "      <td>96000</td>\n",
       "      <td>미적용</td>\n",
       "      <td>0</td>\n",
       "      <td>116000</td>\n",
       "      <td>COMM</td>\n",
       "      <td>CARD</td>\n",
       "      <td>영상 편집</td>\n",
       "      <td>2020-12-02 00:00:00</td>\n",
       "    </tr>\n",
       "    <tr>\n",
       "      <th>2</th>\n",
<<<<<<< HEAD
       "      <td>2</td>\n",
=======
>>>>>>> toast
       "      <td>970657</td>\n",
       "      <td>72297</td>\n",
       "      <td>204246</td>\n",
       "      <td>PAYMENT</td>\n",
       "      <td>COMPLETED</td>\n",
       "      <td>시크릿코드 : 프론트엔드 실무 완성편</td>\n",
       "      <td>프로그래밍</td>\n",
       "      <td>스쿨 온라인</td>\n",
       "      <td>2021-03-28 15:21:43</td>\n",
       "      <td>171810</td>\n",
       "      <td>[10% 할인] 시크릿코드 실무 완성편</td>\n",
       "      <td>19090</td>\n",
       "      <td>190900</td>\n",
       "      <td>COMM</td>\n",
       "      <td>CARD</td>\n",
       "      <td>프로그래밍</td>\n",
       "      <td>2021-03-04 00:00:00</td>\n",
       "    </tr>\n",
       "    <tr>\n",
       "      <th>3</th>\n",
<<<<<<< HEAD
       "      <td>3</td>\n",
=======
>>>>>>> toast
       "      <td>970656</td>\n",
       "      <td>72297</td>\n",
       "      <td>204246</td>\n",
       "      <td>ORDER</td>\n",
       "      <td>CANCELLED</td>\n",
       "      <td>시크릿코드 : 프론트엔드 실무 완성편</td>\n",
       "      <td>프로그래밍</td>\n",
       "      <td>스쿨 온라인</td>\n",
       "      <td>2021-03-28 15:21:43</td>\n",
       "      <td>171810</td>\n",
       "      <td>미적용</td>\n",
       "      <td>0</td>\n",
       "      <td>190900</td>\n",
       "      <td>COMM</td>\n",
       "      <td>CARD</td>\n",
       "      <td>프로그래밍</td>\n",
       "      <td>2021-03-04 00:00:00</td>\n",
       "    </tr>\n",
       "    <tr>\n",
       "      <th>4</th>\n",
<<<<<<< HEAD
       "      <td>4</td>\n",
=======
>>>>>>> toast
       "      <td>970658</td>\n",
       "      <td>478028</td>\n",
       "      <td>201797</td>\n",
       "      <td>PAYMENT</td>\n",
       "      <td>COMPLETED</td>\n",
       "      <td>올인원 패키지 : 직장인 필수 스킬 3종 세트 MAX</td>\n",
       "      <td>업무 생산성</td>\n",
       "      <td>올인원</td>\n",
       "      <td>2021-03-28 15:21:54</td>\n",
       "      <td>97500</td>\n",
       "      <td>[웰컴쿠폰] 올인원 패키지 2만원 할인 쿠폰</td>\n",
       "      <td>20000</td>\n",
       "      <td>117500</td>\n",
       "      <td>COMM</td>\n",
       "      <td>CARD</td>\n",
       "      <td>PPT/보고서</td>\n",
       "      <td>2019-11-14 00:00:00</td>\n",
       "    </tr>\n",
<<<<<<< HEAD
       "    <tr>\n",
       "      <th>...</th>\n",
       "      <td>...</td>\n",
       "      <td>...</td>\n",
       "      <td>...</td>\n",
       "      <td>...</td>\n",
       "      <td>...</td>\n",
       "      <td>...</td>\n",
       "      <td>...</td>\n",
       "      <td>...</td>\n",
       "      <td>...</td>\n",
       "      <td>...</td>\n",
       "      <td>...</td>\n",
       "      <td>...</td>\n",
       "      <td>...</td>\n",
       "      <td>...</td>\n",
       "      <td>...</td>\n",
       "      <td>...</td>\n",
       "      <td>...</td>\n",
<<<<<<< HEAD
       "      <td>...</td>\n",
       "    </tr>\n",
       "    <tr>\n",
       "      <th>101097</th>\n",
       "      <td>101813</td>\n",
=======
       "    </tr>\n",
       "    <tr>\n",
       "      <th>101097</th>\n",
>>>>>>> toast
       "      <td>1364995</td>\n",
       "      <td>640697</td>\n",
       "      <td>205365</td>\n",
       "      <td>PAYMENT</td>\n",
       "      <td>CANCELLED</td>\n",
       "      <td>초격차 패키지 : 한 번에 끝내는 유튜브 크리에이터 되기</td>\n",
       "      <td>영상/3D</td>\n",
       "      <td>올인원</td>\n",
       "      <td>2021-09-25 14:10:42</td>\n",
       "      <td>96000</td>\n",
       "      <td>[WELCOME] 온라인 강의 2만원 할인쿠폰</td>\n",
       "      <td>20000</td>\n",
       "      <td>116000</td>\n",
       "      <td>INICIS</td>\n",
       "      <td>TRANS</td>\n",
       "      <td>영상 편집</td>\n",
       "      <td>2021-06-15 00:00:00</td>\n",
       "    </tr>\n",
       "    <tr>\n",
       "      <th>101098</th>\n",
<<<<<<< HEAD
       "      <td>101814</td>\n",
=======
>>>>>>> toast
       "      <td>1364998</td>\n",
       "      <td>670896</td>\n",
       "      <td>204159</td>\n",
       "      <td>PAYMENT</td>\n",
       "      <td>CANCELLED</td>\n",
       "      <td>부동산 디벨로퍼 아카데미 : 인허가</td>\n",
       "      <td>부동산/금융</td>\n",
       "      <td>올인원</td>\n",
       "      <td>2021-09-25 14:16:33</td>\n",
       "      <td>189000</td>\n",
       "      <td>미적용</td>\n",
       "      <td>0</td>\n",
       "      <td>189000</td>\n",
       "      <td>INICIS</td>\n",
       "      <td>CARD</td>\n",
       "      <td>부동산 개발</td>\n",
       "      <td>2021-02-10 00:00:00</td>\n",
       "    </tr>\n",
       "    <tr>\n",
       "      <th>101099</th>\n",
<<<<<<< HEAD
       "      <td>101815</td>\n",
=======
>>>>>>> toast
       "      <td>1364996</td>\n",
       "      <td>640697</td>\n",
       "      <td>205365</td>\n",
       "      <td>PAYMENT</td>\n",
       "      <td>COMPLETED</td>\n",
       "      <td>초격차 패키지 : 한 번에 끝내는 유튜브 크리에이터 되기</td>\n",
       "      <td>영상/3D</td>\n",
       "      <td>올인원</td>\n",
       "      <td>2021-09-25 14:17:41</td>\n",
       "      <td>96000</td>\n",
       "      <td>[WELCOME] 온라인 강의 2만원 할인쿠폰</td>\n",
       "      <td>20000</td>\n",
       "      <td>116000</td>\n",
       "      <td>INICIS</td>\n",
       "      <td>VBANK</td>\n",
       "      <td>영상 편집</td>\n",
       "      <td>2021-06-15 00:00:00</td>\n",
       "    </tr>\n",
       "    <tr>\n",
       "      <th>101100</th>\n",
<<<<<<< HEAD
       "      <td>101816</td>\n",
=======
>>>>>>> toast
       "      <td>1365005</td>\n",
       "      <td>670896</td>\n",
       "      <td>204159</td>\n",
       "      <td>PAYMENT</td>\n",
       "      <td>CANCELLED</td>\n",
       "      <td>부동산 디벨로퍼 아카데미 : 인허가</td>\n",
       "      <td>부동산/금융</td>\n",
       "      <td>올인원</td>\n",
       "      <td>2021-09-25 14:19:56</td>\n",
       "      <td>189000</td>\n",
       "      <td>미적용</td>\n",
       "      <td>0</td>\n",
       "      <td>189000</td>\n",
       "      <td>INICIS</td>\n",
       "      <td>CARD</td>\n",
       "      <td>부동산 개발</td>\n",
       "      <td>2021-02-10 00:00:00</td>\n",
       "    </tr>\n",
       "    <tr>\n",
       "      <th>101101</th>\n",
<<<<<<< HEAD
       "      <td>101817</td>\n",
=======
>>>>>>> toast
       "      <td>1365007</td>\n",
       "      <td>610626</td>\n",
       "      <td>206720</td>\n",
       "      <td>PAYMENT</td>\n",
       "      <td>COMPLETED</td>\n",
       "      <td>용호수의 돈 버는 실전 영상 제작</td>\n",
       "      <td>영상/3D</td>\n",
       "      <td>올인원</td>\n",
       "      <td>2021-09-25 14:25:47</td>\n",
       "      <td>139000</td>\n",
       "      <td>[WELCOME] 온라인 강의 3만원 할인쿠폰</td>\n",
       "      <td>30000</td>\n",
       "      <td>169000</td>\n",
       "      <td>NAVER</td>\n",
       "      <td>POINT</td>\n",
       "      <td>영상 편집</td>\n",
       "      <td>2021-08-17 00:00:00</td>\n",
       "    </tr>\n",
       "  </tbody>\n",
       "</table>\n",
<<<<<<< HEAD
       "<p>101102 rows × 18 columns</p>\n",
       "</div>"
      ],
      "text/plain": [
       "        Unnamed: 0       id  customer_id  course_id     type      state  \\\n",
       "0                0   970634       504760     201435    ORDER  CANCELLED   \n",
       "1                1   970650       432862     203178    ORDER  CANCELLED   \n",
       "2                2   970657        72297     204246  PAYMENT  COMPLETED   \n",
       "3                3   970656        72297     204246    ORDER  CANCELLED   \n",
       "4                4   970658       478028     201797  PAYMENT  COMPLETED   \n",
       "...            ...      ...          ...        ...      ...        ...   \n",
       "101097      101813  1364995       640697     205365  PAYMENT  CANCELLED   \n",
       "101098      101814  1364998       670896     204159  PAYMENT  CANCELLED   \n",
       "101099      101815  1364996       640697     205365  PAYMENT  COMPLETED   \n",
       "101100      101816  1365005       670896     204159  PAYMENT  CANCELLED   \n",
       "101101      101817  1365007       610626     206720  PAYMENT  COMPLETED   \n",
=======
       "<p>101102 rows × 17 columns</p>\n",
       "</div>"
      ],
      "text/plain": [
       "             id  customer_id  course_id     type      state  \\\n",
       "0        970634       504760     201435    ORDER  CANCELLED   \n",
       "1        970650       432862     203178    ORDER  CANCELLED   \n",
       "2        970657        72297     204246  PAYMENT  COMPLETED   \n",
       "3        970656        72297     204246    ORDER  CANCELLED   \n",
       "4        970658       478028     201797  PAYMENT  COMPLETED   \n",
       "...         ...          ...        ...      ...        ...   \n",
       "101097  1364995       640697     205365  PAYMENT  CANCELLED   \n",
       "101098  1364998       670896     204159  PAYMENT  CANCELLED   \n",
       "101099  1364996       640697     205365  PAYMENT  COMPLETED   \n",
       "101100  1365005       670896     204159  PAYMENT  CANCELLED   \n",
       "101101  1365007       610626     206720  PAYMENT  COMPLETED   \n",
>>>>>>> toast
=======
       "  </tbody>\n",
       "</table>\n",
       "</div>"
      ],
      "text/plain": [
       "       id  customer_id  course_id     type      state  \\\n",
       "0  970634       504760     201435    ORDER  CANCELLED   \n",
       "1  970650       432862     203178    ORDER  CANCELLED   \n",
       "2  970657        72297     204246  PAYMENT  COMPLETED   \n",
       "3  970656        72297     204246    ORDER  CANCELLED   \n",
       "4  970658       478028     201797  PAYMENT  COMPLETED   \n",
>>>>>>> toast
       "\n",
       "                    course_title category_title  format         completed_at  \\\n",
       "0      올인원 패키지 : 알고리즘 기술면접 완전 정복          프로그래밍     올인원  2021-03-28 15:00:11   \n",
       "1    초격차 패키지 : 한번에 끝내는 영상 촬영과 편집          영상/3D     올인원  2021-03-28 15:16:53   \n",
       "2           시크릿코드 : 프론트엔드 실무 완성편          프로그래밍  스쿨 온라인  2021-03-28 15:21:43   \n",
       "3           시크릿코드 : 프론트엔드 실무 완성편          프로그래밍  스쿨 온라인  2021-03-28 15:21:43   \n",
       "4  올인원 패키지 : 직장인 필수 스킬 3종 세트 MAX         업무 생산성     올인원  2021-03-28 15:21:54   \n",
       "\n",
       "   transaction_amount              coupon_title  coupon_discount_amount  \\\n",
       "0               90500                       미적용                       0   \n",
       "1               96000                       미적용                       0   \n",
       "2              171810     [10% 할인] 시크릿코드 실무 완성편                   19090   \n",
       "3              171810                       미적용                       0   \n",
       "4               97500  [웰컴쿠폰] 올인원 패키지 2만원 할인 쿠폰                   20000   \n",
       "\n",
<<<<<<< HEAD
       "        coupon_discount_amount  sale_price      pg method subcategory_title  \\\n",
       "0                            0      110500    COMM  VBANK           개발자 커리어   \n",
       "1                            0      116000    COMM   CARD             영상 편집   \n",
       "2                        19090      190900    COMM   CARD             프로그래밍   \n",
       "3                            0      190900    COMM   CARD             프로그래밍   \n",
       "4                        20000      117500    COMM   CARD           PPT/보고서   \n",
       "...                        ...         ...     ...    ...               ...   \n",
       "101097                   20000      116000  INICIS  TRANS             영상 편집   \n",
       "101098                       0      189000  INICIS   CARD            부동산 개발   \n",
       "101099                   20000      116000  INICIS  VBANK             영상 편집   \n",
       "101100                       0      189000  INICIS   CARD            부동산 개발   \n",
       "101101                   30000      169000   NAVER  POINT             영상 편집   \n",
       "\n",
       "         marketing_start_at  \n",
       "0       2018-11-11 00:00:00  \n",
       "1       2020-12-02 00:00:00  \n",
       "2       2021-03-04 00:00:00  \n",
       "3       2021-03-04 00:00:00  \n",
       "4       2019-11-14 00:00:00  \n",
       "...                     ...  \n",
       "101097  2021-06-15 00:00:00  \n",
       "101098  2021-02-10 00:00:00  \n",
       "101099  2021-06-15 00:00:00  \n",
       "101100  2021-02-10 00:00:00  \n",
       "101101  2021-08-17 00:00:00  \n",
       "\n",
<<<<<<< HEAD
       "[101102 rows x 18 columns]"
      ]
     },
     "execution_count": 19,
=======
       "[101102 rows x 17 columns]"
      ]
     },
     "execution_count": 80,
>>>>>>> toast
=======
       "   sale_price    pg method subcategory_title   marketing_start_at  \n",
       "0      110500  COMM  VBANK           개발자 커리어  2018-11-11 00:00:00  \n",
       "1      116000  COMM   CARD             영상 편집  2020-12-02 00:00:00  \n",
       "2      190900  COMM   CARD             프로그래밍  2021-03-04 00:00:00  \n",
       "3      190900  COMM   CARD             프로그래밍  2021-03-04 00:00:00  \n",
       "4      117500  COMM   CARD           PPT/보고서  2019-11-14 00:00:00  "
      ]
     },
<<<<<<< HEAD
     "execution_count": 105,
>>>>>>> toast
=======
     "execution_count": 3,
>>>>>>> toast
     "metadata": {},
     "output_type": "execute_result"
    }
   ],
   "source": [
    "sns.set_theme(style='whitegrid') \n",
<<<<<<< HEAD
    "df = pd.read_csv('./data/facam_fn.csv')\n",
=======
    "df = pd.read_csv('./data/facam_vi.csv')\n",
<<<<<<< HEAD
>>>>>>> toast
    "df"
=======
    "df.head()"
>>>>>>> toast
   ]
  },
  {
   "cell_type": "code",
<<<<<<< HEAD
<<<<<<< HEAD
<<<<<<< HEAD
   "execution_count": 20,
   "id": "baf22569",
   "metadata": {
    "ExecuteTime": {
     "end_time": "2022-06-30T08:13:45.065113Z",
     "start_time": "2022-06-30T08:13:45.026976Z"
    }
   },
   "outputs": [],
   "source": [
    "df = df.drop(columns='Unnamed: 0')"
   ]
  },
  {
   "cell_type": "code",
   "execution_count": 21,
   "id": "32bc051e",
   "metadata": {
    "ExecuteTime": {
     "end_time": "2022-06-30T08:13:45.968080Z",
     "start_time": "2022-06-30T08:13:45.874960Z"
    },
    "scrolled": true
   },
=======
   "execution_count": 81,
=======
   "execution_count": 106,
>>>>>>> toast
=======
   "execution_count": 4,
>>>>>>> toast
   "id": "baf22569",
   "metadata": {
    "ExecuteTime": {
     "end_time": "2022-07-01T02:10:10.209552Z",
     "start_time": "2022-07-01T02:10:09.989207Z"
    },
    "scrolled": true
   },
>>>>>>> toast
   "outputs": [
    {
     "name": "stdout",
     "output_type": "stream",
     "text": [
      "<class 'pandas.core.frame.DataFrame'>\n",
      "RangeIndex: 101102 entries, 0 to 101101\n",
      "Data columns (total 17 columns):\n",
<<<<<<< HEAD
      " #   Column                  Non-Null Count   Dtype \n",
      "---  ------                  --------------   ----- \n",
      " 0   id                      101102 non-null  int64 \n",
      " 1   customer_id             101102 non-null  int64 \n",
      " 2   course_id               101102 non-null  int64 \n",
      " 3   type                    101102 non-null  object\n",
      " 4   state                   101102 non-null  object\n",
      " 5   course_title            101102 non-null  object\n",
      " 6   category_title          101102 non-null  object\n",
      " 7   format                  101102 non-null  object\n",
      " 8   completed_at            101102 non-null  object\n",
      " 9   transaction_amount      101102 non-null  int64 \n",
      " 10  coupon_title            101102 non-null  object\n",
      " 11  coupon_discount_amount  101102 non-null  int64 \n",
      " 12  sale_price              101102 non-null  int64 \n",
      " 13  pg                      101102 non-null  object\n",
      " 14  method                  101102 non-null  object\n",
      " 15  subcategory_title       101102 non-null  object\n",
      " 16  marketing_start_at      101102 non-null  object\n",
      "dtypes: int64(6), object(11)\n",
=======
      " #   Column                  Non-Null Count   Dtype         \n",
      "---  ------                  --------------   -----         \n",
      " 0   id                      101102 non-null  int64         \n",
      " 1   customer_id             101102 non-null  int64         \n",
      " 2   course_id               101102 non-null  int64         \n",
      " 3   type                    101102 non-null  object        \n",
      " 4   state                   101102 non-null  object        \n",
      " 5   course_title            101102 non-null  object        \n",
      " 6   category_title          101102 non-null  object        \n",
      " 7   format                  101102 non-null  object        \n",
      " 8   completed_at            101102 non-null  datetime64[ns]\n",
      " 9   transaction_amount      101102 non-null  int64         \n",
      " 10  coupon_title            101102 non-null  object        \n",
      " 11  coupon_discount_amount  101102 non-null  int64         \n",
      " 12  sale_price              101102 non-null  int64         \n",
      " 13  pg                      101102 non-null  object        \n",
      " 14  method                  101102 non-null  object        \n",
      " 15  subcategory_title       101102 non-null  object        \n",
      " 16  marketing_start_at      101102 non-null  datetime64[ns]\n",
      "dtypes: datetime64[ns](2), int64(6), object(9)\n",
>>>>>>> toast
      "memory usage: 13.1+ MB\n"
     ]
    }
   ],
   "source": [
<<<<<<< HEAD
    "df.info()"
   ]
  },
  {
   "cell_type": "code",
   "execution_count": 23,
   "id": "a91343bb",
   "metadata": {
    "ExecuteTime": {
     "end_time": "2022-06-30T08:13:57.560889Z",
     "start_time": "2022-06-30T08:13:57.408460Z"
    }
   },
   "outputs": [],
   "source": [
    "df.completed_at = pd.to_datetime(df.completed_at, )\n",
    "df.marketing_start_at = pd.to_datetime(df.marketing_start_at, )"
   ]
  },
  {
   "cell_type": "code",
   "execution_count": 24,
   "id": "7513cec0",
   "metadata": {
    "ExecuteTime": {
     "end_time": "2022-06-30T08:13:58.558312Z",
     "start_time": "2022-06-30T08:13:58.481486Z"
    },
    "scrolled": true
   },
   "outputs": [
    {
     "name": "stdout",
     "output_type": "stream",
     "text": [
      "<class 'pandas.core.frame.DataFrame'>\n",
      "RangeIndex: 101102 entries, 0 to 101101\n",
      "Data columns (total 17 columns):\n",
      " #   Column                  Non-Null Count   Dtype         \n",
      "---  ------                  --------------   -----         \n",
      " 0   id                      101102 non-null  int64         \n",
      " 1   customer_id             101102 non-null  int64         \n",
      " 2   course_id               101102 non-null  int64         \n",
      " 3   type                    101102 non-null  object        \n",
      " 4   state                   101102 non-null  object        \n",
      " 5   course_title            101102 non-null  object        \n",
      " 6   category_title          101102 non-null  object        \n",
      " 7   format                  101102 non-null  object        \n",
      " 8   completed_at            101102 non-null  datetime64[ns]\n",
      " 9   transaction_amount      101102 non-null  int64         \n",
      " 10  coupon_title            101102 non-null  object        \n",
      " 11  coupon_discount_amount  101102 non-null  int64         \n",
      " 12  sale_price              101102 non-null  int64         \n",
      " 13  pg                      101102 non-null  object        \n",
      " 14  method                  101102 non-null  object        \n",
      " 15  subcategory_title       101102 non-null  object        \n",
      " 16  marketing_start_at      101102 non-null  datetime64[ns]\n",
      "dtypes: datetime64[ns](2), int64(6), object(9)\n",
      "memory usage: 13.1+ MB\n"
     ]
    }
   ],
   "source": [
=======
    "df.completed_at = pd.to_datetime(df.completed_at, )\n",
    "df.marketing_start_at = pd.to_datetime(df.marketing_start_at, )\n",
>>>>>>> toast
    "df.info()"
   ]
  },
  {
   "cell_type": "code",
<<<<<<< HEAD
   "execution_count": 25,
   "id": "d061da52",
   "metadata": {
    "ExecuteTime": {
     "end_time": "2022-06-30T08:14:17.823912Z",
     "start_time": "2022-06-30T08:14:16.821288Z"
    }
   },
   "outputs": [],
   "source": [
    "df.to_csv('./data/test.csv')"
   ]
  },
  {
   "cell_type": "code",
   "execution_count": 26,
   "id": "a85dac35",
   "metadata": {
    "ExecuteTime": {
     "end_time": "2022-06-30T08:14:24.035510Z",
     "start_time": "2022-06-30T08:14:23.547644Z"
    }
   },
   "outputs": [],
   "source": [
    "df1 = pd.read_csv('./data/test.csv')"
   ]
  },
  {
   "cell_type": "code",
   "execution_count": 27,
   "id": "53dfebd4",
   "metadata": {
    "ExecuteTime": {
     "end_time": "2022-06-30T08:14:24.938316Z",
     "start_time": "2022-06-30T08:14:24.906422Z"
    }
   },
   "outputs": [],
   "source": [
    "df1 = df1.drop(columns='Unnamed: 0')"
   ]
  },
  {
   "cell_type": "code",
   "execution_count": 28,
   "id": "38bc47a0",
   "metadata": {
    "ExecuteTime": {
     "end_time": "2022-06-30T08:14:26.001505Z",
     "start_time": "2022-06-30T08:14:25.880195Z"
    }
   },
   "outputs": [],
   "source": [
    "df1.completed_at = pd.to_datetime(df1.completed_at, )"
   ]
  },
  {
   "cell_type": "code",
   "execution_count": 29,
   "id": "6e18c5d4",
   "metadata": {
    "ExecuteTime": {
     "end_time": "2022-06-30T08:14:26.715407Z",
     "start_time": "2022-06-30T08:14:26.672838Z"
    }
   },
   "outputs": [],
   "source": [
    "df1.marketing_start_at = pd.to_datetime(df1.marketing_start_at, )"
   ]
  },
  {
   "cell_type": "code",
   "execution_count": 31,
   "id": "93e39b65",
   "metadata": {
    "ExecuteTime": {
     "end_time": "2022-06-30T08:14:49.301528Z",
     "start_time": "2022-06-30T08:14:49.230301Z"
    }
   },
   "outputs": [
    {
     "name": "stdout",
     "output_type": "stream",
     "text": [
      "<class 'pandas.core.frame.DataFrame'>\n",
      "RangeIndex: 101102 entries, 0 to 101101\n",
      "Data columns (total 17 columns):\n",
      " #   Column                  Non-Null Count   Dtype         \n",
      "---  ------                  --------------   -----         \n",
      " 0   id                      101102 non-null  int64         \n",
      " 1   customer_id             101102 non-null  int64         \n",
      " 2   course_id               101102 non-null  int64         \n",
      " 3   type                    101102 non-null  object        \n",
      " 4   state                   101102 non-null  object        \n",
      " 5   course_title            101102 non-null  object        \n",
      " 6   category_title          101102 non-null  object        \n",
      " 7   format                  101102 non-null  object        \n",
      " 8   completed_at            101102 non-null  datetime64[ns]\n",
      " 9   transaction_amount      101102 non-null  int64         \n",
      " 10  coupon_title            101102 non-null  object        \n",
      " 11  coupon_discount_amount  101102 non-null  int64         \n",
      " 12  sale_price              101102 non-null  int64         \n",
      " 13  pg                      101102 non-null  object        \n",
      " 14  method                  101102 non-null  object        \n",
      " 15  subcategory_title       101102 non-null  object        \n",
      " 16  marketing_start_at      101102 non-null  datetime64[ns]\n",
      "dtypes: datetime64[ns](2), int64(6), object(9)\n",
      "memory usage: 13.1+ MB\n"
     ]
    }
   ],
   "source": [
    "df1.info()"
   ]
  },
  {
<<<<<<< HEAD
   "cell_type": "code",
   "execution_count": 32,
   "id": "671867ed",
   "metadata": {
    "ExecuteTime": {
     "end_time": "2022-06-30T08:15:11.002597Z",
     "start_time": "2022-06-30T08:15:09.988366Z"
    }
   },
   "outputs": [],
   "source": [
    "df1.to_csv('./data/test1.csv', index=False)"
   ]
  },
  {
   "cell_type": "code",
   "execution_count": 33,
   "id": "cd93dadb",
   "metadata": {
    "ExecuteTime": {
     "end_time": "2022-06-30T08:15:41.359830Z",
     "start_time": "2022-06-30T08:15:40.838855Z"
    }
   },
   "outputs": [
    {
     "name": "stdout",
     "output_type": "stream",
     "text": [
      "<class 'pandas.core.frame.DataFrame'>\n",
      "RangeIndex: 101102 entries, 0 to 101101\n",
      "Data columns (total 17 columns):\n",
      " #   Column                  Non-Null Count   Dtype \n",
      "---  ------                  --------------   ----- \n",
      " 0   id                      101102 non-null  int64 \n",
      " 1   customer_id             101102 non-null  int64 \n",
      " 2   course_id               101102 non-null  int64 \n",
      " 3   type                    101102 non-null  object\n",
      " 4   state                   101102 non-null  object\n",
      " 5   course_title            101102 non-null  object\n",
      " 6   category_title          101102 non-null  object\n",
      " 7   format                  101102 non-null  object\n",
      " 8   completed_at            101102 non-null  object\n",
      " 9   transaction_amount      101102 non-null  int64 \n",
      " 10  coupon_title            101102 non-null  object\n",
      " 11  coupon_discount_amount  101102 non-null  int64 \n",
      " 12  sale_price              101102 non-null  int64 \n",
      " 13  pg                      101102 non-null  object\n",
      " 14  method                  101102 non-null  object\n",
      " 15  subcategory_title       101102 non-null  object\n",
      " 16  marketing_start_at      101102 non-null  object\n",
      "dtypes: int64(6), object(11)\n",
      "memory usage: 13.1+ MB\n"
     ]
    }
   ],
   "source": [
    "df = pd.read_csv('./data/test1.csv')\n",
    "df.info()"
   ]
=======
   "execution_count": null,
   "id": "748c54f3",
=======
   "cell_type": "markdown",
   "id": "13f703b1",
>>>>>>> toast
   "metadata": {},
   "source": [
    "> 17 columns, 101102 index, 1718734 rows, notnull data"
   ]
  },
  {
   "cell_type": "code",
   "execution_count": 5,
   "id": "49fa3602",
<<<<<<< HEAD
   "metadata": {},
   "outputs": [],
   "source": []
>>>>>>> toast
=======
   "metadata": {
    "ExecuteTime": {
     "end_time": "2022-07-01T02:10:14.579344Z",
     "start_time": "2022-07-01T02:10:14.485313Z"
    }
   },
   "outputs": [
    {
     "data": {
      "text/html": [
       "<div>\n",
       "<style scoped>\n",
       "    .dataframe tbody tr th:only-of-type {\n",
       "        vertical-align: middle;\n",
       "    }\n",
       "\n",
       "    .dataframe tbody tr th {\n",
       "        vertical-align: top;\n",
       "    }\n",
       "\n",
       "    .dataframe thead th {\n",
       "        text-align: right;\n",
       "    }\n",
       "</style>\n",
       "<table border=\"1\" class=\"dataframe\">\n",
       "  <thead>\n",
       "    <tr style=\"text-align: right;\">\n",
       "      <th></th>\n",
       "      <th>id</th>\n",
       "      <th>customer_id</th>\n",
       "      <th>course_id</th>\n",
       "      <th>transaction_amount</th>\n",
       "      <th>coupon_discount_amount</th>\n",
       "      <th>sale_price</th>\n",
       "    </tr>\n",
       "  </thead>\n",
       "  <tbody>\n",
       "    <tr>\n",
       "      <th>count</th>\n",
       "      <td>1.011020e+05</td>\n",
       "      <td>101102.000000</td>\n",
       "      <td>101102.000000</td>\n",
       "      <td>1.011020e+05</td>\n",
       "      <td>101102.000000</td>\n",
       "      <td>1.011020e+05</td>\n",
       "    </tr>\n",
       "    <tr>\n",
       "      <th>mean</th>\n",
       "      <td>1.145511e+06</td>\n",
       "      <td>415909.561997</td>\n",
       "      <td>208729.604815</td>\n",
       "      <td>1.286851e+05</td>\n",
       "      <td>14423.185199</td>\n",
       "      <td>1.592345e+05</td>\n",
       "    </tr>\n",
       "    <tr>\n",
       "      <th>std</th>\n",
       "      <td>1.125048e+05</td>\n",
       "      <td>206627.373238</td>\n",
       "      <td>21281.637839</td>\n",
       "      <td>1.299967e+05</td>\n",
       "      <td>35684.365000</td>\n",
       "      <td>1.147219e+05</td>\n",
       "    </tr>\n",
       "    <tr>\n",
       "      <th>min</th>\n",
       "      <td>5.679930e+05</td>\n",
       "      <td>16.000000</td>\n",
       "      <td>2516.000000</td>\n",
       "      <td>-1.800000e+06</td>\n",
       "      <td>0.000000</td>\n",
       "      <td>0.000000e+00</td>\n",
       "    </tr>\n",
       "    <tr>\n",
       "      <th>25%</th>\n",
       "      <td>1.047142e+06</td>\n",
       "      <td>228975.000000</td>\n",
       "      <td>203146.000000</td>\n",
       "      <td>8.900000e+04</td>\n",
       "      <td>0.000000</td>\n",
       "      <td>1.100000e+05</td>\n",
       "    </tr>\n",
       "    <tr>\n",
       "      <th>50%</th>\n",
       "      <td>1.133842e+06</td>\n",
       "      <td>500265.500000</td>\n",
       "      <td>203787.000000</td>\n",
       "      <td>1.190000e+05</td>\n",
       "      <td>0.000000</td>\n",
       "      <td>1.340000e+05</td>\n",
       "    </tr>\n",
       "    <tr>\n",
       "      <th>75%</th>\n",
       "      <td>1.238848e+06</td>\n",
       "      <td>565941.000000</td>\n",
       "      <td>204870.000000</td>\n",
       "      <td>1.584000e+05</td>\n",
       "      <td>10000.000000</td>\n",
       "      <td>1.710000e+05</td>\n",
       "    </tr>\n",
       "    <tr>\n",
       "      <th>max</th>\n",
       "      <td>1.381657e+06</td>\n",
       "      <td>670896.000000</td>\n",
       "      <td>300000.000000</td>\n",
       "      <td>1.800000e+06</td>\n",
       "      <td>674000.000000</td>\n",
       "      <td>1.800000e+06</td>\n",
       "    </tr>\n",
       "  </tbody>\n",
       "</table>\n",
       "</div>"
      ],
      "text/plain": [
       "                 id    customer_id      course_id  transaction_amount  \\\n",
       "count  1.011020e+05  101102.000000  101102.000000        1.011020e+05   \n",
       "mean   1.145511e+06  415909.561997  208729.604815        1.286851e+05   \n",
       "std    1.125048e+05  206627.373238   21281.637839        1.299967e+05   \n",
       "min    5.679930e+05      16.000000    2516.000000       -1.800000e+06   \n",
       "25%    1.047142e+06  228975.000000  203146.000000        8.900000e+04   \n",
       "50%    1.133842e+06  500265.500000  203787.000000        1.190000e+05   \n",
       "75%    1.238848e+06  565941.000000  204870.000000        1.584000e+05   \n",
       "max    1.381657e+06  670896.000000  300000.000000        1.800000e+06   \n",
       "\n",
       "       coupon_discount_amount    sale_price  \n",
       "count           101102.000000  1.011020e+05  \n",
       "mean             14423.185199  1.592345e+05  \n",
       "std              35684.365000  1.147219e+05  \n",
       "min                  0.000000  0.000000e+00  \n",
       "25%                  0.000000  1.100000e+05  \n",
       "50%                  0.000000  1.340000e+05  \n",
       "75%              10000.000000  1.710000e+05  \n",
       "max             674000.000000  1.800000e+06  "
      ]
     },
     "execution_count": 5,
     "metadata": {},
     "output_type": "execute_result"
    }
   ],
   "source": [
    "df.describe()"
   ]
>>>>>>> toast
  },
  {
   "cell_type": "markdown",
   "id": "6f1f6f24",
   "metadata": {},
   "source": [
    "# 매출 분석"
   ]
  },
  {
   "cell_type": "markdown",
   "id": "fee23943",
   "metadata": {},
   "source": [
    "## preprocessing refer\n",
    "> 'type' column 의 'PAYMENT'(결제완료) 와 'REFUND'(환불)이 'state' column 에서 'COMPLETED' 인 값들의 합   \n",
    "\n",
    "> 'completed_at' clone column 'completed_c' 을 추가. 'completed_c' dtype 으로 변경 후 연/월/일/시간으로 나눔\n",
    "\n",
    "> df 에서 결제 승인이 처음 시작된 일시와 종료 일시 확인(마케팅시간도참고)"
   ]
  },
  {
   "cell_type": "markdown",
   "id": "7438af1d",
   "metadata": {},
   "source": [
    "## df의 총 매출"
   ]
  },
  {
   "cell_type": "code",
   "execution_count": 7,
   "id": "a27b89e3",
   "metadata": {
    "ExecuteTime": {
     "end_time": "2022-07-01T02:11:24.529222Z",
     "start_time": "2022-07-01T02:11:24.503423Z"
    },
    "scrolled": false
   },
   "outputs": [
    {
     "data": {
      "text/html": [
       "<div>\n",
       "<style scoped>\n",
       "    .dataframe tbody tr th:only-of-type {\n",
       "        vertical-align: middle;\n",
       "    }\n",
       "\n",
       "    .dataframe tbody tr th {\n",
       "        vertical-align: top;\n",
       "    }\n",
       "\n",
       "    .dataframe thead th {\n",
       "        text-align: right;\n",
       "    }\n",
       "</style>\n",
       "<table border=\"1\" class=\"dataframe\">\n",
       "  <thead>\n",
       "    <tr style=\"text-align: right;\">\n",
       "      <th></th>\n",
       "      <th>type</th>\n",
       "      <th>state</th>\n",
       "      <th>transaction_amount</th>\n",
       "    </tr>\n",
       "  </thead>\n",
       "  <tbody>\n",
       "    <tr>\n",
       "      <th>0</th>\n",
       "      <td>ORDER</td>\n",
       "      <td>CANCELLED</td>\n",
       "      <td>90500</td>\n",
       "    </tr>\n",
       "    <tr>\n",
       "      <th>1</th>\n",
       "      <td>ORDER</td>\n",
       "      <td>CANCELLED</td>\n",
       "      <td>96000</td>\n",
       "    </tr>\n",
       "    <tr>\n",
       "      <th>2</th>\n",
       "      <td>PAYMENT</td>\n",
       "      <td>COMPLETED</td>\n",
       "      <td>171810</td>\n",
       "    </tr>\n",
       "    <tr>\n",
       "      <th>3</th>\n",
       "      <td>ORDER</td>\n",
       "      <td>CANCELLED</td>\n",
       "      <td>171810</td>\n",
       "    </tr>\n",
       "    <tr>\n",
       "      <th>4</th>\n",
       "      <td>PAYMENT</td>\n",
       "      <td>COMPLETED</td>\n",
       "      <td>97500</td>\n",
       "    </tr>\n",
       "  </tbody>\n",
       "</table>\n",
       "</div>"
      ],
      "text/plain": [
       "      type      state  transaction_amount\n",
       "0    ORDER  CANCELLED               90500\n",
       "1    ORDER  CANCELLED               96000\n",
       "2  PAYMENT  COMPLETED              171810\n",
       "3    ORDER  CANCELLED              171810\n",
       "4  PAYMENT  COMPLETED               97500"
      ]
     },
     "execution_count": 7,
     "metadata": {},
     "output_type": "execute_result"
    }
   ],
   "source": [
    "# 'type'(구매상태), 'state'(진행상황), 'transaction_amount' column 추출\n",
    "s = df.loc[:, ['type', 'state', 'transaction_amount']]\n",
    "s.head()"
   ]
  },
  {
   "cell_type": "code",
   "execution_count": 11,
   "id": "f000334a",
   "metadata": {
    "ExecuteTime": {
     "end_time": "2022-07-01T02:13:00.002586Z",
     "start_time": "2022-07-01T02:12:59.938583Z"
    },
    "scrolled": true
   },
   "outputs": [
    {
     "data": {
      "text/html": [
       "<div>\n",
       "<style scoped>\n",
       "    .dataframe tbody tr th:only-of-type {\n",
       "        vertical-align: middle;\n",
       "    }\n",
       "\n",
       "    .dataframe tbody tr th {\n",
       "        vertical-align: top;\n",
       "    }\n",
       "\n",
       "    .dataframe thead th {\n",
       "        text-align: right;\n",
       "    }\n",
       "</style>\n",
       "<table border=\"1\" class=\"dataframe\">\n",
       "  <thead>\n",
       "    <tr style=\"text-align: right;\">\n",
       "      <th></th>\n",
       "      <th>type</th>\n",
       "      <th>state</th>\n",
       "      <th>transaction_amount</th>\n",
       "    </tr>\n",
       "  </thead>\n",
       "  <tbody>\n",
       "    <tr>\n",
       "      <th>0</th>\n",
       "      <td>PAYMENT</td>\n",
       "      <td>COMPLETED</td>\n",
       "      <td>171810</td>\n",
       "    </tr>\n",
       "    <tr>\n",
       "      <th>1</th>\n",
       "      <td>PAYMENT</td>\n",
       "      <td>COMPLETED</td>\n",
       "      <td>97500</td>\n",
       "    </tr>\n",
       "    <tr>\n",
       "      <th>2</th>\n",
       "      <td>PAYMENT</td>\n",
       "      <td>COMPLETED</td>\n",
       "      <td>96000</td>\n",
       "    </tr>\n",
       "    <tr>\n",
       "      <th>3</th>\n",
       "      <td>PAYMENT</td>\n",
       "      <td>COMPLETED</td>\n",
       "      <td>263000</td>\n",
       "    </tr>\n",
       "    <tr>\n",
       "      <th>4</th>\n",
       "      <td>PAYMENT</td>\n",
       "      <td>COMPLETED</td>\n",
       "      <td>91000</td>\n",
       "    </tr>\n",
       "    <tr>\n",
       "      <th>...</th>\n",
       "      <td>...</td>\n",
       "      <td>...</td>\n",
       "      <td>...</td>\n",
       "    </tr>\n",
       "    <tr>\n",
       "      <th>53035</th>\n",
       "      <td>PAYMENT</td>\n",
       "      <td>COMPLETED</td>\n",
       "      <td>212000</td>\n",
       "    </tr>\n",
       "    <tr>\n",
       "      <th>53036</th>\n",
       "      <td>PAYMENT</td>\n",
       "      <td>COMPLETED</td>\n",
       "      <td>149000</td>\n",
       "    </tr>\n",
       "    <tr>\n",
       "      <th>53037</th>\n",
       "      <td>PAYMENT</td>\n",
       "      <td>COMPLETED</td>\n",
       "      <td>159000</td>\n",
       "    </tr>\n",
       "    <tr>\n",
       "      <th>53038</th>\n",
       "      <td>PAYMENT</td>\n",
       "      <td>COMPLETED</td>\n",
       "      <td>96000</td>\n",
       "    </tr>\n",
       "    <tr>\n",
       "      <th>53039</th>\n",
       "      <td>PAYMENT</td>\n",
       "      <td>COMPLETED</td>\n",
       "      <td>139000</td>\n",
       "    </tr>\n",
       "  </tbody>\n",
       "</table>\n",
       "<p>53040 rows × 3 columns</p>\n",
       "</div>"
      ],
      "text/plain": [
       "          type      state  transaction_amount\n",
       "0      PAYMENT  COMPLETED              171810\n",
       "1      PAYMENT  COMPLETED               97500\n",
       "2      PAYMENT  COMPLETED               96000\n",
       "3      PAYMENT  COMPLETED              263000\n",
       "4      PAYMENT  COMPLETED               91000\n",
       "...        ...        ...                 ...\n",
       "53035  PAYMENT  COMPLETED              212000\n",
       "53036  PAYMENT  COMPLETED              149000\n",
       "53037  PAYMENT  COMPLETED              159000\n",
       "53038  PAYMENT  COMPLETED               96000\n",
       "53039  PAYMENT  COMPLETED              139000\n",
       "\n",
       "[53040 rows x 3 columns]"
      ]
     },
     "execution_count": 11,
     "metadata": {},
     "output_type": "execute_result"
    }
   ],
   "source": [
    "# 'type' column 의 'PAYMENT', 'REFUND' 와 'state' column 의 'COMPLEATED' 추출 \n",
    "sales = s[(s['type'] == 'PAYMENT') + (s['type'] == 'REFUND') & (s['state'] == 'COMPLETED')]\n",
    "sales.index = range(len(sales))\n",
    "sales"
   ]
  },
  {
   "cell_type": "code",
   "execution_count": 55,
   "id": "d725dc01",
   "metadata": {
    "ExecuteTime": {
     "end_time": "2022-07-01T02:38:09.204567Z",
     "start_time": "2022-07-01T02:38:09.164193Z"
    }
   },
   "outputs": [
    {
     "name": "stdout",
     "output_type": "stream",
     "text": [
      "결제완료 49415 건 중 환불 3625 건,\n",
      "총 매출액 : 5972719534 원\n"
     ]
    }
   ],
   "source": [
    "# 'transaction_amount' column 총합으로 총 매출 및 (추가할것)취소율 확인 'type' column 'REFUND' / 'PAYMENT' * 100\n",
    "# len(s['type'] == 'REFUND') / len(s['type'] == 'PAYMENT') *100\n",
    "sale = sales['transaction_amount'].sum() \n",
    "pay = len(sales[sales['type'] == 'PAYMENT']) \n",
    "re = len(sales[sales['type'] == 'REFUND'])\n",
    "print(f'결제완료 {pay} 건 중 환불 {re} 건,\\n총 매출액 : {sale} 원') \n",
    "# print(\"환불율' : %.3f%%\" % (len(sales[sales['type'] == 'PAYMENT'])  / len(sales[sales['type'] == 'REFUND']) * 100))"
   ]
  },
  {
   "cell_type": "markdown",
   "id": "4005a84c",
   "metadata": {},
   "source": [
    "취소 환불이 +, - 로 잘 되어있다는 가정하에\n",
    "> 총 매출 약 60억원"
   ]
  },
  {
   "cell_type": "code",
   "execution_count": null,
   "id": "b5524d9d",
   "metadata": {},
   "outputs": [],
   "source": []
  },
  {
   "cell_type": "markdown",
   "id": "067228e5",
   "metadata": {},
   "source": [
    "## 시간대, 요일, 일, 주, 월, 분기, 총 매출(반기), 6개월간 추이"
   ]
  },
  {
   "cell_type": "code",
   "execution_count": 59,
   "id": "b56f2ab6",
   "metadata": {
    "ExecuteTime": {
     "end_time": "2022-07-01T02:48:49.718418Z",
     "start_time": "2022-07-01T02:48:49.626970Z"
    },
    "scrolled": false
   },
   "outputs": [
    {
     "data": {
      "text/html": [
       "<div>\n",
       "<style scoped>\n",
       "    .dataframe tbody tr th:only-of-type {\n",
       "        vertical-align: middle;\n",
       "    }\n",
       "\n",
       "    .dataframe tbody tr th {\n",
       "        vertical-align: top;\n",
       "    }\n",
       "\n",
       "    .dataframe thead th {\n",
       "        text-align: right;\n",
       "    }\n",
       "</style>\n",
       "<table border=\"1\" class=\"dataframe\">\n",
       "  <thead>\n",
       "    <tr style=\"text-align: right;\">\n",
       "      <th></th>\n",
       "      <th>Year</th>\n",
       "      <th>Month</th>\n",
       "      <th>Day</th>\n",
       "      <th>Hour</th>\n",
       "    </tr>\n",
       "  </thead>\n",
       "  <tbody>\n",
       "    <tr>\n",
       "      <th>0</th>\n",
       "      <td>2021</td>\n",
       "      <td>3</td>\n",
       "      <td>28</td>\n",
       "      <td>15</td>\n",
       "    </tr>\n",
       "    <tr>\n",
       "      <th>1</th>\n",
       "      <td>2021</td>\n",
       "      <td>3</td>\n",
       "      <td>28</td>\n",
       "      <td>15</td>\n",
       "    </tr>\n",
       "    <tr>\n",
       "      <th>2</th>\n",
       "      <td>2021</td>\n",
       "      <td>3</td>\n",
       "      <td>28</td>\n",
       "      <td>15</td>\n",
       "    </tr>\n",
       "    <tr>\n",
       "      <th>3</th>\n",
       "      <td>2021</td>\n",
       "      <td>3</td>\n",
       "      <td>28</td>\n",
       "      <td>15</td>\n",
       "    </tr>\n",
       "    <tr>\n",
       "      <th>4</th>\n",
       "      <td>2021</td>\n",
       "      <td>3</td>\n",
       "      <td>28</td>\n",
       "      <td>15</td>\n",
       "    </tr>\n",
       "    <tr>\n",
       "      <th>...</th>\n",
       "      <td>...</td>\n",
       "      <td>...</td>\n",
       "      <td>...</td>\n",
       "      <td>...</td>\n",
       "    </tr>\n",
       "    <tr>\n",
       "      <th>101097</th>\n",
       "      <td>2021</td>\n",
       "      <td>9</td>\n",
       "      <td>25</td>\n",
       "      <td>14</td>\n",
       "    </tr>\n",
       "    <tr>\n",
       "      <th>101098</th>\n",
       "      <td>2021</td>\n",
       "      <td>9</td>\n",
       "      <td>25</td>\n",
       "      <td>14</td>\n",
       "    </tr>\n",
       "    <tr>\n",
       "      <th>101099</th>\n",
       "      <td>2021</td>\n",
       "      <td>9</td>\n",
       "      <td>25</td>\n",
       "      <td>14</td>\n",
       "    </tr>\n",
       "    <tr>\n",
       "      <th>101100</th>\n",
       "      <td>2021</td>\n",
       "      <td>9</td>\n",
       "      <td>25</td>\n",
       "      <td>14</td>\n",
       "    </tr>\n",
       "    <tr>\n",
       "      <th>101101</th>\n",
       "      <td>2021</td>\n",
       "      <td>9</td>\n",
       "      <td>25</td>\n",
       "      <td>14</td>\n",
       "    </tr>\n",
       "  </tbody>\n",
       "</table>\n",
       "<p>101102 rows × 4 columns</p>\n",
       "</div>"
      ],
      "text/plain": [
       "        Year  Month  Day  Hour\n",
       "0       2021      3   28    15\n",
       "1       2021      3   28    15\n",
       "2       2021      3   28    15\n",
       "3       2021      3   28    15\n",
       "4       2021      3   28    15\n",
       "...      ...    ...  ...   ...\n",
       "101097  2021      9   25    14\n",
       "101098  2021      9   25    14\n",
       "101099  2021      9   25    14\n",
       "101100  2021      9   25    14\n",
       "101101  2021      9   25    14\n",
       "\n",
       "[101102 rows x 4 columns]"
      ]
     },
     "execution_count": 59,
     "metadata": {},
     "output_type": "execute_result"
    }
   ],
   "source": [
    "# 'completed_at' column, 연, 월, 일 나누기\n",
    "df['Year'] = df['completed_at'].dt.year\n",
    "df['Month'] = df['completed_at'].dt.month\n",
    "df['Day'] = df['completed_at'].dt.day\n",
    "df['Hour'] = df['completed_at'].dt.hour\n",
    "df[df.columns[-4:]]"
   ]
  },
  {
   "cell_type": "markdown",
   "id": "ec54f1a2",
   "metadata": {},
   "source": [
    "### 시간대별 매출 그래프"
   ]
  },
  {
   "cell_type": "code",
   "execution_count": 62,
   "id": "0bce6afa",
   "metadata": {
    "ExecuteTime": {
     "end_time": "2022-07-01T03:04:58.258011Z",
     "start_time": "2022-07-01T03:04:57.753406Z"
    }
   },
   "outputs": [
    {
     "data": {
      "application/javascript": [
       "/* Put everything inside the global mpl namespace */\n",
       "/* global mpl */\n",
       "window.mpl = {};\n",
       "\n",
       "mpl.get_websocket_type = function () {\n",
       "    if (typeof WebSocket !== 'undefined') {\n",
       "        return WebSocket;\n",
       "    } else if (typeof MozWebSocket !== 'undefined') {\n",
       "        return MozWebSocket;\n",
       "    } else {\n",
       "        alert(\n",
       "            'Your browser does not have WebSocket support. ' +\n",
       "                'Please try Chrome, Safari or Firefox ≥ 6. ' +\n",
       "                'Firefox 4 and 5 are also supported but you ' +\n",
       "                'have to enable WebSockets in about:config.'\n",
       "        );\n",
       "    }\n",
       "};\n",
       "\n",
       "mpl.figure = function (figure_id, websocket, ondownload, parent_element) {\n",
       "    this.id = figure_id;\n",
       "\n",
       "    this.ws = websocket;\n",
       "\n",
       "    this.supports_binary = this.ws.binaryType !== undefined;\n",
       "\n",
       "    if (!this.supports_binary) {\n",
       "        var warnings = document.getElementById('mpl-warnings');\n",
       "        if (warnings) {\n",
       "            warnings.style.display = 'block';\n",
       "            warnings.textContent =\n",
       "                'This browser does not support binary websocket messages. ' +\n",
       "                'Performance may be slow.';\n",
       "        }\n",
       "    }\n",
       "\n",
       "    this.imageObj = new Image();\n",
       "\n",
       "    this.context = undefined;\n",
       "    this.message = undefined;\n",
       "    this.canvas = undefined;\n",
       "    this.rubberband_canvas = undefined;\n",
       "    this.rubberband_context = undefined;\n",
       "    this.format_dropdown = undefined;\n",
       "\n",
       "    this.image_mode = 'full';\n",
       "\n",
       "    this.root = document.createElement('div');\n",
       "    this.root.setAttribute('style', 'display: inline-block');\n",
       "    this._root_extra_style(this.root);\n",
       "\n",
       "    parent_element.appendChild(this.root);\n",
       "\n",
       "    this._init_header(this);\n",
       "    this._init_canvas(this);\n",
       "    this._init_toolbar(this);\n",
       "\n",
       "    var fig = this;\n",
       "\n",
       "    this.waiting = false;\n",
       "\n",
       "    this.ws.onopen = function () {\n",
       "        fig.send_message('supports_binary', { value: fig.supports_binary });\n",
       "        fig.send_message('send_image_mode', {});\n",
       "        if (fig.ratio !== 1) {\n",
       "            fig.send_message('set_dpi_ratio', { dpi_ratio: fig.ratio });\n",
       "        }\n",
       "        fig.send_message('refresh', {});\n",
       "    };\n",
       "\n",
       "    this.imageObj.onload = function () {\n",
       "        if (fig.image_mode === 'full') {\n",
       "            // Full images could contain transparency (where diff images\n",
       "            // almost always do), so we need to clear the canvas so that\n",
       "            // there is no ghosting.\n",
       "            fig.context.clearRect(0, 0, fig.canvas.width, fig.canvas.height);\n",
       "        }\n",
       "        fig.context.drawImage(fig.imageObj, 0, 0);\n",
       "    };\n",
       "\n",
       "    this.imageObj.onunload = function () {\n",
       "        fig.ws.close();\n",
       "    };\n",
       "\n",
       "    this.ws.onmessage = this._make_on_message_function(this);\n",
       "\n",
       "    this.ondownload = ondownload;\n",
       "};\n",
       "\n",
       "mpl.figure.prototype._init_header = function () {\n",
       "    var titlebar = document.createElement('div');\n",
       "    titlebar.classList =\n",
       "        'ui-dialog-titlebar ui-widget-header ui-corner-all ui-helper-clearfix';\n",
       "    var titletext = document.createElement('div');\n",
       "    titletext.classList = 'ui-dialog-title';\n",
       "    titletext.setAttribute(\n",
       "        'style',\n",
       "        'width: 100%; text-align: center; padding: 3px;'\n",
       "    );\n",
       "    titlebar.appendChild(titletext);\n",
       "    this.root.appendChild(titlebar);\n",
       "    this.header = titletext;\n",
       "};\n",
       "\n",
       "mpl.figure.prototype._canvas_extra_style = function (_canvas_div) {};\n",
       "\n",
       "mpl.figure.prototype._root_extra_style = function (_canvas_div) {};\n",
       "\n",
       "mpl.figure.prototype._init_canvas = function () {\n",
       "    var fig = this;\n",
       "\n",
       "    var canvas_div = (this.canvas_div = document.createElement('div'));\n",
       "    canvas_div.setAttribute(\n",
       "        'style',\n",
       "        'border: 1px solid #ddd;' +\n",
       "            'box-sizing: content-box;' +\n",
       "            'clear: both;' +\n",
       "            'min-height: 1px;' +\n",
       "            'min-width: 1px;' +\n",
       "            'outline: 0;' +\n",
       "            'overflow: hidden;' +\n",
       "            'position: relative;' +\n",
       "            'resize: both;'\n",
       "    );\n",
       "\n",
       "    function on_keyboard_event_closure(name) {\n",
       "        return function (event) {\n",
       "            return fig.key_event(event, name);\n",
       "        };\n",
       "    }\n",
       "\n",
       "    canvas_div.addEventListener(\n",
       "        'keydown',\n",
       "        on_keyboard_event_closure('key_press')\n",
       "    );\n",
       "    canvas_div.addEventListener(\n",
       "        'keyup',\n",
       "        on_keyboard_event_closure('key_release')\n",
       "    );\n",
       "\n",
       "    this._canvas_extra_style(canvas_div);\n",
       "    this.root.appendChild(canvas_div);\n",
       "\n",
       "    var canvas = (this.canvas = document.createElement('canvas'));\n",
       "    canvas.classList.add('mpl-canvas');\n",
       "    canvas.setAttribute('style', 'box-sizing: content-box;');\n",
       "\n",
       "    this.context = canvas.getContext('2d');\n",
       "\n",
       "    var backingStore =\n",
       "        this.context.backingStorePixelRatio ||\n",
       "        this.context.webkitBackingStorePixelRatio ||\n",
       "        this.context.mozBackingStorePixelRatio ||\n",
       "        this.context.msBackingStorePixelRatio ||\n",
       "        this.context.oBackingStorePixelRatio ||\n",
       "        this.context.backingStorePixelRatio ||\n",
       "        1;\n",
       "\n",
       "    this.ratio = (window.devicePixelRatio || 1) / backingStore;\n",
       "\n",
       "    var rubberband_canvas = (this.rubberband_canvas = document.createElement(\n",
       "        'canvas'\n",
       "    ));\n",
       "    rubberband_canvas.setAttribute(\n",
       "        'style',\n",
       "        'box-sizing: content-box; position: absolute; left: 0; top: 0; z-index: 1;'\n",
       "    );\n",
       "\n",
       "    // Apply a ponyfill if ResizeObserver is not implemented by browser.\n",
       "    if (this.ResizeObserver === undefined) {\n",
       "        if (window.ResizeObserver !== undefined) {\n",
       "            this.ResizeObserver = window.ResizeObserver;\n",
       "        } else {\n",
       "            var obs = _JSXTOOLS_RESIZE_OBSERVER({});\n",
       "            this.ResizeObserver = obs.ResizeObserver;\n",
       "        }\n",
       "    }\n",
       "\n",
       "    this.resizeObserverInstance = new this.ResizeObserver(function (entries) {\n",
       "        var nentries = entries.length;\n",
       "        for (var i = 0; i < nentries; i++) {\n",
       "            var entry = entries[i];\n",
       "            var width, height;\n",
       "            if (entry.contentBoxSize) {\n",
       "                if (entry.contentBoxSize instanceof Array) {\n",
       "                    // Chrome 84 implements new version of spec.\n",
       "                    width = entry.contentBoxSize[0].inlineSize;\n",
       "                    height = entry.contentBoxSize[0].blockSize;\n",
       "                } else {\n",
       "                    // Firefox implements old version of spec.\n",
       "                    width = entry.contentBoxSize.inlineSize;\n",
       "                    height = entry.contentBoxSize.blockSize;\n",
       "                }\n",
       "            } else {\n",
       "                // Chrome <84 implements even older version of spec.\n",
       "                width = entry.contentRect.width;\n",
       "                height = entry.contentRect.height;\n",
       "            }\n",
       "\n",
       "            // Keep the size of the canvas and rubber band canvas in sync with\n",
       "            // the canvas container.\n",
       "            if (entry.devicePixelContentBoxSize) {\n",
       "                // Chrome 84 implements new version of spec.\n",
       "                canvas.setAttribute(\n",
       "                    'width',\n",
       "                    entry.devicePixelContentBoxSize[0].inlineSize\n",
       "                );\n",
       "                canvas.setAttribute(\n",
       "                    'height',\n",
       "                    entry.devicePixelContentBoxSize[0].blockSize\n",
       "                );\n",
       "            } else {\n",
       "                canvas.setAttribute('width', width * fig.ratio);\n",
       "                canvas.setAttribute('height', height * fig.ratio);\n",
       "            }\n",
       "            canvas.setAttribute(\n",
       "                'style',\n",
       "                'width: ' + width + 'px; height: ' + height + 'px;'\n",
       "            );\n",
       "\n",
       "            rubberband_canvas.setAttribute('width', width);\n",
       "            rubberband_canvas.setAttribute('height', height);\n",
       "\n",
       "            // And update the size in Python. We ignore the initial 0/0 size\n",
       "            // that occurs as the element is placed into the DOM, which should\n",
       "            // otherwise not happen due to the minimum size styling.\n",
       "            if (fig.ws.readyState == 1 && width != 0 && height != 0) {\n",
       "                fig.request_resize(width, height);\n",
       "            }\n",
       "        }\n",
       "    });\n",
       "    this.resizeObserverInstance.observe(canvas_div);\n",
       "\n",
       "    function on_mouse_event_closure(name) {\n",
       "        return function (event) {\n",
       "            return fig.mouse_event(event, name);\n",
       "        };\n",
       "    }\n",
       "\n",
       "    rubberband_canvas.addEventListener(\n",
       "        'mousedown',\n",
       "        on_mouse_event_closure('button_press')\n",
       "    );\n",
       "    rubberband_canvas.addEventListener(\n",
       "        'mouseup',\n",
       "        on_mouse_event_closure('button_release')\n",
       "    );\n",
       "    // Throttle sequential mouse events to 1 every 20ms.\n",
       "    rubberband_canvas.addEventListener(\n",
       "        'mousemove',\n",
       "        on_mouse_event_closure('motion_notify')\n",
       "    );\n",
       "\n",
       "    rubberband_canvas.addEventListener(\n",
       "        'mouseenter',\n",
       "        on_mouse_event_closure('figure_enter')\n",
       "    );\n",
       "    rubberband_canvas.addEventListener(\n",
       "        'mouseleave',\n",
       "        on_mouse_event_closure('figure_leave')\n",
       "    );\n",
       "\n",
       "    canvas_div.addEventListener('wheel', function (event) {\n",
       "        if (event.deltaY < 0) {\n",
       "            event.step = 1;\n",
       "        } else {\n",
       "            event.step = -1;\n",
       "        }\n",
       "        on_mouse_event_closure('scroll')(event);\n",
       "    });\n",
       "\n",
       "    canvas_div.appendChild(canvas);\n",
       "    canvas_div.appendChild(rubberband_canvas);\n",
       "\n",
       "    this.rubberband_context = rubberband_canvas.getContext('2d');\n",
       "    this.rubberband_context.strokeStyle = '#000000';\n",
       "\n",
       "    this._resize_canvas = function (width, height, forward) {\n",
       "        if (forward) {\n",
       "            canvas_div.style.width = width + 'px';\n",
       "            canvas_div.style.height = height + 'px';\n",
       "        }\n",
       "    };\n",
       "\n",
       "    // Disable right mouse context menu.\n",
       "    this.rubberband_canvas.addEventListener('contextmenu', function (_e) {\n",
       "        event.preventDefault();\n",
       "        return false;\n",
       "    });\n",
       "\n",
       "    function set_focus() {\n",
       "        canvas.focus();\n",
       "        canvas_div.focus();\n",
       "    }\n",
       "\n",
       "    window.setTimeout(set_focus, 100);\n",
       "};\n",
       "\n",
       "mpl.figure.prototype._init_toolbar = function () {\n",
       "    var fig = this;\n",
       "\n",
       "    var toolbar = document.createElement('div');\n",
       "    toolbar.classList = 'mpl-toolbar';\n",
       "    this.root.appendChild(toolbar);\n",
       "\n",
       "    function on_click_closure(name) {\n",
       "        return function (_event) {\n",
       "            return fig.toolbar_button_onclick(name);\n",
       "        };\n",
       "    }\n",
       "\n",
       "    function on_mouseover_closure(tooltip) {\n",
       "        return function (event) {\n",
       "            if (!event.currentTarget.disabled) {\n",
       "                return fig.toolbar_button_onmouseover(tooltip);\n",
       "            }\n",
       "        };\n",
       "    }\n",
       "\n",
       "    fig.buttons = {};\n",
       "    var buttonGroup = document.createElement('div');\n",
       "    buttonGroup.classList = 'mpl-button-group';\n",
       "    for (var toolbar_ind in mpl.toolbar_items) {\n",
       "        var name = mpl.toolbar_items[toolbar_ind][0];\n",
       "        var tooltip = mpl.toolbar_items[toolbar_ind][1];\n",
       "        var image = mpl.toolbar_items[toolbar_ind][2];\n",
       "        var method_name = mpl.toolbar_items[toolbar_ind][3];\n",
       "\n",
       "        if (!name) {\n",
       "            /* Instead of a spacer, we start a new button group. */\n",
       "            if (buttonGroup.hasChildNodes()) {\n",
       "                toolbar.appendChild(buttonGroup);\n",
       "            }\n",
       "            buttonGroup = document.createElement('div');\n",
       "            buttonGroup.classList = 'mpl-button-group';\n",
       "            continue;\n",
       "        }\n",
       "\n",
       "        var button = (fig.buttons[name] = document.createElement('button'));\n",
       "        button.classList = 'mpl-widget';\n",
       "        button.setAttribute('role', 'button');\n",
       "        button.setAttribute('aria-disabled', 'false');\n",
       "        button.addEventListener('click', on_click_closure(method_name));\n",
       "        button.addEventListener('mouseover', on_mouseover_closure(tooltip));\n",
       "\n",
       "        var icon_img = document.createElement('img');\n",
       "        icon_img.src = '_images/' + image + '.png';\n",
       "        icon_img.srcset = '_images/' + image + '_large.png 2x';\n",
       "        icon_img.alt = tooltip;\n",
       "        button.appendChild(icon_img);\n",
       "\n",
       "        buttonGroup.appendChild(button);\n",
       "    }\n",
       "\n",
       "    if (buttonGroup.hasChildNodes()) {\n",
       "        toolbar.appendChild(buttonGroup);\n",
       "    }\n",
       "\n",
       "    var fmt_picker = document.createElement('select');\n",
       "    fmt_picker.classList = 'mpl-widget';\n",
       "    toolbar.appendChild(fmt_picker);\n",
       "    this.format_dropdown = fmt_picker;\n",
       "\n",
       "    for (var ind in mpl.extensions) {\n",
       "        var fmt = mpl.extensions[ind];\n",
       "        var option = document.createElement('option');\n",
       "        option.selected = fmt === mpl.default_extension;\n",
       "        option.innerHTML = fmt;\n",
       "        fmt_picker.appendChild(option);\n",
       "    }\n",
       "\n",
       "    var status_bar = document.createElement('span');\n",
       "    status_bar.classList = 'mpl-message';\n",
       "    toolbar.appendChild(status_bar);\n",
       "    this.message = status_bar;\n",
       "};\n",
       "\n",
       "mpl.figure.prototype.request_resize = function (x_pixels, y_pixels) {\n",
       "    // Request matplotlib to resize the figure. Matplotlib will then trigger a resize in the client,\n",
       "    // which will in turn request a refresh of the image.\n",
       "    this.send_message('resize', { width: x_pixels, height: y_pixels });\n",
       "};\n",
       "\n",
       "mpl.figure.prototype.send_message = function (type, properties) {\n",
       "    properties['type'] = type;\n",
       "    properties['figure_id'] = this.id;\n",
       "    this.ws.send(JSON.stringify(properties));\n",
       "};\n",
       "\n",
       "mpl.figure.prototype.send_draw_message = function () {\n",
       "    if (!this.waiting) {\n",
       "        this.waiting = true;\n",
       "        this.ws.send(JSON.stringify({ type: 'draw', figure_id: this.id }));\n",
       "    }\n",
       "};\n",
       "\n",
       "mpl.figure.prototype.handle_save = function (fig, _msg) {\n",
       "    var format_dropdown = fig.format_dropdown;\n",
       "    var format = format_dropdown.options[format_dropdown.selectedIndex].value;\n",
       "    fig.ondownload(fig, format);\n",
       "};\n",
       "\n",
       "mpl.figure.prototype.handle_resize = function (fig, msg) {\n",
       "    var size = msg['size'];\n",
       "    if (size[0] !== fig.canvas.width || size[1] !== fig.canvas.height) {\n",
       "        fig._resize_canvas(size[0], size[1], msg['forward']);\n",
       "        fig.send_message('refresh', {});\n",
       "    }\n",
       "};\n",
       "\n",
       "mpl.figure.prototype.handle_rubberband = function (fig, msg) {\n",
       "    var x0 = msg['x0'] / fig.ratio;\n",
       "    var y0 = (fig.canvas.height - msg['y0']) / fig.ratio;\n",
       "    var x1 = msg['x1'] / fig.ratio;\n",
       "    var y1 = (fig.canvas.height - msg['y1']) / fig.ratio;\n",
       "    x0 = Math.floor(x0) + 0.5;\n",
       "    y0 = Math.floor(y0) + 0.5;\n",
       "    x1 = Math.floor(x1) + 0.5;\n",
       "    y1 = Math.floor(y1) + 0.5;\n",
       "    var min_x = Math.min(x0, x1);\n",
       "    var min_y = Math.min(y0, y1);\n",
       "    var width = Math.abs(x1 - x0);\n",
       "    var height = Math.abs(y1 - y0);\n",
       "\n",
       "    fig.rubberband_context.clearRect(\n",
       "        0,\n",
       "        0,\n",
       "        fig.canvas.width / fig.ratio,\n",
       "        fig.canvas.height / fig.ratio\n",
       "    );\n",
       "\n",
       "    fig.rubberband_context.strokeRect(min_x, min_y, width, height);\n",
       "};\n",
       "\n",
       "mpl.figure.prototype.handle_figure_label = function (fig, msg) {\n",
       "    // Updates the figure title.\n",
       "    fig.header.textContent = msg['label'];\n",
       "};\n",
       "\n",
       "mpl.figure.prototype.handle_cursor = function (fig, msg) {\n",
       "    var cursor = msg['cursor'];\n",
       "    switch (cursor) {\n",
       "        case 0:\n",
       "            cursor = 'pointer';\n",
       "            break;\n",
       "        case 1:\n",
       "            cursor = 'default';\n",
       "            break;\n",
       "        case 2:\n",
       "            cursor = 'crosshair';\n",
       "            break;\n",
       "        case 3:\n",
       "            cursor = 'move';\n",
       "            break;\n",
       "    }\n",
       "    fig.rubberband_canvas.style.cursor = cursor;\n",
       "};\n",
       "\n",
       "mpl.figure.prototype.handle_message = function (fig, msg) {\n",
       "    fig.message.textContent = msg['message'];\n",
       "};\n",
       "\n",
       "mpl.figure.prototype.handle_draw = function (fig, _msg) {\n",
       "    // Request the server to send over a new figure.\n",
       "    fig.send_draw_message();\n",
       "};\n",
       "\n",
       "mpl.figure.prototype.handle_image_mode = function (fig, msg) {\n",
       "    fig.image_mode = msg['mode'];\n",
       "};\n",
       "\n",
       "mpl.figure.prototype.handle_history_buttons = function (fig, msg) {\n",
       "    for (var key in msg) {\n",
       "        if (!(key in fig.buttons)) {\n",
       "            continue;\n",
       "        }\n",
       "        fig.buttons[key].disabled = !msg[key];\n",
       "        fig.buttons[key].setAttribute('aria-disabled', !msg[key]);\n",
       "    }\n",
       "};\n",
       "\n",
       "mpl.figure.prototype.handle_navigate_mode = function (fig, msg) {\n",
       "    if (msg['mode'] === 'PAN') {\n",
       "        fig.buttons['Pan'].classList.add('active');\n",
       "        fig.buttons['Zoom'].classList.remove('active');\n",
       "    } else if (msg['mode'] === 'ZOOM') {\n",
       "        fig.buttons['Pan'].classList.remove('active');\n",
       "        fig.buttons['Zoom'].classList.add('active');\n",
       "    } else {\n",
       "        fig.buttons['Pan'].classList.remove('active');\n",
       "        fig.buttons['Zoom'].classList.remove('active');\n",
       "    }\n",
       "};\n",
       "\n",
       "mpl.figure.prototype.updated_canvas_event = function () {\n",
       "    // Called whenever the canvas gets updated.\n",
       "    this.send_message('ack', {});\n",
       "};\n",
       "\n",
       "// A function to construct a web socket function for onmessage handling.\n",
       "// Called in the figure constructor.\n",
       "mpl.figure.prototype._make_on_message_function = function (fig) {\n",
       "    return function socket_on_message(evt) {\n",
       "        if (evt.data instanceof Blob) {\n",
       "            /* FIXME: We get \"Resource interpreted as Image but\n",
       "             * transferred with MIME type text/plain:\" errors on\n",
       "             * Chrome.  But how to set the MIME type?  It doesn't seem\n",
       "             * to be part of the websocket stream */\n",
       "            evt.data.type = 'image/png';\n",
       "\n",
       "            /* Free the memory for the previous frames */\n",
       "            if (fig.imageObj.src) {\n",
       "                (window.URL || window.webkitURL).revokeObjectURL(\n",
       "                    fig.imageObj.src\n",
       "                );\n",
       "            }\n",
       "\n",
       "            fig.imageObj.src = (window.URL || window.webkitURL).createObjectURL(\n",
       "                evt.data\n",
       "            );\n",
       "            fig.updated_canvas_event();\n",
       "            fig.waiting = false;\n",
       "            return;\n",
       "        } else if (\n",
       "            typeof evt.data === 'string' &&\n",
       "            evt.data.slice(0, 21) === 'data:image/png;base64'\n",
       "        ) {\n",
       "            fig.imageObj.src = evt.data;\n",
       "            fig.updated_canvas_event();\n",
       "            fig.waiting = false;\n",
       "            return;\n",
       "        }\n",
       "\n",
       "        var msg = JSON.parse(evt.data);\n",
       "        var msg_type = msg['type'];\n",
       "\n",
       "        // Call the  \"handle_{type}\" callback, which takes\n",
       "        // the figure and JSON message as its only arguments.\n",
       "        try {\n",
       "            var callback = fig['handle_' + msg_type];\n",
       "        } catch (e) {\n",
       "            console.log(\n",
       "                \"No handler for the '\" + msg_type + \"' message type: \",\n",
       "                msg\n",
       "            );\n",
       "            return;\n",
       "        }\n",
       "\n",
       "        if (callback) {\n",
       "            try {\n",
       "                // console.log(\"Handling '\" + msg_type + \"' message: \", msg);\n",
       "                callback(fig, msg);\n",
       "            } catch (e) {\n",
       "                console.log(\n",
       "                    \"Exception inside the 'handler_\" + msg_type + \"' callback:\",\n",
       "                    e,\n",
       "                    e.stack,\n",
       "                    msg\n",
       "                );\n",
       "            }\n",
       "        }\n",
       "    };\n",
       "};\n",
       "\n",
       "// from http://stackoverflow.com/questions/1114465/getting-mouse-location-in-canvas\n",
       "mpl.findpos = function (e) {\n",
       "    //this section is from http://www.quirksmode.org/js/events_properties.html\n",
       "    var targ;\n",
       "    if (!e) {\n",
       "        e = window.event;\n",
       "    }\n",
       "    if (e.target) {\n",
       "        targ = e.target;\n",
       "    } else if (e.srcElement) {\n",
       "        targ = e.srcElement;\n",
       "    }\n",
       "    if (targ.nodeType === 3) {\n",
       "        // defeat Safari bug\n",
       "        targ = targ.parentNode;\n",
       "    }\n",
       "\n",
       "    // pageX,Y are the mouse positions relative to the document\n",
       "    var boundingRect = targ.getBoundingClientRect();\n",
       "    var x = e.pageX - (boundingRect.left + document.body.scrollLeft);\n",
       "    var y = e.pageY - (boundingRect.top + document.body.scrollTop);\n",
       "\n",
       "    return { x: x, y: y };\n",
       "};\n",
       "\n",
       "/*\n",
       " * return a copy of an object with only non-object keys\n",
       " * we need this to avoid circular references\n",
       " * http://stackoverflow.com/a/24161582/3208463\n",
       " */\n",
       "function simpleKeys(original) {\n",
       "    return Object.keys(original).reduce(function (obj, key) {\n",
       "        if (typeof original[key] !== 'object') {\n",
       "            obj[key] = original[key];\n",
       "        }\n",
       "        return obj;\n",
       "    }, {});\n",
       "}\n",
       "\n",
       "mpl.figure.prototype.mouse_event = function (event, name) {\n",
       "    var canvas_pos = mpl.findpos(event);\n",
       "\n",
       "    if (name === 'button_press') {\n",
       "        this.canvas.focus();\n",
       "        this.canvas_div.focus();\n",
       "    }\n",
       "\n",
       "    var x = canvas_pos.x * this.ratio;\n",
       "    var y = canvas_pos.y * this.ratio;\n",
       "\n",
       "    this.send_message(name, {\n",
       "        x: x,\n",
       "        y: y,\n",
       "        button: event.button,\n",
       "        step: event.step,\n",
       "        guiEvent: simpleKeys(event),\n",
       "    });\n",
       "\n",
       "    /* This prevents the web browser from automatically changing to\n",
       "     * the text insertion cursor when the button is pressed.  We want\n",
       "     * to control all of the cursor setting manually through the\n",
       "     * 'cursor' event from matplotlib */\n",
       "    event.preventDefault();\n",
       "    return false;\n",
       "};\n",
       "\n",
       "mpl.figure.prototype._key_event_extra = function (_event, _name) {\n",
       "    // Handle any extra behaviour associated with a key event\n",
       "};\n",
       "\n",
       "mpl.figure.prototype.key_event = function (event, name) {\n",
       "    // Prevent repeat events\n",
       "    if (name === 'key_press') {\n",
       "        if (event.which === this._key) {\n",
       "            return;\n",
       "        } else {\n",
       "            this._key = event.which;\n",
       "        }\n",
       "    }\n",
       "    if (name === 'key_release') {\n",
       "        this._key = null;\n",
       "    }\n",
       "\n",
       "    var value = '';\n",
       "    if (event.ctrlKey && event.which !== 17) {\n",
       "        value += 'ctrl+';\n",
       "    }\n",
       "    if (event.altKey && event.which !== 18) {\n",
       "        value += 'alt+';\n",
       "    }\n",
       "    if (event.shiftKey && event.which !== 16) {\n",
       "        value += 'shift+';\n",
       "    }\n",
       "\n",
       "    value += 'k';\n",
       "    value += event.which.toString();\n",
       "\n",
       "    this._key_event_extra(event, name);\n",
       "\n",
       "    this.send_message(name, { key: value, guiEvent: simpleKeys(event) });\n",
       "    return false;\n",
       "};\n",
       "\n",
       "mpl.figure.prototype.toolbar_button_onclick = function (name) {\n",
       "    if (name === 'download') {\n",
       "        this.handle_save(this, null);\n",
       "    } else {\n",
       "        this.send_message('toolbar_button', { name: name });\n",
       "    }\n",
       "};\n",
       "\n",
       "mpl.figure.prototype.toolbar_button_onmouseover = function (tooltip) {\n",
       "    this.message.textContent = tooltip;\n",
       "};\n",
       "\n",
       "///////////////// REMAINING CONTENT GENERATED BY embed_js.py /////////////////\n",
       "// prettier-ignore\n",
       "var _JSXTOOLS_RESIZE_OBSERVER=function(A){var t,i=new WeakMap,n=new WeakMap,a=new WeakMap,r=new WeakMap,o=new Set;function s(e){if(!(this instanceof s))throw new TypeError(\"Constructor requires 'new' operator\");i.set(this,e)}function h(){throw new TypeError(\"Function is not a constructor\")}function c(e,t,i,n){e=0 in arguments?Number(arguments[0]):0,t=1 in arguments?Number(arguments[1]):0,i=2 in arguments?Number(arguments[2]):0,n=3 in arguments?Number(arguments[3]):0,this.right=(this.x=this.left=e)+(this.width=i),this.bottom=(this.y=this.top=t)+(this.height=n),Object.freeze(this)}function d(){t=requestAnimationFrame(d);var s=new WeakMap,p=new Set;o.forEach((function(t){r.get(t).forEach((function(i){var r=t instanceof window.SVGElement,o=a.get(t),d=r?0:parseFloat(o.paddingTop),f=r?0:parseFloat(o.paddingRight),l=r?0:parseFloat(o.paddingBottom),u=r?0:parseFloat(o.paddingLeft),g=r?0:parseFloat(o.borderTopWidth),m=r?0:parseFloat(o.borderRightWidth),w=r?0:parseFloat(o.borderBottomWidth),b=u+f,F=d+l,v=(r?0:parseFloat(o.borderLeftWidth))+m,W=g+w,y=r?0:t.offsetHeight-W-t.clientHeight,E=r?0:t.offsetWidth-v-t.clientWidth,R=b+v,z=F+W,M=r?t.width:parseFloat(o.width)-R-E,O=r?t.height:parseFloat(o.height)-z-y;if(n.has(t)){var k=n.get(t);if(k[0]===M&&k[1]===O)return}n.set(t,[M,O]);var S=Object.create(h.prototype);S.target=t,S.contentRect=new c(u,d,M,O),s.has(i)||(s.set(i,[]),p.add(i)),s.get(i).push(S)}))})),p.forEach((function(e){i.get(e).call(e,s.get(e),e)}))}return s.prototype.observe=function(i){if(i instanceof window.Element){r.has(i)||(r.set(i,new Set),o.add(i),a.set(i,window.getComputedStyle(i)));var n=r.get(i);n.has(this)||n.add(this),cancelAnimationFrame(t),t=requestAnimationFrame(d)}},s.prototype.unobserve=function(i){if(i instanceof window.Element&&r.has(i)){var n=r.get(i);n.has(this)&&(n.delete(this),n.size||(r.delete(i),o.delete(i))),n.size||r.delete(i),o.size||cancelAnimationFrame(t)}},A.DOMRectReadOnly=c,A.ResizeObserver=s,A.ResizeObserverEntry=h,A}; // eslint-disable-line\n",
       "mpl.toolbar_items = [[\"Home\", \"Reset original view\", \"fa fa-home icon-home\", \"home\"], [\"Back\", \"Back to previous view\", \"fa fa-arrow-left icon-arrow-left\", \"back\"], [\"Forward\", \"Forward to next view\", \"fa fa-arrow-right icon-arrow-right\", \"forward\"], [\"\", \"\", \"\", \"\"], [\"Pan\", \"Left button pans, Right button zooms\\nx/y fixes axis, CTRL fixes aspect\", \"fa fa-arrows icon-move\", \"pan\"], [\"Zoom\", \"Zoom to rectangle\\nx/y fixes axis, CTRL fixes aspect\", \"fa fa-square-o icon-check-empty\", \"zoom\"], [\"\", \"\", \"\", \"\"], [\"Download\", \"Download plot\", \"fa fa-floppy-o icon-save\", \"download\"]];\n",
       "\n",
       "mpl.extensions = [\"eps\", \"jpeg\", \"pdf\", \"png\", \"ps\", \"raw\", \"svg\", \"tif\"];\n",
       "\n",
       "mpl.default_extension = \"png\";/* global mpl */\n",
       "\n",
       "var comm_websocket_adapter = function (comm) {\n",
       "    // Create a \"websocket\"-like object which calls the given IPython comm\n",
       "    // object with the appropriate methods. Currently this is a non binary\n",
       "    // socket, so there is still some room for performance tuning.\n",
       "    var ws = {};\n",
       "\n",
       "    ws.close = function () {\n",
       "        comm.close();\n",
       "    };\n",
       "    ws.send = function (m) {\n",
       "        //console.log('sending', m);\n",
       "        comm.send(m);\n",
       "    };\n",
       "    // Register the callback with on_msg.\n",
       "    comm.on_msg(function (msg) {\n",
       "        //console.log('receiving', msg['content']['data'], msg);\n",
       "        // Pass the mpl event to the overridden (by mpl) onmessage function.\n",
       "        ws.onmessage(msg['content']['data']);\n",
       "    });\n",
       "    return ws;\n",
       "};\n",
       "\n",
       "mpl.mpl_figure_comm = function (comm, msg) {\n",
       "    // This is the function which gets called when the mpl process\n",
       "    // starts-up an IPython Comm through the \"matplotlib\" channel.\n",
       "\n",
       "    var id = msg.content.data.id;\n",
       "    // Get hold of the div created by the display call when the Comm\n",
       "    // socket was opened in Python.\n",
       "    var element = document.getElementById(id);\n",
       "    var ws_proxy = comm_websocket_adapter(comm);\n",
       "\n",
       "    function ondownload(figure, _format) {\n",
       "        window.open(figure.canvas.toDataURL());\n",
       "    }\n",
       "\n",
       "    var fig = new mpl.figure(id, ws_proxy, ondownload, element);\n",
       "\n",
       "    // Call onopen now - mpl needs it, as it is assuming we've passed it a real\n",
       "    // web socket which is closed, not our websocket->open comm proxy.\n",
       "    ws_proxy.onopen();\n",
       "\n",
       "    fig.parent_element = element;\n",
       "    fig.cell_info = mpl.find_output_cell(\"<div id='\" + id + \"'></div>\");\n",
       "    if (!fig.cell_info) {\n",
       "        console.error('Failed to find cell for figure', id, fig);\n",
       "        return;\n",
       "    }\n",
       "    fig.cell_info[0].output_area.element.on(\n",
       "        'cleared',\n",
       "        { fig: fig },\n",
       "        fig._remove_fig_handler\n",
       "    );\n",
       "};\n",
       "\n",
       "mpl.figure.prototype.handle_close = function (fig, msg) {\n",
       "    var width = fig.canvas.width / fig.ratio;\n",
       "    fig.cell_info[0].output_area.element.off(\n",
       "        'cleared',\n",
       "        fig._remove_fig_handler\n",
       "    );\n",
       "    fig.resizeObserverInstance.unobserve(fig.canvas_div);\n",
       "\n",
       "    // Update the output cell to use the data from the current canvas.\n",
       "    fig.push_to_output();\n",
       "    var dataURL = fig.canvas.toDataURL();\n",
       "    // Re-enable the keyboard manager in IPython - without this line, in FF,\n",
       "    // the notebook keyboard shortcuts fail.\n",
       "    IPython.keyboard_manager.enable();\n",
       "    fig.parent_element.innerHTML =\n",
       "        '<img src=\"' + dataURL + '\" width=\"' + width + '\">';\n",
       "    fig.close_ws(fig, msg);\n",
       "};\n",
       "\n",
       "mpl.figure.prototype.close_ws = function (fig, msg) {\n",
       "    fig.send_message('closing', msg);\n",
       "    // fig.ws.close()\n",
       "};\n",
       "\n",
       "mpl.figure.prototype.push_to_output = function (_remove_interactive) {\n",
       "    // Turn the data on the canvas into data in the output cell.\n",
       "    var width = this.canvas.width / this.ratio;\n",
       "    var dataURL = this.canvas.toDataURL();\n",
       "    this.cell_info[1]['text/html'] =\n",
       "        '<img src=\"' + dataURL + '\" width=\"' + width + '\">';\n",
       "};\n",
       "\n",
       "mpl.figure.prototype.updated_canvas_event = function () {\n",
       "    // Tell IPython that the notebook contents must change.\n",
       "    IPython.notebook.set_dirty(true);\n",
       "    this.send_message('ack', {});\n",
       "    var fig = this;\n",
       "    // Wait a second, then push the new image to the DOM so\n",
       "    // that it is saved nicely (might be nice to debounce this).\n",
       "    setTimeout(function () {\n",
       "        fig.push_to_output();\n",
       "    }, 1000);\n",
       "};\n",
       "\n",
       "mpl.figure.prototype._init_toolbar = function () {\n",
       "    var fig = this;\n",
       "\n",
       "    var toolbar = document.createElement('div');\n",
       "    toolbar.classList = 'btn-toolbar';\n",
       "    this.root.appendChild(toolbar);\n",
       "\n",
       "    function on_click_closure(name) {\n",
       "        return function (_event) {\n",
       "            return fig.toolbar_button_onclick(name);\n",
       "        };\n",
       "    }\n",
       "\n",
       "    function on_mouseover_closure(tooltip) {\n",
       "        return function (event) {\n",
       "            if (!event.currentTarget.disabled) {\n",
       "                return fig.toolbar_button_onmouseover(tooltip);\n",
       "            }\n",
       "        };\n",
       "    }\n",
       "\n",
       "    fig.buttons = {};\n",
       "    var buttonGroup = document.createElement('div');\n",
       "    buttonGroup.classList = 'btn-group';\n",
       "    var button;\n",
       "    for (var toolbar_ind in mpl.toolbar_items) {\n",
       "        var name = mpl.toolbar_items[toolbar_ind][0];\n",
       "        var tooltip = mpl.toolbar_items[toolbar_ind][1];\n",
       "        var image = mpl.toolbar_items[toolbar_ind][2];\n",
       "        var method_name = mpl.toolbar_items[toolbar_ind][3];\n",
       "\n",
       "        if (!name) {\n",
       "            /* Instead of a spacer, we start a new button group. */\n",
       "            if (buttonGroup.hasChildNodes()) {\n",
       "                toolbar.appendChild(buttonGroup);\n",
       "            }\n",
       "            buttonGroup = document.createElement('div');\n",
       "            buttonGroup.classList = 'btn-group';\n",
       "            continue;\n",
       "        }\n",
       "\n",
       "        button = fig.buttons[name] = document.createElement('button');\n",
       "        button.classList = 'btn btn-default';\n",
       "        button.href = '#';\n",
       "        button.title = name;\n",
       "        button.innerHTML = '<i class=\"fa ' + image + ' fa-lg\"></i>';\n",
       "        button.addEventListener('click', on_click_closure(method_name));\n",
       "        button.addEventListener('mouseover', on_mouseover_closure(tooltip));\n",
       "        buttonGroup.appendChild(button);\n",
       "    }\n",
       "\n",
       "    if (buttonGroup.hasChildNodes()) {\n",
       "        toolbar.appendChild(buttonGroup);\n",
       "    }\n",
       "\n",
       "    // Add the status bar.\n",
       "    var status_bar = document.createElement('span');\n",
       "    status_bar.classList = 'mpl-message pull-right';\n",
       "    toolbar.appendChild(status_bar);\n",
       "    this.message = status_bar;\n",
       "\n",
       "    // Add the close button to the window.\n",
       "    var buttongrp = document.createElement('div');\n",
       "    buttongrp.classList = 'btn-group inline pull-right';\n",
       "    button = document.createElement('button');\n",
       "    button.classList = 'btn btn-mini btn-primary';\n",
       "    button.href = '#';\n",
       "    button.title = 'Stop Interaction';\n",
       "    button.innerHTML = '<i class=\"fa fa-power-off icon-remove icon-large\"></i>';\n",
       "    button.addEventListener('click', function (_evt) {\n",
       "        fig.handle_close(fig, {});\n",
       "    });\n",
       "    button.addEventListener(\n",
       "        'mouseover',\n",
       "        on_mouseover_closure('Stop Interaction')\n",
       "    );\n",
       "    buttongrp.appendChild(button);\n",
       "    var titlebar = this.root.querySelector('.ui-dialog-titlebar');\n",
       "    titlebar.insertBefore(buttongrp, titlebar.firstChild);\n",
       "};\n",
       "\n",
       "mpl.figure.prototype._remove_fig_handler = function (event) {\n",
       "    var fig = event.data.fig;\n",
       "    if (event.target !== this) {\n",
       "        // Ignore bubbled events from children.\n",
       "        return;\n",
       "    }\n",
       "    fig.close_ws(fig, {});\n",
       "};\n",
       "\n",
       "mpl.figure.prototype._root_extra_style = function (el) {\n",
       "    el.style.boxSizing = 'content-box'; // override notebook setting of border-box.\n",
       "};\n",
       "\n",
       "mpl.figure.prototype._canvas_extra_style = function (el) {\n",
       "    // this is important to make the div 'focusable\n",
       "    el.setAttribute('tabindex', 0);\n",
       "    // reach out to IPython and tell the keyboard manager to turn it's self\n",
       "    // off when our div gets focus\n",
       "\n",
       "    // location in version 3\n",
       "    if (IPython.notebook.keyboard_manager) {\n",
       "        IPython.notebook.keyboard_manager.register_events(el);\n",
       "    } else {\n",
       "        // location in version 2\n",
       "        IPython.keyboard_manager.register_events(el);\n",
       "    }\n",
       "};\n",
       "\n",
       "mpl.figure.prototype._key_event_extra = function (event, _name) {\n",
       "    var manager = IPython.notebook.keyboard_manager;\n",
       "    if (!manager) {\n",
       "        manager = IPython.keyboard_manager;\n",
       "    }\n",
       "\n",
       "    // Check for shift+enter\n",
       "    if (event.shiftKey && event.which === 13) {\n",
       "        this.canvas_div.blur();\n",
       "        // select the cell after this one\n",
       "        var index = IPython.notebook.find_cell_index(this.cell_info[0]);\n",
       "        IPython.notebook.select(index + 1);\n",
       "    }\n",
       "};\n",
       "\n",
       "mpl.figure.prototype.handle_save = function (fig, _msg) {\n",
       "    fig.ondownload(fig, null);\n",
       "};\n",
       "\n",
       "mpl.find_output_cell = function (html_output) {\n",
       "    // Return the cell and output element which can be found *uniquely* in the notebook.\n",
       "    // Note - this is a bit hacky, but it is done because the \"notebook_saving.Notebook\"\n",
       "    // IPython event is triggered only after the cells have been serialised, which for\n",
       "    // our purposes (turning an active figure into a static one), is too late.\n",
       "    var cells = IPython.notebook.get_cells();\n",
       "    var ncells = cells.length;\n",
       "    for (var i = 0; i < ncells; i++) {\n",
       "        var cell = cells[i];\n",
       "        if (cell.cell_type === 'code') {\n",
       "            for (var j = 0; j < cell.output_area.outputs.length; j++) {\n",
       "                var data = cell.output_area.outputs[j];\n",
       "                if (data.data) {\n",
       "                    // IPython >= 3 moved mimebundle to data attribute of output\n",
       "                    data = data.data;\n",
       "                }\n",
       "                if (data['text/html'] === html_output) {\n",
       "                    return [cell, data, j];\n",
       "                }\n",
       "            }\n",
       "        }\n",
       "    }\n",
       "};\n",
       "\n",
       "// Register the function which deals with the matplotlib target/channel.\n",
       "// The kernel may be null if the page has been refreshed.\n",
       "if (IPython.notebook.kernel !== null) {\n",
       "    IPython.notebook.kernel.comm_manager.register_target(\n",
       "        'matplotlib',\n",
       "        mpl.mpl_figure_comm\n",
       "    );\n",
       "}\n"
      ],
      "text/plain": [
       "<IPython.core.display.Javascript object>"
      ]
     },
     "metadata": {},
     "output_type": "display_data"
    },
    {
     "data": {
      "text/html": [
       "<img src=\"data:image/png;base64,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\" width=\"432\">"
      ],
      "text/plain": [
       "<IPython.core.display.HTML object>"
      ]
     },
     "metadata": {},
     "output_type": "display_data"
    },
    {
     "data": {
      "text/plain": [
       "<AxesSubplot:xlabel='Hour', ylabel='transaction_amount'>"
      ]
     },
     "execution_count": 62,
     "metadata": {},
     "output_type": "execute_result"
    }
   ],
   "source": [
    "sns.histplot(data = df, x = 'Hour', y = 'transaction_amount', hue = 'type')"
   ]
  },
  {
   "cell_type": "code",
   "execution_count": null,
   "id": "141f03bf",
   "metadata": {},
   "outputs": [],
   "source": []
  },
  {
   "cell_type": "code",
   "execution_count": null,
   "id": "87835880",
   "metadata": {},
   "outputs": [],
   "source": []
  },
  {
   "cell_type": "code",
   "execution_count": null,
   "id": "618ebd4d",
   "metadata": {},
   "outputs": [],
   "source": []
  },
  {
   "cell_type": "code",
   "execution_count": null,
   "id": "437b01ce",
   "metadata": {},
   "outputs": [],
   "source": []
  },
  {
   "cell_type": "code",
   "execution_count": null,
   "id": "8f80df44",
   "metadata": {},
   "outputs": [],
   "source": []
  },
  {
   "cell_type": "code",
   "execution_count": null,
   "id": "3fc613d0",
   "metadata": {},
   "outputs": [],
   "source": []
  },
  {
   "cell_type": "code",
   "execution_count": null,
   "id": "1e40bf07",
   "metadata": {},
   "outputs": [],
   "source": []
  },
  {
   "cell_type": "markdown",
   "id": "76df6b3b",
   "metadata": {},
   "source": [
    "### 요일별 매출 그래프"
   ]
  },
  {
   "cell_type": "markdown",
   "id": "e34b2c8e",
   "metadata": {},
   "source": [
    "### 일별 매출 그래프"
   ]
  },
  {
   "cell_type": "markdown",
   "id": "0878ef47",
   "metadata": {},
   "source": [
    "### 주별 매출 그래프"
   ]
  },
  {
   "cell_type": "markdown",
   "id": "fb76f940",
   "metadata": {},
   "source": [
    "### 월별 매출 그래프"
   ]
  },
  {
   "cell_type": "markdown",
   "id": "85fa3670",
   "metadata": {},
   "source": [
    "### 분기별 매출 그래프"
   ]
  },
  {
   "cell_type": "markdown",
   "id": "dce17e5f",
   "metadata": {},
   "source": [
    "### 6개월(반기) 총매출 그래프"
   ]
  },
  {
   "cell_type": "markdown",
   "id": "447760be",
   "metadata": {},
   "source": [
    "# 강의 분석"
   ]
  },
  {
   "cell_type": "markdown",
   "id": "5fd1259e",
   "metadata": {},
   "source": [
    "## 전체 강의 수"
   ]
  },
  {
   "cell_type": "markdown",
   "id": "91a43677",
   "metadata": {},
   "source": [
    "## 전체 카테고리 수"
   ]
  },
  {
   "cell_type": "markdown",
   "id": "56c7194e",
   "metadata": {},
   "source": [
    "## 가장많은(적은) 매출을 올린 강의 및 탑 10강의 매출추이"
   ]
  },
  {
   "cell_type": "markdown",
   "id": "41220109",
   "metadata": {},
   "source": [
    "### 매출 상위 1~10위 까지의  강의  목록 "
   ]
  },
  {
   "cell_type": "markdown",
   "id": "143ad8ce",
   "metadata": {},
   "source": [
    "### 매출 상위 1~10위 강의 매출 추이 그래프(6개월간)"
   ]
  },
  {
   "cell_type": "markdown",
   "id": "37400734",
   "metadata": {},
   "source": [
    "### 매출 하위 1~10위 강의목록"
   ]
  },
  {
   "cell_type": "markdown",
   "id": "5dbb8c28",
   "metadata": {},
   "source": [
    "### 매출 하위 1~10위 강의 매출 추이 그래프(6개월간)"
   ]
  },
  {
   "cell_type": "markdown",
   "id": "802928f7",
   "metadata": {},
   "source": [
    "## 가장많은(적은) 매출을 올린 카테고리 탑 10카테고리 매출추이"
   ]
  },
  {
   "cell_type": "markdown",
   "id": "b73e5c5a",
   "metadata": {},
   "source": [
    "### 매출 상위 1~10위 까지의  카테고리  목록"
   ]
  },
  {
   "cell_type": "markdown",
   "id": "99a4fb24",
   "metadata": {},
   "source": [
    "### 매출 상위 1~10위 카테고리 매출 추이 그래프(6개월간)"
   ]
  },
  {
   "cell_type": "markdown",
   "id": "b9a006b2",
   "metadata": {},
   "source": [
    "### 매출 하위 1~10위 카테고리목록"
   ]
  },
  {
   "cell_type": "markdown",
   "id": "13ede8b0",
   "metadata": {},
   "source": [
    "### 매출 하위 1~10위 카테고리 매출 추이 그래프(6개월간)"
   ]
  },
  {
   "cell_type": "markdown",
   "id": "4d84c831",
   "metadata": {},
   "source": [
    "# 수강 신청 행동 패턴 분석"
   ]
  },
  {
   "cell_type": "markdown",
   "id": "db7bb03d",
   "metadata": {},
   "source": [
    "## cancelled 가장 많은 강좌(구매가 많은게 환불이 많은가? 주의)"
   ]
  },
  {
   "cell_type": "markdown",
   "id": "8f06412d",
   "metadata": {},
   "source": [
    "### 취소가 많은  1~20위 까지의  강의  목록(cancelled)"
   ]
  },
  {
   "cell_type": "markdown",
   "id": "f2fa8966",
   "metadata": {},
   "source": [
    "### 취소가 가장 적은 1~20위 강의 목록"
   ]
  },
  {
   "cell_type": "markdown",
   "id": "4c0d021f",
   "metadata": {},
   "source": [
    "### 환불이 많은  1~20위 까지의  강의  목록(refund)"
   ]
  },
  {
   "cell_type": "markdown",
   "id": "a7bc00ac",
   "metadata": {},
   "source": [
    "### 환불률이 가장 적은 1~20위 강의 목록"
   ]
  },
  {
   "cell_type": "markdown",
   "id": "7f33435e",
   "metadata": {},
   "source": [
    "### 구매률과 환불률의 상관관계"
   ]
  },
  {
   "cell_type": "markdown",
   "id": "dbf16318",
   "metadata": {},
   "source": [
    "# PG사 목록"
   ]
  },
  {
   "cell_type": "markdown",
   "id": "0b463f27",
   "metadata": {},
   "source": [
    "## 기존 PG사 vs 신규 pg사 점유율 현황"
   ]
  },
  {
   "cell_type": "markdown",
   "id": "5f6cf687",
   "metadata": {},
   "source": [
    "### 기존 PG사 vs 신규 pg사 기간별 점유율 변동 변화추이"
   ]
  },
  {
   "cell_type": "markdown",
   "id": "397fc765",
   "metadata": {},
   "source": [
    "# VIP그룹 분석"
   ]
  },
  {
   "cell_type": "markdown",
   "id": "bbcce57b",
   "metadata": {},
   "source": [
    "## VIP 그룹 정의"
   ]
  },
  {
   "cell_type": "markdown",
   "id": "2969f67b",
   "metadata": {},
   "source": [
    "## 일반 고객 평균 결제 횟수 vs VIP 고객 평균 결제 횟수"
   ]
  },
  {
   "cell_type": "markdown",
   "id": "02dd3f3c",
   "metadata": {},
   "source": [
    "## VIP 그룹 특징"
   ]
  },
  {
   "cell_type": "markdown",
   "id": "cada2ef7",
   "metadata": {},
   "source": [
    "# 쿠폰 사용 분석"
   ]
  },
  {
   "cell_type": "markdown",
   "id": "08611340",
   "metadata": {},
   "source": [
    "## 전체구매건 중 쿠폰사용한 구매비율"
   ]
  },
  {
   "cell_type": "markdown",
   "id": "7111e7d5",
   "metadata": {},
   "source": [
    "## 매출에 대한 쿠폰의 중요도 분석"
   ]
  },
  {
   "cell_type": "markdown",
   "id": "677f1548",
   "metadata": {},
   "source": [
    "# 패키지 강의 vs 단품 강의"
   ]
  },
  {
   "cell_type": "markdown",
   "id": "d7c66b55",
   "metadata": {},
   "source": [
    "# 레드는 과연 성공했는가?"
   ]
  },
  {
   "cell_type": "code",
   "execution_count": null,
   "id": "9fd2e22a",
   "metadata": {},
   "outputs": [],
   "source": []
  },
  {
   "cell_type": "code",
   "execution_count": null,
   "id": "2322dd95",
   "metadata": {},
   "outputs": [],
   "source": []
  },
  {
   "cell_type": "code",
   "execution_count": null,
   "id": "f2f272af",
   "metadata": {},
   "outputs": [],
   "source": []
  },
  {
   "cell_type": "code",
   "execution_count": null,
   "id": "9cc18912",
   "metadata": {},
   "outputs": [],
   "source": []
  },
  {
   "cell_type": "code",
   "execution_count": null,
   "id": "d9dfd20b",
   "metadata": {},
   "outputs": [],
   "source": []
  }
 ],
 "metadata": {
  "kernelspec": {
   "display_name": "Python 3",
   "language": "python",
   "name": "python3"
  },
  "language_info": {
   "codemirror_mode": {
    "name": "ipython",
    "version": 3
   },
   "file_extension": ".py",
   "mimetype": "text/x-python",
   "name": "python",
   "nbconvert_exporter": "python",
   "pygments_lexer": "ipython3",
   "version": "3.8.8"
  },
  "toc": {
   "base_numbering": 1,
   "nav_menu": {},
   "number_sections": true,
   "sideBar": true,
   "skip_h1_title": false,
   "title_cell": "Table of Contents",
   "title_sidebar": "Contents",
   "toc_cell": false,
   "toc_position": {},
   "toc_section_display": true,
   "toc_window_display": true
  },
  "varInspector": {
   "cols": {
    "lenName": 16,
    "lenType": 16,
    "lenVar": 40
   },
   "kernels_config": {
    "python": {
     "delete_cmd_postfix": "",
     "delete_cmd_prefix": "del ",
     "library": "var_list.py",
     "varRefreshCmd": "print(var_dic_list())"
    },
    "r": {
     "delete_cmd_postfix": ") ",
     "delete_cmd_prefix": "rm(",
     "library": "var_list.r",
     "varRefreshCmd": "cat(var_dic_list()) "
    }
   },
   "types_to_exclude": [
    "module",
    "function",
    "builtin_function_or_method",
    "instance",
    "_Feature"
   ],
   "window_display": false
  }
 },
 "nbformat": 4,
 "nbformat_minor": 5
}
